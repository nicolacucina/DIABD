{
 "cells": [
  {
   "cell_type": "markdown",
   "metadata": {},
   "source": [
    "Using SVD for latent features"
   ]
  },
  {
   "cell_type": "code",
   "execution_count": 14,
   "metadata": {},
   "outputs": [
    {
     "name": "stdout",
     "output_type": "stream",
     "text": [
      "Movies dataset:\n",
      "    movieId                               title  \\\n",
      "0        1                    Toy Story (1995)   \n",
      "1        2                      Jumanji (1995)   \n",
      "2        3             Grumpier Old Men (1995)   \n",
      "3        4            Waiting to Exhale (1995)   \n",
      "4        5  Father of the Bride Part II (1995)   \n",
      "\n",
      "                                        genres  \n",
      "0  Adventure|Animation|Children|Comedy|Fantasy  \n",
      "1                   Adventure|Children|Fantasy  \n",
      "2                               Comedy|Romance  \n",
      "3                         Comedy|Drama|Romance  \n",
      "4                                       Comedy  \n",
      "Ratings dataset:\n",
      "    userId  movieId  rating  timestamp\n",
      "0       1        1     4.0  964982703\n",
      "1       1        3     4.0  964981247\n",
      "2       1        6     4.0  964982224\n",
      "3       1       47     5.0  964983815\n",
      "4       1       50     5.0  964982931\n"
     ]
    }
   ],
   "source": [
    "import pandas as pd\n",
    "import numpy as np\n",
    "from scipy.sparse.linalg import svds\n",
    "from scipy.sparse import csr_matrix\n",
    "from sklearn.metrics.pairwise import cosine_similarity\n",
    "\n",
    "# Caricamento dei dataset\n",
    "movies = pd.read_csv('ml-latest-small/ml-latest-small/movies.csv')\n",
    "ratings = pd.read_csv('ml-latest-small/ml-latest-small/ratings.csv')\n",
    "\n",
    "# Esplorazione dei dataset\n",
    "print(\"Movies dataset:\\n\", movies.head())\n",
    "print(\"Ratings dataset:\\n\", ratings.head())\n"
   ]
  },
  {
   "cell_type": "code",
   "execution_count": 15,
   "metadata": {},
   "outputs": [
    {
     "name": "stdout",
     "output_type": "stream",
     "text": [
      "User-movie matrix:\n",
      " movieId  1       2       3       4       5       6       7       8       \\\n",
      "userId                                                                    \n",
      "1           4.0     0.0     4.0     0.0     0.0     4.0     0.0     0.0   \n",
      "2           0.0     0.0     0.0     0.0     0.0     0.0     0.0     0.0   \n",
      "3           0.0     0.0     0.0     0.0     0.0     0.0     0.0     0.0   \n",
      "4           0.0     0.0     0.0     0.0     0.0     0.0     0.0     0.0   \n",
      "5           4.0     0.0     0.0     0.0     0.0     0.0     0.0     0.0   \n",
      "\n",
      "movieId  9       10      ...  193565  193567  193571  193573  193579  193581  \\\n",
      "userId                   ...                                                   \n",
      "1           0.0     0.0  ...     0.0     0.0     0.0     0.0     0.0     0.0   \n",
      "2           0.0     0.0  ...     0.0     0.0     0.0     0.0     0.0     0.0   \n",
      "3           0.0     0.0  ...     0.0     0.0     0.0     0.0     0.0     0.0   \n",
      "4           0.0     0.0  ...     0.0     0.0     0.0     0.0     0.0     0.0   \n",
      "5           0.0     0.0  ...     0.0     0.0     0.0     0.0     0.0     0.0   \n",
      "\n",
      "movieId  193583  193585  193587  193609  \n",
      "userId                                   \n",
      "1           0.0     0.0     0.0     0.0  \n",
      "2           0.0     0.0     0.0     0.0  \n",
      "3           0.0     0.0     0.0     0.0  \n",
      "4           0.0     0.0     0.0     0.0  \n",
      "5           0.0     0.0     0.0     0.0  \n",
      "\n",
      "[5 rows x 9724 columns]\n"
     ]
    }
   ],
   "source": [
    "# Creazione della matrice utente-film\n",
    "user_movie_matrix = ratings.pivot(index='userId', columns='movieId', values='rating').fillna(0)\n",
    "print(\"User-movie matrix:\\n\", user_movie_matrix.head())\n"
   ]
  },
  {
   "cell_type": "code",
   "execution_count": 16,
   "metadata": {},
   "outputs": [
    {
     "name": "stdout",
     "output_type": "stream",
     "text": [
      "Sparse user-movie matrix:\n",
      "   (0, 0)\t4.0\n",
      "  (0, 2)\t4.0\n",
      "  (0, 5)\t4.0\n",
      "  (0, 43)\t5.0\n",
      "  (0, 46)\t5.0\n",
      "  (0, 62)\t3.0\n",
      "  (0, 89)\t5.0\n",
      "  (0, 97)\t4.0\n",
      "  (0, 124)\t5.0\n",
      "  (0, 130)\t5.0\n",
      "  (0, 136)\t5.0\n",
      "  (0, 184)\t5.0\n",
      "  (0, 190)\t3.0\n",
      "  (0, 197)\t5.0\n",
      "  (0, 201)\t4.0\n",
      "  (0, 224)\t5.0\n",
      "  (0, 257)\t3.0\n",
      "  (0, 275)\t3.0\n",
      "  (0, 291)\t5.0\n",
      "  (0, 307)\t4.0\n",
      "  (0, 314)\t4.0\n",
      "  (0, 320)\t5.0\n",
      "  (0, 325)\t4.0\n",
      "  (0, 367)\t3.0\n",
      "  (0, 384)\t4.0\n",
      "  :\t:\n",
      "  (609, 9238)\t5.0\n",
      "  (609, 9246)\t4.5\n",
      "  (609, 9256)\t4.0\n",
      "  (609, 9268)\t5.0\n",
      "  (609, 9274)\t3.5\n",
      "  (609, 9279)\t3.5\n",
      "  (609, 9282)\t3.0\n",
      "  (609, 9288)\t3.0\n",
      "  (609, 9304)\t3.0\n",
      "  (609, 9307)\t2.5\n",
      "  (609, 9312)\t4.5\n",
      "  (609, 9317)\t3.0\n",
      "  (609, 9324)\t3.0\n",
      "  (609, 9339)\t4.0\n",
      "  (609, 9341)\t4.0\n",
      "  (609, 9348)\t3.5\n",
      "  (609, 9371)\t3.5\n",
      "  (609, 9372)\t3.5\n",
      "  (609, 9374)\t5.0\n",
      "  (609, 9415)\t4.0\n",
      "  (609, 9416)\t4.0\n",
      "  (609, 9443)\t5.0\n",
      "  (609, 9444)\t5.0\n",
      "  (609, 9445)\t5.0\n",
      "  (609, 9485)\t3.0\n"
     ]
    }
   ],
   "source": [
    "# Conversione in matrice sparsa\n",
    "sparse_user_movie_matrix = csr_matrix(user_movie_matrix.values)\n",
    "print(\"Sparse user-movie matrix:\\n\", sparse_user_movie_matrix)"
   ]
  },
  {
   "cell_type": "code",
   "execution_count": 17,
   "metadata": {},
   "outputs": [],
   "source": [
    "# Applicazione di SVD\n",
    "U, sigma, Vt = svds(sparse_user_movie_matrix, k=20)  # k: numero di feature latenti"
   ]
  },
  {
   "cell_type": "code",
   "execution_count": 21,
   "metadata": {},
   "outputs": [
    {
     "name": "stdout",
     "output_type": "stream",
     "text": [
      "U:\n",
      " [[ 3.80856647e-02 -3.48781510e-02 -3.14980600e-02  5.03411112e-02\n",
      "   4.45777334e-02 -6.93985012e-02  1.34632627e-02  3.07450731e-02\n",
      "  -1.96212008e-02  5.27394757e-02  2.25040391e-02 -3.29776741e-02\n",
      "   8.20930647e-03 -5.51149007e-03 -5.25068858e-02 -9.21447006e-02\n",
      "  -8.29373257e-04  1.08974491e-02  6.16738477e-02 -5.55541517e-02]\n",
      " [-3.64630569e-03 -5.79092650e-03  1.02453157e-02 -4.97282158e-03\n",
      "  -5.90237729e-03 -1.13115255e-02 -2.35836149e-02  7.59256904e-03\n",
      "  -1.61018620e-02  7.17582425e-03  1.52560089e-02 -2.04336322e-02\n",
      "  -7.55487339e-03 -6.55564775e-03  1.54519335e-02  1.49426062e-03\n",
      "   1.33420126e-02  4.42345417e-03 -1.77377186e-02 -5.86629527e-03]\n",
      " [-2.60861067e-03 -7.52853859e-03 -4.38670147e-03  1.06349446e-03\n",
      "   7.42239581e-03 -1.07699175e-03 -5.58630585e-03  3.34625395e-03\n",
      "   2.02981274e-03  4.20763680e-03 -7.21205663e-04  2.15794660e-03\n",
      "  -4.27350578e-04 -1.48924967e-03  2.05930866e-04 -7.38944668e-03\n",
      "  -1.96067936e-03 -1.71517331e-03  2.06861278e-03 -1.35323055e-03]\n",
      " [-4.28146021e-03  2.56917589e-02  2.18678496e-02  4.61615720e-03\n",
      "  -4.70644891e-02 -7.57114226e-03  2.92964781e-02 -6.12854593e-02\n",
      "   2.72530941e-02  2.66732750e-03 -2.74515674e-02 -4.13669649e-02\n",
      "   4.32285320e-02 -3.93187809e-02 -7.22123066e-03  1.38525158e-02\n",
      "   3.65997900e-02 -3.41648386e-02  5.42304855e-02 -3.23620293e-02]\n",
      " [ 5.60716033e-03 -1.50911710e-02  8.37082139e-03  1.30011445e-02\n",
      "  -7.90770406e-03  1.04083568e-02  5.53992883e-03 -3.63188917e-03\n",
      "   1.01622338e-02  1.32832128e-03  2.41437974e-03  4.16558314e-03\n",
      "   1.35029854e-02 -6.31792277e-03  3.27382929e-02  2.46387098e-02\n",
      "  -1.96889381e-03  4.85445649e-02  2.30859688e-02 -1.14087186e-02]\n",
      " [-6.05785230e-02  3.79440934e-02 -3.64503642e-04 -2.38494008e-02\n",
      "  -1.07662488e-02 -4.10442345e-04 -2.31937883e-02  2.27722943e-02\n",
      "  -6.79895272e-03  3.08589923e-02 -1.07492066e-02  1.41973736e-02\n",
      "   3.37301693e-02  1.21434383e-02  1.20452135e-01  6.83669350e-02\n",
      "  -8.31437090e-02  1.38532629e-01  7.36147850e-02 -3.15330643e-02]\n",
      " [ 5.70298967e-03  2.26655311e-02  1.17833059e-04 -2.23274677e-02\n",
      "  -5.05731400e-03  2.93069055e-02  3.39094338e-02 -1.28344318e-02\n",
      "   1.49832802e-02 -2.67322476e-02 -1.19898897e-02  4.47094456e-02\n",
      "  -3.71000215e-02  3.13543226e-04 -5.27312880e-02  8.22766217e-03\n",
      "   1.40852059e-02  2.94641634e-02 -1.03393056e-02 -3.41179949e-02]\n",
      " [ 4.39158847e-03 -2.34085594e-02  1.22574081e-02  1.14393140e-02\n",
      "  -2.47340017e-03  9.27399919e-03  4.20692558e-04 -3.04995093e-03\n",
      "   3.44391848e-03 -2.75391999e-03  4.45338752e-03  4.01745308e-04\n",
      "   1.63976473e-02  1.15269542e-03  4.28494739e-02  2.78916917e-02\n",
      "  -4.30667136e-03  6.88343606e-02  2.61514915e-02 -1.42046009e-02]\n",
      " [-5.88687941e-03  1.16595725e-02  1.20716286e-03 -5.63181233e-03\n",
      "  -5.06994116e-03  1.65500798e-02  1.19195910e-02 -5.87721305e-03\n",
      "  -3.48333257e-03  7.56203217e-03 -2.33821173e-03  9.17731977e-03\n",
      "  -7.16429397e-03 -1.96285610e-03 -9.75931419e-03 -5.71048070e-04\n",
      "   5.51498309e-03 -3.48531409e-03 -8.50788053e-04 -6.56062206e-03]\n",
      " [-8.92968900e-03 -3.35688426e-03 -7.74952800e-03 -2.00964939e-02\n",
      "  -1.43592385e-02  2.29149285e-02 -1.65598282e-02 -9.50534613e-03\n",
      "   1.17921213e-02  4.29166841e-03 -1.52233659e-02 -2.90838304e-02\n",
      "  -1.95930080e-02 -4.00730776e-02 -1.55848543e-02  4.32910925e-02\n",
      "   2.25239355e-03  7.63390357e-03 -3.45985021e-02 -1.60609440e-02]]\n"
     ]
    }
   ],
   "source": [
    "#printa la matrice U (utenti-feature latenti) magari solo i primi dieci campioni\n",
    "print(\"U:\\n\", U[:10])"
   ]
  },
  {
   "cell_type": "code",
   "execution_count": null,
   "metadata": {},
   "outputs": [],
   "source": [
    "# # Visualizzazione della distribuzione delle feature latenti degli utenti\n",
    "# plt.figure(figsize=(10, 6))\n",
    "# for i in range(min(5, U.shape[1])):  # Mostra le prime 5 feature latenti\n",
    "#     plt.hist(U[:, i], bins=30, alpha=0.6, label=f'Feature {i+1}')\n",
    "# plt.title('Distribuzione delle feature latenti degli utenti (U)')\n",
    "# plt.xlabel('Valori delle feature latenti')\n",
    "# plt.ylabel('Frequenza')\n",
    "# plt.legend()\n",
    "# plt.show()"
   ]
  },
  {
   "cell_type": "code",
   "execution_count": 28,
   "metadata": {},
   "outputs": [
    {
     "data": {
      "image/png": "[encoded data removed]",
      "text/plain": [
       "<Figure size 640x480 with 1 Axes>"
      ]
     },
     "metadata": {},
     "output_type": "display_data"
    }
   ],
   "source": [
    "utente = 2\n",
    "#printare barplot dell'utente 0 della matrice U.\n",
    "#scalare prima i valori della matrice U per renderli tutti positivi\n",
    "#e poi fare il barplot per l'utente 0\n",
    "import matplotlib.pyplot as plt\n",
    "#ordina la matrice U in modo crescente\n",
    "U = np.sort(U)\n",
    "U_scaled = U[utente] - U[utente].min()\n",
    "# U_scaled /= U_scaled.max()\n",
    "plt.bar(range(20), U_scaled)\n",
    "plt.show()\n"
   ]
  },
  {
   "cell_type": "code",
   "execution_count": 18,
   "metadata": {},
   "outputs": [
    {
     "name": "stdout",
     "output_type": "stream",
     "text": [
      "Matrice predetta:\n",
      " movieId    1         2         3         4         5         6         7       \\\n",
      "0        2.290336  1.460203  1.033507 -0.061334 -0.002275  1.243261  0.029650   \n",
      "1        0.038570  0.015272  0.016968  0.002944  0.019201 -0.005821 -0.025436   \n",
      "2       -0.015220  0.049067  0.047202 -0.004936 -0.035349  0.052758 -0.012911   \n",
      "3        2.238621  0.060011  0.039384  0.066455  0.221806  0.487591  0.318594   \n",
      "4        1.358363  0.970071  0.340939  0.121053  0.479936  0.628346  0.504583   \n",
      "\n",
      "movieId    8         9         10      ...    193565    193567    193571  \\\n",
      "0        0.056161  0.036220  1.442856  ... -0.008584 -0.007358 -0.009810   \n",
      "1        0.000918  0.010531 -0.117149  ...  0.010662  0.009139  0.012186   \n",
      "2        0.010422 -0.002532 -0.014094  ...  0.000029  0.000025  0.000033   \n",
      "3       -0.057422  0.016371  0.234273  ...  0.002029  0.001739  0.002319   \n",
      "4        0.136293  0.040721  1.122003  ...  0.000348  0.000299  0.000398   \n",
      "\n",
      "movieId    193573    193579    193581    193583    193585    193587    193609  \n",
      "0       -0.009810 -0.008584 -0.009810 -0.008584 -0.008584 -0.008584 -0.038606  \n",
      "1        0.012186  0.010662  0.012186  0.010662  0.010662  0.010662  0.015610  \n",
      "2        0.000033  0.000029  0.000033  0.000029  0.000029  0.000029 -0.002412  \n",
      "3        0.002319  0.002029  0.002319  0.002029  0.002029  0.002029 -0.007359  \n",
      "4        0.000398  0.000348  0.000398  0.000348  0.000348  0.000348  0.001611  \n",
      "\n",
      "[5 rows x 9724 columns]\n"
     ]
    }
   ],
   "source": [
    "# Sigma restituito come array diagonale, lo convertiamo in una matrice diagonale\n",
    "sigma = np.diag(sigma)\n",
    "\n",
    "# Ricostruzione approssimata della matrice utente-film\n",
    "approx_user_movie_matrix = np.dot(np.dot(U, sigma), Vt)\n",
    "\n",
    "# Normalizzazione per riportare i valori alle scale originali (facoltativo)\n",
    "user_movie_predictions = pd.DataFrame(approx_user_movie_matrix, columns=user_movie_matrix.columns)\n",
    "\n",
    "# Output della matrice predetta\n",
    "print(\"Matrice predetta:\\n\", user_movie_predictions.head())"
   ]
  },
  {
   "cell_type": "code",
   "execution_count": 19,
   "metadata": {},
   "outputs": [
    {
     "name": "stdout",
     "output_type": "stream",
     "text": [
      "Film simili in base alle feature latenti:\n",
      "\n",
      "Film: Toy Story (1995) (Adventure|Animation|Children|Comedy|Fantasy)\n",
      "  Simile a: Toy Story (1995) (Adventure|Animation|Children|Comedy|Fantasy)\n",
      "  Simile a: Aladdin (1992) (Adventure|Animation|Children|Comedy|Musical)\n",
      "  Simile a: Home Alone (1990) (Children|Comedy)\n",
      "  Simile a: Willy Wonka & the Chocolate Factory (1971) (Children|Comedy|Fantasy|Musical)\n",
      "  Simile a: Groundhog Day (1993) (Comedy|Fantasy|Romance)\n",
      "  Simile a: Princess Bride, The (1987) (Action|Adventure|Comedy|Fantasy|Romance)\n",
      "  Simile a: Babe (1995) (Children|Drama)\n",
      "  Simile a: Apollo 13 (1995) (Adventure|Drama|IMAX)\n",
      "  Simile a: Back to the Future (1985) (Adventure|Comedy|Sci-Fi)\n",
      "  Simile a: Jurassic Park (1993) (Action|Adventure|Sci-Fi|Thriller)\n",
      "\n",
      "Film: Jumanji (1995) (Adventure|Children|Fantasy)\n",
      "  Simile a: Jumanji (1995) (Adventure|Children|Fantasy)\n",
      "  Simile a: Lion King, The (1994) (Adventure|Animation|Children|Drama|Musical|IMAX)\n",
      "  Simile a: Far From Home: The Adventures of Yellow Dog (1995) (Adventure|Children)\n",
      "  Simile a: Beauty and the Beast (1991) (Animation|Children|Fantasy|Musical|Romance|IMAX)\n",
      "  Simile a: Casper (1995) (Adventure|Children)\n",
      "  Simile a: Under Siege 2: Dark Territory (1995) (Action)\n",
      "  Simile a: Pocahontas (1995) (Animation|Children|Drama|Musical|Romance)\n",
      "  Simile a: Snow White and the Seven Dwarfs (1937) (Animation|Children|Drama|Fantasy|Musical)\n",
      "  Simile a: Mrs. Doubtfire (1993) (Comedy|Drama)\n",
      "  Simile a: Hunchback of Notre Dame, The (1996) (Animation|Children|Drama|Musical|Romance)\n",
      "\n",
      "Film: Grumpier Old Men (1995) (Comedy|Romance)\n",
      "  Simile a: Grumpier Old Men (1995) (Comedy|Romance)\n",
      "  Simile a: Jack (1996) (Comedy|Drama)\n",
      "  Simile a: Bio-Dome (1996) (Comedy)\n",
      "  Simile a: Beverly Hillbillies, The (1993) (Comedy)\n",
      "  Simile a: Joe's Apartment (1996) (Comedy|Fantasy|Musical)\n",
      "  Simile a: City Slickers II: The Legend of Curly's Gold (1994) (Adventure|Comedy|Western)\n",
      "  Simile a: Flipper (1996) (Adventure|Children)\n",
      "  Simile a: Tommy Boy (1995) (Comedy)\n",
      "  Simile a: Son in Law (1993) (Comedy|Drama|Romance)\n",
      "  Simile a: Tombstone (1993) (Action|Drama|Western)\n",
      "\n",
      "Film: Waiting to Exhale (1995) (Comedy|Drama|Romance)\n",
      "  Simile a: Waiting to Exhale (1995) (Comedy|Drama|Romance)\n",
      "  Simile a: Before and After (1996) (Drama|Mystery)\n",
      "  Simile a: Carpool (1996) (Comedy|Crime)\n",
      "  Simile a: Losing Isaiah (1995) (Drama)\n",
      "  Simile a: Dangerous Ground (1997) (Drama)\n",
      "  Simile a: Stupids, The (1996) (Comedy)\n",
      "  Simile a: Reckless (1995) (Comedy|Fantasy)\n",
      "  Simile a: Jefferson in Paris (1995) (Drama)\n",
      "  Simile a: Spirits of the Dead (1968) (Horror|Mystery)\n",
      "  Simile a: I Like It Like That (1994) (Comedy|Drama|Romance)\n",
      "\n",
      "Film: Father of the Bride Part II (1995) (Comedy)\n",
      "  Simile a: Father of the Bride Part II (1995) (Comedy)\n",
      "  Simile a: Lawnmower Man 2: Beyond Cyberspace (1996) (Action|Sci-Fi|Thriller)\n",
      "  Simile a: Coneheads (1993) (Comedy|Sci-Fi)\n",
      "  Simile a: Stupids, The (1996) (Comedy)\n",
      "  Simile a: Mr. Wrong (1996) (Comedy)\n",
      "  Simile a: City Slickers II: The Legend of Curly's Gold (1994) (Adventure|Comedy|Western)\n",
      "  Simile a: Jerky Boys, The (1995) (Comedy)\n",
      "  Simile a: Children of the Corn IV: The Gathering (1996) (Horror)\n",
      "  Simile a: Waiting to Exhale (1995) (Comedy|Drama|Romance)\n",
      "  Simile a: Down Periscope (1996) (Comedy)\n",
      "\n"
     ]
    }
   ],
   "source": [
    "# Mappatura movieId -> genres\n",
    "movie_genres = movies.set_index('movieId')['genres']\n",
    "\n",
    "# Calcolo della similarità coseno tra le feature latenti dei film\n",
    "movie_features = Vt.T  # Feature latenti dei film\n",
    "cosine_sim = cosine_similarity(movie_features)\n",
    "\n",
    "# Creazione di una mappatura movieId -> indice nella matrice\n",
    "movie_id_to_index = {movie_id: idx for idx, movie_id in enumerate(user_movie_matrix.columns)}\n",
    "\n",
    "# Verifica della correlazione tra similarità e generi\n",
    "similar_movies = {}\n",
    "for movie_id, genre in movie_genres.items():\n",
    "    if movie_id in movie_id_to_index:\n",
    "        idx = movie_id_to_index[movie_id]\n",
    "        similar_indices = np.argsort(-cosine_sim[idx])[:10]  # Top 10 simili\n",
    "        similar_movies[movie_id] = [(user_movie_matrix.columns[sim_idx], movie_genres.get(user_movie_matrix.columns[sim_idx], \"Unknown\")) for sim_idx in similar_indices if user_movie_matrix.columns[sim_idx] in movie_genres.index]\n",
    "\n",
    "# Output dei risultati\n",
    "print(\"Film simili in base alle feature latenti:\\n\")\n",
    "for movie_id, similars in list(similar_movies.items())[:5]:  # Mostra i primi 5 risultati\n",
    "    print(f\"Film: {movies.loc[movies['movieId'] == movie_id, 'title'].values[0]} ({movie_genres[movie_id]})\")\n",
    "    for sim_movie_id, sim_genre in similars:\n",
    "        print(f\"  Simile a: {movies.loc[movies['movieId'] == sim_movie_id, 'title'].values[0]} ({sim_genre})\")\n",
    "    print()"
   ]
  }
 ],
 "metadata": {
  "kernelspec": {
   "display_name": "base",
   "language": "python",
   "name": "python3"
  },
  "language_info": {
   "codemirror_mode": {
    "name": "ipython",
    "version": 3
   },
   "file_extension": ".py",
   "mimetype": "text/x-python",
   "name": "python",
   "nbconvert_exporter": "python",
   "pygments_lexer": "ipython3",
   "version": "3.11.5"
  }
 },
 "nbformat": 4,
 "nbformat_minor": 2
}
