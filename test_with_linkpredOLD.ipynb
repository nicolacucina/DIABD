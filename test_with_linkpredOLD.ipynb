{
 "cells": [
  {
   "cell_type": "code",
   "execution_count": 1,
   "metadata": {},
   "outputs": [
    {
     "name": "stdout",
     "output_type": "stream",
     "text": [
      "   userId  movieId  rating   timestamp             title  \\\n",
      "0       1        1     4.0   964982703  Toy Story (1995)   \n",
      "1       5        1     4.0   847434962  Toy Story (1995)   \n",
      "2       7        1     4.5  1106635946  Toy Story (1995)   \n",
      "3      15        1     2.5  1510577970  Toy Story (1995)   \n",
      "4      17        1     4.5  1305696483  Toy Story (1995)   \n",
      "\n",
      "                                        genres  \n",
      "0  Adventure|Animation|Children|Comedy|Fantasy  \n",
      "1  Adventure|Animation|Children|Comedy|Fantasy  \n",
      "2  Adventure|Animation|Children|Comedy|Fantasy  \n",
      "3  Adventure|Animation|Children|Comedy|Fantasy  \n",
      "4  Adventure|Animation|Children|Comedy|Fantasy  \n"
     ]
    }
   ],
   "source": [
    "import pandas as pd\n",
    "import networkx as nx\n",
    "from collections import defaultdict\n",
    "\n",
    "# Caricamento dei dati\n",
    "ratings = pd.read_csv(\"ml-latest-small/ml-latest-small/ratings.csv\")\n",
    "movies = pd.read_csv(\"ml-latest-small/ml-latest-small/movies.csv\")\n",
    "\n",
    "# Merge dei dataset ratings e movies\n",
    "ratings = pd.merge(ratings, movies, on=\"movieId\")\n",
    "print(ratings.head())"
   ]
  },
  {
   "cell_type": "code",
   "execution_count": 2,
   "metadata": {},
   "outputs": [
    {
     "name": "stdout",
     "output_type": "stream",
     "text": [
      "                             title  count\n",
      "2           'Round Midnight (1986)      2\n",
      "4        'Til There Was You (1997)      2\n",
      "6               'burbs, The (1989)     17\n",
      "8      (500) Days of Summer (2009)     42\n",
      "9   *batteries not included (1987)      7\n",
      "11   ...And Justice for All (1979)      3\n",
      "14                       10 (1979)      4\n",
      "15           10 Cent Pistol (2015)      2\n",
      "16      10 Cloverfield Lane (2016)     14\n",
      "17         10 Items or Less (2006)      3\n"
     ]
    }
   ],
   "source": [
    "# Controllo per film comuni valutati da più utenti\n",
    "common_movies = ratings.groupby(\"title\").size().reset_index(name='count')\n",
    "print(common_movies[common_movies['count'] > 1].head(10))  # Debug"
   ]
  },
  {
   "cell_type": "code",
   "execution_count": 3,
   "metadata": {},
   "outputs": [],
   "source": [
    "# Mappatura dei punteggi\n",
    "mapping_score = {\n",
    "    0.5: -1,\n",
    "    1: -1,\n",
    "    1.5: -0.5,\n",
    "    2: 0,\n",
    "    2.5: 0,\n",
    "    3: 0,\n",
    "    3.5: 0.5,\n",
    "    4: 1,\n",
    "    4.5: 1.1,\n",
    "    5: 1.2\n",
    "}\n",
    "\n",
    "# ratings[\"weight\"] = ratings[\"rating\"].map(mapping_score)  #non presente in cod originale\n",
    "# print(ratings.head())"
   ]
  },
  {
   "cell_type": "code",
   "execution_count": 4,
   "metadata": {},
   "outputs": [
    {
     "name": "stdout",
     "output_type": "stream",
     "text": [
      "Nodes in the graph: [(1, {'bipartite': 0}), ('Toy Story (1995)', {'bipartite': 1}), (5, {'bipartite': 0}), (7, {'bipartite': 0}), (15, {'bipartite': 0}), (17, {'bipartite': 0}), (18, {'bipartite': 0}), (19, {'bipartite': 0}), (21, {'bipartite': 0}), (27, {'bipartite': 0})]\n",
      "Edges in the graph: [(1, 'Toy Story (1995)', {'weight': 1}), (1, 'Grumpier Old Men (1995)', {'weight': 1}), (1, 'Heat (1995)', {'weight': 1}), (1, 'Seven (a.k.a. Se7en) (1995)', {'weight': 1.2}), (1, 'Usual Suspects, The (1995)', {'weight': 1.2}), (1, 'From Dusk Till Dawn (1996)', {'weight': 0}), (1, 'Bottle Rocket (1996)', {'weight': 1.2}), (1, 'Braveheart (1995)', {'weight': 1}), (1, 'Rob Roy (1995)', {'weight': 1.2}), (1, 'Canadian Bacon (1995)', {'weight': 1.2})]\n"
     ]
    }
   ],
   "source": [
    "# Creazione del grafo bipartito\n",
    "user_movie_graph = nx.Graph()\n",
    "for _, row in ratings.iterrows():\n",
    "    user_movie_graph.add_node(row[\"userId\"], bipartite=0)\n",
    "    user_movie_graph.add_node(row[\"title\"], bipartite=1)\n",
    "    user_movie_graph.add_edge(row[\"userId\"], row[\"title\"], weight=mapping_score[row[\"rating\"]])\n",
    "\n",
    "# Debug\n",
    "print(f\"Nodes in the graph: {list(user_movie_graph.nodes(data=True))[:10]}\")\n",
    "print(f\"Edges in the graph: {list(user_movie_graph.edges(data=True))[:10]}\")"
   ]
  },
  {
   "cell_type": "code",
   "execution_count": 5,
   "metadata": {},
   "outputs": [
    {
     "ename": "KeyboardInterrupt",
     "evalue": "",
     "output_type": "error",
     "traceback": [
      "\u001b[1;31m---------------------------------------------------------------------------\u001b[0m",
      "\u001b[1;31mKeyboardInterrupt\u001b[0m                         Traceback (most recent call last)",
      "Cell \u001b[1;32mIn[5], line 5\u001b[0m\n\u001b[0;32m      3\u001b[0m movies \u001b[38;5;241m=\u001b[39m {n \u001b[38;5;28;01mfor\u001b[39;00m n, d \u001b[38;5;129;01min\u001b[39;00m user_movie_graph\u001b[38;5;241m.\u001b[39mnodes(data\u001b[38;5;241m=\u001b[39m\u001b[38;5;28;01mTrue\u001b[39;00m) \u001b[38;5;28;01mif\u001b[39;00m d[\u001b[38;5;124m\"\u001b[39m\u001b[38;5;124mbipartite\u001b[39m\u001b[38;5;124m\"\u001b[39m] \u001b[38;5;241m==\u001b[39m \u001b[38;5;241m1\u001b[39m}\n\u001b[0;32m      4\u001b[0m user_user_graph \u001b[38;5;241m=\u001b[39m nx\u001b[38;5;241m.\u001b[39mbipartite\u001b[38;5;241m.\u001b[39mweighted_projected_graph(user_movie_graph, users)\n\u001b[1;32m----> 5\u001b[0m movie_movie_graph \u001b[38;5;241m=\u001b[39m nx\u001b[38;5;241m.\u001b[39mbipartite\u001b[38;5;241m.\u001b[39mweighted_projected_graph(user_movie_graph, movies)\n\u001b[0;32m      7\u001b[0m \u001b[38;5;66;03m# Debug per le proiezioni\u001b[39;00m\n\u001b[0;32m      8\u001b[0m \u001b[38;5;28mprint\u001b[39m(\u001b[38;5;124mf\u001b[39m\u001b[38;5;124m\"\u001b[39m\u001b[38;5;124mNodes in user_user_graph: \u001b[39m\u001b[38;5;132;01m{\u001b[39;00m\u001b[38;5;28mlist\u001b[39m(user_user_graph\u001b[38;5;241m.\u001b[39mnodes(data\u001b[38;5;241m=\u001b[39m\u001b[38;5;28;01mTrue\u001b[39;00m))[:\u001b[38;5;241m10\u001b[39m]\u001b[38;5;132;01m}\u001b[39;00m\u001b[38;5;124m\"\u001b[39m)\n",
      "File \u001b[1;32m<class 'networkx.utils.decorators.argmap'> compilation 4:4\u001b[0m, in \u001b[0;36margmap_weighted_projected_graph_1\u001b[1;34m(B, nodes, ratio)\u001b[0m\n\u001b[0;32m      2\u001b[0m \u001b[38;5;28;01mimport\u001b[39;00m \u001b[38;5;21;01mcollections\u001b[39;00m\n\u001b[0;32m      3\u001b[0m \u001b[38;5;28;01mimport\u001b[39;00m \u001b[38;5;21;01mgzip\u001b[39;00m\n\u001b[1;32m----> 4\u001b[0m \u001b[38;5;28;01mimport\u001b[39;00m \u001b[38;5;21;01minspect\u001b[39;00m\n\u001b[0;32m      5\u001b[0m \u001b[38;5;28;01mimport\u001b[39;00m \u001b[38;5;21;01mitertools\u001b[39;00m\n\u001b[0;32m      6\u001b[0m \u001b[38;5;28;01mimport\u001b[39;00m \u001b[38;5;21;01mre\u001b[39;00m\n",
      "File \u001b[1;32mc:\\Users\\aury1\\anaconda3\\Lib\\site-packages\\networkx\\algorithms\\bipartite\\projection.py:214\u001b[0m, in \u001b[0;36mweighted_projected_graph\u001b[1;34m(B, nodes, ratio)\u001b[0m\n\u001b[0;32m    212\u001b[0m         \u001b[38;5;28;01melse\u001b[39;00m:\n\u001b[0;32m    213\u001b[0m             weight \u001b[38;5;241m=\u001b[39m \u001b[38;5;28mlen\u001b[39m(common) \u001b[38;5;241m/\u001b[39m n_top\n\u001b[1;32m--> 214\u001b[0m         G\u001b[38;5;241m.\u001b[39madd_edge(u, v, weight\u001b[38;5;241m=\u001b[39mweight)\n\u001b[0;32m    215\u001b[0m \u001b[38;5;28;01mreturn\u001b[39;00m G\n",
      "File \u001b[1;32mc:\\Users\\aury1\\anaconda3\\Lib\\site-packages\\networkx\\classes\\graph.py:957\u001b[0m, in \u001b[0;36mGraph.add_edge\u001b[1;34m(self, u_of_edge, v_of_edge, **attr)\u001b[0m\n\u001b[0;32m    955\u001b[0m \u001b[38;5;66;03m# add the edge\u001b[39;00m\n\u001b[0;32m    956\u001b[0m datadict \u001b[38;5;241m=\u001b[39m \u001b[38;5;28mself\u001b[39m\u001b[38;5;241m.\u001b[39m_adj[u]\u001b[38;5;241m.\u001b[39mget(v, \u001b[38;5;28mself\u001b[39m\u001b[38;5;241m.\u001b[39medge_attr_dict_factory())\n\u001b[1;32m--> 957\u001b[0m datadict\u001b[38;5;241m.\u001b[39mupdate(attr)\n\u001b[0;32m    958\u001b[0m \u001b[38;5;28mself\u001b[39m\u001b[38;5;241m.\u001b[39m_adj[u][v] \u001b[38;5;241m=\u001b[39m datadict\n\u001b[0;32m    959\u001b[0m \u001b[38;5;28mself\u001b[39m\u001b[38;5;241m.\u001b[39m_adj[v][u] \u001b[38;5;241m=\u001b[39m datadict\n",
      "\u001b[1;31mKeyboardInterrupt\u001b[0m: "
     ]
    }
   ],
   "source": [
    "# Proiezione del grafo bipartito\n",
    "users = {n for n, d in user_movie_graph.nodes(data=True) if d[\"bipartite\"] == 0}\n",
    "movies = {n for n, d in user_movie_graph.nodes(data=True) if d[\"bipartite\"] == 1}\n",
    "user_user_graph = nx.bipartite.weighted_projected_graph(user_movie_graph, users)\n",
    "movie_movie_graph = nx.bipartite.weighted_projected_graph(user_movie_graph, movies)\n",
    "\n",
    "# Debug per le proiezioni\n",
    "print(f\"Nodes in user_user_graph: {list(user_user_graph.nodes(data=True))[:10]}\")\n",
    "print(f\"Edges in user_user_graph: {list(user_user_graph.edges(data=True))[:10]}\")\n",
    "print(f\"Nodes in movie_movie_graph: {list(movie_movie_graph.nodes(data=True))[:10]}\")\n",
    "print(f\"Edges in movie_movie_graph: {list(movie_movie_graph.edges(data=True))[:10]}\")"
   ]
  },
  {
   "cell_type": "code",
   "execution_count": 32,
   "metadata": {},
   "outputs": [],
   "source": [
    "# Funzione per calcolare il vettore di preferenze\n",
    "def create_preference_vector(user_id: int, user_movie_graph: nx.Graph):\n",
    "    edges = {m: v for _, m, v in user_movie_graph.edges(user_id, data=\"weight\")}\n",
    "    tot = sum(edges.values())\n",
    "    if tot > 0:\n",
    "        return {\n",
    "            movie: edges.get(movie, 0) / tot\n",
    "            for movie in movies\n",
    "        }\n",
    "    else:\n",
    "        return {movie: 1 for movie in movies}\n"
   ]
  },
  {
   "cell_type": "markdown",
   "metadata": {},
   "source": [
    "*Link Prediction*"
   ]
  },
  {
   "cell_type": "code",
   "execution_count": null,
   "metadata": {},
   "outputs": [],
   "source": [
    "# Funzione per la Link Prediction utilizzando Adamic-Adar Index\n",
    "def predict_links(user_id, watched_movies, movie_movie_graph):\n",
    "    predictions = defaultdict(float)\n",
    "    for movie in watched_movies:\n",
    "        for u, v, score in nx.adamic_adar_index(movie_movie_graph, [(movie, neighbor) for neighbor in movie_movie_graph.neighbors(movie) if neighbor not in watched_movies]):\n",
    "            predictions[v] += score\n",
    "            print(f\"Debug - {movie} -> {v}: Adamic-Adar Index = {predictions[v]}\")  # Debug\n",
    "    return sorted(predictions.items(), key=lambda x: x[1], reverse=True)\n"
   ]
  },
  {
   "cell_type": "code",
   "execution_count": 33,
   "metadata": {},
   "outputs": [],
   "source": [
    "# # Funzione per la Link Prediction\n",
    "# def predict_links(user_id, watched_movies, movie_movie_graph):\n",
    "#     predictions = defaultdict(float)\n",
    "#     for movie in watched_movies:\n",
    "#         for neighbor in movie_movie_graph.neighbors(movie):\n",
    "#             if neighbor not in watched_movies:\n",
    "#                 predictions[neighbor] += predict_links(movie, neighbor, movie_movie_graph)\n",
    "#                 print(f\"Debug - {movie} -> {neighbor}: Similarity = {predictions[neighbor]}\")  # Debug\n",
    "#     return sorted(predictions.items(), key=lambda x: x[1], reverse=True)"
   ]
  },
  {
   "cell_type": "code",
   "execution_count": 42,
   "metadata": {},
   "outputs": [],
   "source": [
    "# from matplotlib import pyplot as plt\n",
    "\n",
    "\n",
    "# def calculate_and_plot_similarities(movie_movie_graph: nx.Graph):\n",
    "#     nodes = list(movie_movie_graph.nodes())\n",
    "#     similarities = []  # Lista per memorizzare i punteggi di similarità\n",
    "#     predicted_edges = []  # Lista per memorizzare gli archi con la similarità predetta\n",
    "\n",
    "#     # Calcolare la similarità per tutte le coppie di film non collegate\n",
    "#     for i, movie1 in enumerate(nodes):\n",
    "#         for movie2 in nodes[i + 1:]:\n",
    "#             if not movie_movie_graph.has_edge(movie1, movie2):  # Solo coppie non collegate\n",
    "#                 similarity = common_neighbors_similarity(movie1, movie2, movie_movie_graph)\n",
    "#                 similarities.append(similarity)\n",
    "#                 predicted_edges.append((movie1, movie2, similarity))  # Aggiungi gli archi predetti\n",
    "\n",
    "#     # Plot dell'istogramma che mostra la frequenza dei punteggi di similarità\n",
    "#     plt.hist(similarities, bins=30, density=True, alpha=0.6, color='g')\n",
    "#     plt.xlabel('Common Neighbors Similarity')\n",
    "#     plt.ylabel('Frequency')\n",
    "#     plt.title('Histogram of Predicted Edge Similarities')\n",
    "#     plt.show()\n",
    "\n",
    "#     return predicted_edges  # Restituisce la lista degli archi con i punteggi di similarità\n"
   ]
  },
  {
   "cell_type": "code",
   "execution_count": null,
   "metadata": {},
   "outputs": [],
   "source": [
    "def predict_user(user_id, user_movie_graph: nx.Graph, movie_movie_graph: nx.Graph, alpha=0.5):\n",
    "    # Vettore delle preferenze personalizzato\n",
    "    p_vec = create_preference_vector(user_id, user_movie_graph)\n",
    "    already_seen = [movie for movie, p in p_vec.items() if p > 0]\n",
    "    print(f\"Already seen movies for user {user_id}: {already_seen} \\n\")  # Debug\n",
    "\n",
    "    # Predici Link Prediction\n",
    "    link_predictions = predict_links(user_id, already_seen, movie_movie_graph)\n",
    "    print(f\"Link predictions for user {user_id}: {link_predictions[:10]} \\n\")  # Debug\n",
    "\n",
    "    # Calcola PageRank\n",
    "    pagerank_scores = nx.pagerank(movie_movie_graph, personalization=p_vec, alpha=0.95, weight=\"weight\")\n",
    "    print(f\"PageRank scores for user {user_id}: {list(pagerank_scores.items())[:10]} \\n\")  # Debug\n",
    "\n",
    "    # Normalizza i punteggi\n",
    "    max_lp = max(score for _, score in link_predictions) if link_predictions else 1\n",
    "    max_pr = max(pagerank_scores.values()) if pagerank_scores else 1\n",
    "\n",
    "    normalized_lp = {movie: score / max_lp for movie, score in link_predictions}\n",
    "    normalized_pr = {movie: score / max_pr for movie, score in pagerank_scores.items()}\n",
    "\n",
    "    # Combina i punteggi\n",
    "    combined_scores = {}\n",
    "    for movie, score in normalized_pr.items():\n",
    "        if movie not in already_seen:\n",
    "            lp_score = normalized_lp.get(movie, 0)\n",
    "            combined_scores[movie] = alpha * lp_score + (1 - alpha) * score\n",
    "\n",
    "    # Ordina i film in base ai punteggi combinati\n",
    "    recommendations = sorted(combined_scores.items(), key=lambda x: x[1], reverse=True)\n",
    "\n",
    "    return recommendations\n"
   ]
  },
  {
   "cell_type": "code",
   "execution_count": null,
   "metadata": {},
   "outputs": [],
   "source": [
    "# Prevedi i film per un utente specifico\n",
    "user = 10  # Esempio\n",
    "recommended_movies = predict_user(user, user_movie_graph, movie_movie_graph)\n",
    "print(f\"Recommended movies for user {user}: {recommended_movies[:10]}\")"
   ]
  }
 ],
 "metadata": {
  "kernelspec": {
   "display_name": "base",
   "language": "python",
   "name": "python3"
  },
  "language_info": {
   "codemirror_mode": {
    "name": "ipython",
    "version": 3
   },
   "file_extension": ".py",
   "mimetype": "text/x-python",
   "name": "python",
   "nbconvert_exporter": "python",
   "pygments_lexer": "ipython3",
   "version": "3.11.5"
  }
 },
 "nbformat": 4,
 "nbformat_minor": 2
}
