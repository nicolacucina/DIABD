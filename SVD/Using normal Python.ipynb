{
 "cells": [
  {
   "cell_type": "code",
   "execution_count": 1,
   "metadata": {},
   "outputs": [],
   "source": [
    "utente = 10"
   ]
  },
  {
   "cell_type": "code",
   "execution_count": 2,
   "metadata": {},
   "outputs": [],
   "source": [
    "import pandas as pd\n",
    "ratings = pd.read_csv('../ml-latest-small/ratings.csv')"
   ]
  },
  {
   "cell_type": "code",
   "execution_count": 3,
   "metadata": {},
   "outputs": [],
   "source": [
    "movies = pd.read_csv(\"../ml-latest-small/movies.csv\")"
   ]
  },
  {
   "cell_type": "code",
   "execution_count": 4,
   "metadata": {},
   "outputs": [],
   "source": [
    "user_movie_matrix = pd.merge(ratings, movies, on='movieId')"
   ]
  },
  {
   "cell_type": "code",
   "execution_count": 5,
   "metadata": {},
   "outputs": [
    {
     "name": "stdout",
     "output_type": "stream",
     "text": [
      "   userId  movieId  rating  timestamp                        title  \\\n",
      "0       1        1     4.0  964982703             Toy Story (1995)   \n",
      "1       1        3     4.0  964981247      Grumpier Old Men (1995)   \n",
      "2       1        6     4.0  964982224                  Heat (1995)   \n",
      "3       1       47     5.0  964983815  Seven (a.k.a. Se7en) (1995)   \n",
      "4       1       50     5.0  964982931   Usual Suspects, The (1995)   \n",
      "\n",
      "                                        genres  \n",
      "0  Adventure|Animation|Children|Comedy|Fantasy  \n",
      "1                               Comedy|Romance  \n",
      "2                        Action|Crime|Thriller  \n",
      "3                             Mystery|Thriller  \n",
      "4                       Crime|Mystery|Thriller  \n"
     ]
    }
   ],
   "source": [
    "print(user_movie_matrix.head())"
   ]
  },
  {
   "cell_type": "code",
   "execution_count": 6,
   "metadata": {},
   "outputs": [
    {
     "name": "stdout",
     "output_type": "stream",
     "text": [
      "movieId  1       2       3       4       5       6       7       8       \\\n",
      "userId                                                                    \n",
      "1           4.0     0.0     4.0     0.0     0.0     4.0     0.0     0.0   \n",
      "2           0.0     0.0     0.0     0.0     0.0     0.0     0.0     0.0   \n",
      "3           0.0     0.0     0.0     0.0     0.0     0.0     0.0     0.0   \n",
      "4           0.0     0.0     0.0     0.0     0.0     0.0     0.0     0.0   \n",
      "5           4.0     0.0     0.0     0.0     0.0     0.0     0.0     0.0   \n",
      "\n",
      "movieId  9       10      ...  193565  193567  193571  193573  193579  193581  \\\n",
      "userId                   ...                                                   \n",
      "1           0.0     0.0  ...     0.0     0.0     0.0     0.0     0.0     0.0   \n",
      "2           0.0     0.0  ...     0.0     0.0     0.0     0.0     0.0     0.0   \n",
      "3           0.0     0.0  ...     0.0     0.0     0.0     0.0     0.0     0.0   \n",
      "4           0.0     0.0  ...     0.0     0.0     0.0     0.0     0.0     0.0   \n",
      "5           0.0     0.0  ...     0.0     0.0     0.0     0.0     0.0     0.0   \n",
      "\n",
      "movieId  193583  193585  193587  193609  \n",
      "userId                                   \n",
      "1           0.0     0.0     0.0     0.0  \n",
      "2           0.0     0.0     0.0     0.0  \n",
      "3           0.0     0.0     0.0     0.0  \n",
      "4           0.0     0.0     0.0     0.0  \n",
      "5           0.0     0.0     0.0     0.0  \n",
      "\n",
      "[5 rows x 9724 columns]\n"
     ]
    }
   ],
   "source": [
    "user_movie_matrix_pivot = user_movie_matrix.pivot(index='userId', columns='movieId', values='rating').fillna(0)\n",
    "print(user_movie_matrix_pivot.head())"
   ]
  },
  {
   "cell_type": "code",
   "execution_count": 7,
   "metadata": {},
   "outputs": [
    {
     "name": "stdout",
     "output_type": "stream",
     "text": [
      "140\n"
     ]
    }
   ],
   "source": [
    "already_rated = user_movie_matrix_pivot.loc[utente][user_movie_matrix_pivot.loc[utente] > 0].index.tolist()\n",
    "print(len(already_rated))"
   ]
  },
  {
   "cell_type": "code",
   "execution_count": 8,
   "metadata": {},
   "outputs": [
    {
     "name": "stdout",
     "output_type": "stream",
     "text": [
      "9584\n"
     ]
    }
   ],
   "source": [
    "not_seen = user_movie_matrix_pivot.columns[~user_movie_matrix_pivot.columns.isin(already_rated)].tolist()\n",
    "print(len(not_seen))"
   ]
  },
  {
   "cell_type": "code",
   "execution_count": 9,
   "metadata": {},
   "outputs": [
    {
     "name": "stdout",
     "output_type": "stream",
     "text": [
      "<Compressed Sparse Row sparse matrix of dtype 'float64'\n",
      "\twith 100836 stored elements and shape (610, 9724)>\n",
      "  Coords\tValues\n",
      "  (0, 0)\t4.0\n",
      "  (0, 2)\t4.0\n",
      "  (0, 5)\t4.0\n",
      "  (0, 43)\t5.0\n",
      "  (0, 46)\t5.0\n",
      "  (0, 62)\t3.0\n",
      "  (0, 89)\t5.0\n",
      "  (0, 97)\t4.0\n",
      "  (0, 124)\t5.0\n",
      "  (0, 130)\t5.0\n",
      "  (0, 136)\t5.0\n",
      "  (0, 184)\t5.0\n",
      "  (0, 190)\t3.0\n",
      "  (0, 197)\t5.0\n",
      "  (0, 201)\t4.0\n",
      "  (0, 224)\t5.0\n",
      "  (0, 257)\t3.0\n",
      "  (0, 275)\t3.0\n",
      "  (0, 291)\t5.0\n",
      "  (0, 307)\t4.0\n",
      "  (0, 314)\t4.0\n",
      "  (0, 320)\t5.0\n",
      "  (0, 325)\t4.0\n",
      "  (0, 367)\t3.0\n",
      "  (0, 384)\t4.0\n",
      "  :\t:\n",
      "  (609, 9238)\t5.0\n",
      "  (609, 9246)\t4.5\n",
      "  (609, 9256)\t4.0\n",
      "  (609, 9268)\t5.0\n",
      "  (609, 9274)\t3.5\n",
      "  (609, 9279)\t3.5\n",
      "  (609, 9282)\t3.0\n",
      "  (609, 9288)\t3.0\n",
      "  (609, 9304)\t3.0\n",
      "  (609, 9307)\t2.5\n",
      "  (609, 9312)\t4.5\n",
      "  (609, 9317)\t3.0\n",
      "  (609, 9324)\t3.0\n",
      "  (609, 9339)\t4.0\n",
      "  (609, 9341)\t4.0\n",
      "  (609, 9348)\t3.5\n",
      "  (609, 9371)\t3.5\n",
      "  (609, 9372)\t3.5\n",
      "  (609, 9374)\t5.0\n",
      "  (609, 9415)\t4.0\n",
      "  (609, 9416)\t4.0\n",
      "  (609, 9443)\t5.0\n",
      "  (609, 9444)\t5.0\n",
      "  (609, 9445)\t5.0\n",
      "  (609, 9485)\t3.0\n"
     ]
    }
   ],
   "source": [
    "from scipy.sparse import csr_matrix\n",
    "\n",
    "sparse_user_movie_matrix = csr_matrix(user_movie_matrix_pivot.values)\n",
    "print(sparse_user_movie_matrix)"
   ]
  },
  {
   "cell_type": "code",
   "execution_count": 10,
   "metadata": {},
   "outputs": [
    {
     "name": "stdout",
     "output_type": "stream",
     "text": [
      "U.shape (610, 20)\n",
      "sigma.shape (20, 20)\n",
      "Vt.shape (20, 9724)\n"
     ]
    }
   ],
   "source": [
    "import numpy as np\n",
    "from scipy.sparse.linalg import svds\n",
    "\n",
    "# SVD decomposition\n",
    "latent_features = 20\n",
    "U, sigma, Vt = svds(sparse_user_movie_matrix, k=latent_features)\n",
    "sigma = np.diag(sigma)\n",
    "print('U.shape', U.shape)\n",
    "print('sigma.shape', sigma.shape)\n",
    "print('Vt.shape', Vt.shape)"
   ]
  },
  {
   "cell_type": "code",
   "execution_count": 11,
   "metadata": {},
   "outputs": [],
   "source": [
    "# from scipy.linalg import sqrtm\n",
    "\n",
    "# root_sigma = sqrtm(sigma)\n",
    "# print('root_sigma.shape', root_sigma.shape)\n",
    "# U = np.dot(U, root_sigma)\n",
    "# Vt = np.dot(root_sigma, Vt)"
   ]
  },
  {
   "cell_type": "code",
   "execution_count": 12,
   "metadata": {},
   "outputs": [],
   "source": [
    "user_movie_matrix_hat = np.dot(np.dot(U, sigma), Vt)"
   ]
  },
  {
   "cell_type": "code",
   "execution_count": 13,
   "metadata": {},
   "outputs": [
    {
     "name": "stdout",
     "output_type": "stream",
     "text": [
      "movieId    1         2         3         4         5         6         7       \\\n",
      "userId                                                                          \n",
      "1        2.290336  1.460203  1.033507 -0.061334 -0.002275  1.243261  0.029650   \n",
      "2        0.038570  0.015272  0.016968  0.002944  0.019201 -0.005821 -0.025436   \n",
      "3       -0.015220  0.049067  0.047202 -0.004936 -0.035349  0.052758 -0.012911   \n",
      "4        2.238621  0.060011  0.039384  0.066455  0.221806  0.487591  0.318594   \n",
      "5        1.358363  0.970071  0.340939  0.121053  0.479936  0.628346  0.504583   \n",
      "\n",
      "movieId    8         9         10      ...    193565    193567    193571  \\\n",
      "userId                                 ...                                 \n",
      "1        0.056161  0.036220  1.442856  ... -0.008584 -0.007358 -0.009810   \n",
      "2        0.000918  0.010531 -0.117149  ...  0.010662  0.009139  0.012186   \n",
      "3        0.010422 -0.002532 -0.014094  ...  0.000029  0.000025  0.000033   \n",
      "4       -0.057422  0.016371  0.234273  ...  0.002029  0.001739  0.002319   \n",
      "5        0.136293  0.040721  1.122003  ...  0.000348  0.000299  0.000398   \n",
      "\n",
      "movieId    193573    193579    193581    193583    193585    193587    193609  \n",
      "userId                                                                         \n",
      "1       -0.009810 -0.008584 -0.009810 -0.008584 -0.008584 -0.008584 -0.038606  \n",
      "2        0.012186  0.010662  0.012186  0.010662  0.010662  0.010662  0.015610  \n",
      "3        0.000033  0.000029  0.000033  0.000029  0.000029  0.000029 -0.002412  \n",
      "4        0.002319  0.002029  0.002319  0.002029  0.002029  0.002029 -0.007359  \n",
      "5        0.000398  0.000348  0.000398  0.000348  0.000348  0.000348  0.001611  \n",
      "\n",
      "[5 rows x 9724 columns]\n"
     ]
    }
   ],
   "source": [
    "# Undo the pivot done earlier to obtain a dataframe with user_id, movie_id and rating as columns\n",
    "user_movie_matrix_hat = pd.DataFrame(user_movie_matrix_hat, columns=user_movie_matrix_pivot.columns, index=user_movie_matrix_pivot.index)\n",
    "print(user_movie_matrix_hat.head())"
   ]
  },
  {
   "cell_type": "code",
   "execution_count": 14,
   "metadata": {},
   "outputs": [
    {
     "name": "stdout",
     "output_type": "stream",
     "text": [
      "Index([     1,      2,      3,      4,      5,      6,      7,      8,      9,\n",
      "           10,\n",
      "       ...\n",
      "       193565, 193567, 193571, 193573, 193579, 193581, 193583, 193585, 193587,\n",
      "       193609],\n",
      "      dtype='int64', name='movieId', length=9724)\n"
     ]
    }
   ],
   "source": [
    "print(user_movie_matrix_hat.columns)"
   ]
  },
  {
   "cell_type": "code",
   "execution_count": 15,
   "metadata": {},
   "outputs": [
    {
     "name": "stdout",
     "output_type": "stream",
     "text": [
      "userId\n"
     ]
    }
   ],
   "source": [
    "# get name of thw rows of the dataframe\n",
    "print(user_movie_matrix_hat.index.name)"
   ]
  },
  {
   "cell_type": "code",
   "execution_count": 16,
   "metadata": {},
   "outputs": [],
   "source": [
    "user_movie_matrix_hat_unpivot = user_movie_matrix_hat.reset_index().melt(id_vars='userId', var_name='movieId', value_name='rating')"
   ]
  },
  {
   "cell_type": "code",
   "execution_count": 17,
   "metadata": {},
   "outputs": [],
   "source": [
    "user_movie_matrix_hat_unpivot = user_movie_matrix_hat_unpivot.merge(user_movie_matrix[['userId', 'movieId', 'timestamp', 'title', 'genres']], on=['userId', 'movieId'], how='left')"
   ]
  },
  {
   "cell_type": "code",
   "execution_count": 18,
   "metadata": {},
   "outputs": [],
   "source": [
    "user_movie_matrix_hat_unpivot = user_movie_matrix_hat_unpivot[['userId', 'movieId', 'rating', 'timestamp', 'title', 'genres']]"
   ]
  },
  {
   "cell_type": "code",
   "execution_count": 19,
   "metadata": {},
   "outputs": [
    {
     "name": "stdout",
     "output_type": "stream",
     "text": [
      "   userId movieId    rating    timestamp             title  \\\n",
      "0       1       1  2.290336  964982703.0  Toy Story (1995)   \n",
      "1       2       1  0.038570          NaN               NaN   \n",
      "2       3       1 -0.015220          NaN               NaN   \n",
      "3       4       1  2.238621          NaN               NaN   \n",
      "4       5       1  1.358363  847434962.0  Toy Story (1995)   \n",
      "\n",
      "                                        genres  \n",
      "0  Adventure|Animation|Children|Comedy|Fantasy  \n",
      "1                                          NaN  \n",
      "2                                          NaN  \n",
      "3                                          NaN  \n",
      "4  Adventure|Animation|Children|Comedy|Fantasy  \n"
     ]
    }
   ],
   "source": [
    "print(user_movie_matrix_hat_unpivot.head())"
   ]
  },
  {
   "cell_type": "code",
   "execution_count": 12,
   "metadata": {},
   "outputs": [],
   "source": [
    "user_hat = user_movie_matrix_hat[utente]"
   ]
  },
  {
   "cell_type": "code",
   "execution_count": 23,
   "metadata": {},
   "outputs": [],
   "source": [
    "import networkx as nx\n",
    "\n",
    "user_movie_graph = nx.Graph()\n",
    "\n",
    "# Add nodes and edges\n",
    "for _, row in user_movie_matrix_hat_unpivot.iterrows():\n",
    "    if row[\"userId\"] == utente and pd.isna(row[\"title\"]):\n",
    "        user_movie_graph.add_node(row[\"userId\"], bipartite=0)\n",
    "        user_movie_graph.add_node(row[\"movieId\"], bipartite=1)\n",
    "        user_movie_graph.add_edge(row[\"userId\"], row[\"movieId\"], weight=row[\"rating\"])\n",
    "        # user_movie_graph.add_edge(row[\"userId\"], row[\"movieId\"], weight=mapping_score[row[\"rating\"]])"
   ]
  },
  {
   "cell_type": "code",
   "execution_count": 24,
   "metadata": {},
   "outputs": [
    {
     "name": "stdout",
     "output_type": "stream",
     "text": [
      "9584\n"
     ]
    }
   ],
   "source": [
    "print(len(user_movie_graph.nodes()))"
   ]
  },
  {
   "cell_type": "code",
   "execution_count": 26,
   "metadata": {},
   "outputs": [
    {
     "name": "stdout",
     "output_type": "stream",
     "text": [
      "Nodes in movie_movie_graph: [(1, {'bipartite': 1}), (2, {'bipartite': 1}), (3, {'bipartite': 1}), (4, {'bipartite': 1}), (5, {'bipartite': 1}), (6, {'bipartite': 1}), (7, {'bipartite': 1}), (8, {'bipartite': 1}), (9, {'bipartite': 1}), (32770, {'bipartite': 1})]\n",
      "Edges in movie_movie_graph: [(1, 2, {'weight': 1}), (1, 3, {'weight': 1}), (1, 4, {'weight': 1}), (1, 5, {'weight': 1}), (1, 6, {'weight': 1}), (1, 7, {'weight': 1}), (1, 8, {'weight': 1}), (1, 9, {'weight': 1}), (1, 10, {'weight': 1}), (1, 11, {'weight': 1})]\n"
     ]
    }
   ],
   "source": [
    "# Project the graph using weights\n",
    "movie_movie_graph = nx.bipartite.weighted_projected_graph(user_movie_graph, {node for node, node_data in user_movie_graph.nodes(data=True) if node_data['bipartite'] == 1})\n",
    "# Debug print to check the projected graphs\n",
    "print(f\"Nodes in movie_movie_graph: {list(movie_movie_graph.nodes(data=True))[:10]}\")\n",
    "print(f\"Edges in movie_movie_graph: {list(movie_movie_graph.edges(data=True))[:10]}\")"
   ]
  },
  {
   "cell_type": "code",
   "execution_count": 27,
   "metadata": {},
   "outputs": [],
   "source": [
    "def filter_nodes(graph: nx.Graph, node_type: int):\n",
    "    return [n for n, d in graph.nodes(data=True) if d[\"bipartite\"] == node_type]"
   ]
  },
  {
   "cell_type": "code",
   "execution_count": 28,
   "metadata": {},
   "outputs": [],
   "source": [
    "def create_preference_vector(user_id: int, user_movie_graph: nx.Graph):\n",
    "    edges = {m: v for _, m, v in user_movie_graph.edges(user_id, data=\"weight\")}\n",
    "    print(f\"Edges for user {user_id}: {list(edges)[:10]}\")  # Debug print\n",
    "    tot = sum(edges.values())\n",
    "    print(f\"Total for user {user_id}: {tot}\")  # Debug print\n",
    "    if tot > 0:\n",
    "        return {\n",
    "            movie: edges.get(movie, 0) / tot\n",
    "            for movie in filter_nodes(user_movie_graph, 1) # 1 : Movie\n",
    "        }\n",
    "    else:\n",
    "        return {\n",
    "            movie: 1 for movie in filter_nodes(user_movie_graph, 1)\n",
    "        }"
   ]
  },
  {
   "cell_type": "code",
   "execution_count": 29,
   "metadata": {},
   "outputs": [],
   "source": [
    "def predict_user(user_id, user_movie_graph: nx.Graph, movie_movie_graph: nx.Graph):\n",
    "    p_vec = create_preference_vector(user_id, user_movie_graph)\n",
    "    print(f\"Preference vector for user {user_id}: {list(p_vec)[:10]}\")  # Debug print\n",
    "    already_seen = [movie for movie, p in p_vec.items() if p > 0]\n",
    "    print(f\"Already seen movies for user {user_id}: {list(already_seen)[:10]}\")  # Debug print\n",
    "    if len(already_seen) < 1:\n",
    "        return []\n",
    "    item_rank = nx.pagerank(movie_movie_graph, personalization=p_vec, alpha=0.95, weight=\"weight\")\n",
    "    print(f\"Item rank for user {user_id}: {list(item_rank)[:10]}\")  # Debug print\n",
    "    s_t = [\n",
    "        x for x in sorted(\n",
    "            movie_movie_graph.nodes(), key=lambda x: item_rank[x] if x in item_rank else 0, reverse=True\n",
    "            )\n",
    "        if x not in already_seen\n",
    "        ]\n",
    "    \n",
    "    return s_t"
   ]
  },
  {
   "cell_type": "code",
   "execution_count": null,
   "metadata": {},
   "outputs": [
    {
     "name": "stdout",
     "output_type": "stream",
     "text": [
      "Edges for user 10: [1, 2, 3, 4, 5, 6, 7, 8, 9, 10]\n",
      "Total for user 10: 269.96268531187997\n",
      "Preference vector for user 10: [1, 2, 3, 4, 5, 6, 7, 8, 9, 11]\n",
      "Already seen movies for user 10: [1, 2, 4, 5, 7, 11, 13, 17, 18, 19]\n",
      "Item rank for user 10: [1, 2, 3, 4, 5, 6, 7, 8, 9, 32770]\n"
     ]
    },
    {
     "ename": "TypeError",
     "evalue": "'set' object is not subscriptable",
     "output_type": "error",
     "traceback": [
      "\u001b[1;31m---------------------------------------------------------------------------\u001b[0m",
      "\u001b[1;31mTypeError\u001b[0m                                 Traceback (most recent call last)",
      "Cell \u001b[1;32mIn[31], line 4\u001b[0m\n\u001b[0;32m      2\u001b[0m s_t \u001b[38;5;241m=\u001b[39m predict_user(user, user_movie_graph, movie_movie_graph)\n\u001b[0;32m      3\u001b[0m \u001b[38;5;66;03m# convert movieId to movie title\u001b[39;00m\n\u001b[1;32m----> 4\u001b[0m s_t \u001b[38;5;241m=\u001b[39m [movies[\u001b[43mmovies\u001b[49m\u001b[43m[\u001b[49m\u001b[38;5;124;43m\"\u001b[39;49m\u001b[38;5;124;43mmovieId\u001b[39;49m\u001b[38;5;124;43m\"\u001b[39;49m\u001b[43m]\u001b[49m \u001b[38;5;241m==\u001b[39m i][\u001b[38;5;124m\"\u001b[39m\u001b[38;5;124mtitle\u001b[39m\u001b[38;5;124m\"\u001b[39m]\u001b[38;5;241m.\u001b[39mvalues[\u001b[38;5;241m0\u001b[39m] \u001b[38;5;28;01mfor\u001b[39;00m i \u001b[38;5;129;01min\u001b[39;00m s_t]\n\u001b[0;32m      5\u001b[0m \u001b[38;5;28mprint\u001b[39m(\u001b[38;5;124mf\u001b[39m\u001b[38;5;124m\"\u001b[39m\u001b[38;5;124mPredicted movies for user \u001b[39m\u001b[38;5;132;01m{\u001b[39;00muser\u001b[38;5;132;01m}\u001b[39;00m\u001b[38;5;124m: \u001b[39m\u001b[38;5;132;01m{\u001b[39;00m\u001b[38;5;28mlist\u001b[39m(s_t)[:\u001b[38;5;241m10\u001b[39m]\u001b[38;5;132;01m}\u001b[39;00m\u001b[38;5;124m\"\u001b[39m)\n",
      "\u001b[1;31mTypeError\u001b[0m: 'set' object is not subscriptable"
     ]
    }
   ],
   "source": [
    "user = 10\n",
    "s_t = predict_user(user, user_movie_graph, movie_movie_graph)\n",
    "# convert movieId to movie title\n",
    "print(f\"Predicted movies for user {user}: {s_t[:10]}\")"
   ]
  },
  {
   "cell_type": "code",
   "execution_count": 39,
   "metadata": {},
   "outputs": [
    {
     "name": "stdout",
     "output_type": "stream",
     "text": [
      "[ 3  6  8  9 10 12 14 15 16 20]\n"
     ]
    }
   ],
   "source": [
    "top_ten = s_t[:10]\n",
    "print(top_ten)"
   ]
  },
  {
   "cell_type": "code",
   "execution_count": null,
   "metadata": {},
   "outputs": [
    {
     "name": "stdout",
     "output_type": "stream",
     "text": [
      "['GoldenEye (1995)', 'Prison Break: The Final Break (2009)', 'House at the End of the Street (2012)', 'Byzantium (2012)', 'Spiral (2007)', 'Amer (2009)', 'Ménage (Tenue de soirée) (1986)', 'À nous la liberté (Freedom for Us) (1931)', 'Stop! Or My Mom Will Shoot (1992)', 'For the Love of Benji (1977)']\n"
     ]
    }
   ],
   "source": [
    "top_ten_titles = [movies[movies['movieId'] == movie].iloc[0]['title'] for movie in top_ten]\n",
    "print(top_ten_titles)"
   ]
  }
 ],
 "metadata": {
  "kernelspec": {
   "display_name": "Python 3",
   "language": "python",
   "name": "python3"
  },
  "language_info": {
   "codemirror_mode": {
    "name": "ipython",
    "version": 3
   },
   "file_extension": ".py",
   "mimetype": "text/x-python",
   "name": "python",
   "nbconvert_exporter": "python",
   "pygments_lexer": "ipython3",
   "version": "3.12.0"
  }
 },
 "nbformat": 4,
 "nbformat_minor": 2
}
