{
 "cells": [
  {
   "cell_type": "code",
   "execution_count": 1,
   "metadata": {},
   "outputs": [],
   "source": [
    "# pip install findspark\n",
    "import findspark\n",
    "findspark.init()"
   ]
  },
  {
   "cell_type": "code",
   "execution_count": 2,
   "metadata": {},
   "outputs": [],
   "source": [
    "import pyspark\n",
    "from pyspark.sql import SparkSession\n",
    "\n",
    "spark = SparkSession.builder \\\n",
    "        .appName(\"SVD\") \\\n",
    "        .config(\"spark.driver.memory\", \"4g\") \\\n",
    "        .getOrCreate()"
   ]
  },
  {
   "cell_type": "code",
   "execution_count": 3,
   "metadata": {},
   "outputs": [
    {
     "name": "stderr",
     "output_type": "stream",
     "text": [
      "C:\\Spark\\spark-3.5.3-bin-hadoop3\\python\\pyspark\\sql\\context.py:113: FutureWarning: Deprecated in 3.0.0. Use SparkSession.builder.getOrCreate() instead.\n",
      "  warnings.warn(\n"
     ]
    },
    {
     "data": {
      "text/plain": [
       "[('spark.driver.extraJavaOptions',\n",
       "  '-Djava.net.preferIPv6Addresses=false -XX:+IgnoreUnrecognizedVMOptions --add-opens=java.base/java.lang=ALL-UNNAMED --add-opens=java.base/java.lang.invoke=ALL-UNNAMED --add-opens=java.base/java.lang.reflect=ALL-UNNAMED --add-opens=java.base/java.io=ALL-UNNAMED --add-opens=java.base/java.net=ALL-UNNAMED --add-opens=java.base/java.nio=ALL-UNNAMED --add-opens=java.base/java.util=ALL-UNNAMED --add-opens=java.base/java.util.concurrent=ALL-UNNAMED --add-opens=java.base/java.util.concurrent.atomic=ALL-UNNAMED --add-opens=java.base/jdk.internal.ref=ALL-UNNAMED --add-opens=java.base/sun.nio.ch=ALL-UNNAMED --add-opens=java.base/sun.nio.cs=ALL-UNNAMED --add-opens=java.base/sun.security.action=ALL-UNNAMED --add-opens=java.base/sun.util.calendar=ALL-UNNAMED --add-opens=java.security.jgss/sun.security.krb5=ALL-UNNAMED -Djdk.reflect.useDirectMethodHandle=false'),\n",
       " ('spark.driver.memory', '4g'),\n",
       " ('spark.driver.host', 'LAPTOP-0EQ25VHR'),\n",
       " ('spark.app.id', 'local-1735037734633'),\n",
       " ('spark.executor.id', 'driver'),\n",
       " ('spark.app.name', 'SVD'),\n",
       " ('spark.driver.port', '25051'),\n",
       " ('spark.rdd.compress', 'True'),\n",
       " ('spark.executor.extraJavaOptions',\n",
       "  '-Djava.net.preferIPv6Addresses=false -XX:+IgnoreUnrecognizedVMOptions --add-opens=java.base/java.lang=ALL-UNNAMED --add-opens=java.base/java.lang.invoke=ALL-UNNAMED --add-opens=java.base/java.lang.reflect=ALL-UNNAMED --add-opens=java.base/java.io=ALL-UNNAMED --add-opens=java.base/java.net=ALL-UNNAMED --add-opens=java.base/java.nio=ALL-UNNAMED --add-opens=java.base/java.util=ALL-UNNAMED --add-opens=java.base/java.util.concurrent=ALL-UNNAMED --add-opens=java.base/java.util.concurrent.atomic=ALL-UNNAMED --add-opens=java.base/jdk.internal.ref=ALL-UNNAMED --add-opens=java.base/sun.nio.ch=ALL-UNNAMED --add-opens=java.base/sun.nio.cs=ALL-UNNAMED --add-opens=java.base/sun.security.action=ALL-UNNAMED --add-opens=java.base/sun.util.calendar=ALL-UNNAMED --add-opens=java.security.jgss/sun.security.krb5=ALL-UNNAMED -Djdk.reflect.useDirectMethodHandle=false'),\n",
       " ('spark.serializer.objectStreamReset', '100'),\n",
       " ('spark.app.submitTime', '1735037732863'),\n",
       " ('spark.master', 'local[*]'),\n",
       " ('spark.submit.pyFiles', ''),\n",
       " ('spark.submit.deployMode', 'client'),\n",
       " ('spark.app.startTime', '1735037733021'),\n",
       " ('spark.ui.showConsoleProgress', 'true')]"
      ]
     },
     "execution_count": 3,
     "metadata": {},
     "output_type": "execute_result"
    }
   ],
   "source": [
    "from pyspark.sql import SQLContext\n",
    "sqlContext = SQLContext(spark)\n",
    "\n",
    "spark.sparkContext._conf.getAll()  # check the config"
   ]
  },
  {
   "cell_type": "code",
   "execution_count": 4,
   "metadata": {},
   "outputs": [],
   "source": [
    "user_movie_matrix = spark.read.csv('hdfs://localhost:9001/test/user_movie_matrix.csv', header=True, inferSchema=True)\n",
    "#parallelize the data"
   ]
  },
  {
   "cell_type": "code",
   "execution_count": 6,
   "metadata": {},
   "outputs": [],
   "source": [
    "from scipy.sparse import csr_matrix\n",
    "\n",
    "sparse_user_movie_matrix = csr_matrix(user_movie_matrix.toPandas().values)"
   ]
  },
  {
   "cell_type": "code",
   "execution_count": 7,
   "metadata": {},
   "outputs": [],
   "source": [
    "from scipy.sparse.linalg import svds\n",
    "\n",
    "U, sigma, Vt = svds(sparse_user_movie_matrix, k=20)  # k: numero di feature latenti"
   ]
  },
  {
   "cell_type": "code",
   "execution_count": 9,
   "metadata": {},
   "outputs": [],
   "source": [
    "import numpy as np\n",
    "from scipy.linalg import sqrtm\n",
    "\n",
    "sigma = np.diag(sigma)\n",
    "\n",
    "root_sigma = sqrtm(sigma)\n",
    "\n",
    "U = np.dot(U, root_sigma)"
   ]
  },
  {
   "cell_type": "code",
   "execution_count": 10,
   "metadata": {},
   "outputs": [
    {
     "data": {
      "image/png": "[encoded data removed]",
      "text/plain": [
       "<Figure size 640x480 with 1 Axes>"
      ]
     },
     "metadata": {},
     "output_type": "display_data"
    }
   ],
   "source": [
    "utente = 2\n",
    "\n",
    "import matplotlib.pyplot as plt\n",
    "\n",
    "U = np.sort(U)\n",
    "U_scaled = U[utente] - U[utente].min()\n",
    "# U_scaled /= U_scaled.max()\n",
    "plt.bar(range(20), U_scaled)\n",
    "plt.show()"
   ]
  },
  {
   "cell_type": "code",
   "execution_count": 11,
   "metadata": {},
   "outputs": [],
   "source": [
    "approx_user_movie_matrix = np.dot(np.dot(U, sigma), Vt)"
   ]
  },
  {
   "cell_type": "code",
   "execution_count": 13,
   "metadata": {},
   "outputs": [],
   "source": [
    "import pandas as pd\n",
    "\n",
    "user_movie_predictions = pd.DataFrame(approx_user_movie_matrix, columns=user_movie_matrix.columns)"
   ]
  },
  {
   "cell_type": "code",
   "execution_count": 14,
   "metadata": {},
   "outputs": [
    {
     "name": "stdout",
     "output_type": "stream",
     "text": [
      "Matrice predetta:\n",
      "         userId         1         2         3         4         5         6  \\\n",
      "0  8105.416924  4.808841 -5.199456 -4.122377 -0.716273  0.035567 -7.727002   \n",
      "1  2386.627472  4.131228  0.109229  0.834992  0.014072  1.270701  1.333435   \n",
      "2   853.074537  0.472235 -0.144052 -0.554480 -0.094388 -0.141923 -0.707362   \n",
      "3  6134.500070  1.107143 -4.950431 -3.587269 -0.536030 -0.434473 -6.379320   \n",
      "4  1667.860273  0.967236 -3.203716 -0.907207  0.071357  0.981206 -1.255702   \n",
      "\n",
      "          7         8         9  ...    193565    193567    193571    193573  \\\n",
      "0 -0.740678 -1.653175  4.730518  ...  0.306625  0.262822  0.350429  0.350429   \n",
      "1  0.985880 -0.120296  1.246394  ...  0.057786  0.049531  0.066041  0.066041   \n",
      "2 -0.272009 -0.138418  0.281571  ...  0.027246  0.023353  0.031138  0.031138   \n",
      "3 -1.361857 -1.249424  3.158442  ...  0.256527  0.219880  0.293174  0.293174   \n",
      "4  0.993124 -0.589944  2.037125  ...  0.090242  0.077350  0.103133  0.103133   \n",
      "\n",
      "     193579    193581    193583    193585    193587    193609  \n",
      "0  0.306625  0.350429  0.306625  0.306625  0.306625  0.348087  \n",
      "1  0.057786  0.066041  0.057786  0.057786  0.057786  0.140928  \n",
      "2  0.027246  0.031138  0.027246  0.027246  0.027246  0.028061  \n",
      "3  0.256527  0.293174  0.256527  0.256527  0.256527  0.335716  \n",
      "4  0.090242  0.103133  0.090242  0.090242  0.090242  0.144024  \n",
      "\n",
      "[5 rows x 9725 columns]\n"
     ]
    }
   ],
   "source": [
    "print(\"Matrice predetta:\\n\", user_movie_predictions.head())"
   ]
  }
 ],
 "metadata": {
  "kernelspec": {
   "display_name": "Python 3",
   "language": "python",
   "name": "python3"
  },
  "language_info": {
   "codemirror_mode": {
    "name": "ipython",
    "version": 3
   },
   "file_extension": ".py",
   "mimetype": "text/x-python",
   "name": "python",
   "nbconvert_exporter": "python",
   "pygments_lexer": "ipython3",
   "version": "3.11.6"
  }
 },
 "nbformat": 4,
 "nbformat_minor": 2
}
