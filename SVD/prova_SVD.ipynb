{
 "cells": [
  {
   "cell_type": "markdown",
   "metadata": {},
   "source": [
    "Using SVD for latent features"
   ]
  },
  {
   "cell_type": "code",
   "execution_count": 1,
   "metadata": {},
   "outputs": [
    {
     "name": "stdout",
     "output_type": "stream",
     "text": [
      "Movies dataset:\n",
      "    movieId                               title  \\\n",
      "0        1                    Toy Story (1995)   \n",
      "1        2                      Jumanji (1995)   \n",
      "2        3             Grumpier Old Men (1995)   \n",
      "3        4            Waiting to Exhale (1995)   \n",
      "4        5  Father of the Bride Part II (1995)   \n",
      "\n",
      "                                        genres  \n",
      "0  Adventure|Animation|Children|Comedy|Fantasy  \n",
      "1                   Adventure|Children|Fantasy  \n",
      "2                               Comedy|Romance  \n",
      "3                         Comedy|Drama|Romance  \n",
      "4                                       Comedy  \n",
      "Ratings dataset:\n",
      "    userId  movieId  rating  timestamp\n",
      "0       1        1     4.0  964982703\n",
      "1       1        3     4.0  964981247\n",
      "2       1        6     4.0  964982224\n",
      "3       1       47     5.0  964983815\n",
      "4       1       50     5.0  964982931\n"
     ]
    }
   ],
   "source": [
    "import pandas as pd\n",
    "import numpy as np\n",
    "from scipy.sparse.linalg import svds\n",
    "from scipy.linalg import sqrtm\n",
    "from scipy.sparse import csr_matrix\n",
    "from sklearn.metrics.pairwise import cosine_similarity\n",
    "\n",
    "# Caricamento dei dataset\n",
    "movies = pd.read_csv('ml-latest-small/movies.csv')\n",
    "ratings = pd.read_csv('ml-latest-small/ratings.csv')\n",
    "\n",
    "# Esplorazione dei dataset\n",
    "print(\"Movies dataset:\\n\", movies.head())\n",
    "print(\"Ratings dataset:\\n\", ratings.head())"
   ]
  },
  {
   "cell_type": "code",
   "execution_count": 2,
   "metadata": {},
   "outputs": [
    {
     "name": "stdout",
     "output_type": "stream",
     "text": [
      "User-movie matrix:\n",
      " movieId  1       2       3       4       5       6       7       8       \\\n",
      "userId                                                                    \n",
      "1           4.0     0.0     4.0     0.0     0.0     4.0     0.0     0.0   \n",
      "2           0.0     0.0     0.0     0.0     0.0     0.0     0.0     0.0   \n",
      "3           0.0     0.0     0.0     0.0     0.0     0.0     0.0     0.0   \n",
      "4           0.0     0.0     0.0     0.0     0.0     0.0     0.0     0.0   \n",
      "5           4.0     0.0     0.0     0.0     0.0     0.0     0.0     0.0   \n",
      "\n",
      "movieId  9       10      ...  193565  193567  193571  193573  193579  193581  \\\n",
      "userId                   ...                                                   \n",
      "1           0.0     0.0  ...     0.0     0.0     0.0     0.0     0.0     0.0   \n",
      "2           0.0     0.0  ...     0.0     0.0     0.0     0.0     0.0     0.0   \n",
      "3           0.0     0.0  ...     0.0     0.0     0.0     0.0     0.0     0.0   \n",
      "4           0.0     0.0  ...     0.0     0.0     0.0     0.0     0.0     0.0   \n",
      "5           0.0     0.0  ...     0.0     0.0     0.0     0.0     0.0     0.0   \n",
      "\n",
      "movieId  193583  193585  193587  193609  \n",
      "userId                                   \n",
      "1           0.0     0.0     0.0     0.0  \n",
      "2           0.0     0.0     0.0     0.0  \n",
      "3           0.0     0.0     0.0     0.0  \n",
      "4           0.0     0.0     0.0     0.0  \n",
      "5           0.0     0.0     0.0     0.0  \n",
      "\n",
      "[5 rows x 9724 columns]\n"
     ]
    }
   ],
   "source": [
    "# Creazione della matrice utente-film\n",
    "user_movie_matrix = ratings.pivot(index='userId', columns='movieId', values='rating').fillna(0)\n",
    "print(\"User-movie matrix:\\n\", user_movie_matrix.head())"
   ]
  },
  {
   "cell_type": "code",
   "execution_count": 3,
   "metadata": {},
   "outputs": [
    {
     "name": "stdout",
     "output_type": "stream",
     "text": [
      "Sparse user-movie matrix:\n",
      "   (0, 0)\t4.0\n",
      "  (0, 2)\t4.0\n",
      "  (0, 5)\t4.0\n",
      "  (0, 43)\t5.0\n",
      "  (0, 46)\t5.0\n",
      "  (0, 62)\t3.0\n",
      "  (0, 89)\t5.0\n",
      "  (0, 97)\t4.0\n",
      "  (0, 124)\t5.0\n",
      "  (0, 130)\t5.0\n",
      "  (0, 136)\t5.0\n",
      "  (0, 184)\t5.0\n",
      "  (0, 190)\t3.0\n",
      "  (0, 197)\t5.0\n",
      "  (0, 201)\t4.0\n",
      "  (0, 224)\t5.0\n",
      "  (0, 257)\t3.0\n",
      "  (0, 275)\t3.0\n",
      "  (0, 291)\t5.0\n",
      "  (0, 307)\t4.0\n",
      "  (0, 314)\t4.0\n",
      "  (0, 320)\t5.0\n",
      "  (0, 325)\t4.0\n",
      "  (0, 367)\t3.0\n",
      "  (0, 384)\t4.0\n",
      "  :\t:\n",
      "  (609, 9238)\t5.0\n",
      "  (609, 9246)\t4.5\n",
      "  (609, 9256)\t4.0\n",
      "  (609, 9268)\t5.0\n",
      "  (609, 9274)\t3.5\n",
      "  (609, 9279)\t3.5\n",
      "  (609, 9282)\t3.0\n",
      "  (609, 9288)\t3.0\n",
      "  (609, 9304)\t3.0\n",
      "  (609, 9307)\t2.5\n",
      "  (609, 9312)\t4.5\n",
      "  (609, 9317)\t3.0\n",
      "  (609, 9324)\t3.0\n",
      "  (609, 9339)\t4.0\n",
      "  (609, 9341)\t4.0\n",
      "  (609, 9348)\t3.5\n",
      "  (609, 9371)\t3.5\n",
      "  (609, 9372)\t3.5\n",
      "  (609, 9374)\t5.0\n",
      "  (609, 9415)\t4.0\n",
      "  (609, 9416)\t4.0\n",
      "  (609, 9443)\t5.0\n",
      "  (609, 9444)\t5.0\n",
      "  (609, 9445)\t5.0\n",
      "  (609, 9485)\t3.0\n"
     ]
    }
   ],
   "source": [
    "# Conversione in matrice sparsa\n",
    "sparse_user_movie_matrix = csr_matrix(user_movie_matrix.values)\n",
    "print(\"Sparse user-movie matrix:\\n\", sparse_user_movie_matrix)"
   ]
  },
  {
   "cell_type": "code",
   "execution_count": 4,
   "metadata": {},
   "outputs": [],
   "source": [
    "# Applicazione di SVD\n",
    "U, sigma, Vt = svds(sparse_user_movie_matrix, k=20)  # k: numero di feature latenti"
   ]
  },
  {
   "cell_type": "code",
   "execution_count": null,
   "metadata": {},
   "outputs": [],
   "source": [
    "#printa la matrice U (utenti-feature latenti) magari solo i primi dieci campioni\n",
    "print(\"U:\\n\", U[:10])"
   ]
  },
  {
   "cell_type": "code",
   "execution_count": null,
   "metadata": {},
   "outputs": [],
   "source": [
    "# # Visualizzazione della distribuzione delle feature latenti degli utenti\n",
    "# plt.figure(figsize=(10, 6))\n",
    "# for i in range(min(5, U.shape[1])):  # Mostra le prime 5 feature latenti\n",
    "#     plt.hist(U[:, i], bins=30, alpha=0.6, label=f'Feature {i+1}')\n",
    "# plt.title('Distribuzione delle feature latenti degli utenti (U)')\n",
    "# plt.xlabel('Valori delle feature latenti')\n",
    "# plt.ylabel('Frequenza')\n",
    "# plt.legend()\n",
    "# plt.show()"
   ]
  },
  {
   "cell_type": "code",
   "execution_count": 5,
   "metadata": {},
   "outputs": [],
   "source": [
    "# E' necessario questo?\n",
    "sigma = np.diag(sigma)\n",
    "\n",
    "root_sigma = sqrtm(sigma)\n",
    "\n",
    "U = np.dot(U, root_sigma)"
   ]
  },
  {
   "cell_type": "code",
   "execution_count": 6,
   "metadata": {},
   "outputs": [
    {
     "data": {
      "image/png": "[encoded data removed]",
      "text/plain": [
       "<Figure size 640x480 with 1 Axes>"
      ]
     },
     "metadata": {},
     "output_type": "display_data"
    }
   ],
   "source": [
    "utente = 2\n",
    "#printare barplot dell'utente 0 della matrice U.\n",
    "#scalare prima i valori della matrice U per renderli tutti positivi\n",
    "#e poi fare il barplot per l'utente 0\n",
    "import matplotlib.pyplot as plt\n",
    "#ordina la matrice U in modo crescente\n",
    "\n",
    "U = np.sort(U)\n",
    "U_scaled = U[utente] - U[utente].min()\n",
    "# U_scaled /= U_scaled.max()\n",
    "plt.bar(range(20), U_scaled)\n",
    "plt.show()"
   ]
  },
  {
   "cell_type": "code",
   "execution_count": null,
   "metadata": {},
   "outputs": [],
   "source": [
    "# Ricostruzione approssimata della matrice utente-film\n",
    "approx_user_movie_matrix = np.dot(np.dot(U, sigma), Vt)\n",
    "\n",
    "# Normalizzazione per riportare i valori alle scale originali (facoltativo)\n",
    "user_movie_predictions = pd.DataFrame(approx_user_movie_matrix, columns=user_movie_matrix.columns)\n",
    "\n",
    "# Output della matrice predetta\n",
    "print(\"Matrice predetta:\\n\", user_movie_predictions.head())"
   ]
  },
  {
   "cell_type": "code",
   "execution_count": null,
   "metadata": {},
   "outputs": [],
   "source": [
    "# Mappatura movieId -> genres\n",
    "movie_genres = movies.set_index('movieId')['genres']\n",
    "\n",
    "# Calcolo della similarità coseno tra le feature latenti dei film\n",
    "movie_features = Vt.T  # Feature latenti dei film\n",
    "cosine_sim = cosine_similarity(movie_features)\n",
    "\n",
    "# Creazione di una mappatura movieId -> indice nella matrice\n",
    "movie_id_to_index = {movie_id: idx for idx, movie_id in enumerate(user_movie_matrix.columns)}\n",
    "\n",
    "# Verifica della correlazione tra similarità e generi\n",
    "similar_movies = {}\n",
    "for movie_id, genre in movie_genres.items():\n",
    "    if movie_id in movie_id_to_index:\n",
    "        idx = movie_id_to_index[movie_id]\n",
    "        similar_indices = np.argsort(-cosine_sim[idx])[:10]  # Top 10 simili\n",
    "        similar_movies[movie_id] = [(user_movie_matrix.columns[sim_idx], movie_genres.get(user_movie_matrix.columns[sim_idx], \"Unknown\")) for sim_idx in similar_indices if user_movie_matrix.columns[sim_idx] in movie_genres.index]\n",
    "\n",
    "# Output dei risultati\n",
    "print(\"Film simili in base alle feature latenti:\\n\")\n",
    "for movie_id, similars in list(similar_movies.items())[:5]:  # Mostra i primi 5 risultati\n",
    "    print(f\"Film: {movies.loc[movies['movieId'] == movie_id, 'title'].values[0]} ({movie_genres[movie_id]})\")\n",
    "    for sim_movie_id, sim_genre in similars:\n",
    "        print(f\"  Simile a: {movies.loc[movies['movieId'] == sim_movie_id, 'title'].values[0]} ({sim_genre})\")\n",
    "    print()"
   ]
  }
 ],
 "metadata": {
  "kernelspec": {
   "display_name": "Python 3",
   "language": "python",
   "name": "python3"
  },
  "language_info": {
   "codemirror_mode": {
    "name": "ipython",
    "version": 3
   },
   "file_extension": ".py",
   "mimetype": "text/x-python",
   "name": "python",
   "nbconvert_exporter": "python",
   "pygments_lexer": "ipython3",
   "version": "3.11.6"
  }
 },
 "nbformat": 4,
 "nbformat_minor": 2
}
