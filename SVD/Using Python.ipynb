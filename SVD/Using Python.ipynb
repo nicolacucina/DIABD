{
 "cells": [
  {
   "cell_type": "code",
   "execution_count": 2,
   "metadata": {},
   "outputs": [],
   "source": [
    "import pandas as pd\n",
    "ratings = pd.read_csv('../ml-latest-small/ratings.csv')"
   ]
  },
  {
   "cell_type": "code",
   "execution_count": 3,
   "metadata": {},
   "outputs": [],
   "source": [
    "movies = pd.read_csv(\"../ml-latest-small/movies.csv\")"
   ]
  },
  {
   "cell_type": "code",
   "execution_count": 4,
   "metadata": {},
   "outputs": [],
   "source": [
    "user_movie_matrix = pd.merge(ratings, movies, on='movieId')"
   ]
  },
  {
   "cell_type": "code",
   "execution_count": 5,
   "metadata": {},
   "outputs": [
    {
     "name": "stdout",
     "output_type": "stream",
     "text": [
      "   userId  movieId  rating  timestamp                        title  \\\n",
      "0       1        1     4.0  964982703             Toy Story (1995)   \n",
      "1       1        3     4.0  964981247      Grumpier Old Men (1995)   \n",
      "2       1        6     4.0  964982224                  Heat (1995)   \n",
      "3       1       47     5.0  964983815  Seven (a.k.a. Se7en) (1995)   \n",
      "4       1       50     5.0  964982931   Usual Suspects, The (1995)   \n",
      "\n",
      "                                        genres  \n",
      "0  Adventure|Animation|Children|Comedy|Fantasy  \n",
      "1                               Comedy|Romance  \n",
      "2                        Action|Crime|Thriller  \n",
      "3                             Mystery|Thriller  \n",
      "4                       Crime|Mystery|Thriller  \n"
     ]
    }
   ],
   "source": [
    "print(user_movie_matrix.head())"
   ]
  },
  {
   "cell_type": "code",
   "execution_count": 6,
   "metadata": {},
   "outputs": [
    {
     "name": "stdout",
     "output_type": "stream",
     "text": [
      "movieId  1       2       3       4       5       6       7       8       \\\n",
      "userId                                                                    \n",
      "1           4.0     0.0     4.0     0.0     0.0     4.0     0.0     0.0   \n",
      "2           0.0     0.0     0.0     0.0     0.0     0.0     0.0     0.0   \n",
      "3           0.0     0.0     0.0     0.0     0.0     0.0     0.0     0.0   \n",
      "4           0.0     0.0     0.0     0.0     0.0     0.0     0.0     0.0   \n",
      "5           4.0     0.0     0.0     0.0     0.0     0.0     0.0     0.0   \n",
      "\n",
      "movieId  9       10      ...  193565  193567  193571  193573  193579  193581  \\\n",
      "userId                   ...                                                   \n",
      "1           0.0     0.0  ...     0.0     0.0     0.0     0.0     0.0     0.0   \n",
      "2           0.0     0.0  ...     0.0     0.0     0.0     0.0     0.0     0.0   \n",
      "3           0.0     0.0  ...     0.0     0.0     0.0     0.0     0.0     0.0   \n",
      "4           0.0     0.0  ...     0.0     0.0     0.0     0.0     0.0     0.0   \n",
      "5           0.0     0.0  ...     0.0     0.0     0.0     0.0     0.0     0.0   \n",
      "\n",
      "movieId  193583  193585  193587  193609  \n",
      "userId                                   \n",
      "1           0.0     0.0     0.0     0.0  \n",
      "2           0.0     0.0     0.0     0.0  \n",
      "3           0.0     0.0     0.0     0.0  \n",
      "4           0.0     0.0     0.0     0.0  \n",
      "5           0.0     0.0     0.0     0.0  \n",
      "\n",
      "[5 rows x 9724 columns]\n"
     ]
    }
   ],
   "source": [
    "user_movie_matrix_pivot = user_movie_matrix.pivot(index='userId', columns='movieId', values='rating').fillna(0)\n",
    "print(user_movie_matrix_pivot.head())"
   ]
  },
  {
   "cell_type": "code",
   "execution_count": 7,
   "metadata": {},
   "outputs": [
    {
     "name": "stdout",
     "output_type": "stream",
     "text": [
      "140\n"
     ]
    }
   ],
   "source": [
    "# Count seen and unseen movies\n",
    "\n",
    "# already_rated = user_movie_matrix_pivot.loc[utente][user_movie_matrix_pivot.loc[utente] > 0].index.tolist()\n",
    "# print(len(already_rated))\n",
    "\n",
    "# not_seen = user_movie_matrix_pivot.columns[~user_movie_matrix_pivot.columns.isin(already_rated)].tolist()\n",
    "# print(len(not_seen))"
   ]
  },
  {
   "cell_type": "code",
   "execution_count": 9,
   "metadata": {},
   "outputs": [
    {
     "name": "stdout",
     "output_type": "stream",
     "text": [
      "<Compressed Sparse Row sparse matrix of dtype 'float64'\n",
      "\twith 100836 stored elements and shape (610, 9724)>\n",
      "  Coords\tValues\n",
      "  (0, 0)\t4.0\n",
      "  (0, 2)\t4.0\n",
      "  (0, 5)\t4.0\n",
      "  (0, 43)\t5.0\n",
      "  (0, 46)\t5.0\n",
      "  (0, 62)\t3.0\n",
      "  (0, 89)\t5.0\n",
      "  (0, 97)\t4.0\n",
      "  (0, 124)\t5.0\n",
      "  (0, 130)\t5.0\n",
      "  (0, 136)\t5.0\n",
      "  (0, 184)\t5.0\n",
      "  (0, 190)\t3.0\n",
      "  (0, 197)\t5.0\n",
      "  (0, 201)\t4.0\n",
      "  (0, 224)\t5.0\n",
      "  (0, 257)\t3.0\n",
      "  (0, 275)\t3.0\n",
      "  (0, 291)\t5.0\n",
      "  (0, 307)\t4.0\n",
      "  (0, 314)\t4.0\n",
      "  (0, 320)\t5.0\n",
      "  (0, 325)\t4.0\n",
      "  (0, 367)\t3.0\n",
      "  (0, 384)\t4.0\n",
      "  :\t:\n",
      "  (609, 9238)\t5.0\n",
      "  (609, 9246)\t4.5\n",
      "  (609, 9256)\t4.0\n",
      "  (609, 9268)\t5.0\n",
      "  (609, 9274)\t3.5\n",
      "  (609, 9279)\t3.5\n",
      "  (609, 9282)\t3.0\n",
      "  (609, 9288)\t3.0\n",
      "  (609, 9304)\t3.0\n",
      "  (609, 9307)\t2.5\n",
      "  (609, 9312)\t4.5\n",
      "  (609, 9317)\t3.0\n",
      "  (609, 9324)\t3.0\n",
      "  (609, 9339)\t4.0\n",
      "  (609, 9341)\t4.0\n",
      "  (609, 9348)\t3.5\n",
      "  (609, 9371)\t3.5\n",
      "  (609, 9372)\t3.5\n",
      "  (609, 9374)\t5.0\n",
      "  (609, 9415)\t4.0\n",
      "  (609, 9416)\t4.0\n",
      "  (609, 9443)\t5.0\n",
      "  (609, 9444)\t5.0\n",
      "  (609, 9445)\t5.0\n",
      "  (609, 9485)\t3.0\n"
     ]
    }
   ],
   "source": [
    "from scipy.sparse import csr_matrix\n",
    "\n",
    "sparse_user_movie_matrix = csr_matrix(user_movie_matrix_pivot.values)\n",
    "print(sparse_user_movie_matrix)"
   ]
  },
  {
   "cell_type": "code",
   "execution_count": 10,
   "metadata": {},
   "outputs": [
    {
     "name": "stdout",
     "output_type": "stream",
     "text": [
      "U.shape (610, 20)\n",
      "sigma.shape (20, 20)\n",
      "Vt.shape (20, 9724)\n"
     ]
    }
   ],
   "source": [
    "import numpy as np\n",
    "from scipy.sparse.linalg import svds\n",
    "\n",
    "# SVD decomposition\n",
    "latent_features = 20\n",
    "U, sigma, Vt = svds(sparse_user_movie_matrix, k=latent_features)\n",
    "sigma = np.diag(sigma)\n",
    "\n",
    "print('U.shape', U.shape)\n",
    "print('sigma.shape', sigma.shape)\n",
    "print('Vt.shape', Vt.shape)"
   ]
  },
  {
   "cell_type": "code",
   "execution_count": 12,
   "metadata": {},
   "outputs": [],
   "source": [
    "user_movie_matrix_hat = np.dot(np.dot(U, sigma), Vt)"
   ]
  },
  {
   "cell_type": "code",
   "execution_count": 13,
   "metadata": {},
   "outputs": [
    {
     "name": "stdout",
     "output_type": "stream",
     "text": [
      "movieId    1         2         3         4         5         6         7       \\\n",
      "userId                                                                          \n",
      "1        2.290336  1.460203  1.033507 -0.061334 -0.002275  1.243261  0.029650   \n",
      "2        0.038570  0.015272  0.016968  0.002944  0.019201 -0.005821 -0.025436   \n",
      "3       -0.015220  0.049067  0.047202 -0.004936 -0.035349  0.052758 -0.012911   \n",
      "4        2.238621  0.060011  0.039384  0.066455  0.221806  0.487591  0.318594   \n",
      "5        1.358363  0.970071  0.340939  0.121053  0.479936  0.628346  0.504583   \n",
      "\n",
      "movieId    8         9         10      ...    193565    193567    193571  \\\n",
      "userId                                 ...                                 \n",
      "1        0.056161  0.036220  1.442856  ... -0.008584 -0.007358 -0.009810   \n",
      "2        0.000918  0.010531 -0.117149  ...  0.010662  0.009139  0.012186   \n",
      "3        0.010422 -0.002532 -0.014094  ...  0.000029  0.000025  0.000033   \n",
      "4       -0.057422  0.016371  0.234273  ...  0.002029  0.001739  0.002319   \n",
      "5        0.136293  0.040721  1.122003  ...  0.000348  0.000299  0.000398   \n",
      "\n",
      "movieId    193573    193579    193581    193583    193585    193587    193609  \n",
      "userId                                                                         \n",
      "1       -0.009810 -0.008584 -0.009810 -0.008584 -0.008584 -0.008584 -0.038606  \n",
      "2        0.012186  0.010662  0.012186  0.010662  0.010662  0.010662  0.015610  \n",
      "3        0.000033  0.000029  0.000033  0.000029  0.000029  0.000029 -0.002412  \n",
      "4        0.002319  0.002029  0.002319  0.002029  0.002029  0.002029 -0.007359  \n",
      "5        0.000398  0.000348  0.000398  0.000348  0.000348  0.000348  0.001611  \n",
      "\n",
      "[5 rows x 9724 columns]\n"
     ]
    }
   ],
   "source": [
    "# Undo the pivot done earlier to obtain a dataframe with user_id, movie_id and rating as columns\n",
    "user_movie_matrix_hat = pd.DataFrame(user_movie_matrix_hat, columns=user_movie_matrix_pivot.columns, index=user_movie_matrix_pivot.index)\n",
    "print(user_movie_matrix_hat.head())"
   ]
  },
  {
   "cell_type": "code",
   "execution_count": 16,
   "metadata": {},
   "outputs": [],
   "source": [
    "user_movie_matrix_hat_unpivot = user_movie_matrix_hat.reset_index().melt(id_vars='userId', var_name='movieId', value_name='rating')\n",
    "user_movie_matrix_hat_unpivot = user_movie_matrix_hat_unpivot.merge(user_movie_matrix[['userId', 'movieId', 'timestamp', 'title', 'genres']], on=['userId', 'movieId'], how='left')\n",
    "user_movie_matrix_hat_unpivot = user_movie_matrix_hat_unpivot[['userId', 'movieId', 'rating', 'timestamp', 'title', 'genres']]\n"
   ]
  },
  {
   "cell_type": "code",
   "execution_count": 19,
   "metadata": {},
   "outputs": [
    {
     "name": "stdout",
     "output_type": "stream",
     "text": [
      "   userId movieId    rating    timestamp             title  \\\n",
      "0       1       1  2.290336  964982703.0  Toy Story (1995)   \n",
      "1       2       1  0.038570          NaN               NaN   \n",
      "2       3       1 -0.015220          NaN               NaN   \n",
      "3       4       1  2.238621          NaN               NaN   \n",
      "4       5       1  1.358363  847434962.0  Toy Story (1995)   \n",
      "\n",
      "                                        genres  \n",
      "0  Adventure|Animation|Children|Comedy|Fantasy  \n",
      "1                                          NaN  \n",
      "2                                          NaN  \n",
      "3                                          NaN  \n",
      "4  Adventure|Animation|Children|Comedy|Fantasy  \n"
     ]
    }
   ],
   "source": [
    "print(user_movie_matrix_hat_unpivot.head())\n",
    "print(user_movie_matrix_hat_unpivot.info())"
   ]
  },
  {
   "cell_type": "code",
   "execution_count": null,
   "metadata": {},
   "outputs": [],
   "source": [
    "user = 1\n",
    "user_hat = user_movie_matrix_hat_unpivot[user_movie_matrix_hat_unpivot['userId'] == user]\n",
    "user_hat.head()"
   ]
  },
  {
   "cell_type": "code",
   "execution_count": null,
   "metadata": {},
   "outputs": [],
   "source": [
    "# Ground Truth\n",
    "user_gt = user_movie_matrix[user_movie_matrix['userId'] == user]\n",
    "user_gt = user_gt[['movieId', 'rating']]\n",
    "user_gt.head()"
   ]
  },
  {
   "cell_type": "code",
   "execution_count": null,
   "metadata": {},
   "outputs": [],
   "source": [
    "# Confront ground truth with svd reconstructed values\n",
    "user_hat_seen = user_hat.dropna()\n",
    "user_hat_seen = pd.merge(user_hat_seen, user_gt, on='movieId')\n",
    "user_hat_seen.head()"
   ]
  },
  {
   "cell_type": "code",
   "execution_count": null,
   "metadata": {},
   "outputs": [],
   "source": [
    "#pip install scikit-learn"
   ]
  },
  {
   "cell_type": "code",
   "execution_count": null,
   "metadata": {},
   "outputs": [],
   "source": [
    "from sklearn.metrics import root_mean_squared_error\n",
    "\n",
    "rmse = root_mean_squared_error(user_hat_seen['rating_y'], user_hat_seen['rating_x'])\n",
    "print(rmse)"
   ]
  },
  {
   "cell_type": "code",
   "execution_count": null,
   "metadata": {},
   "outputs": [],
   "source": [
    "from pyspark.ml.evaluation import RegressionEvaluator\n",
    "\n",
    "evaluator = RegressionEvaluator(metricName='rmse',\n",
    "                                predictionCol='prediction',\n",
    "                                labelCol='rating')\n",
    "\n",
    "rmse = evaluator.evaluate(predicted_ratings)\n",
    "print(rmse)"
   ]
  },
  {
   "cell_type": "code",
   "execution_count": null,
   "metadata": {},
   "outputs": [],
   "source": [
    "# Movies not seen by the user\n",
    "user_hat = user_hat[user_hat['timestamp'].isna()]\n",
    "user_hat = user_hat.sort_values('rating', ascending=False).head(10)\n",
    "user_hat = user_hat.drop(['title', 'genres', 'timestamp'], axis=1)\n",
    "user_hat = pd.merge(user_hat, movies, on='movieId')\n",
    "display(user_hat)\n",
    "user_hat.info()"
   ]
  },
  {
   "cell_type": "code",
   "execution_count": null,
   "metadata": {},
   "outputs": [],
   "source": [
    "recs = user_hat['title'].tolist()\n",
    "print(recs)"
   ]
  },
  {
   "cell_type": "code",
   "execution_count": null,
   "metadata": {},
   "outputs": [],
   "source": [
    "# Connect to Neo4j\n",
    "from neo4j import GraphDatabase\n",
    "\n",
    "uri = \"neo4j://localhost:7687\"\n",
    "username = \"neo4j\"\n",
    "password = \"testtest\"\n",
    "\n",
    "driver = GraphDatabase.driver(uri, auth=(username, password)"
   ]
  },
  {
   "cell_type": "code",
   "execution_count": null,
   "metadata": {},
   "outputs": [],
   "source": [
    "upload_test = True"
   ]
  },
  {
   "cell_type": "code",
   "execution_count": null,
   "metadata": {},
   "outputs": [],
   "source": [
    "# Delete old test\n",
    "if upload_test:\n",
    "    def delete_test(tx, userId):\n",
    "        tx.run(\"MATCH (u:User {userId: $userId})-[r:SVD_RECOMMENDED]->(m:Movie) DELETE r\", userId=userId)\n",
    "\n",
    "    with driver.session() as session:\n",
    "        for movieId in s_t:           \n",
    "            session.execute_write(delete_test, user)"
   ]
  },
  {
   "cell_type": "code",
   "execution_count": null,
   "metadata": {},
   "outputs": [],
   "source": [
    "# Upload the test\n",
    "if upload_test:\n",
    "    def create_recommendations(tx, userId, recs):\n",
    "            for rec in recs:\n",
    "                tx.run(\"MATCH (u:User {userId: $userId}), (m:Movie {title: $title})\"\n",
    "                    \"MERGE (u)-[:SVD_RECOMMENDED]->(m)\",\n",
    "                    userId=userId, title=rec)\n",
    "\n",
    "    with driver.session() as session:\n",
    "        session.execute_write(create_recommendations, user, recs)"
   ]
  },
  {
   "cell_type": "code",
   "execution_count": null,
   "metadata": {},
   "outputs": [],
   "source": [
    "driver.close()"
   ]
  },
  {
   "cell_type": "code",
   "execution_count": null,
   "metadata": {},
   "outputs": [],
   "source": [
    "exit()"
   ]
  }
 ],
 "metadata": {
  "kernelspec": {
   "display_name": "Python 3",
   "language": "python",
   "name": "python3"
  },
  "language_info": {
   "codemirror_mode": {
    "name": "ipython",
    "version": 3
   },
   "file_extension": ".py",
   "mimetype": "text/x-python",
   "name": "python",
   "nbconvert_exporter": "python",
   "pygments_lexer": "ipython3",
   "version": "3.12.0"
  }
 },
 "nbformat": 4,
 "nbformat_minor": 2
}
