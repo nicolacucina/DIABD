{
 "cells": [
  {
   "cell_type": "code",
   "execution_count": 3,
   "metadata": {},
   "outputs": [],
   "source": [
    "#!pip install pyspark"
   ]
  },
  {
   "cell_type": "code",
   "execution_count": 4,
   "metadata": {},
   "outputs": [],
   "source": [
    "#!pip install setuptools"
   ]
  },
  {
   "cell_type": "code",
   "execution_count": 5,
   "metadata": {},
   "outputs": [],
   "source": [
    "# se usiamo master/worker locali non usare\n",
    "\n",
    "# import findspark\n",
    "# findspark.init()"
   ]
  },
  {
   "cell_type": "code",
   "execution_count": 1,
   "metadata": {},
   "outputs": [],
   "source": [
    "import os\n",
    "import sys\n",
    "\n",
    "os.environ['PYSPARK_PYTHON'] = sys.executable\n",
    "os.environ['PYSPARK_DRIVER_PYTHON'] = sys.executable"
   ]
  },
  {
   "cell_type": "code",
   "execution_count": 2,
   "metadata": {},
   "outputs": [
    {
     "name": "stderr",
     "output_type": "stream",
     "text": [
      "Setting default log level to \"WARN\".\n",
      "To adjust logging level use sc.setLogLevel(newLevel). For SparkR, use setLogLevel(newLevel).\n",
      "25/01/10 12:26:34 WARN NativeCodeLoader: Unable to load native-hadoop library for your platform... using builtin-java classes where applicable\n",
      "25/01/10 12:26:37 WARN Client: Neither spark.yarn.jars nor spark.yarn.archive is set, falling back to uploading libraries under SPARK_HOME.\n"
     ]
    }
   ],
   "source": [
    "from pyspark.sql import SparkSession\n",
    "\n",
    "spark = SparkSession.builder \\\n",
    "    .appName('Recommendations with ALS (Big Dataset) ') \\\n",
    "    .master('yarn') \\\n",
    "    .config('spark.driver.memory', '3g') \\\n",
    "    .config('spark.executor.instances', '3') \\\n",
    "    .config('spark.executor.memory', '6g') \\\n",
    "    .config(\"spark.locality.wait.node\", \"0\") \\\n",
    "    .getOrCreate()\n",
    "    #.config(\"spark.hadoop.fs.defaultFS\", \"hdfs://localhost:50054\") \\"
   ]
  },
  {
   "cell_type": "code",
   "execution_count": 8,
   "metadata": {},
   "outputs": [
    {
     "name": "stdout",
     "output_type": "stream",
     "text": [
      "Spark Version: 3.5.4\n"
     ]
    }
   ],
   "source": [
    "print(f\"Spark Version: {spark.version}\")"
   ]
  },
  {
   "cell_type": "code",
   "execution_count": 9,
   "metadata": {},
   "outputs": [
    {
     "data": {
      "text/plain": [
       "[('spark.app.name', 'Recommendations with ALS (Big Dataset) '),\n",
       " ('spark.driver.extraJavaOptions',\n",
       "  '-Djava.net.preferIPv6Addresses=false -XX:+IgnoreUnrecognizedVMOptions --add-opens=java.base/java.lang=ALL-UNNAMED --add-opens=java.base/java.lang.invoke=ALL-UNNAMED --add-opens=java.base/java.lang.reflect=ALL-UNNAMED --add-opens=java.base/java.io=ALL-UNNAMED --add-opens=java.base/java.net=ALL-UNNAMED --add-opens=java.base/java.nio=ALL-UNNAMED --add-opens=java.base/java.util=ALL-UNNAMED --add-opens=java.base/java.util.concurrent=ALL-UNNAMED --add-opens=java.base/java.util.concurrent.atomic=ALL-UNNAMED --add-opens=java.base/jdk.internal.ref=ALL-UNNAMED --add-opens=java.base/sun.nio.ch=ALL-UNNAMED --add-opens=java.base/sun.nio.cs=ALL-UNNAMED --add-opens=java.base/sun.security.action=ALL-UNNAMED --add-opens=java.base/sun.util.calendar=ALL-UNNAMED --add-opens=java.security.jgss/sun.security.krb5=ALL-UNNAMED -Djdk.reflect.useDirectMethodHandle=false'),\n",
       " ('spark.executor.instances', '3'),\n",
       " ('spark.driver.appUIAddress', 'http://master:4040'),\n",
       " ('spark.org.apache.hadoop.yarn.server.webproxy.amfilter.AmIpFilter.param.PROXY_HOSTS',\n",
       "  'master'),\n",
       " ('spark.driver.memory', '4g'),\n",
       " ('spark.driver.host', 'master'),\n",
       " ('spark.locality.wait.node', '0'),\n",
       " ('spark.app.startTime', '1736329498462'),\n",
       " ('spark.executor.id', 'driver'),\n",
       " ('spark.org.apache.hadoop.yarn.server.webproxy.amfilter.AmIpFilter.param.PROXY_URI_BASES',\n",
       "  'http://master:8088/proxy/application_1736324860599_0005'),\n",
       " ('spark.executor.memory', '6g'),\n",
       " ('spark.master', 'yarn'),\n",
       " ('spark.driver.port', '41075'),\n",
       " ('spark.rdd.compress', 'True'),\n",
       " ('spark.executor.extraJavaOptions',\n",
       "  '-Djava.net.preferIPv6Addresses=false -XX:+IgnoreUnrecognizedVMOptions --add-opens=java.base/java.lang=ALL-UNNAMED --add-opens=java.base/java.lang.invoke=ALL-UNNAMED --add-opens=java.base/java.lang.reflect=ALL-UNNAMED --add-opens=java.base/java.io=ALL-UNNAMED --add-opens=java.base/java.net=ALL-UNNAMED --add-opens=java.base/java.nio=ALL-UNNAMED --add-opens=java.base/java.util=ALL-UNNAMED --add-opens=java.base/java.util.concurrent=ALL-UNNAMED --add-opens=java.base/java.util.concurrent.atomic=ALL-UNNAMED --add-opens=java.base/jdk.internal.ref=ALL-UNNAMED --add-opens=java.base/sun.nio.ch=ALL-UNNAMED --add-opens=java.base/sun.nio.cs=ALL-UNNAMED --add-opens=java.base/sun.security.action=ALL-UNNAMED --add-opens=java.base/sun.util.calendar=ALL-UNNAMED --add-opens=java.security.jgss/sun.security.krb5=ALL-UNNAMED -Djdk.reflect.useDirectMethodHandle=false'),\n",
       " ('spark.app.submitTime', '1736329498246'),\n",
       " ('spark.serializer.objectStreamReset', '100'),\n",
       " ('spark.submit.pyFiles', ''),\n",
       " ('spark.yarn.isPython', 'true'),\n",
       " ('spark.submit.deployMode', 'client'),\n",
       " ('spark.executorEnv.PYTHONPATH',\n",
       "  '{{PWD}}/pyspark.zip<CPS>{{PWD}}/py4j-0.10.9.7-src.zip'),\n",
       " ('spark.ui.filters',\n",
       "  'org.apache.hadoop.yarn.server.webproxy.amfilter.AmIpFilter'),\n",
       " ('spark.ui.showConsoleProgress', 'true'),\n",
       " ('spark.app.id', 'application_1736324860599_0005')]"
      ]
     },
     "execution_count": 9,
     "metadata": {},
     "output_type": "execute_result"
    }
   ],
   "source": [
    "spark.sparkContext._conf.getAll()  # check the config"
   ]
  },
  {
   "cell_type": "code",
   "execution_count": 3,
   "metadata": {},
   "outputs": [],
   "source": [
    "hdfs_port = 9000"
   ]
  },
  {
   "cell_type": "code",
   "execution_count": 14,
   "metadata": {},
   "outputs": [
    {
     "name": "stderr",
     "output_type": "stream",
     "text": [
      "                                                                                "
     ]
    },
    {
     "data": {
      "text/html": [
       "<div>\n",
       "<style scoped>\n",
       "    .dataframe tbody tr th:only-of-type {\n",
       "        vertical-align: middle;\n",
       "    }\n",
       "\n",
       "    .dataframe tbody tr th {\n",
       "        vertical-align: top;\n",
       "    }\n",
       "\n",
       "    .dataframe thead th {\n",
       "        text-align: right;\n",
       "    }\n",
       "</style>\n",
       "<table border=\"1\" class=\"dataframe\">\n",
       "  <thead>\n",
       "    <tr style=\"text-align: right;\">\n",
       "      <th></th>\n",
       "      <th>userId</th>\n",
       "      <th>movieId</th>\n",
       "      <th>rating</th>\n",
       "      <th>timestamp</th>\n",
       "    </tr>\n",
       "  </thead>\n",
       "  <tbody>\n",
       "    <tr>\n",
       "      <th>0</th>\n",
       "      <td>1</td>\n",
       "      <td>1</td>\n",
       "      <td>4.0</td>\n",
       "      <td>1225734739</td>\n",
       "    </tr>\n",
       "    <tr>\n",
       "      <th>1</th>\n",
       "      <td>1</td>\n",
       "      <td>110</td>\n",
       "      <td>4.0</td>\n",
       "      <td>1225865086</td>\n",
       "    </tr>\n",
       "    <tr>\n",
       "      <th>2</th>\n",
       "      <td>1</td>\n",
       "      <td>158</td>\n",
       "      <td>4.0</td>\n",
       "      <td>1225733503</td>\n",
       "    </tr>\n",
       "    <tr>\n",
       "      <th>3</th>\n",
       "      <td>1</td>\n",
       "      <td>260</td>\n",
       "      <td>4.5</td>\n",
       "      <td>1225735204</td>\n",
       "    </tr>\n",
       "    <tr>\n",
       "      <th>4</th>\n",
       "      <td>1</td>\n",
       "      <td>356</td>\n",
       "      <td>5.0</td>\n",
       "      <td>1225735119</td>\n",
       "    </tr>\n",
       "  </tbody>\n",
       "</table>\n",
       "</div>"
      ],
      "text/plain": [
       "   userId  movieId  rating   timestamp\n",
       "0       1        1     4.0  1225734739\n",
       "1       1      110     4.0  1225865086\n",
       "2       1      158     4.0  1225733503\n",
       "3       1      260     4.5  1225735204\n",
       "4       1      356     5.0  1225735119"
      ]
     },
     "execution_count": 14,
     "metadata": {},
     "output_type": "execute_result"
    }
   ],
   "source": [
    "import pandas as pd\n",
    "import numpy as np\n",
    "\n",
    "#ratings = spark.read.csv('hdfs://master:'+ str(hdfs_port) +'/dataset/ratings.csv', inferSchema=True, header=True)\n",
    "ratings = spark.read.csv('hdfs://master:'+ str(hdfs_port) +'/dataset/ratingsBig.csv', header=True, inferSchema=True)\n",
    "ratings.limit(5).toPandas()"
   ]
  },
  {
   "cell_type": "code",
   "execution_count": 15,
   "metadata": {},
   "outputs": [
    {
     "data": {
      "text/html": [
       "<div>\n",
       "<style scoped>\n",
       "    .dataframe tbody tr th:only-of-type {\n",
       "        vertical-align: middle;\n",
       "    }\n",
       "\n",
       "    .dataframe tbody tr th {\n",
       "        vertical-align: top;\n",
       "    }\n",
       "\n",
       "    .dataframe thead th {\n",
       "        text-align: right;\n",
       "    }\n",
       "</style>\n",
       "<table border=\"1\" class=\"dataframe\">\n",
       "  <thead>\n",
       "    <tr style=\"text-align: right;\">\n",
       "      <th></th>\n",
       "      <th>movieId</th>\n",
       "      <th>title</th>\n",
       "      <th>genres</th>\n",
       "    </tr>\n",
       "  </thead>\n",
       "  <tbody>\n",
       "    <tr>\n",
       "      <th>0</th>\n",
       "      <td>1</td>\n",
       "      <td>Toy Story (1995)</td>\n",
       "      <td>Adventure|Animation|Children|Comedy|Fantasy</td>\n",
       "    </tr>\n",
       "    <tr>\n",
       "      <th>1</th>\n",
       "      <td>2</td>\n",
       "      <td>Jumanji (1995)</td>\n",
       "      <td>Adventure|Children|Fantasy</td>\n",
       "    </tr>\n",
       "    <tr>\n",
       "      <th>2</th>\n",
       "      <td>3</td>\n",
       "      <td>Grumpier Old Men (1995)</td>\n",
       "      <td>Comedy|Romance</td>\n",
       "    </tr>\n",
       "    <tr>\n",
       "      <th>3</th>\n",
       "      <td>4</td>\n",
       "      <td>Waiting to Exhale (1995)</td>\n",
       "      <td>Comedy|Drama|Romance</td>\n",
       "    </tr>\n",
       "    <tr>\n",
       "      <th>4</th>\n",
       "      <td>5</td>\n",
       "      <td>Father of the Bride Part II (1995)</td>\n",
       "      <td>Comedy</td>\n",
       "    </tr>\n",
       "  </tbody>\n",
       "</table>\n",
       "</div>"
      ],
      "text/plain": [
       "   movieId                               title  \\\n",
       "0        1                    Toy Story (1995)   \n",
       "1        2                      Jumanji (1995)   \n",
       "2        3             Grumpier Old Men (1995)   \n",
       "3        4            Waiting to Exhale (1995)   \n",
       "4        5  Father of the Bride Part II (1995)   \n",
       "\n",
       "                                        genres  \n",
       "0  Adventure|Animation|Children|Comedy|Fantasy  \n",
       "1                   Adventure|Children|Fantasy  \n",
       "2                               Comedy|Romance  \n",
       "3                         Comedy|Drama|Romance  \n",
       "4                                       Comedy  "
      ]
     },
     "execution_count": 15,
     "metadata": {},
     "output_type": "execute_result"
    }
   ],
   "source": [
    "#movies = spark.read.csv('hdfs://master:'+ str(hdfs_port) +'/dataset/movies.csv', inferSchema=True, header=True)\n",
    "movies = spark.read.csv('hdfs://master:'+ str(hdfs_port) +'/dataset/moviesBig.csv', header=True, inferSchema=True)\n",
    "movies.limit(5).toPandas()"
   ]
  },
  {
   "cell_type": "code",
   "execution_count": 16,
   "metadata": {},
   "outputs": [
    {
     "name": "stderr",
     "output_type": "stream",
     "text": [
      "                                                                                "
     ]
    },
    {
     "data": {
      "text/html": [
       "<div>\n",
       "<style scoped>\n",
       "    .dataframe tbody tr th:only-of-type {\n",
       "        vertical-align: middle;\n",
       "    }\n",
       "\n",
       "    .dataframe tbody tr th {\n",
       "        vertical-align: top;\n",
       "    }\n",
       "\n",
       "    .dataframe thead th {\n",
       "        text-align: right;\n",
       "    }\n",
       "</style>\n",
       "<table border=\"1\" class=\"dataframe\">\n",
       "  <thead>\n",
       "    <tr style=\"text-align: right;\">\n",
       "      <th></th>\n",
       "      <th>movieId</th>\n",
       "      <th>userId</th>\n",
       "      <th>rating</th>\n",
       "      <th>timestamp</th>\n",
       "      <th>title</th>\n",
       "      <th>genres</th>\n",
       "    </tr>\n",
       "  </thead>\n",
       "  <tbody>\n",
       "    <tr>\n",
       "      <th>0</th>\n",
       "      <td>1</td>\n",
       "      <td>1</td>\n",
       "      <td>4.0</td>\n",
       "      <td>1225734739</td>\n",
       "      <td>Toy Story (1995)</td>\n",
       "      <td>Adventure|Animation|Children|Comedy|Fantasy</td>\n",
       "    </tr>\n",
       "    <tr>\n",
       "      <th>1</th>\n",
       "      <td>110</td>\n",
       "      <td>1</td>\n",
       "      <td>4.0</td>\n",
       "      <td>1225865086</td>\n",
       "      <td>Braveheart (1995)</td>\n",
       "      <td>Action|Drama|War</td>\n",
       "    </tr>\n",
       "    <tr>\n",
       "      <th>2</th>\n",
       "      <td>158</td>\n",
       "      <td>1</td>\n",
       "      <td>4.0</td>\n",
       "      <td>1225733503</td>\n",
       "      <td>Casper (1995)</td>\n",
       "      <td>Adventure|Children</td>\n",
       "    </tr>\n",
       "    <tr>\n",
       "      <th>3</th>\n",
       "      <td>260</td>\n",
       "      <td>1</td>\n",
       "      <td>4.5</td>\n",
       "      <td>1225735204</td>\n",
       "      <td>Star Wars: Episode IV - A New Hope (1977)</td>\n",
       "      <td>Action|Adventure|Sci-Fi</td>\n",
       "    </tr>\n",
       "    <tr>\n",
       "      <th>4</th>\n",
       "      <td>356</td>\n",
       "      <td>1</td>\n",
       "      <td>5.0</td>\n",
       "      <td>1225735119</td>\n",
       "      <td>Forrest Gump (1994)</td>\n",
       "      <td>Comedy|Drama|Romance|War</td>\n",
       "    </tr>\n",
       "  </tbody>\n",
       "</table>\n",
       "</div>"
      ],
      "text/plain": [
       "   movieId  userId  rating   timestamp  \\\n",
       "0        1       1     4.0  1225734739   \n",
       "1      110       1     4.0  1225865086   \n",
       "2      158       1     4.0  1225733503   \n",
       "3      260       1     4.5  1225735204   \n",
       "4      356       1     5.0  1225735119   \n",
       "\n",
       "                                       title  \\\n",
       "0                           Toy Story (1995)   \n",
       "1                          Braveheart (1995)   \n",
       "2                              Casper (1995)   \n",
       "3  Star Wars: Episode IV - A New Hope (1977)   \n",
       "4                        Forrest Gump (1994)   \n",
       "\n",
       "                                        genres  \n",
       "0  Adventure|Animation|Children|Comedy|Fantasy  \n",
       "1                             Action|Drama|War  \n",
       "2                           Adventure|Children  \n",
       "3                      Action|Adventure|Sci-Fi  \n",
       "4                     Comedy|Drama|Romance|War  "
      ]
     },
     "execution_count": 16,
     "metadata": {},
     "output_type": "execute_result"
    }
   ],
   "source": [
    "user_movie_ratings = ratings.join(movies, on='movieId', how='inner')\n",
    "user_movie_ratings.limit(5).toPandas()"
   ]
  },
  {
   "cell_type": "code",
   "execution_count": 14,
   "metadata": {},
   "outputs": [
    {
     "name": "stdout",
     "output_type": "stream",
     "text": [
      "root\n",
      " |-- movieId: integer (nullable = true)\n",
      " |-- userId: integer (nullable = true)\n",
      " |-- rating: double (nullable = true)\n",
      " |-- timestamp: integer (nullable = true)\n",
      " |-- title: string (nullable = true)\n",
      " |-- genres: string (nullable = true)\n",
      "\n"
     ]
    }
   ],
   "source": [
    "user_movie_ratings.printSchema()"
   ]
  },
  {
   "cell_type": "code",
   "execution_count": 17,
   "metadata": {},
   "outputs": [],
   "source": [
    "# Optimizing the data\n",
    "ratings = 1\n",
    "# From the ALS documentation, genres and timestamps do not have an impact on the recommendations\n",
    "user_movie_ratings = user_movie_ratings.drop('genres')\n",
    "user_movie_ratings = user_movie_ratings.drop('timestamp')"
   ]
  },
  {
   "cell_type": "code",
   "execution_count": 18,
   "metadata": {},
   "outputs": [
    {
     "name": "stderr",
     "output_type": "stream",
     "text": [
      "[Stage 81:=================================================>        (6 + 1) / 7]"
     ]
    },
    {
     "name": "stdout",
     "output_type": "stream",
     "text": [
      "Estimated memory usage: 2537.9408855438232 MB\n"
     ]
    },
    {
     "name": "stderr",
     "output_type": "stream",
     "text": [
      "                                                                                "
     ]
    }
   ],
   "source": [
    "# Check the memory occupation\n",
    "size = user_movie_ratings.rdd.map(lambda x: len(str(x))).sum()\n",
    "\n",
    "print(f\"Estimated memory usage: {size/(1024**2)} MB\")"
   ]
  },
  {
   "cell_type": "code",
   "execution_count": 12,
   "metadata": {},
   "outputs": [
    {
     "name": "stdout",
     "output_type": "stream",
     "text": [
      "+-------+------+------+--------------------+\n",
      "|movieId|userId|rating|               title|\n",
      "+-------+------+------+--------------------+\n",
      "|      1|     1|   4.0|    Toy Story (1995)|\n",
      "|      3|     1|   4.0|Grumpier Old Men ...|\n",
      "|      6|     1|   4.0|         Heat (1995)|\n",
      "|     47|     1|   5.0|Seven (a.k.a. Se7...|\n",
      "|     50|     1|   5.0|Usual Suspects, T...|\n",
      "|     70|     1|   3.0|From Dusk Till Da...|\n",
      "|    101|     1|   5.0|Bottle Rocket (1996)|\n",
      "|    110|     1|   4.0|   Braveheart (1995)|\n",
      "|    151|     1|   5.0|      Rob Roy (1995)|\n",
      "|    157|     1|   5.0|Canadian Bacon (1...|\n",
      "|    163|     1|   5.0|    Desperado (1995)|\n",
      "|    216|     1|   5.0|Billy Madison (1995)|\n",
      "|    223|     1|   3.0|       Clerks (1994)|\n",
      "|    231|     1|   5.0|Dumb & Dumber (Du...|\n",
      "|    235|     1|   4.0|      Ed Wood (1994)|\n",
      "|    260|     1|   5.0|Star Wars: Episod...|\n",
      "|    296|     1|   3.0| Pulp Fiction (1994)|\n",
      "|    316|     1|   3.0|     Stargate (1994)|\n",
      "|    333|     1|   5.0|    Tommy Boy (1995)|\n",
      "|    349|     1|   4.0|Clear and Present...|\n",
      "+-------+------+------+--------------------+\n",
      "only showing top 20 rows\n",
      "\n",
      "232\n",
      "--- 1.6405935287475586 seconds ---\n"
     ]
    }
   ],
   "source": [
    "import time\n",
    "\n",
    "test_user = 1\n",
    "user_movie_ratings.filter(user_movie_ratings.userId == test_user).show()\n",
    "start_time=time.time()\n",
    "print(user_movie_ratings.filter(user_movie_ratings.userId == test_user).count())\n",
    "print(\"--- %s seconds ---\" % (time.time() - start_time))"
   ]
  },
  {
   "cell_type": "code",
   "execution_count": 9,
   "metadata": {},
   "outputs": [],
   "source": [
    "train, test = user_movie_ratings.randomSplit([0.8, 0.2], seed=40)"
   ]
  },
  {
   "cell_type": "code",
   "execution_count": 10,
   "metadata": {},
   "outputs": [
    {
     "data": {
      "text/plain": [
       "\"\\nals = ALS(userCol='userId', \\n          itemCol='movieId', \\n          ratingCol='rating', \\n          nonnegative=True,\\n          coldStartStrategy='drop')\\n\""
      ]
     },
     "execution_count": 10,
     "metadata": {},
     "output_type": "execute_result"
    }
   ],
   "source": [
    "from pyspark.ml.recommendation import ALS\n",
    "\n",
    "als = ALS(maxIter=10,\n",
    "          regParam=0.1,\n",
    "          rank=20,\n",
    "          userCol='userId', \n",
    "          itemCol='movieId', \n",
    "          ratingCol='rating', \n",
    "          nonnegative=True,\n",
    "          coldStartStrategy='drop')\n",
    "\n",
    "\"\"\"\n",
    "als = ALS(userCol='userId', \n",
    "          itemCol='movieId', \n",
    "          ratingCol='rating', \n",
    "          nonnegative=True,\n",
    "          coldStartStrategy='drop')\n",
    "\"\"\""
   ]
  },
  {
   "cell_type": "code",
   "execution_count": 15,
   "metadata": {},
   "outputs": [],
   "source": [
    "from pyspark.ml import Pipeline\n",
    "\n",
    "pipeline = Pipeline(stages=[als])"
   ]
  },
  {
   "cell_type": "code",
   "execution_count": 16,
   "metadata": {},
   "outputs": [],
   "source": [
    "from pyspark.ml.tuning import CrossValidator, ParamGridBuilder\n",
    "\n",
    "param_grid = ParamGridBuilder() \\\n",
    "    .addGrid(als.rank, [15, 20, 25]) \\\n",
    "    .addGrid(als.regParam, [0.01, 0.1, 1]) \\\n",
    "    .addGrid(als.maxIter, [10]) \\\n",
    "    .build()"
   ]
  },
  {
   "cell_type": "code",
   "execution_count": 17,
   "metadata": {},
   "outputs": [],
   "source": [
    "from pyspark.ml.evaluation import RegressionEvaluator\n",
    "\n",
    "evaluator = RegressionEvaluator(metricName='rmse',\n",
    "                                predictionCol='prediction',\n",
    "                                labelCol='rating')"
   ]
  },
  {
   "cell_type": "code",
   "execution_count": 18,
   "metadata": {},
   "outputs": [],
   "source": [
    "cross_validator = CrossValidator(estimator=pipeline,\n",
    "                                 estimatorParamMaps=param_grid,\n",
    "                                 evaluator=evaluator,\n",
    "                                 numFolds=3)"
   ]
  },
  {
   "cell_type": "code",
   "execution_count": 13,
   "metadata": {},
   "outputs": [
    {
     "name": "stderr",
     "output_type": "stream",
     "text": [
      "                                                                                "
     ]
    },
    {
     "name": "stdout",
     "output_type": "stream",
     "text": [
      "--- 15.558064937591553 seconds ---\n"
     ]
    }
   ],
   "source": [
    "start_time = time.time()\n",
    "\n",
    "model = als.fit(train)\n",
    "#cv_model = cross_validator.fit(train)\n",
    "#model = cv_model.bestModel\n",
    "\n",
    "print(\"--- %s seconds ---\" % (time.time() - start_time))"
   ]
  },
  {
   "cell_type": "code",
   "execution_count": 23,
   "metadata": {},
   "outputs": [
    {
     "name": "stdout",
     "output_type": "stream",
     "text": [
      "20\n",
      "10\n",
      "0.1\n"
     ]
    }
   ],
   "source": [
    "print(model.stages[0].rank) \n",
    "print(model.stages[0]._java_obj.parent().getMaxIter()) \n",
    "print(model.stages[0]._java_obj.parent().getRegParam())"
   ]
  },
  {
   "cell_type": "code",
   "execution_count": 25,
   "metadata": {},
   "outputs": [
    {
     "name": "stdout",
     "output_type": "stream",
     "text": [
      "--- 0.05255317687988281 seconds ---\n"
     ]
    },
    {
     "data": {
      "text/html": [
       "<div>\n",
       "<style scoped>\n",
       "    .dataframe tbody tr th:only-of-type {\n",
       "        vertical-align: middle;\n",
       "    }\n",
       "\n",
       "    .dataframe tbody tr th {\n",
       "        vertical-align: top;\n",
       "    }\n",
       "\n",
       "    .dataframe thead th {\n",
       "        text-align: right;\n",
       "    }\n",
       "</style>\n",
       "<table border=\"1\" class=\"dataframe\">\n",
       "  <thead>\n",
       "    <tr style=\"text-align: right;\">\n",
       "      <th></th>\n",
       "      <th>movieId</th>\n",
       "      <th>userId</th>\n",
       "      <th>rating</th>\n",
       "      <th>timestamp</th>\n",
       "      <th>title</th>\n",
       "      <th>genres</th>\n",
       "      <th>prediction</th>\n",
       "    </tr>\n",
       "  </thead>\n",
       "  <tbody>\n",
       "    <tr>\n",
       "      <th>0</th>\n",
       "      <td>1</td>\n",
       "      <td>31</td>\n",
       "      <td>5.0</td>\n",
       "      <td>850466616</td>\n",
       "      <td>Toy Story (1995)</td>\n",
       "      <td>Adventure|Animation|Children|Comedy|Fantasy</td>\n",
       "      <td>4.301744</td>\n",
       "    </tr>\n",
       "    <tr>\n",
       "      <th>1</th>\n",
       "      <td>1</td>\n",
       "      <td>33</td>\n",
       "      <td>3.0</td>\n",
       "      <td>939647444</td>\n",
       "      <td>Toy Story (1995)</td>\n",
       "      <td>Adventure|Animation|Children|Comedy|Fantasy</td>\n",
       "      <td>3.885135</td>\n",
       "    </tr>\n",
       "    <tr>\n",
       "      <th>2</th>\n",
       "      <td>1</td>\n",
       "      <td>54</td>\n",
       "      <td>3.0</td>\n",
       "      <td>830247330</td>\n",
       "      <td>Toy Story (1995)</td>\n",
       "      <td>Adventure|Animation|Children|Comedy|Fantasy</td>\n",
       "      <td>3.118542</td>\n",
       "    </tr>\n",
       "    <tr>\n",
       "      <th>3</th>\n",
       "      <td>1</td>\n",
       "      <td>57</td>\n",
       "      <td>5.0</td>\n",
       "      <td>965796031</td>\n",
       "      <td>Toy Story (1995)</td>\n",
       "      <td>Adventure|Animation|Children|Comedy|Fantasy</td>\n",
       "      <td>3.493537</td>\n",
       "    </tr>\n",
       "    <tr>\n",
       "      <th>4</th>\n",
       "      <td>1</td>\n",
       "      <td>63</td>\n",
       "      <td>5.0</td>\n",
       "      <td>1443199669</td>\n",
       "      <td>Toy Story (1995)</td>\n",
       "      <td>Adventure|Animation|Children|Comedy|Fantasy</td>\n",
       "      <td>3.625635</td>\n",
       "    </tr>\n",
       "  </tbody>\n",
       "</table>\n",
       "</div>"
      ],
      "text/plain": [
       "   movieId  userId  rating   timestamp             title  \\\n",
       "0        1      31     5.0   850466616  Toy Story (1995)   \n",
       "1        1      33     3.0   939647444  Toy Story (1995)   \n",
       "2        1      54     3.0   830247330  Toy Story (1995)   \n",
       "3        1      57     5.0   965796031  Toy Story (1995)   \n",
       "4        1      63     5.0  1443199669  Toy Story (1995)   \n",
       "\n",
       "                                        genres  prediction  \n",
       "0  Adventure|Animation|Children|Comedy|Fantasy    4.301744  \n",
       "1  Adventure|Animation|Children|Comedy|Fantasy    3.885135  \n",
       "2  Adventure|Animation|Children|Comedy|Fantasy    3.118542  \n",
       "3  Adventure|Animation|Children|Comedy|Fantasy    3.493537  \n",
       "4  Adventure|Animation|Children|Comedy|Fantasy    3.625635  "
      ]
     },
     "execution_count": 25,
     "metadata": {},
     "output_type": "execute_result"
    }
   ],
   "source": [
    "start_time = time.time()\n",
    "predicted_ratings = model.transform(test)\n",
    "print(\"--- %s seconds ---\" % (time.time() - start_time))\n",
    "predicted_ratings.limit(5).toPandas()"
   ]
  },
  {
   "cell_type": "code",
   "execution_count": 26,
   "metadata": {},
   "outputs": [
    {
     "name": "stderr",
     "output_type": "stream",
     "text": [
      "                                                                                "
     ]
    },
    {
     "name": "stdout",
     "output_type": "stream",
     "text": [
      "0.8740833245044529\n"
     ]
    }
   ],
   "source": [
    "rmse = evaluator.evaluate(predicted_ratings)\n",
    "print(rmse)"
   ]
  },
  {
   "cell_type": "code",
   "execution_count": 29,
   "metadata": {},
   "outputs": [],
   "source": [
    "def test_ALS(user, n):\n",
    "    user_movies = user_movie_ratings.filter(user_movie_ratings.userId == user)\n",
    "    print(f'User {user} has rated {user_movies.select(\"movieId\").distinct().count()} movies')\n",
    "    recommendations = model.transform(user_movies)\n",
    "    recommendations = recommendations.sort(\"prediction\", ascending=False)\n",
    "    recommendations = recommendations.join(movies, on=\"movieId\", how='inner')\n",
    "    return recommendations.limit(n).toPandas()"
   ]
  },
  {
   "cell_type": "code",
   "execution_count": 30,
   "metadata": {},
   "outputs": [
    {
     "name": "stdout",
     "output_type": "stream",
     "text": [
      "User 1 has rated 232 movies\n"
     ]
    },
    {
     "name": "stderr",
     "output_type": "stream",
     "text": [
      "                                                                                "
     ]
    },
    {
     "data": {
      "text/html": [
       "<div>\n",
       "<style scoped>\n",
       "    .dataframe tbody tr th:only-of-type {\n",
       "        vertical-align: middle;\n",
       "    }\n",
       "\n",
       "    .dataframe tbody tr th {\n",
       "        vertical-align: top;\n",
       "    }\n",
       "\n",
       "    .dataframe thead th {\n",
       "        text-align: right;\n",
       "    }\n",
       "</style>\n",
       "<table border=\"1\" class=\"dataframe\">\n",
       "  <thead>\n",
       "    <tr style=\"text-align: right;\">\n",
       "      <th></th>\n",
       "      <th>movieId</th>\n",
       "      <th>userId</th>\n",
       "      <th>rating</th>\n",
       "      <th>timestamp</th>\n",
       "      <th>title</th>\n",
       "      <th>genres</th>\n",
       "      <th>prediction</th>\n",
       "      <th>title</th>\n",
       "      <th>genres</th>\n",
       "    </tr>\n",
       "  </thead>\n",
       "  <tbody>\n",
       "    <tr>\n",
       "      <th>0</th>\n",
       "      <td>1</td>\n",
       "      <td>1</td>\n",
       "      <td>4.0</td>\n",
       "      <td>964982703</td>\n",
       "      <td>Toy Story (1995)</td>\n",
       "      <td>Adventure|Animation|Children|Comedy|Fantasy</td>\n",
       "      <td>4.200477</td>\n",
       "      <td>Toy Story (1995)</td>\n",
       "      <td>Adventure|Animation|Children|Comedy|Fantasy</td>\n",
       "    </tr>\n",
       "    <tr>\n",
       "      <th>1</th>\n",
       "      <td>3</td>\n",
       "      <td>1</td>\n",
       "      <td>4.0</td>\n",
       "      <td>964981247</td>\n",
       "      <td>Grumpier Old Men (1995)</td>\n",
       "      <td>Comedy|Romance</td>\n",
       "      <td>3.983679</td>\n",
       "      <td>Grumpier Old Men (1995)</td>\n",
       "      <td>Comedy|Romance</td>\n",
       "    </tr>\n",
       "    <tr>\n",
       "      <th>2</th>\n",
       "      <td>6</td>\n",
       "      <td>1</td>\n",
       "      <td>4.0</td>\n",
       "      <td>964982224</td>\n",
       "      <td>Heat (1995)</td>\n",
       "      <td>Action|Crime|Thriller</td>\n",
       "      <td>4.421932</td>\n",
       "      <td>Heat (1995)</td>\n",
       "      <td>Action|Crime|Thriller</td>\n",
       "    </tr>\n",
       "    <tr>\n",
       "      <th>3</th>\n",
       "      <td>47</td>\n",
       "      <td>1</td>\n",
       "      <td>5.0</td>\n",
       "      <td>964983815</td>\n",
       "      <td>Seven (a.k.a. Se7en) (1995)</td>\n",
       "      <td>Mystery|Thriller</td>\n",
       "      <td>4.706397</td>\n",
       "      <td>Seven (a.k.a. Se7en) (1995)</td>\n",
       "      <td>Mystery|Thriller</td>\n",
       "    </tr>\n",
       "    <tr>\n",
       "      <th>4</th>\n",
       "      <td>50</td>\n",
       "      <td>1</td>\n",
       "      <td>5.0</td>\n",
       "      <td>964982931</td>\n",
       "      <td>Usual Suspects, The (1995)</td>\n",
       "      <td>Crime|Mystery|Thriller</td>\n",
       "      <td>4.690398</td>\n",
       "      <td>Usual Suspects, The (1995)</td>\n",
       "      <td>Crime|Mystery|Thriller</td>\n",
       "    </tr>\n",
       "    <tr>\n",
       "      <th>5</th>\n",
       "      <td>70</td>\n",
       "      <td>1</td>\n",
       "      <td>3.0</td>\n",
       "      <td>964982400</td>\n",
       "      <td>From Dusk Till Dawn (1996)</td>\n",
       "      <td>Action|Comedy|Horror|Thriller</td>\n",
       "      <td>3.643147</td>\n",
       "      <td>From Dusk Till Dawn (1996)</td>\n",
       "      <td>Action|Comedy|Horror|Thriller</td>\n",
       "    </tr>\n",
       "    <tr>\n",
       "      <th>6</th>\n",
       "      <td>101</td>\n",
       "      <td>1</td>\n",
       "      <td>5.0</td>\n",
       "      <td>964980868</td>\n",
       "      <td>Bottle Rocket (1996)</td>\n",
       "      <td>Adventure|Comedy|Crime|Romance</td>\n",
       "      <td>4.854663</td>\n",
       "      <td>Bottle Rocket (1996)</td>\n",
       "      <td>Adventure|Comedy|Crime|Romance</td>\n",
       "    </tr>\n",
       "    <tr>\n",
       "      <th>7</th>\n",
       "      <td>110</td>\n",
       "      <td>1</td>\n",
       "      <td>4.0</td>\n",
       "      <td>964982176</td>\n",
       "      <td>Braveheart (1995)</td>\n",
       "      <td>Action|Drama|War</td>\n",
       "      <td>4.609159</td>\n",
       "      <td>Braveheart (1995)</td>\n",
       "      <td>Action|Drama|War</td>\n",
       "    </tr>\n",
       "    <tr>\n",
       "      <th>8</th>\n",
       "      <td>151</td>\n",
       "      <td>1</td>\n",
       "      <td>5.0</td>\n",
       "      <td>964984041</td>\n",
       "      <td>Rob Roy (1995)</td>\n",
       "      <td>Action|Drama|Romance|War</td>\n",
       "      <td>3.731902</td>\n",
       "      <td>Rob Roy (1995)</td>\n",
       "      <td>Action|Drama|Romance|War</td>\n",
       "    </tr>\n",
       "    <tr>\n",
       "      <th>9</th>\n",
       "      <td>157</td>\n",
       "      <td>1</td>\n",
       "      <td>5.0</td>\n",
       "      <td>964984100</td>\n",
       "      <td>Canadian Bacon (1995)</td>\n",
       "      <td>Comedy|War</td>\n",
       "      <td>4.143459</td>\n",
       "      <td>Canadian Bacon (1995)</td>\n",
       "      <td>Comedy|War</td>\n",
       "    </tr>\n",
       "  </tbody>\n",
       "</table>\n",
       "</div>"
      ],
      "text/plain": [
       "   movieId  userId  rating  timestamp                        title  \\\n",
       "0        1       1     4.0  964982703             Toy Story (1995)   \n",
       "1        3       1     4.0  964981247      Grumpier Old Men (1995)   \n",
       "2        6       1     4.0  964982224                  Heat (1995)   \n",
       "3       47       1     5.0  964983815  Seven (a.k.a. Se7en) (1995)   \n",
       "4       50       1     5.0  964982931   Usual Suspects, The (1995)   \n",
       "5       70       1     3.0  964982400   From Dusk Till Dawn (1996)   \n",
       "6      101       1     5.0  964980868         Bottle Rocket (1996)   \n",
       "7      110       1     4.0  964982176            Braveheart (1995)   \n",
       "8      151       1     5.0  964984041               Rob Roy (1995)   \n",
       "9      157       1     5.0  964984100        Canadian Bacon (1995)   \n",
       "\n",
       "                                        genres  prediction  \\\n",
       "0  Adventure|Animation|Children|Comedy|Fantasy    4.200477   \n",
       "1                               Comedy|Romance    3.983679   \n",
       "2                        Action|Crime|Thriller    4.421932   \n",
       "3                             Mystery|Thriller    4.706397   \n",
       "4                       Crime|Mystery|Thriller    4.690398   \n",
       "5                Action|Comedy|Horror|Thriller    3.643147   \n",
       "6               Adventure|Comedy|Crime|Romance    4.854663   \n",
       "7                             Action|Drama|War    4.609159   \n",
       "8                     Action|Drama|Romance|War    3.731902   \n",
       "9                                   Comedy|War    4.143459   \n",
       "\n",
       "                         title                                       genres  \n",
       "0             Toy Story (1995)  Adventure|Animation|Children|Comedy|Fantasy  \n",
       "1      Grumpier Old Men (1995)                               Comedy|Romance  \n",
       "2                  Heat (1995)                        Action|Crime|Thriller  \n",
       "3  Seven (a.k.a. Se7en) (1995)                             Mystery|Thriller  \n",
       "4   Usual Suspects, The (1995)                       Crime|Mystery|Thriller  \n",
       "5   From Dusk Till Dawn (1996)                Action|Comedy|Horror|Thriller  \n",
       "6         Bottle Rocket (1996)               Adventure|Comedy|Crime|Romance  \n",
       "7            Braveheart (1995)                             Action|Drama|War  \n",
       "8               Rob Roy (1995)                     Action|Drama|Romance|War  \n",
       "9        Canadian Bacon (1995)                                   Comedy|War  "
      ]
     },
     "execution_count": 30,
     "metadata": {},
     "output_type": "execute_result"
    }
   ],
   "source": [
    "user = 1\n",
    "n = 10\n",
    "test_ALS(user, n)"
   ]
  },
  {
   "cell_type": "code",
   "execution_count": 31,
   "metadata": {},
   "outputs": [],
   "source": [
    "from pyspark.sql.functions import lit\n",
    "\n",
    "# Recommend to the user movies he has not rated yet\n",
    "def recommend(user, n):\n",
    "    user_movies = user_movie_ratings.filter(user_movie_ratings.userId == user)\n",
    "    user_rated_movies = user_movies.select('movieId').distinct()\n",
    "    all_movies = user_movie_ratings.select('movieId').distinct()\n",
    "    movies_to_recommend = all_movies.subtract(user_rated_movies)\n",
    "    \n",
    "    user_to_recommend = movies_to_recommend.withColumn('userId', lit(user))\n",
    "    print(f'User {user} has not seen {user_to_recommend.select(\"movieId\").distinct().count()} movies')\n",
    "\n",
    "    recommendations = model.transform(user_to_recommend)\n",
    "    recommendations = recommendations.join(movies, on='movieId', how='inner')\n",
    "\n",
    "    recommendations = recommendations.sort('prediction', ascending=False)\n",
    "    \n",
    "    return recommendations.limit(n)"
   ]
  },
  {
   "cell_type": "code",
   "execution_count": 32,
   "metadata": {},
   "outputs": [
    {
     "name": "stdout",
     "output_type": "stream",
     "text": [
      "User 1 has not seen 9492 movies\n"
     ]
    },
    {
     "data": {
      "text/html": [
       "<div>\n",
       "<style scoped>\n",
       "    .dataframe tbody tr th:only-of-type {\n",
       "        vertical-align: middle;\n",
       "    }\n",
       "\n",
       "    .dataframe tbody tr th {\n",
       "        vertical-align: top;\n",
       "    }\n",
       "\n",
       "    .dataframe thead th {\n",
       "        text-align: right;\n",
       "    }\n",
       "</style>\n",
       "<table border=\"1\" class=\"dataframe\">\n",
       "  <thead>\n",
       "    <tr style=\"text-align: right;\">\n",
       "      <th></th>\n",
       "      <th>movieId</th>\n",
       "      <th>userId</th>\n",
       "      <th>prediction</th>\n",
       "      <th>title</th>\n",
       "      <th>genres</th>\n",
       "    </tr>\n",
       "  </thead>\n",
       "  <tbody>\n",
       "    <tr>\n",
       "      <th>0</th>\n",
       "      <td>68945</td>\n",
       "      <td>1</td>\n",
       "      <td>5.648950</td>\n",
       "      <td>Neon Genesis Evangelion: Death &amp; Rebirth (Shin...</td>\n",
       "      <td>Action|Animation|Mystery|Sci-Fi</td>\n",
       "    </tr>\n",
       "    <tr>\n",
       "      <th>1</th>\n",
       "      <td>3379</td>\n",
       "      <td>1</td>\n",
       "      <td>5.648950</td>\n",
       "      <td>On the Beach (1959)</td>\n",
       "      <td>Drama</td>\n",
       "    </tr>\n",
       "    <tr>\n",
       "      <th>2</th>\n",
       "      <td>171495</td>\n",
       "      <td>1</td>\n",
       "      <td>5.563516</td>\n",
       "      <td>Cosmos</td>\n",
       "      <td>(no genres listed)</td>\n",
       "    </tr>\n",
       "    <tr>\n",
       "      <th>3</th>\n",
       "      <td>158966</td>\n",
       "      <td>1</td>\n",
       "      <td>5.418531</td>\n",
       "      <td>Captain Fantastic (2016)</td>\n",
       "      <td>Drama</td>\n",
       "    </tr>\n",
       "    <tr>\n",
       "      <th>4</th>\n",
       "      <td>141718</td>\n",
       "      <td>1</td>\n",
       "      <td>5.417383</td>\n",
       "      <td>Deathgasm (2015)</td>\n",
       "      <td>Comedy|Horror</td>\n",
       "    </tr>\n",
       "    <tr>\n",
       "      <th>5</th>\n",
       "      <td>78836</td>\n",
       "      <td>1</td>\n",
       "      <td>5.409784</td>\n",
       "      <td>Enter the Void (2009)</td>\n",
       "      <td>Drama</td>\n",
       "    </tr>\n",
       "    <tr>\n",
       "      <th>6</th>\n",
       "      <td>8477</td>\n",
       "      <td>1</td>\n",
       "      <td>5.387444</td>\n",
       "      <td>Jetée, La (1962)</td>\n",
       "      <td>Romance|Sci-Fi</td>\n",
       "    </tr>\n",
       "    <tr>\n",
       "      <th>7</th>\n",
       "      <td>26928</td>\n",
       "      <td>1</td>\n",
       "      <td>5.375473</td>\n",
       "      <td>Summer's Tale, A (Conte d'été) (1996)</td>\n",
       "      <td>Comedy|Drama|Romance</td>\n",
       "    </tr>\n",
       "    <tr>\n",
       "      <th>8</th>\n",
       "      <td>26073</td>\n",
       "      <td>1</td>\n",
       "      <td>5.375473</td>\n",
       "      <td>Human Condition III, The (Ningen no joken III)...</td>\n",
       "      <td>Drama|War</td>\n",
       "    </tr>\n",
       "    <tr>\n",
       "      <th>9</th>\n",
       "      <td>74226</td>\n",
       "      <td>1</td>\n",
       "      <td>5.375473</td>\n",
       "      <td>Dream of Light (a.k.a. Quince Tree Sun, The) (...</td>\n",
       "      <td>Documentary|Drama</td>\n",
       "    </tr>\n",
       "  </tbody>\n",
       "</table>\n",
       "</div>"
      ],
      "text/plain": [
       "   movieId  userId  prediction  \\\n",
       "0    68945       1    5.648950   \n",
       "1     3379       1    5.648950   \n",
       "2   171495       1    5.563516   \n",
       "3   158966       1    5.418531   \n",
       "4   141718       1    5.417383   \n",
       "5    78836       1    5.409784   \n",
       "6     8477       1    5.387444   \n",
       "7    26928       1    5.375473   \n",
       "8    26073       1    5.375473   \n",
       "9    74226       1    5.375473   \n",
       "\n",
       "                                               title  \\\n",
       "0  Neon Genesis Evangelion: Death & Rebirth (Shin...   \n",
       "1                                On the Beach (1959)   \n",
       "2                                             Cosmos   \n",
       "3                           Captain Fantastic (2016)   \n",
       "4                                   Deathgasm (2015)   \n",
       "5                              Enter the Void (2009)   \n",
       "6                                   Jetée, La (1962)   \n",
       "7              Summer's Tale, A (Conte d'été) (1996)   \n",
       "8  Human Condition III, The (Ningen no joken III)...   \n",
       "9  Dream of Light (a.k.a. Quince Tree Sun, The) (...   \n",
       "\n",
       "                            genres  \n",
       "0  Action|Animation|Mystery|Sci-Fi  \n",
       "1                            Drama  \n",
       "2               (no genres listed)  \n",
       "3                            Drama  \n",
       "4                    Comedy|Horror  \n",
       "5                            Drama  \n",
       "6                   Romance|Sci-Fi  \n",
       "7             Comedy|Drama|Romance  \n",
       "8                        Drama|War  \n",
       "9                Documentary|Drama  "
      ]
     },
     "execution_count": 32,
     "metadata": {},
     "output_type": "execute_result"
    }
   ],
   "source": [
    "recs = recommend(user, n)\n",
    "recs.toPandas()"
   ]
  },
  {
   "cell_type": "code",
   "execution_count": 31,
   "metadata": {},
   "outputs": [],
   "source": [
    "# Connect to Neo4j\n",
    "from neo4j import GraphDatabase\n",
    "\n",
    "uri = \"neo4j://localhost:7687\"\n",
    "username = \"neo4j\"\n",
    "password = \"testtest\"\n",
    "\n",
    "driver = GraphDatabase.driver(uri, auth=(username, password))"
   ]
  },
  {
   "cell_type": "code",
   "execution_count": 29,
   "metadata": {},
   "outputs": [],
   "source": [
    "upload_test=True"
   ]
  },
  {
   "cell_type": "code",
   "execution_count": null,
   "metadata": {},
   "outputs": [],
   "source": [
    "# Delete old test\n",
    "if upload_test:\n",
    "    def delete_test(tx, userId, movieId):\n",
    "        tx.run(\"MATCH (u:User {userId: $userId})-[r:ALS_RECOMMENDED]->(m:Movie {movieId: $movieId}) DELETE r\", userId=userId, movieId=movieId)\n",
    "\n",
    "    with driver.session() as session:\n",
    "        for movieId in recs:           \n",
    "            session.execute_write(delete_test, user, movieId['title'])"
   ]
  },
  {
   "cell_type": "code",
   "execution_count": null,
   "metadata": {},
   "outputs": [],
   "source": [
    "# Upload the test\n",
    "if upload_test:\n",
    "    def create_recommendations(tx, userId, recs):\n",
    "            for rec in recs.collect():\n",
    "                tx.run(\"MATCH (u:User {userId: $userId}), (m:Movie {title: $title})\"\n",
    "                    \"MERGE (u)-[:ALS_RECOMMENDED]->(m)\",\n",
    "                    userId=userId, title=rec['title'])\n",
    "\n",
    "    with driver.session() as session:\n",
    "        session.execute_write(create_recommendations, user, recs)"
   ]
  },
  {
   "cell_type": "code",
   "execution_count": 43,
   "metadata": {},
   "outputs": [],
   "source": [
    "upload_predictions = True"
   ]
  },
  {
   "cell_type": "code",
   "execution_count": null,
   "metadata": {},
   "outputs": [],
   "source": [
    "# Predict all users\n",
    "def create_recommendations(tx, userId, recs):\n",
    "    for rec in recs.collect():\n",
    "        tx.run(\"MATCH (u:User {userId: $userId}), (m:Movie {title: $title})\"\n",
    "               \"MERGE (u)-[:ALS_RECOMMENDED]->(m)\",\n",
    "               userId=userId, title= rec['title'])\n",
    "                \n",
    "if upload_predictions:\n",
    "    with driver.session() as session:\n",
    "        start_time = time.time()\n",
    "        for user in user_movie_ratings.select('userId').distinct().collect():\n",
    "            recs = recommend(user['userId'], 10)\n",
    "            session.execute_write(create_recommendations, user['userId'], recs)\n",
    "        print(\"--- %s seconds ---\" % (time.time() - start_time))"
   ]
  },
  {
   "cell_type": "code",
   "execution_count": null,
   "metadata": {},
   "outputs": [],
   "source": [
    "driver.close()"
   ]
  },
  {
   "cell_type": "code",
   "execution_count": 26,
   "metadata": {},
   "outputs": [],
   "source": [
    "spark.stop()"
   ]
  }
 ],
 "metadata": {
  "kernelspec": {
   "display_name": "Python 3 (ipykernel)",
   "language": "python",
   "name": "python3"
  },
  "language_info": {
   "codemirror_mode": {
    "name": "ipython",
    "version": 3
   },
   "file_extension": ".py",
   "mimetype": "text/x-python",
   "name": "python",
   "nbconvert_exporter": "python",
   "pygments_lexer": "ipython3",
   "version": "3.11.11"
  }
 },
 "nbformat": 4,
 "nbformat_minor": 4
}
