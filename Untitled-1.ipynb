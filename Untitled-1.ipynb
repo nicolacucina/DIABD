{
 "cells": [
  {
   "cell_type": "code",
   "execution_count": null,
   "metadata": {},
   "outputs": [],
   "source": [
    "# Test the library\n",
    "\n",
    "import networkx as nx\n",
    "import operator\n",
    "\n",
    "G = nx.DiGraph()\n",
    "\n",
    "G.add_nodes_from([\"Alice\", \"Bob\", \"Charlie\", \"Diana\",\n",
    "                  \"Orange\", \"Apple\", \"Banana\", \"Pineapple\", \"Raspberry\"])\n",
    "\n",
    "G.add_edges_from([\n",
    "    (\"Alice\", \"Orange\"),\n",
    "    (\"Alice\", \"Apple\"),\n",
    "    (\"Bob\", \"Orange\"),\n",
    "    (\"Bob\", \"Apple\"),\n",
    "    (\"Bob\", \"Banana\"),\n",
    "    (\"Charlie\", \"Orange\"),\n",
    "    (\"Charlie\", \"Apple\"),\n",
    "    (\"Charlie\", \"Banana\"),\n",
    "    (\"Diana\", \"Banana\"),\n",
    "    (\"Diana\", \"Pineapple\"),\n",
    "    (\"Diana\", \"Raspberry\"),\n",
    "])\n",
    "\n",
    "ppr = nx.pagerank(G, personalization={\"Bob\": 1, \"Alice\": 1})\n",
    "ppr = sorted(ppr.items(), key=operator.itemgetter(1), reverse=True)\n",
    "for item, score in ppr:\n",
    "    print(item, score)"
   ]
  },
  {
   "cell_type": "code",
   "execution_count": null,
   "metadata": {},
   "outputs": [],
   "source": [
    "# Test visualization\n",
    "\n",
    "# Print the graph\n",
    "\n",
    "print(G.nodes(data=True))\n",
    "print(G.edges(data=True))\n",
    "\n",
    "# Visualize the graph\n",
    "\n",
    "import matplotlib.pyplot as plt\n",
    "\n",
    "plt.figure(figsize=(10, 10))\n",
    "pos = nx.spring_layout(G)\n",
    "nx.draw(G, pos, with_labels=True, node_size=2000, node_color=\"skyblue\")\n",
    "plt.show()"
   ]
  },
  {
   "cell_type": "markdown",
   "metadata": {},
   "source": [
    "Implementazione di https://medium.com/eni-digitalks/a-simple-recommender-system-using-pagerank-4a63071c8cbf\n",
    "\n",
    "Da: https://grouplens.org/datasets/movielens/ scaricare [ml-latest-small.zip](https://files.grouplens.org/datasets/movielens/ml-latest-small.zip)\n",
    "\n",
    "## recommended for education and development\n",
    " \n",
    "### MovieLens Latest Datasets\n",
    "\n",
    "These datasets will change over time, and are not appropriate for reporting research results. We will keep the download links stable for automated downloads. We will not archive or make available previously released versions.\n",
    "\n",
    "_Small_: 100,000 ratings and 3,600 tag applications applied to 9,000 movies by 600 users. Last updated 9/2018.\n",
    "\n",
    "    README.html\n",
    "    ml-latest-small.zip (size: 1 MB)\n",
    "\n",
    "_Full_: approximately 33,000,000 ratings and 2,000,000 tag applications applied to 86,000 movies by 330,975 users. Includes tag genome data with 14 million relevance scores across 1,100 tags. Last updated 9/2018.\n",
    "\n",
    "    README.html\n",
    "    ml-latest.zip (size: 335 MB)\n",
    "\n",
    "Permalink: https://grouplens.org/datasets/movielens/latest/"
   ]
  },
  {
   "cell_type": "code",
   "execution_count": null,
   "metadata": {},
   "outputs": [],
   "source": [
    "import pandas as pd\n",
    "\n",
    "# Open ratings.csv file\n",
    "ratings = pd.read_csv(\"ratings.csv\")"
   ]
  },
  {
   "cell_type": "code",
   "execution_count": null,
   "metadata": {},
   "outputs": [],
   "source": [
    "# Open movies.csv file\n",
    "movies = pd.read_csv(\"movies.csv\")"
   ]
  },
  {
   "cell_type": "code",
   "execution_count": null,
   "metadata": {},
   "outputs": [],
   "source": [
    "# Merge ratings and movies\n",
    "ratings = pd.merge(ratings, movies, on=\"movieId\")\n",
    "print(ratings.head())"
   ]
  },
  {
   "cell_type": "code",
   "execution_count": null,
   "metadata": {},
   "outputs": [],
   "source": [
    "# Check for common movies rated by multiple users\n",
    "common_movies = ratings.groupby(\"title\").size().reset_index(name='count')\n",
    "print(common_movies[common_movies['count'] > 1].head(10))  # Print movies rated by more than one user"
   ]
  },
  {
   "cell_type": "code",
   "execution_count": 4,
   "metadata": {},
   "outputs": [],
   "source": [
    "# Map rating to scores\n",
    "\n",
    "mapping_score = {\n",
    "    0.5:-1,\n",
    "    1:-1,\n",
    "    1.5:-0.5,\n",
    "    2:0,\n",
    "    2.5:0,\n",
    "    3:0,\n",
    "    3.5:0.5,\n",
    "    4:1,\n",
    "    4.5:1.1,\n",
    "    5:1.2}"
   ]
  },
  {
   "cell_type": "code",
   "execution_count": null,
   "metadata": {},
   "outputs": [],
   "source": [
    "import networkx as nx\n",
    "\n",
    "# Create a directed graph\n",
    "user_movie_graph = nx.Graph()\n",
    "\n",
    "# Add nodes and edges\n",
    "for _, row in ratings.iterrows():\n",
    "    user_movie_graph.add_node(row[\"userId\"], bipartite=0)\n",
    "    user_movie_graph.add_node(row[\"title\"], bipartite=1)\n",
    "    # user_movie_graph.add_edge(row[\"userId\"], row[\"title\"], weight=row[\"rating\"])\n",
    "    user_movie_graph.add_edge(row[\"userId\"], row[\"title\"], weight=mapping_score[row[\"rating\"]])\n",
    "\n",
    "# Debug print to check the graph construction\n",
    "print(f\"Nodes in the graph: {list(user_movie_graph.nodes(data=True))[:10]}\")\n",
    "print(f\"Edges in the graph: {list(user_movie_graph.edges(data=True))[:10]}\")"
   ]
  },
  {
   "cell_type": "code",
   "execution_count": null,
   "metadata": {},
   "outputs": [],
   "source": [
    "# Project the graph\n",
    "users = {n for n, d in user_movie_graph.nodes(data=True) if d[\"bipartite\"] == 0}\n",
    "print(f\"Users: {list(users)[:10]}\")\n",
    "print(f\"Number of users: {len(users)}\")"
   ]
  },
  {
   "cell_type": "code",
   "execution_count": null,
   "metadata": {},
   "outputs": [],
   "source": [
    "# Project the graph\n",
    "movies = {n for n, d in user_movie_graph.nodes(data=True) if d[\"bipartite\"] == 1}\n",
    "print(f\"Movies: {list(movies)[:10]}\")\n",
    "print(f\"Number of movies: {len(movies)}\")"
   ]
  },
  {
   "cell_type": "code",
   "execution_count": null,
   "metadata": {},
   "outputs": [],
   "source": [
    "print(nx.is_bipartite(user_movie_graph))\n",
    "print(nx.is_connected(user_movie_graph))"
   ]
  },
  {
   "cell_type": "code",
   "execution_count": null,
   "metadata": {},
   "outputs": [],
   "source": [
    "# Project the graph using weights\n",
    "user_user_graph = nx.bipartite.weighted_projected_graph(user_movie_graph, users)\n",
    "# Debug print to check the projected graphs\n",
    "print(f\"Nodes in user_user_graph: {list(user_user_graph.nodes(data=True))[:10]}\")\n",
    "print(f\"Edges in user_user_graph: {list(user_user_graph.edges(data=True))[:10]}\")"
   ]
  },
  {
   "cell_type": "code",
   "execution_count": null,
   "metadata": {},
   "outputs": [],
   "source": [
    "# Project the graph using weights\n",
    "movie_movie_graph = nx.bipartite.weighted_projected_graph(user_movie_graph, movies)\n",
    "# Debug print to check the projected graphs\n",
    "print(f\"Nodes in movie_movie_graph: {list(movie_movie_graph.nodes(data=True))[:10]}\")\n",
    "print(f\"Edges in movie_movie_graph: {list(movie_movie_graph.edges(data=True))[:10]}\")"
   ]
  },
  {
   "cell_type": "markdown",
   "metadata": {},
   "source": [
    "filter_nodes() non l'ha scritta dentro alla pagina"
   ]
  },
  {
   "cell_type": "code",
   "execution_count": 9,
   "metadata": {},
   "outputs": [],
   "source": [
    "# 0: User, 1: Movie\n",
    "def filter_nodes(graph: nx.Graph, node_type: int):\n",
    "    return [n for n, d in graph.nodes(data=True) if d[\"bipartite\"] == node_type]"
   ]
  },
  {
   "cell_type": "markdown",
   "metadata": {},
   "source": [
    "Nella pagina è cosi, ma \"movie\" non esiste come tipo di nodo, abbiamo 0 e 1\n",
    "\n",
    "```python \n",
    "def create_preference_vector(user_id: int, user_movie_graph: nx.Graph):    \n",
    "    edges = {m: v for _, m, v in user_movie_graph.edges(user_id, data=\"weight\")}    \n",
    "    tot = sum(edges.values())    \n",
    "    if tot > 0:        \n",
    "        return {        \n",
    "            movie: edges.get(movie, 0) / tot        \n",
    "            for movie in filter_nodes(user_movie_graph, \"movie\")        \n",
    "        }    \n",
    "    else:        \n",
    "        return {\n",
    "            movie: 1 for movie in filter_nodes(user_movie_graph, \"movie\")\n",
    "        }\n",
    "```"
   ]
  },
  {
   "cell_type": "code",
   "execution_count": 11,
   "metadata": {},
   "outputs": [],
   "source": [
    "def create_preference_vector(user_id: int, user_movie_graph: nx.Graph):\n",
    "    edges = {m: v for _, m, v in user_movie_graph.edges(user_id, data=\"weight\")}\n",
    "    print(f\"Edges for user {user_id}: {list(edges)[:10]}\")  # Debug print\n",
    "    tot = sum(edges.values())\n",
    "    print(f\"Total for user {user_id}: {tot}\")  # Debug print\n",
    "    if tot > 0:\n",
    "        return {\n",
    "            movie: edges.get(movie, 0) / tot\n",
    "            for movie in filter_nodes(user_movie_graph, 1) # 1 : Movie\n",
    "        }\n",
    "    else:\n",
    "        return {\n",
    "            movie: 1 for movie in filter_nodes(user_movie_graph, 1)\n",
    "        }"
   ]
  },
  {
   "cell_type": "markdown",
   "metadata": {},
   "source": [
    "nx.pagerank_numpy non esiste\n",
    "\n",
    "```python \n",
    "def predict_user(user_id, user_movie_graph: nx.Graph, movie_movie_graph: nx.Graph):    \n",
    "    p_vec = create_preference_vector(user_id,user_movie_graph)\n",
    "    already_seen = [movie for movie,p in p_vec.items() if p>0]    \n",
    "    if len(already_seen)<1:\n",
    "        return []    \n",
    "    item_rank = nx.pagerank_numpy(movie_movie_graph, personalization=p_vec, alpha=0.95, weight=\"weight\")    \n",
    "    s_t = [x \n",
    "        for x in\n",
    "        sorted(movie_movie_graph.nodes(),key=lambda x: item_rank[x]          \n",
    "    if x in item_rank else 0, reverse=True) \n",
    "        if x not in already_seen\n",
    "        ]\n",
    "    \n",
    "    return s_t\n",
    "```"
   ]
  },
  {
   "cell_type": "code",
   "execution_count": 14,
   "metadata": {},
   "outputs": [],
   "source": [
    "def predict_user(user_id, user_movie_graph: nx.Graph, movie_movie_graph: nx.Graph):\n",
    "    p_vec = create_preference_vector(user_id, user_movie_graph)\n",
    "    print(f\"Preference vector for user {user_id}: {list(p_vec)[:10]}\")  # Debug print\n",
    "    already_seen = [movie for movie, p in p_vec.items() if p > 0]\n",
    "    print(f\"Already seen movies for user {user_id}: {list(already_seen)[:10]}\")  # Debug print\n",
    "    if len(already_seen) < 1:\n",
    "        return []\n",
    "    item_rank = nx.pagerank(movie_movie_graph, personalization=p_vec, alpha=0.95, weight=\"weight\")\n",
    "    print(f\"Item rank for user {user_id}: {list(item_rank)[:10]}\")  # Debug print\n",
    "    s_t = [\n",
    "        x for x in sorted(\n",
    "            movie_movie_graph.nodes(), key=lambda x: item_rank[x] if x in item_rank else 0, reverse=True\n",
    "            )\n",
    "        if x not in already_seen\n",
    "        ]\n",
    "    \n",
    "    return s_t"
   ]
  },
  {
   "cell_type": "code",
   "execution_count": null,
   "metadata": {},
   "outputs": [],
   "source": [
    "# Predict the next movie\n",
    "user = 10\n",
    "s_t = predict_user(user, user_movie_graph, movie_movie_graph)\n",
    "print(f\"Predicted movies for user {user}: {s_t[:10]}\")"
   ]
  }
 ],
 "metadata": {
  "kernelspec": {
   "display_name": "Python 3",
   "language": "python",
   "name": "python3"
  },
  "language_info": {
   "codemirror_mode": {
    "name": "ipython",
    "version": 3
   },
   "file_extension": ".py",
   "mimetype": "text/x-python",
   "name": "python",
   "nbconvert_exporter": "python",
   "pygments_lexer": "ipython3",
   "version": "3.11.6"
  }
 },
 "nbformat": 4,
 "nbformat_minor": 2
}
