{
 "cells": [
  {
   "cell_type": "markdown",
   "metadata": {},
   "source": [
    "Implementazione di https://medium.com/eni-digitalks/a-simple-recommender-system-using-pagerank-4a63071c8cbf\n",
    "\n",
    "Da: https://grouplens.org/datasets/movielens/ scaricare [ml-latest-small.zip](https://files.grouplens.org/datasets/movielens/ml-latest-small.zip)\n",
    "\n",
    "## recommended for education and development\n",
    " \n",
    "### MovieLens Latest Datasets\n",
    "\n",
    "These datasets will change over time, and are not appropriate for reporting research results. We will keep the download links stable for automated downloads. We will not archive or make available previously released versions.\n",
    "\n",
    "_Small_: 100,000 ratings and 3,600 tag applications applied to 9,000 movies by 600 users. Last updated 9/2018.\n",
    "\n",
    "    README.html\n",
    "    ml-latest-small.zip (size: 1 MB)\n",
    "\n",
    "_Full_: approximately 33,000,000 ratings and 2,000,000 tag applications applied to 86,000 movies by 330,975 users. Includes tag genome data with 14 million relevance scores across 1,100 tags. Last updated 9/2018.\n",
    "\n",
    "    README.html\n",
    "    ml-latest.zip (size: 335 MB)\n",
    "\n",
    "Permalink: https://grouplens.org/datasets/movielens/latest/"
   ]
  },
  {
   "cell_type": "code",
   "execution_count": 6,
   "metadata": {},
   "outputs": [
    {
     "name": "stdout",
     "output_type": "stream",
     "text": [
      "[4.  5.  3.  2.  1.  4.5 3.5 2.5 0.5 1.5]\n",
      "   userId  movieId  rating   timestamp             title  \\\n",
      "0       1        1     4.0   964982703  Toy Story (1995)   \n",
      "1       5        1     4.0   847434962  Toy Story (1995)   \n",
      "2       7        1     4.5  1106635946  Toy Story (1995)   \n",
      "3      15        1     2.5  1510577970  Toy Story (1995)   \n",
      "4      17        1     4.5  1305696483  Toy Story (1995)   \n",
      "\n",
      "                                        genres  \n",
      "0  Adventure|Animation|Children|Comedy|Fantasy  \n",
      "1  Adventure|Animation|Children|Comedy|Fantasy  \n",
      "2  Adventure|Animation|Children|Comedy|Fantasy  \n",
      "3  Adventure|Animation|Children|Comedy|Fantasy  \n",
      "4  Adventure|Animation|Children|Comedy|Fantasy  \n",
      "                             title  count\n",
      "2           'Round Midnight (1986)      2\n",
      "4        'Til There Was You (1997)      2\n",
      "6               'burbs, The (1989)     17\n",
      "8      (500) Days of Summer (2009)     42\n",
      "9   *batteries not included (1987)      7\n",
      "11   ...And Justice for All (1979)      3\n",
      "14                       10 (1979)      4\n",
      "15           10 Cent Pistol (2015)      2\n",
      "16      10 Cloverfield Lane (2016)     14\n",
      "17         10 Items or Less (2006)      3\n"
     ]
    }
   ],
   "source": [
    "import pandas as pd\n",
    "\n",
    "# Open ratings.csv file\n",
    "ratings = pd.read_csv(\"ratings.csv\")\n",
    "print(ratings[\"rating\"].unique())\n",
    "\n",
    "# Open movies.csv file\n",
    "movies = pd.read_csv(\"movies.csv\")\n",
    "\n",
    "# Merge ratings and movies\n",
    "ratings = pd.merge(ratings, movies, on=\"movieId\")\n",
    "print(ratings.head())\n",
    "\n",
    "# Check for common movies rated by multiple users\n",
    "common_movies = ratings.groupby(\"title\").size().reset_index(name='count')\n",
    "print(common_movies[common_movies['count'] > 1].head(10))  # Print movies rated by more than one user"
   ]
  },
  {
   "cell_type": "code",
   "execution_count": 7,
   "metadata": {},
   "outputs": [],
   "source": [
    "# Map rating to scores\n",
    "\n",
    "mapping_score = {\n",
    "    0.5:-1,\n",
    "    1:-1,\n",
    "    1.5:-0.5,\n",
    "    2:0,\n",
    "    2.5:0,\n",
    "    3:0,\n",
    "    3.5:0.5,\n",
    "    4:1,\n",
    "    4.5:1.1,\n",
    "    5:1.2}"
   ]
  },
  {
   "cell_type": "code",
   "execution_count": 8,
   "metadata": {},
   "outputs": [
    {
     "name": "stdout",
     "output_type": "stream",
     "text": [
      "Nodes in the graph: [(1, {'bipartite': 0}), ('Toy Story (1995)', {'bipartite': 1}), (5, {'bipartite': 0}), (7, {'bipartite': 0}), (15, {'bipartite': 0}), (17, {'bipartite': 0}), (18, {'bipartite': 0}), (19, {'bipartite': 0}), (21, {'bipartite': 0}), (27, {'bipartite': 0})]\n",
      "Edges in the graph: [(1, 'Toy Story (1995)', {'weight': 1}), (1, 'Grumpier Old Men (1995)', {'weight': 1}), (1, 'Heat (1995)', {'weight': 1}), (1, 'Seven (a.k.a. Se7en) (1995)', {'weight': 1.2}), (1, 'Usual Suspects, The (1995)', {'weight': 1.2}), (1, 'From Dusk Till Dawn (1996)', {'weight': 0}), (1, 'Bottle Rocket (1996)', {'weight': 1.2}), (1, 'Braveheart (1995)', {'weight': 1}), (1, 'Rob Roy (1995)', {'weight': 1.2}), (1, 'Canadian Bacon (1995)', {'weight': 1.2})]\n"
     ]
    }
   ],
   "source": [
    "import networkx as nx\n",
    "\n",
    "# Create a directed graph\n",
    "user_movie_graph = nx.Graph()\n",
    "\n",
    "# Add nodes and edges\n",
    "for _, row in ratings.iterrows():\n",
    "    user_movie_graph.add_node(row[\"userId\"], bipartite=0)\n",
    "    user_movie_graph.add_node(row[\"title\"], bipartite=1)\n",
    "    # user_movie_graph.add_edge(row[\"userId\"], row[\"title\"], weight=row[\"rating\"])\n",
    "    user_movie_graph.add_edge(row[\"userId\"], row[\"title\"], weight=mapping_score[row[\"rating\"]])\n",
    "\n",
    "# Debug print to check the graph construction\n",
    "print(f\"Nodes in the graph: {list(user_movie_graph.nodes(data=True))[:10]}\")\n",
    "print(f\"Edges in the graph: {list(user_movie_graph.edges(data=True))[:10]}\")"
   ]
  },
  {
   "cell_type": "code",
   "execution_count": 9,
   "metadata": {},
   "outputs": [
    {
     "name": "stdout",
     "output_type": "stream",
     "text": [
      "Users: [1, 2, 3, 4, 5, 6, 7, 8, 9, 10]\n",
      "Movies: ['Sherlock - A Study in Pink (2010)', 'Zoom (2015)', 'What Men Talk About (2010)', \"Kiki's Delivery Service (Majo no takkyûbin) (1989)\", 'Accidental Tourist, The (1988)', 'The Hunger Games: Catching Fire (2013)', 'Reds (1981)', 'Final Analysis (1992)', 'In the Electric Mist (2009)', 'Dead Presidents (1995)']\n",
      "Number of users: 610\n",
      "Number of movies: 9719\n",
      "True\n",
      "True\n"
     ]
    }
   ],
   "source": [
    "# Project the graph\n",
    "users = {n for n, d in user_movie_graph.nodes(data=True) if d[\"bipartite\"] == 0}\n",
    "movies = {n for n, d in user_movie_graph.nodes(data=True) if d[\"bipartite\"] == 1}\n",
    "\n",
    "print(f\"Users: {list(users)[:10]}\")\n",
    "print(f\"Movies: {list(movies)[:10]}\")\n",
    "\n",
    "print(f\"Number of users: {len(users)}\")\n",
    "print(f\"Number of movies: {len(movies)}\")\n",
    "\n",
    "print(nx.is_bipartite(user_movie_graph))\n",
    "print(nx.is_connected(user_movie_graph))"
   ]
  },
  {
   "cell_type": "code",
   "execution_count": 11,
   "metadata": {},
   "outputs": [
    {
     "name": "stdout",
     "output_type": "stream",
     "text": [
      "Nodes in user_user_graph: [(1, {'bipartite': 0}), (2, {'bipartite': 0}), (3, {'bipartite': 0}), (4, {'bipartite': 0}), (5, {'bipartite': 0}), (6, {'bipartite': 0}), (7, {'bipartite': 0}), (8, {'bipartite': 0}), (9, {'bipartite': 0}), (10, {'bipartite': 0})]\n",
      "Edges in user_user_graph: [(1, 2, {'weight': 2}), (1, 3, {'weight': 7}), (1, 4, {'weight': 45}), (1, 5, {'weight': 13}), (1, 6, {'weight': 33}), (1, 7, {'weight': 26}), (1, 8, {'weight': 15}), (1, 9, {'weight': 5}), (1, 10, {'weight': 6}), (1, 11, {'weight': 16})]\n",
      "Nodes in movie_movie_graph: [('Sherlock - A Study in Pink (2010)', {'bipartite': 1}), ('Zoom (2015)', {'bipartite': 1}), ('What Men Talk About (2010)', {'bipartite': 1}), (\"Kiki's Delivery Service (Majo no takkyûbin) (1989)\", {'bipartite': 1}), ('Accidental Tourist, The (1988)', {'bipartite': 1}), ('The Hunger Games: Catching Fire (2013)', {'bipartite': 1}), ('Reds (1981)', {'bipartite': 1}), ('Final Analysis (1992)', {'bipartite': 1}), ('In the Electric Mist (2009)', {'bipartite': 1}), ('Dead Presidents (1995)', {'bipartite': 1})]\n",
      "Edges in movie_movie_graph: [('Sherlock - A Study in Pink (2010)', 'Headhunters (Hodejegerne) (2011)', {'weight': 1}), ('Sherlock - A Study in Pink (2010)', 'Wolverine, The (2013)', {'weight': 2}), ('Sherlock - A Study in Pink (2010)', 'Wonder (2017)', {'weight': 1}), ('Sherlock - A Study in Pink (2010)', 'Titanic (1997)', {'weight': 2}), ('Sherlock - A Study in Pink (2010)', 'Seven (a.k.a. Se7en) (1995)', {'weight': 2}), ('Sherlock - A Study in Pink (2010)', 'Memento (2000)', {'weight': 1}), ('Sherlock - A Study in Pink (2010)', \"Howl's Moving Castle (Hauru no ugoku shiro) (2004)\", {'weight': 1}), ('Sherlock - A Study in Pink (2010)', 'The Hunger Games: Catching Fire (2013)', {'weight': 2}), ('Sherlock - A Study in Pink (2010)', 'The Hateful Eight (2015)', {'weight': 1}), ('Sherlock - A Study in Pink (2010)', '21 (2008)', {'weight': 1})]\n"
     ]
    }
   ],
   "source": [
    "# Project the graph using weights\n",
    "\n",
    "user_user_graph = nx.bipartite.weighted_projected_graph(user_movie_graph, users)\n",
    "movie_movie_graph = nx.bipartite.weighted_projected_graph(user_movie_graph, movies)\n",
    "\n",
    "# Debug print to check the projected graphs\n",
    "print(f\"Nodes in user_user_graph: {list(user_user_graph.nodes(data=True))[:10]}\")\n",
    "print(f\"Edges in user_user_graph: {list(user_user_graph.edges(data=True))[:10]}\")\n",
    "print(f\"Nodes in movie_movie_graph: {list(movie_movie_graph.nodes(data=True))[:10]}\")\n",
    "print(f\"Edges in movie_movie_graph: {list(movie_movie_graph.edges(data=True))[:10]}\")"
   ]
  },
  {
   "cell_type": "markdown",
   "metadata": {},
   "source": [
    "filter_nodes() non l'ha scritta dentro alla pagina"
   ]
  },
  {
   "cell_type": "code",
   "execution_count": 12,
   "metadata": {},
   "outputs": [],
   "source": [
    "# 0: User, 1: Movie\n",
    "def filter_nodes(graph: nx.Graph, node_type: int):\n",
    "    return [n for n, d in graph.nodes(data=True) if d[\"bipartite\"] == node_type]"
   ]
  },
  {
   "cell_type": "markdown",
   "metadata": {},
   "source": [
    "Nella pagina è cosi, ma \"movie\" non esiste come tipo di nodo, abbiamo 0 e 1\n",
    "\n",
    "```python \n",
    "def create_preference_vector(user_id: int, user_movie_graph: nx.Graph):    \n",
    "    edges = {m: v for _, m, v in user_movie_graph.edges(user_id, data=\"weight\")}    \n",
    "    tot = sum(edges.values())    \n",
    "    if tot > 0:        \n",
    "        return {        \n",
    "            movie: edges.get(movie, 0) / tot        \n",
    "            for movie in filter_nodes(user_movie_graph, \"movie\")        \n",
    "        }    \n",
    "    else:        \n",
    "        return {\n",
    "            movie: 1 for movie in filter_nodes(user_movie_graph, \"movie\")\n",
    "        }\n",
    "```"
   ]
  },
  {
   "cell_type": "code",
   "execution_count": 13,
   "metadata": {},
   "outputs": [],
   "source": [
    "def create_preference_vector(user_id: int, user_movie_graph: nx.Graph):\n",
    "    edges = {m: v for _, m, v in user_movie_graph.edges(user_id, data=\"weight\")}\n",
    "    print(f\"Edges for user {user_id}: {list(edges)[:10]}\")  # Debug print\n",
    "    tot = sum(edges.values())\n",
    "    print(f\"Total for user {user_id}: {tot}\")  # Debug print\n",
    "    if tot > 0:\n",
    "        return {\n",
    "            movie: edges.get(movie, 0) / tot\n",
    "            for movie in filter_nodes(user_movie_graph, 1) # 1 : Movie\n",
    "        }\n",
    "    else:\n",
    "        return {\n",
    "            movie: 1 for movie in filter_nodes(user_movie_graph, 1)\n",
    "        }"
   ]
  },
  {
   "cell_type": "markdown",
   "metadata": {},
   "source": [
    "nx.pagerank_numpy non esiste\n",
    "\n",
    "```python \n",
    "def predict_user(user_id, user_movie_graph: nx.Graph, movie_movie_graph: nx.Graph):    \n",
    "    p_vec = create_preference_vector(user_id,user_movie_graph)\n",
    "    already_seen = [movie for movie,p in p_vec.items() if p>0]    \n",
    "    if len(already_seen)<1:\n",
    "        return []    \n",
    "    item_rank = nx.pagerank_numpy(movie_movie_graph, personalization=p_vec, alpha=0.95, weight=\"weight\")    \n",
    "    s_t = [x \n",
    "        for x in\n",
    "        sorted(movie_movie_graph.nodes(),key=lambda x: item_rank[x]          \n",
    "    if x in item_rank else 0, reverse=True) \n",
    "        if x not in already_seen\n",
    "        ]\n",
    "    \n",
    "    return s_t\n",
    "```"
   ]
  },
  {
   "cell_type": "code",
   "execution_count": 14,
   "metadata": {},
   "outputs": [],
   "source": [
    "def predict_user(user_id, user_movie_graph: nx.Graph, movie_movie_graph: nx.Graph):\n",
    "    p_vec = create_preference_vector(user_id, user_movie_graph)\n",
    "    print(f\"Preference vector for user {user_id}: {list(p_vec)[:10]}\")  # Debug print\n",
    "    already_seen = [movie for movie, p in p_vec.items() if p > 0]\n",
    "    print(f\"Already seen movies for user {user_id}: {list(already_seen)[:10]}\")  # Debug print\n",
    "    if len(already_seen) < 1:\n",
    "        return []\n",
    "    item_rank = nx.pagerank(movie_movie_graph, personalization=p_vec, alpha=0.95, weight=\"weight\")\n",
    "    print(f\"Item rank for user {user_id}: {list(item_rank)[:10]}\")  # Debug print\n",
    "    s_t = [\n",
    "        x for x in sorted(\n",
    "            movie_movie_graph.nodes(), key=lambda x: item_rank[x] if x in item_rank else 0, reverse=True\n",
    "            )\n",
    "        if x not in already_seen\n",
    "        ]\n",
    "    \n",
    "    return s_t"
   ]
  },
  {
   "cell_type": "code",
   "execution_count": null,
   "metadata": {},
   "outputs": [
    {
     "name": "stdout",
     "output_type": "stream",
     "text": [
      "Edges for user 10: ['Pulp Fiction (1994)', 'Forrest Gump (1994)', 'Matrix, The (1999)', 'American Beauty (1999)', 'Fight Club (1999)', 'Gladiator (2000)', 'Dark Knight, The (2008)', 'Dark Knight Rises, The (2012)', 'Wolf of Wall Street, The (2013)', 'Interstellar (2014)']\n",
      "Total for user 10: 53.40000000000003\n",
      "Preference vector for user 10: ['Toy Story (1995)', 'Grumpier Old Men (1995)', 'Heat (1995)', 'Seven (a.k.a. Se7en) (1995)', 'Usual Suspects, The (1995)', 'From Dusk Till Dawn (1996)', 'Bottle Rocket (1996)', 'Braveheart (1995)', 'Rob Roy (1995)', 'Canadian Bacon (1995)']\n",
      "Already seen movies for user 10: ['Forrest Gump (1994)', 'Gladiator (2000)', 'Dark Knight, The (2008)', 'Dark Knight Rises, The (2012)', 'Aladdin (1992)', 'Casablanca (1942)', 'Mulan (1998)', \"Bridget Jones's Diary (2001)\", 'Pretty Woman (1990)', 'As Good as It Gets (1997)']\n"
     ]
    }
   ],
   "source": [
    "# Predict the next movie\n",
    "user = 10\n",
    "s_t = predict_user(user, user_movie_graph, movie_movie_graph)\n",
    "print(f\"Predicted movies for user {user}: {s_t[:10]}\")"
   ]
  }
 ],
 "metadata": {
  "kernelspec": {
   "display_name": "base",
   "language": "python",
   "name": "python3"
  },
  "language_info": {
   "codemirror_mode": {
    "name": "ipython",
    "version": 3
   },
   "file_extension": ".py",
   "mimetype": "text/x-python",
   "name": "python",
   "nbconvert_exporter": "python",
   "pygments_lexer": "ipython3",
   "version": "3.11.5"
  }
 },
 "nbformat": 4,
 "nbformat_minor": 2
}
