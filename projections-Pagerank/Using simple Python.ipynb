{
 "cells": [
  {
   "cell_type": "markdown",
   "metadata": {},
   "source": [
    "Implementazione di https://medium.com/eni-digitalks/a-simple-recommender-system-using-pagerank-4a63071c8cbf\n",
    "\n",
    "Da: https://grouplens.org/datasets/movielens/ scaricare [ml-latest-small.zip](https://files.grouplens.org/datasets/movielens/ml-latest-small.zip)\n",
    "\n",
    "## recommended for education and development\n",
    " \n",
    "### MovieLens Latest Datasets\n",
    "\n",
    "These datasets will change over time, and are not appropriate for reporting research results. We will keep the download links stable for automated downloads. We will not archive or make available previously released versions.\n",
    "\n",
    "_Small_: 100,000 ratings and 3,600 tag applications applied to 9,000 movies by 600 users. Last updated 9/2018.\n",
    "\n",
    "    README.html\n",
    "    ml-latest-small.zip (size: 1 MB)\n",
    "\n",
    "_Full_: approximately 33,000,000 ratings and 2,000,000 tag applications applied to 86,000 movies by 330,975 users. Includes tag genome data with 14 million relevance scores across 1,100 tags. Last updated 9/2018.\n",
    "\n",
    "    README.html\n",
    "    ml-latest.zip (size: 335 MB)\n",
    "\n",
    "Permalink: https://grouplens.org/datasets/movielens/latest/"
   ]
  },
  {
   "cell_type": "code",
   "execution_count": 3,
   "metadata": {},
   "outputs": [],
   "source": [
    "import pandas as pd\n",
    "\n",
    "# Open ratings.csv file\n",
    "ratings = pd.read_csv(\"../ml-latest-small/ratings.csv\")"
   ]
  },
  {
   "cell_type": "code",
   "execution_count": 4,
   "metadata": {},
   "outputs": [],
   "source": [
    "# Open movies.csv file\n",
    "movies = pd.read_csv(\"../ml-latest-small/movies.csv\")"
   ]
  },
  {
   "cell_type": "code",
   "execution_count": 5,
   "metadata": {},
   "outputs": [
    {
     "name": "stdout",
     "output_type": "stream",
     "text": [
      "   userId  movieId  rating  timestamp                        title  \\\n",
      "0       1        1     4.0  964982703             Toy Story (1995)   \n",
      "1       1        3     4.0  964981247      Grumpier Old Men (1995)   \n",
      "2       1        6     4.0  964982224                  Heat (1995)   \n",
      "3       1       47     5.0  964983815  Seven (a.k.a. Se7en) (1995)   \n",
      "4       1       50     5.0  964982931   Usual Suspects, The (1995)   \n",
      "\n",
      "                                        genres  \n",
      "0  Adventure|Animation|Children|Comedy|Fantasy  \n",
      "1                               Comedy|Romance  \n",
      "2                        Action|Crime|Thriller  \n",
      "3                             Mystery|Thriller  \n",
      "4                       Crime|Mystery|Thriller  \n"
     ]
    }
   ],
   "source": [
    "# Merge ratings and movies\n",
    "ratings = pd.merge(ratings, movies, on=\"movieId\")\n",
    "print(ratings.head())"
   ]
  },
  {
   "cell_type": "code",
   "execution_count": 6,
   "metadata": {},
   "outputs": [
    {
     "name": "stdout",
     "output_type": "stream",
     "text": [
      "                             title  count\n",
      "2           'Round Midnight (1986)      2\n",
      "4        'Til There Was You (1997)      2\n",
      "6               'burbs, The (1989)     17\n",
      "8      (500) Days of Summer (2009)     42\n",
      "9   *batteries not included (1987)      7\n",
      "11   ...And Justice for All (1979)      3\n",
      "14                       10 (1979)      4\n",
      "15           10 Cent Pistol (2015)      2\n",
      "16      10 Cloverfield Lane (2016)     14\n",
      "17         10 Items or Less (2006)      3\n"
     ]
    }
   ],
   "source": [
    "# Check for common movies rated by multiple users\n",
    "common_movies = ratings.groupby(\"title\").size().reset_index(name='count')\n",
    "print(common_movies[common_movies['count'] > 1].head(10))  # Print movies rated by more than one user"
   ]
  },
  {
   "cell_type": "code",
   "execution_count": 7,
   "metadata": {},
   "outputs": [],
   "source": [
    "# Map rating to scores\n",
    "\n",
    "mapping_score = {\n",
    "    0.5:-1,\n",
    "    1:-1,\n",
    "    1.5:-0.5,\n",
    "    2:0,\n",
    "    2.5:0,\n",
    "    3:0,\n",
    "    3.5:0.5,\n",
    "    4:1,\n",
    "    4.5:1.1,\n",
    "    5:1.2\n",
    "}"
   ]
  },
  {
   "cell_type": "code",
   "execution_count": 8,
   "metadata": {},
   "outputs": [
    {
     "name": "stdout",
     "output_type": "stream",
     "text": [
      "Nodes in the graph: [(1, {'bipartite': 0}), ('Toy Story (1995)', {'bipartite': 1}), ('Grumpier Old Men (1995)', {'bipartite': 1}), ('Heat (1995)', {'bipartite': 1}), ('Seven (a.k.a. Se7en) (1995)', {'bipartite': 1}), ('Usual Suspects, The (1995)', {'bipartite': 1}), ('From Dusk Till Dawn (1996)', {'bipartite': 1}), ('Bottle Rocket (1996)', {'bipartite': 1}), ('Braveheart (1995)', {'bipartite': 1}), ('Rob Roy (1995)', {'bipartite': 1})]\n",
      "Edges in the graph: [(1, 'Toy Story (1995)', {'weight': 1}), (1, 'Grumpier Old Men (1995)', {'weight': 1}), (1, 'Heat (1995)', {'weight': 1}), (1, 'Seven (a.k.a. Se7en) (1995)', {'weight': 1.2}), (1, 'Usual Suspects, The (1995)', {'weight': 1.2}), (1, 'From Dusk Till Dawn (1996)', {'weight': 0}), (1, 'Bottle Rocket (1996)', {'weight': 1.2}), (1, 'Braveheart (1995)', {'weight': 1}), (1, 'Rob Roy (1995)', {'weight': 1.2}), (1, 'Canadian Bacon (1995)', {'weight': 1.2})]\n"
     ]
    }
   ],
   "source": [
    "import networkx as nx\n",
    "\n",
    "# Create a directed graph\n",
    "user_movie_graph = nx.Graph()\n",
    "\n",
    "# Add nodes and edges\n",
    "for _, row in ratings.iterrows():\n",
    "    user_movie_graph.add_node(row[\"userId\"], bipartite=0)\n",
    "    user_movie_graph.add_node(row[\"title\"], bipartite=1)\n",
    "    # user_movie_graph.add_edge(row[\"userId\"], row[\"title\"], weight=row[\"rating\"])\n",
    "    user_movie_graph.add_edge(row[\"userId\"], row[\"title\"], weight=mapping_score[row[\"rating\"]])\n",
    "\n",
    "# Debug print to check the graph construction\n",
    "print(f\"Nodes in the graph: {list(user_movie_graph.nodes(data=True))[:10]}\")\n",
    "print(f\"Edges in the graph: {list(user_movie_graph.edges(data=True))[:10]}\")"
   ]
  },
  {
   "cell_type": "code",
   "execution_count": 9,
   "metadata": {},
   "outputs": [
    {
     "name": "stdout",
     "output_type": "stream",
     "text": [
      "Users: [1, 2, 3, 4, 5, 6, 7, 8, 9, 10]\n",
      "Number of users: 610\n"
     ]
    }
   ],
   "source": [
    "# Project the graph\n",
    "users = {n for n, d in user_movie_graph.nodes(data=True) if d[\"bipartite\"] == 0}\n",
    "print(f\"Users: {list(users)[:10]}\")\n",
    "print(f\"Number of users: {len(users)}\")"
   ]
  },
  {
   "cell_type": "code",
   "execution_count": 10,
   "metadata": {},
   "outputs": [
    {
     "name": "stdout",
     "output_type": "stream",
     "text": [
      "Movies: ['Koyaanisqatsi (a.k.a. Koyaanisqatsi: Life Out of Balance) (1983)', 'Thank You for Smoking (2006)', 'Larry David: Curb Your Enthusiasm (1999)', 'About Last Night (2014)', 'Boys from Brazil, The (1978)', 'Karate Kid, The (2010)', 'Dirty Pretty Things (2002)', 'From Dusk Till Dawn 2: Texas Blood Money (1999) ', 'Lord of the Rings, The (1978)', 'Night of the Iguana, The (1964)']\n",
      "Number of movies: 9719\n"
     ]
    }
   ],
   "source": [
    "# Project the graph\n",
    "movies = {n for n, d in user_movie_graph.nodes(data=True) if d[\"bipartite\"] == 1}\n",
    "print(f\"Movies: {list(movies)[:10]}\")\n",
    "print(f\"Number of movies: {len(movies)}\")"
   ]
  },
  {
   "cell_type": "code",
   "execution_count": 11,
   "metadata": {},
   "outputs": [
    {
     "name": "stdout",
     "output_type": "stream",
     "text": [
      "True\n",
      "True\n"
     ]
    }
   ],
   "source": [
    "print(nx.is_bipartite(user_movie_graph))\n",
    "print(nx.is_connected(user_movie_graph))"
   ]
  },
  {
   "cell_type": "code",
   "execution_count": 12,
   "metadata": {},
   "outputs": [
    {
     "name": "stdout",
     "output_type": "stream",
     "text": [
      "Nodes in the user-user graph: [(1, {'bipartite': 0}), (2, {'bipartite': 0}), (3, {'bipartite': 0}), (4, {'bipartite': 0}), (5, {'bipartite': 0}), (6, {'bipartite': 0}), (7, {'bipartite': 0}), (8, {'bipartite': 0}), (9, {'bipartite': 0}), (10, {'bipartite': 0})]\n",
      "Edges in the user-user graph: [(1, 2, {'weight': 2}), (1, 3, {'weight': 7}), (1, 4, {'weight': 45}), (1, 5, {'weight': 13}), (1, 6, {'weight': 33}), (1, 7, {'weight': 26}), (1, 8, {'weight': 15}), (1, 9, {'weight': 5}), (1, 10, {'weight': 6}), (1, 11, {'weight': 16})]\n",
      "610\n",
      "164054\n"
     ]
    }
   ],
   "source": [
    "user_user_graph = nx.bipartite.weighted_projected_graph(user_movie_graph, users)\n",
    "print(f\"Nodes in the user-user graph: {list(user_user_graph.nodes(data=True))[:10]}\")\n",
    "print(f\"Edges in the user-user graph: {list(user_user_graph.edges(data=True))[:10]}\")\n",
    "print(len(user_user_graph.nodes()))\n",
    "print(len(user_user_graph.edges()))"
   ]
  },
  {
   "cell_type": "code",
   "execution_count": 13,
   "metadata": {},
   "outputs": [
    {
     "name": "stdout",
     "output_type": "stream",
     "text": [
      "Nodes in movie_movie_graph: [('Koyaanisqatsi (a.k.a. Koyaanisqatsi: Life Out of Balance) (1983)', {'bipartite': 1}), ('Thank You for Smoking (2006)', {'bipartite': 1}), ('Larry David: Curb Your Enthusiasm (1999)', {'bipartite': 1}), ('About Last Night (2014)', {'bipartite': 1}), ('Boys from Brazil, The (1978)', {'bipartite': 1}), ('Karate Kid, The (2010)', {'bipartite': 1}), ('Dirty Pretty Things (2002)', {'bipartite': 1}), ('From Dusk Till Dawn 2: Texas Blood Money (1999) ', {'bipartite': 1}), ('Lord of the Rings, The (1978)', {'bipartite': 1}), ('Night of the Iguana, The (1964)', {'bipartite': 1})]\n",
      "Edges in movie_movie_graph: [('Koyaanisqatsi (a.k.a. Koyaanisqatsi: Life Out of Balance) (1983)', 'Towering Inferno, The (1974)', {'weight': 1}), ('Koyaanisqatsi (a.k.a. Koyaanisqatsi: Life Out of Balance) (1983)', 'Thank You for Smoking (2006)', {'weight': 1}), ('Koyaanisqatsi (a.k.a. Koyaanisqatsi: Life Out of Balance) (1983)', 'Raisin in the Sun, A (1961)', {'weight': 1}), ('Koyaanisqatsi (a.k.a. Koyaanisqatsi: Life Out of Balance) (1983)', 'True Romance (1993)', {'weight': 2}), ('Koyaanisqatsi (a.k.a. Koyaanisqatsi: Life Out of Balance) (1983)', 'Boys from Brazil, The (1978)', {'weight': 2}), ('Koyaanisqatsi (a.k.a. Koyaanisqatsi: Life Out of Balance) (1983)', 'Karate Kid, The (2010)', {'weight': 1}), ('Koyaanisqatsi (a.k.a. Koyaanisqatsi: Life Out of Balance) (1983)', 'Dirty Pretty Things (2002)', {'weight': 3}), ('Koyaanisqatsi (a.k.a. Koyaanisqatsi: Life Out of Balance) (1983)', '21 Jump Street (2012)', {'weight': 1}), ('Koyaanisqatsi (a.k.a. Koyaanisqatsi: Life Out of Balance) (1983)', 'Metropolis (1927)', {'weight': 2}), ('Koyaanisqatsi (a.k.a. Koyaanisqatsi: Life Out of Balance) (1983)', 'Exit Through the Gift Shop (2010)', {'weight': 2})]\n"
     ]
    }
   ],
   "source": [
    "# Project the graph using weights\n",
    "movie_movie_graph = nx.bipartite.weighted_projected_graph(user_movie_graph, movies)\n",
    "# Debug print to check the projected graphs\n",
    "print(f\"Nodes in movie_movie_graph: {list(movie_movie_graph.nodes(data=True))[:10]}\")\n",
    "print(f\"Edges in movie_movie_graph: {list(movie_movie_graph.edges(data=True))[:10]}\")"
   ]
  },
  {
   "cell_type": "markdown",
   "metadata": {},
   "source": [
    "filter_nodes() non l'ha scritta dentro alla pagina"
   ]
  },
  {
   "cell_type": "code",
   "execution_count": 14,
   "metadata": {},
   "outputs": [],
   "source": [
    "# 0: User, 1: Movie\n",
    "def filter_nodes(graph: nx.Graph, node_type: int):\n",
    "    return [n for n, d in graph.nodes(data=True) if d[\"bipartite\"] == node_type]"
   ]
  },
  {
   "cell_type": "markdown",
   "metadata": {},
   "source": [
    "Nella pagina è cosi, ma \"movie\" non esiste come tipo di nodo, abbiamo 0 e 1\n",
    "\n",
    "```python \n",
    "def create_preference_vector(user_id: int, user_movie_graph: nx.Graph):    \n",
    "    edges = {m: v for _, m, v in user_movie_graph.edges(user_id, data=\"weight\")}    \n",
    "    tot = sum(edges.values())    \n",
    "    if tot > 0:        \n",
    "        return {        \n",
    "            movie: edges.get(movie, 0) / tot        \n",
    "            for movie in filter_nodes(user_movie_graph, \"movie\")        \n",
    "        }    \n",
    "    else:        \n",
    "        return {\n",
    "            movie: 1 for movie in filter_nodes(user_movie_graph, \"movie\")\n",
    "        }\n",
    "```"
   ]
  },
  {
   "cell_type": "code",
   "execution_count": 15,
   "metadata": {},
   "outputs": [],
   "source": [
    "def create_preference_vector(user_id: int, user_movie_graph: nx.Graph):\n",
    "    edges = {m: v for _, m, v in user_movie_graph.edges(user_id, data=\"weight\")}\n",
    "    print(f\"Edges for user {user_id}: {list(edges)[:10]}\")  # Debug print\n",
    "    tot = sum(edges.values())\n",
    "    print(f\"Total for user {user_id}: {tot}\")  # Debug print\n",
    "    if tot > 0:\n",
    "        return {\n",
    "            movie: edges.get(movie, 0) / tot\n",
    "            for movie in filter_nodes(user_movie_graph, 1) # 1 : Movie\n",
    "        }\n",
    "    else:\n",
    "        return {\n",
    "            movie: 1 for movie in filter_nodes(user_movie_graph, 1)\n",
    "        }"
   ]
  },
  {
   "cell_type": "markdown",
   "metadata": {},
   "source": [
    "nx.pagerank_numpy non esiste\n",
    "\n",
    "```python \n",
    "def predict_user(user_id, user_movie_graph: nx.Graph, movie_movie_graph: nx.Graph):    \n",
    "    p_vec = create_preference_vector(user_id,user_movie_graph)\n",
    "    already_seen = [movie for movie,p in p_vec.items() if p>0]    \n",
    "    if len(already_seen)<1:\n",
    "        return []    \n",
    "    item_rank = nx.pagerank_numpy(movie_movie_graph, personalization=p_vec, alpha=0.95, weight=\"weight\")    \n",
    "    s_t = [x \n",
    "        for x in\n",
    "        sorted(movie_movie_graph.nodes(),key=lambda x: item_rank[x]          \n",
    "    if x in item_rank else 0, reverse=True) \n",
    "        if x not in already_seen\n",
    "        ]\n",
    "    \n",
    "    return s_t\n",
    "```"
   ]
  },
  {
   "cell_type": "code",
   "execution_count": 16,
   "metadata": {},
   "outputs": [],
   "source": [
    "def predict_user(user_id, user_movie_graph: nx.Graph, movie_movie_graph: nx.Graph):\n",
    "    p_vec = create_preference_vector(user_id, user_movie_graph)\n",
    "    print(f\"Preference vector for user {user_id}: {list(p_vec)[:10]}\")  # Debug print\n",
    "    already_seen = [movie for movie, p in p_vec.items() if p > 0]\n",
    "    print(f\"Already seen movies for user {user_id}: {list(already_seen)[:10]}\")  # Debug print\n",
    "    if len(already_seen) < 1:\n",
    "        return []\n",
    "    item_rank = nx.pagerank(movie_movie_graph, personalization=p_vec, alpha=0.95, weight=\"weight\")\n",
    "    print(f\"Item rank for user {user_id}: {list(item_rank)[:10]}\")  # Debug print\n",
    "    s_t = [\n",
    "        x for x in sorted(\n",
    "            movie_movie_graph.nodes(), key=lambda x: item_rank[x] if x in item_rank else 0, reverse=True\n",
    "            )\n",
    "        if x not in already_seen\n",
    "        ]\n",
    "    \n",
    "    return s_t"
   ]
  },
  {
   "cell_type": "code",
   "execution_count": 17,
   "metadata": {},
   "outputs": [
    {
     "name": "stdout",
     "output_type": "stream",
     "text": [
      "Edges for user 10: ['Pulp Fiction (1994)', 'Forrest Gump (1994)', 'Aladdin (1992)', 'Pretty Woman (1990)', 'Casablanca (1942)', 'Mary Poppins (1964)', 'Dirty Dancing (1987)', 'Graduate, The (1967)', 'When Harry Met Sally... (1989)', 'As Good as It Gets (1997)']\n",
      "Total for user 10: 53.4\n",
      "Preference vector for user 10: ['Toy Story (1995)', 'Grumpier Old Men (1995)', 'Heat (1995)', 'Seven (a.k.a. Se7en) (1995)', 'Usual Suspects, The (1995)', 'From Dusk Till Dawn (1996)', 'Bottle Rocket (1996)', 'Braveheart (1995)', 'Rob Roy (1995)', 'Canadian Bacon (1995)']\n",
      "Already seen movies for user 10: ['Forrest Gump (1994)', 'Gladiator (2000)', 'Dark Knight, The (2008)', 'Dark Knight Rises, The (2012)', 'Aladdin (1992)', 'Casablanca (1942)', 'Mulan (1998)', \"Bridget Jones's Diary (2001)\", 'Pretty Woman (1990)', 'As Good as It Gets (1997)']\n",
      "Item rank for user 10: ['Koyaanisqatsi (a.k.a. Koyaanisqatsi: Life Out of Balance) (1983)', 'Thank You for Smoking (2006)', 'Larry David: Curb Your Enthusiasm (1999)', 'About Last Night (2014)', 'Boys from Brazil, The (1978)', 'Karate Kid, The (2010)', 'Dirty Pretty Things (2002)', 'From Dusk Till Dawn 2: Texas Blood Money (1999) ', 'Lord of the Rings, The (1978)', 'Night of the Iguana, The (1964)']\n",
      "Predicted movies for user 10: ['Star Wars: Episode IV - A New Hope (1977)', 'Shawshank Redemption, The (1994)', 'Star Wars: Episode V - The Empire Strikes Back (1980)', 'Silence of the Lambs, The (1991)', 'Jurassic Park (1993)', 'Star Wars: Episode VI - Return of the Jedi (1983)', 'Raiders of the Lost Ark (Indiana Jones and the Raiders of the Lost Ark) (1981)', 'Back to the Future (1985)', 'Toy Story (1995)', 'Terminator 2: Judgment Day (1991)']\n"
     ]
    }
   ],
   "source": [
    "# Predict the next movie\n",
    "user = 10\n",
    "s_t = predict_user(user, user_movie_graph, movie_movie_graph)\n",
    "print(f\"Predicted movies for user {user}: {s_t[:10]}\")"
   ]
  }
 ],
 "metadata": {
  "kernelspec": {
   "display_name": "Python 3",
   "language": "python",
   "name": "python3"
  },
  "language_info": {
   "codemirror_mode": {
    "name": "ipython",
    "version": 3
   },
   "file_extension": ".py",
   "mimetype": "text/x-python",
   "name": "python",
   "nbconvert_exporter": "python",
   "pygments_lexer": "ipython3",
   "version": "3.12.0"
  }
 },
 "nbformat": 4,
 "nbformat_minor": 2
}
