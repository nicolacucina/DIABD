{
 "cells": [
  {
   "cell_type": "markdown",
   "metadata": {},
   "source": [
    "Performances on Small dataset vs Complete dataset\n",
    "- Dimentions: 1MB vs 335 MB\n",
    "- Time to open csv: 0.1s vs 35s\n",
    "- Time to create Graph: 4.5s vs 31min\n",
    "- Time to project Graph: 4m vs STIMA DI 24h\n",
    "- Time to predict: 7m vs STIMA DI 48h"
   ]
  },
  {
   "cell_type": "markdown",
   "metadata": {},
   "source": [
    "Implementazione di https://medium.com/eni-digitalks/a-simple-recommender-system-using-pagerank-4a63071c8cbf\n",
    "\n",
    "Da: https://grouplens.org/datasets/movielens/ scaricare [ml-latest-small.zip](https://files.grouplens.org/datasets/movielens/ml-latest-small.zip)\n",
    "\n",
    "## recommended for education and development\n",
    " \n",
    "### MovieLens Latest Datasets\n",
    "\n",
    "These datasets will change over time, and are not appropriate for reporting research results. We will keep the download links stable for automated downloads. We will not archive or make available previously released versions.\n",
    "\n",
    "_Small_: 100,000 ratings and 3,600 tag applications applied to 9,000 movies by 600 users. Last updated 9/2018.\n",
    "\n",
    "    README.html\n",
    "    ml-latest-small.zip (size: 1 MB)\n",
    "\n",
    "_Full_: approximately 33,000,000 ratings and 2,000,000 tag applications applied to 86,000 movies by 330,975 users. Includes tag genome data with 14 million relevance scores across 1,100 tags. Last updated 9/2018.\n",
    "\n",
    "    README.html\n",
    "    ml-latest.zip (size: 335 MB)\n",
    "\n",
    "Permalink: https://grouplens.org/datasets/movielens/latest/"
   ]
  },
  {
   "cell_type": "code",
   "execution_count": 1,
   "metadata": {},
   "outputs": [
    {
     "name": "stdout",
     "output_type": "stream",
     "text": [
      "[4.  4.5 5.  3.5 3.  2.  2.5 1.  1.5 0.5]\n",
      "   userId  movieId  rating   timestamp             title  \\\n",
      "0       1        1     4.0  1225734739  Toy Story (1995)   \n",
      "1       2        1     5.0   835815971  Toy Story (1995)   \n",
      "2       7        1     4.0   974518024  Toy Story (1995)   \n",
      "3      10        1     3.0  1430666394  Toy Story (1995)   \n",
      "4      12        1     5.0   862500738  Toy Story (1995)   \n",
      "\n",
      "                                        genres  \n",
      "0  Adventure|Animation|Children|Comedy|Fantasy  \n",
      "1  Adventure|Animation|Children|Comedy|Fantasy  \n",
      "2  Adventure|Animation|Children|Comedy|Fantasy  \n",
      "3  Adventure|Animation|Children|Comedy|Fantasy  \n",
      "4  Adventure|Animation|Children|Comedy|Fantasy  \n",
      "                                               title  count\n",
      "0                                             (2019)     37\n",
      "1  \"BLOW THE NIGHT!\" Let's Spend the Night Togeth...      2\n",
      "2                   \"Great Performances\" Cats (1998)    275\n",
      "3                                       \"Sr.\" (2022)     11\n",
      "4                         #1 Cheerleader Camp (2010)     15\n",
      "5                                      #Alive (2020)    222\n",
      "6                #AnneFrank. Parallel Stories (2019)      6\n",
      "7                                   #Captured (2017)      4\n",
      "8                            #Female Pleasure (2018)      5\n",
      "9                                   #FollowMe (2019)      8\n"
     ]
    }
   ],
   "source": [
    "import pandas as pd\n",
    "\n",
    "# Open ratings.csv file\n",
    "ratings = pd.read_csv(\"ratings.csv\")\n",
    "print(ratings[\"rating\"].unique())\n",
    "\n",
    "# Open movies.csv file\n",
    "movies = pd.read_csv(\"movies.csv\")\n",
    "\n",
    "# Merge ratings and movies\n",
    "ratings = pd.merge(ratings, movies, on=\"movieId\")\n",
    "print(ratings.head())\n",
    "\n",
    "# Check for common movies rated by multiple users\n",
    "common_movies = ratings.groupby(\"title\").size().reset_index(name='count')\n",
    "print(common_movies[common_movies['count'] > 1].head(10))  # Print movies rated by more than one user"
   ]
  },
  {
   "cell_type": "code",
   "execution_count": 4,
   "metadata": {},
   "outputs": [],
   "source": [
    "# Map rating to scores\n",
    "\n",
    "mapping_score = {\n",
    "    0.5:-1,\n",
    "    1:-1,\n",
    "    1.5:-0.5,\n",
    "    2:0,\n",
    "    2.5:0,\n",
    "    3:0,\n",
    "    3.5:0.5,\n",
    "    4:1,\n",
    "    4.5:1.1,\n",
    "    5:1.2}"
   ]
  },
  {
   "cell_type": "code",
   "execution_count": null,
   "metadata": {},
   "outputs": [],
   "source": [
    "import networkx as nx\n",
    "\n",
    "# Create a directed graph\n",
    "user_movie_graph = nx.Graph()\n",
    "\n",
    "# Add nodes and edges\n",
    "for _, row in ratings.iterrows():\n",
    "    user_movie_graph.add_node(row[\"userId\"], bipartite=0)\n",
    "    user_movie_graph.add_node(row[\"title\"], bipartite=1)\n",
    "    # user_movie_graph.add_edge(row[\"userId\"], row[\"title\"], weight=row[\"rating\"])\n",
    "    user_movie_graph.add_edge(row[\"userId\"], row[\"title\"], weight=mapping_score[row[\"rating\"]])\n",
    "\n",
    "# Debug print to check the graph construction\n",
    "print(f\"Nodes in the graph: {list(user_movie_graph.nodes(data=True))[:10]}\")\n",
    "print(f\"Edges in the graph: {list(user_movie_graph.edges(data=True))[:10]}\")"
   ]
  },
  {
   "cell_type": "code",
   "execution_count": null,
   "metadata": {},
   "outputs": [],
   "source": [
    "print(nx.is_bipartite(user_movie_graph))\n",
    "print(nx.is_connected(user_movie_graph))"
   ]
  },
  {
   "cell_type": "code",
   "execution_count": null,
   "metadata": {},
   "outputs": [],
   "source": [
    "# Project the graph\n",
    "users = {n for n, d in user_movie_graph.nodes(data=True) if d[\"bipartite\"] == 0}\n",
    "print(f\"Users: {list(users)[:10]}\")\n",
    "print(f\"Number of users: {len(users)}\")"
   ]
  },
  {
   "cell_type": "code",
   "execution_count": null,
   "metadata": {},
   "outputs": [],
   "source": [
    "# Project the graph\n",
    "movies = {n for n, d in user_movie_graph.nodes(data=True) if d[\"bipartite\"] == 1}\n",
    "print(f\"Movies: {list(movies)[:10]}\")\n",
    "print(f\"Number of movies: {len(movies)}\")"
   ]
  },
  {
   "cell_type": "code",
   "execution_count": null,
   "metadata": {},
   "outputs": [],
   "source": [
    "# Project the graph using weights\n",
    "user_user_graph = nx.bipartite.weighted_projected_graph(user_movie_graph, users)\n",
    "# Debug print to check the projected graphs\n",
    "print(f\"Nodes in user_user_graph: {list(user_user_graph.nodes(data=True))[:10]}\")\n",
    "print(f\"Edges in user_user_graph: {list(user_user_graph.edges(data=True))[:10]}\")"
   ]
  },
  {
   "cell_type": "code",
   "execution_count": null,
   "metadata": {},
   "outputs": [],
   "source": [
    "# Project the graph using weights\n",
    "movie_movie_graph = nx.bipartite.weighted_projected_graph(user_movie_graph, movies)\n",
    "# Debug print to check the projected graphs\n",
    "print(f\"Nodes in movie_movie_graph: {list(movie_movie_graph.nodes(data=True))[:10]}\")\n",
    "print(f\"Edges in movie_movie_graph: {list(movie_movie_graph.edges(data=True))[:10]}\")"
   ]
  },
  {
   "cell_type": "markdown",
   "metadata": {},
   "source": [
    "filter_nodes() non l'ha scritta dentro alla pagina"
   ]
  },
  {
   "cell_type": "code",
   "execution_count": 9,
   "metadata": {},
   "outputs": [],
   "source": [
    "# 0: User, 1: Movie\n",
    "def filter_nodes(graph: nx.Graph, node_type: int):\n",
    "    return [n for n, d in graph.nodes(data=True) if d[\"bipartite\"] == node_type]"
   ]
  },
  {
   "cell_type": "markdown",
   "metadata": {},
   "source": [
    "Nella pagina è cosi, ma \"movie\" non esiste come tipo di nodo, abbiamo 0 e 1\n",
    "\n",
    "```python \n",
    "def create_preference_vector(user_id: int, user_movie_graph: nx.Graph):    \n",
    "    edges = {m: v for _, m, v in user_movie_graph.edges(user_id, data=\"weight\")}    \n",
    "    tot = sum(edges.values())    \n",
    "    if tot > 0:        \n",
    "        return {        \n",
    "            movie: edges.get(movie, 0) / tot        \n",
    "            for movie in filter_nodes(user_movie_graph, \"movie\")        \n",
    "        }    \n",
    "    else:        \n",
    "        return {\n",
    "            movie: 1 for movie in filter_nodes(user_movie_graph, \"movie\")\n",
    "        }\n",
    "```"
   ]
  },
  {
   "cell_type": "code",
   "execution_count": 11,
   "metadata": {},
   "outputs": [],
   "source": [
    "def create_preference_vector(user_id: int, user_movie_graph: nx.Graph):\n",
    "    edges = {m: v for _, m, v in user_movie_graph.edges(user_id, data=\"weight\")}\n",
    "    print(f\"Edges for user {user_id}: {list(edges)[:10]}\")  # Debug print\n",
    "    tot = sum(edges.values())\n",
    "    print(f\"Total for user {user_id}: {tot}\")  # Debug print\n",
    "    if tot > 0:\n",
    "        return {\n",
    "            movie: edges.get(movie, 0) / tot\n",
    "            for movie in filter_nodes(user_movie_graph, 1) # 1 : Movie\n",
    "        }\n",
    "    else:\n",
    "        return {\n",
    "            movie: 1 for movie in filter_nodes(user_movie_graph, 1)\n",
    "        }"
   ]
  },
  {
   "cell_type": "markdown",
   "metadata": {},
   "source": [
    "nx.pagerank_numpy non esiste\n",
    "\n",
    "```python \n",
    "def predict_user(user_id, user_movie_graph: nx.Graph, movie_movie_graph: nx.Graph):    \n",
    "    p_vec = create_preference_vector(user_id,user_movie_graph)\n",
    "    already_seen = [movie for movie,p in p_vec.items() if p>0]    \n",
    "    if len(already_seen)<1:\n",
    "        return []    \n",
    "    item_rank = nx.pagerank_numpy(movie_movie_graph, personalization=p_vec, alpha=0.95, weight=\"weight\")    \n",
    "    s_t = [x \n",
    "        for x in\n",
    "        sorted(movie_movie_graph.nodes(),key=lambda x: item_rank[x]          \n",
    "    if x in item_rank else 0, reverse=True) \n",
    "        if x not in already_seen\n",
    "        ]\n",
    "    \n",
    "    return s_t\n",
    "```"
   ]
  },
  {
   "cell_type": "code",
   "execution_count": 14,
   "metadata": {},
   "outputs": [],
   "source": [
    "def predict_user(user_id, user_movie_graph: nx.Graph, movie_movie_graph: nx.Graph):\n",
    "    p_vec = create_preference_vector(user_id, user_movie_graph)\n",
    "    print(f\"Preference vector for user {user_id}: {list(p_vec)[:10]}\")  # Debug print\n",
    "    already_seen = [movie for movie, p in p_vec.items() if p > 0]\n",
    "    print(f\"Already seen movies for user {user_id}: {list(already_seen)[:10]}\")  # Debug print\n",
    "    if len(already_seen) < 1:\n",
    "        return []\n",
    "    item_rank = nx.pagerank(movie_movie_graph, personalization=p_vec, alpha=0.95, weight=\"weight\")\n",
    "    print(f\"Item rank for user {user_id}: {list(item_rank)[:10]}\")  # Debug print\n",
    "    s_t = [\n",
    "        x for x in sorted(\n",
    "            movie_movie_graph.nodes(), key=lambda x: item_rank[x] if x in item_rank else 0, reverse=True\n",
    "            )\n",
    "        if x not in already_seen\n",
    "        ]\n",
    "    \n",
    "    return s_t"
   ]
  },
  {
   "cell_type": "code",
   "execution_count": null,
   "metadata": {},
   "outputs": [],
   "source": [
    "# Predict the next movie\n",
    "user = 10\n",
    "s_t = predict_user(user, user_movie_graph, movie_movie_graph)\n",
    "print(f\"Predicted movies for user {user}: {s_t[:10]}\")"
   ]
  }
 ],
 "metadata": {
  "kernelspec": {
   "display_name": "Python 3",
   "language": "python",
   "name": "python3"
  },
  "language_info": {
   "codemirror_mode": {
    "name": "ipython",
    "version": 3
   },
   "file_extension": ".py",
   "mimetype": "text/x-python",
   "name": "python",
   "nbconvert_exporter": "python",
   "pygments_lexer": "ipython3",
   "version": "3.11.6"
  }
 },
 "nbformat": 4,
 "nbformat_minor": 2
}
