{
  "cells": [
    {
      "cell_type": "markdown",
      "metadata": {
        "id": "0EPHzG7ZPmTW"
      },
      "source": [
        "### RECOMMENDATION BASED ON SIMILAR USERS"
      ]
    },
    {
      "cell_type": "markdown",
      "metadata": {
        "id": "z5U-NB8LPmTY"
      },
      "source": [
        "Implementazione di https://medium.com/eni-digitalks/a-simple-recommender-system-using-pagerank-4a63071c8cbf\n",
        "\n",
        "Da: https://grouplens.org/datasets/movielens/ scaricare [ml-latest-small.zip](https://files.grouplens.org/datasets/movielens/ml-latest-small.zip)\n",
        "\n",
        "## recommended for education and development\n",
        "\n",
        "### MovieLens Latest Datasets\n",
        "\n",
        "These datasets will change over time, and are not appropriate for reporting research results. We will keep the download links stable for automated downloads. We will not archive or make available previously released versions.\n",
        "\n",
        "_Small_: 100,000 ratings and 3,600 tag applications applied to 9,000 movies by 600 users. Last updated 9/2018.\n",
        "\n",
        "    README.html\n",
        "    ml-latest-small.zip (size: 1 MB)\n",
        "\n",
        "_Full_: approximately 33,000,000 ratings and 2,000,000 tag applications applied to 86,000 movies by 330,975 users. Includes tag genome data with 14 million relevance scores across 1,100 tags. Last updated 9/2018.\n",
        "\n",
        "    README.html\n",
        "    ml-latest.zip (size: 335 MB)\n",
        "\n",
        "Permalink: https://grouplens.org/datasets/movielens/latest/"
      ]
    },
    {
      "cell_type": "code",
      "execution_count": 2,
      "metadata": {
        "id": "LoaQWUF7PmTY"
      },
      "outputs": [],
      "source": [
        "import pandas as pd\n",
        "\n",
        "# Open ratings.csv file\n",
        "ratings = pd.read_csv(\"ratings.csv\")"
      ]
    },
    {
      "cell_type": "code",
      "execution_count": 3,
      "metadata": {
        "id": "iotX7is1PmTZ"
      },
      "outputs": [],
      "source": [
        "# Open movies.csv file\n",
        "movies = pd.read_csv(\"movies.csv\")"
      ]
    },
    {
      "cell_type": "code",
      "execution_count": 4,
      "metadata": {
        "colab": {
          "base_uri": "https://localhost:8080/"
        },
        "id": "3iUIXuUsPmTZ",
        "outputId": "7d206165-5fa1-4cb6-bc2f-cebcf09e377e"
      },
      "outputs": [
        {
          "output_type": "stream",
          "name": "stdout",
          "text": [
            "   userId  movieId  rating  timestamp                        title  \\\n",
            "0       1        1     4.0  964982703             Toy Story (1995)   \n",
            "1       1        3     4.0  964981247      Grumpier Old Men (1995)   \n",
            "2       1        6     4.0  964982224                  Heat (1995)   \n",
            "3       1       47     5.0  964983815  Seven (a.k.a. Se7en) (1995)   \n",
            "4       1       50     5.0  964982931   Usual Suspects, The (1995)   \n",
            "\n",
            "                                        genres  \n",
            "0  Adventure|Animation|Children|Comedy|Fantasy  \n",
            "1                               Comedy|Romance  \n",
            "2                        Action|Crime|Thriller  \n",
            "3                             Mystery|Thriller  \n",
            "4                       Crime|Mystery|Thriller  \n"
          ]
        }
      ],
      "source": [
        "# Merge ratings and movies\n",
        "user_movie_matrix = pd.merge(ratings, movies, on=\"movieId\")\n",
        "print(user_movie_matrix.head())"
      ]
    },
    {
      "cell_type": "code",
      "execution_count": null,
      "metadata": {
        "id": "5SL03NwaPmTZ"
      },
      "outputs": [],
      "source": [
        "# # Check for common movies rated by multiple users\n",
        "# common_movies = user_movie_matrix.groupby(\"title\").size().reset_index(name='count')\n",
        "# print(common_movies[common_movies['count'] > 1].head(10))  # Print movies rated by more than one user"
      ]
    },
    {
      "cell_type": "code",
      "execution_count": 5,
      "metadata": {
        "id": "w7BR_gRuPmTZ"
      },
      "outputs": [],
      "source": [
        "# Map rating to scores\n",
        "\n",
        "mapping_score = {\n",
        "    0.5:-1,\n",
        "    1:-1,\n",
        "    1.5:-0.5,\n",
        "    2:0,\n",
        "    2.5:0,\n",
        "    3:0,\n",
        "    3.5:0.5,\n",
        "    4:1,\n",
        "    4.5:1.1,\n",
        "    5:1.2\n",
        "}"
      ]
    },
    {
      "cell_type": "markdown",
      "metadata": {
        "id": "J_YiXFXwPmTZ"
      },
      "source": [
        "Basandoci sulle ratings presenti nel dataset vado a proiettare il grafo movie_movie che mi consente di trovare la similarità tra i film. Il vettore di mappaggio è scelto arbitrariamente e serve a decidere quanto pesano le varie ratings."
      ]
    },
    {
      "cell_type": "code",
      "execution_count": 6,
      "metadata": {
        "colab": {
          "base_uri": "https://localhost:8080/"
        },
        "id": "_C0FortTPmTa",
        "outputId": "f6944559-2bfa-47f1-8798-ca72e2d6a1b8"
      },
      "outputs": [
        {
          "output_type": "stream",
          "name": "stdout",
          "text": [
            "Nodes in the graph: [(1, {'bipartite': 0}), ('Toy Story (1995)', {'bipartite': 1, 'genre': 'Adventure|Animation|Children|Comedy|Fantasy', 'movieId': 1}), ('Grumpier Old Men (1995)', {'bipartite': 1, 'genre': 'Comedy|Romance', 'movieId': 3}), ('Heat (1995)', {'bipartite': 1, 'genre': 'Action|Crime|Thriller', 'movieId': 6}), ('Seven (a.k.a. Se7en) (1995)', {'bipartite': 1, 'genre': 'Mystery|Thriller', 'movieId': 47}), ('Usual Suspects, The (1995)', {'bipartite': 1, 'genre': 'Crime|Mystery|Thriller', 'movieId': 50}), ('From Dusk Till Dawn (1996)', {'bipartite': 1, 'genre': 'Action|Comedy|Horror|Thriller', 'movieId': 70}), ('Bottle Rocket (1996)', {'bipartite': 1, 'genre': 'Adventure|Comedy|Crime|Romance', 'movieId': 101}), ('Braveheart (1995)', {'bipartite': 1, 'genre': 'Action|Drama|War', 'movieId': 110}), ('Rob Roy (1995)', {'bipartite': 1, 'genre': 'Action|Drama|Romance|War', 'movieId': 151})]\n",
            "Edges in the graph: [(1, 'Toy Story (1995)', {'weight': 1}), (1, 'Grumpier Old Men (1995)', {'weight': 1}), (1, 'Heat (1995)', {'weight': 1}), (1, 'Seven (a.k.a. Se7en) (1995)', {'weight': 1.2}), (1, 'Usual Suspects, The (1995)', {'weight': 1.2}), (1, 'From Dusk Till Dawn (1996)', {'weight': 0}), (1, 'Bottle Rocket (1996)', {'weight': 1.2}), (1, 'Braveheart (1995)', {'weight': 1}), (1, 'Rob Roy (1995)', {'weight': 1.2}), (1, 'Canadian Bacon (1995)', {'weight': 1.2})]\n"
          ]
        }
      ],
      "source": [
        "import networkx as nx\n",
        "\n",
        "# Create a directed graph\n",
        "user_movie_graph = nx.Graph()\n",
        "\n",
        "# Add nodes and edges\n",
        "for _, row in user_movie_matrix.iterrows():\n",
        "    user_movie_graph.add_node(row[\"userId\"], bipartite=0)\n",
        "    user_movie_graph.add_node(row[\"title\"], bipartite=1, genre=row[\"genres\"], movieId=row[\"movieId\"])\n",
        "    # user_movie_graph.add_edge(row[\"userId\"], row[\"title\"], weight=row[\"rating\"])\n",
        "    user_movie_graph.add_edge(row[\"userId\"], row[\"title\"], weight=mapping_score[row[\"rating\"]])\n",
        "\n",
        "# Debug print to check the graph construction\n",
        "print(f\"Nodes in the graph: {list(user_movie_graph.nodes(data=True))[:10]}\")\n",
        "print(f\"Edges in the graph: {list(user_movie_graph.edges(data=True))[:10]}\")"
      ]
    },
    {
      "cell_type": "code",
      "execution_count": 7,
      "metadata": {
        "colab": {
          "base_uri": "https://localhost:8080/"
        },
        "id": "qVFdxG33PmTa",
        "outputId": "7389ae5b-4241-400f-f91b-9908cb5efa65"
      },
      "outputs": [
        {
          "output_type": "stream",
          "name": "stdout",
          "text": [
            "Users: [1, 2, 3, 4, 5, 6, 7, 8, 9, 10]\n",
            "Number of users: 610\n"
          ]
        }
      ],
      "source": [
        "users = {n for n, d in user_movie_graph.nodes(data=True) if d[\"bipartite\"] == 0}\n",
        "print(f\"Users: {list(users)[:10]}\")\n",
        "print(f\"Number of users: {len(users)}\")"
      ]
    },
    {
      "cell_type": "code",
      "execution_count": 8,
      "metadata": {
        "colab": {
          "base_uri": "https://localhost:8080/"
        },
        "id": "qoY0YILSPmTa",
        "outputId": "a35eb073-1958-454d-b9e7-8ef7dd2407fb"
      },
      "outputs": [
        {
          "output_type": "stream",
          "name": "stdout",
          "text": [
            "Movies: [\"Porky's (1982)\", 'Desperately Seeking Susan (1985)', \"Things to Do in Denver When You're Dead (1995)\", 'Kalifornia (1993)', 'Kin-Dza-Dza! (1986)', 'Shot in the Dark, A (1964)', 'Jesus Christ Vampire Hunter (2001)', 'Non-Stop (2014)', 'Crimson Rivers, The (Rivières pourpres, Les) (2000)', 'Night of the Shooting Stars (Notte di San Lorenzo, La) (1982)']\n",
            "Number of movies: 9719\n"
          ]
        }
      ],
      "source": [
        "movies = {n for n, d in user_movie_graph.nodes(data=True) if d[\"bipartite\"] == 1}\n",
        "print(f\"Movies: {list(movies)[:10]}\")\n",
        "print(f\"Number of movies: {len(movies)}\")"
      ]
    },
    {
      "cell_type": "code",
      "execution_count": 9,
      "metadata": {
        "colab": {
          "base_uri": "https://localhost:8080/"
        },
        "id": "s0zaoBA0PmTa",
        "outputId": "752a042e-65bc-4282-c4ae-317d8238c347"
      },
      "outputs": [
        {
          "output_type": "stream",
          "name": "stdout",
          "text": [
            "True\n",
            "True\n"
          ]
        }
      ],
      "source": [
        "print(nx.is_bipartite(user_movie_graph))\n",
        "print(nx.is_connected(user_movie_graph))"
      ]
    },
    {
      "cell_type": "code",
      "execution_count": 12,
      "metadata": {
        "colab": {
          "base_uri": "https://localhost:8080/"
        },
        "id": "W9JaRmklPmTa",
        "outputId": "5ad37a7d-d89f-4432-a13e-d9dee68e3b25"
      },
      "outputs": [
        {
          "output_type": "stream",
          "name": "stdout",
          "text": [
            "Nodes in the user-user graph: [(1, {'bipartite': 0}), (2, {'bipartite': 0}), (3, {'bipartite': 0}), (4, {'bipartite': 0}), (5, {'bipartite': 0}), (6, {'bipartite': 0}), (7, {'bipartite': 0}), (8, {'bipartite': 0}), (9, {'bipartite': 0}), (10, {'bipartite': 0})]\n",
            "Edges in the user-user graph: [(1, 2, {'weight': 2}), (1, 3, {'weight': 7}), (1, 4, {'weight': 45}), (1, 5, {'weight': 13}), (1, 6, {'weight': 33}), (1, 7, {'weight': 26}), (1, 8, {'weight': 15}), (1, 9, {'weight': 5}), (1, 10, {'weight': 6}), (1, 11, {'weight': 16})]\n",
            "610\n",
            "164054\n"
          ]
        }
      ],
      "source": [
        "#Project the graph using weights\n",
        "user_user_graph = nx.bipartite.weighted_projected_graph(user_movie_graph, users)\n",
        "print(f\"Nodes in the user-user graph: {list(user_user_graph.nodes(data=True))[:10]}\")\n",
        "print(f\"Edges in the user-user graph: {list(user_user_graph.edges(data=True))[:10]}\")\n",
        "print(len(user_user_graph.nodes()))\n",
        "print(len(user_user_graph.edges()))"
      ]
    },
    {
      "cell_type": "code",
      "execution_count": 10,
      "metadata": {
        "colab": {
          "base_uri": "https://localhost:8080/"
        },
        "id": "Fqm7fIXMPmTb",
        "outputId": "a275d14c-5443-4152-c1d2-54b83d4e6a42"
      },
      "outputs": [
        {
          "output_type": "stream",
          "name": "stdout",
          "text": [
            "Nodes in movie_movie_graph: [(\"Porky's (1982)\", {'bipartite': 1, 'genre': 'Comedy', 'movieId': 3688}), ('Desperately Seeking Susan (1985)', {'bipartite': 1, 'genre': 'Comedy|Drama|Romance', 'movieId': 2369}), (\"Things to Do in Denver When You're Dead (1995)\", {'bipartite': 1, 'genre': 'Crime|Drama|Romance', 'movieId': 81}), ('Kalifornia (1993)', {'bipartite': 1, 'genre': 'Drama|Thriller', 'movieId': 481}), ('Kin-Dza-Dza! (1986)', {'bipartite': 1, 'genre': 'Comedy|Drama|Sci-Fi', 'movieId': 36363}), ('Shot in the Dark, A (1964)', {'bipartite': 1, 'genre': 'Comedy|Crime|Mystery', 'movieId': 7073}), ('Jesus Christ Vampire Hunter (2001)', {'bipartite': 1, 'genre': 'Action|Comedy|Horror|Musical', 'movieId': 27595}), ('Non-Stop (2014)', {'bipartite': 1, 'genre': 'Action|Mystery|Thriller', 'movieId': 109578}), ('Crimson Rivers, The (Rivières pourpres, Les) (2000)', {'bipartite': 1, 'genre': 'Crime|Drama|Mystery|Thriller', 'movieId': 4383}), ('Night of the Shooting Stars (Notte di San Lorenzo, La) (1982)', {'bipartite': 1, 'genre': 'Drama|War', 'movieId': 6107})]\n",
            "Edges in movie_movie_graph: [(\"Porky's (1982)\", 'Desperately Seeking Susan (1985)', {'weight': 5}), (\"Porky's (1982)\", \"Things to Do in Denver When You're Dead (1995)\", {'weight': 2}), (\"Porky's (1982)\", 'Kalifornia (1993)', {'weight': 2}), (\"Porky's (1982)\", 'Maze Runner, The (2014)', {'weight': 2}), (\"Porky's (1982)\", 'Jesus Christ Vampire Hunter (2001)', {'weight': 1}), (\"Porky's (1982)\", 'Ghost in the Shell Arise - Border 1: Ghost Pain (2013)', {'weight': 1}), (\"Porky's (1982)\", 'Mother! (2017)', {'weight': 1}), (\"Porky's (1982)\", 'Prince & Me, The (2004)', {'weight': 1}), (\"Porky's (1982)\", 'Fast Five (Fast and the Furious 5, The) (2011)', {'weight': 1}), (\"Porky's (1982)\", 'Amistad (1997)', {'weight': 2})]\n"
          ]
        }
      ],
      "source": [
        "# Project the graph using weights\n",
        "movie_movie_graph = nx.bipartite.weighted_projected_graph(user_movie_graph, movies)\n",
        "print(f\"Nodes in movie_movie_graph: {list(movie_movie_graph.nodes(data=True))[:10]}\")\n",
        "print(f\"Edges in movie_movie_graph: {list(movie_movie_graph.edges(data=True))[:10]}\")"
      ]
    },
    {
      "cell_type": "code",
      "execution_count": 13,
      "metadata": {
        "colab": {
          "base_uri": "https://localhost:8080/"
        },
        "id": "6cZxeo2hPmTb",
        "outputId": "f9158a16-a84a-401f-eea1-a6a1751c48fe"
      },
      "outputs": [
        {
          "output_type": "stream",
          "name": "stdout",
          "text": [
            "True\n"
          ]
        }
      ],
      "source": [
        "print(nx.is_connected(movie_movie_graph))"
      ]
    },
    {
      "cell_type": "markdown",
      "metadata": {
        "id": "9BiZEOvHPmTb"
      },
      "source": [
        "PageRank misura l'_importanza_ di una pagina web sulla base del numero di link entranti, mentre i link uscenti _distribuiscono_ quella stessa importanza alle pagine raggiunte.\n",
        "\n",
        "Se il grafo è rappresentato tramite _matrice di adiacenza_, $L_{ij} = 1$ se esiste un link che permette di passare dalla pagina _j_ alla pagina _i_, $j \\rightarrow i$, altrimenti $L_{ij} = 0$.\n",
        "Se $m_{j} = \\sum_{k=1}^{n} L_{kj}$ è il numero di pagine che vengono linkate da _j_, un possibile valore di PageRank, _BrokenRank_, per la pagina _i_ è:\n",
        "\n",
        "$p_{i} = \\sum_{j \\rightarrow i} \\frac{p_{j}}{m_{j}} = \\sum_{j=1}^{n} \\frac{L_{ij}}{m_{j}}p_{j}$\n",
        "\n",
        "In notazione matriciale:\n",
        "\n",
        "$p=\\begin{bmatrix}\n",
        "    p_{1} \\\\\n",
        "    p_{2} \\\\\n",
        "    \\vdots \\\\\n",
        "    p_{n} \\\\\n",
        "\\end{bmatrix},\n",
        "L=\\begin{bmatrix}\n",
        "    L_{11} && L_{12} && \\dots && L_{1n} \\\\\n",
        "    L_{21} && L_{22} && \\dots && L_{2n} \\\\\n",
        "    \\vdots && \\vdots && \\ddots && \\vdots \\\\\n",
        "    L_{n1} && L_{n2} && \\dots && L_{nn} \\\\\n",
        "\\end{bmatrix},\n",
        "M=\\begin{bmatrix}\n",
        "    m_{1} && 0 && \\dots && 0 \\\\\n",
        "    0 && m_{2} && \\dots && 0 \\\\\n",
        "    \\vdots && \\vdots && \\ddots && \\vdots \\\\\n",
        "    0 && 0 && \\dots && m_{n} \\\\\n",
        "\\end{bmatrix} \\implies p = LM^{-1}p = Ap$\n",
        "\n",
        "Perciò _p_ è un autovettore della matrice _A_ con autovalore 1. Sfruttando algoritmi noti è possibile trovare gli autovalori della matrice  _A_ e nel caso in cui questa sia __sparsa__ si ottengono anche prestazioni migliori, dato l'alto numero di valori nulli che si possono ignorare."
      ]
    },
    {
      "cell_type": "markdown",
      "metadata": {
        "id": "BuloaAUEPmTb"
      },
      "source": [
        "Utilizzando le catene di Markov, posso rappresentare il processo di navigazione di un utente. Ho _n_ stati che definiscono una matrice di transizione di stato _P_ di dimensione $n \\times n$ dove $P_{ij} è la probabilità di andare dalla pagina _i_ alla pagina _j_.\n",
        "Se $p^{(0)}$ è il vettore con le probabilità iniziali, si vede come $p^{(1)} = P^{T}p^{(0)}$ è il vettore con tutte le probabilità di trovarsi in un certo stato _i_ dopo un singolo step.\n",
        "\n",
        "Sia $A^{T}$ la nostra matrice di transizione, con $(A^{T})_{ij} = L_{ij}/m_{i}$. La nostra catena di Markov diventa:\n",
        "\n",
        "$P_{ij} = \\begin{cases}\n",
        "    \\frac{1}{m_{i}} & \\text{if } i \\rightarrow j \\\\\n",
        "    0 & \\text{altrimenti}\n",
        "\\end{cases}$"
      ]
    },
    {
      "cell_type": "markdown",
      "metadata": {
        "id": "VKNKlsnEPmTb"
      },
      "source": [
        "Una _distribuzione stazionaria_ per la catena di Markov è un vettore di probabilità _p_ con $p = Ap$, ovvero dopo uno step la distribuzione rimane invariata.\n",
        "Se la catena di Markov è _connessa_, ovvero ogni stato è raggiungibile da ogni altro, la distribuzione _p_ esiste ed è _unica_.\n",
        "\n",
        "Il problema è che non possiamo soddisfare queste ipotesi con il nostro grafo in quanto:\n",
        "- Non tutti gli utenti hanno visto tutti i film\n",
        "- Anche nei grafi di proiezione non è detto che tra ogni coppia di film esista un valore di similarità definito.\n",
        "\n",
        "Questo porterebbe a delle dei vettori _p_ ambigui."
      ]
    },
    {
      "cell_type": "markdown",
      "metadata": {
        "id": "PTeVASJmPmTb"
      },
      "source": [
        "Per questo PageRank è definito modificando BrokenRank:\n",
        "\n",
        "$p_{i} = \\frac{1-d}{n} + d(\\sum_{j=1}^{n} \\frac{L_{ij}}{m_{j}}p_{j})$, con $ 0 < d < 1$, che in notazione matriciale diventa:\n",
        "$p = (\\frac{1-d}{n}E + dLM^{-1})p$, s.t. $\\sum_{i=1}^{n} p_{i} = 1$, con _E_ matrice $n \\times n$ di soli 1\n",
        "\n",
        "Sia $ A = \\frac{1-d}{n}E + dLM^{-1}$ e si consideri la catena di Markov con matrice di transizione $A^{T}$ t.c. $(A^{T})_{ij} = (1 - d)/n + d L_{ij}/m_{i}$. La catena può essere descritta come:\n",
        "\n",
        "$P_{ij} = \\begin{cases}\n",
        "    (1 - d)/n + d / m_{i} & \\text{if } i \\rightarrow j \\\\\n",
        "    (1 - d)/n & \\text{altrimenti}\n",
        "\\end{cases}$, dove $(1 -d)/n$ è la probabilità di saltare verso una pagina non linkata. Questo risolve i problemi di connettività ed è ancora applicabile al nostro caso, in quanto è accettabile pensare che un utente, solito a vedere una certa categoria di film, provi a vedere un film totalmente al di fuori dei suoi standard.\n",
        "\n",
        "Sfruttando le proprietà della catena di markov definita inoltre, è possibile evitare i classici algoritmi di eigendecomposition di complessità $O(n^{3})$ utilizzando una qualsiasi distribuzione iniziale $p^{(0)}$ e calcolando\n",
        "- $p^{(1)} = Ap^{(0)}$\n",
        "- $p^{(2)} = Ap^{(1)}$\n",
        "- $\\vdots$\n",
        "- $p^{(t)} = Ap^{(t-1)}$\n",
        "\n",
        "Quando $t \\rightarrow \\inf$, $p^{(t)} \\rightarrow p$, perciò con un numero di iterazioni sufficientemente grande _t_ si ottiene una complessità $O(tn^{2}) = O(n^{2})$ per n grandi."
      ]
    },
    {
      "cell_type": "markdown",
      "metadata": {
        "id": "Ko715nxDPmTb"
      },
      "source": [
        "L'ultimo cambiamento introdotto è una generalizzazione della matrice A:\n",
        "\n",
        "$A^{T} = d(L^{T}D_{L}^{-1} + kg_{L}^{T}) + (1-d)ke^{T}$, dove L è la matrice di adiacenza, $D_{L}$ è la matrice diagonale contenente il grado uscente di ogni nodo, mentre $g_{L}^{T}$ contiene gli indici delle pagine che non hanno link uscenti.\n",
        "\n",
        "_k_ è il vettore di __personalizzazione__. Se tende ad una distribuzione uniforme fornisce un risultato simile al PageRank classico, mentre più il vettore è polarizzato, più l'algoritmo è portato a teleportarsi verso i nodi specificati.\n",
        "\n",
        "Nel nostro caso il vettore di personalizzazione dovrà tenere conto dei film visti dall'utente per dare più importanza a quel vicinato di film e polarizzare PageRank nel dare punteggi più alti a film simili a quelli già visti."
      ]
    },
    {
      "cell_type": "code",
      "execution_count": 14,
      "metadata": {
        "id": "bCya_Cs5PmTb"
      },
      "outputs": [],
      "source": [
        "# 0: User, 1: Movie\n",
        "def filter_nodes(graph: nx.Graph, node_type: int):\n",
        "    return [n for n, d in graph.nodes(data=True) if d[\"bipartite\"] == node_type]\n",
        "\n",
        "def create_preference_vector(debug: bool, user_id: int, user_movie_graph: nx.Graph):\n",
        "    # Get the edges for the user\n",
        "    edges = {m: v for _, m, v in user_movie_graph.edges(user_id, data=\"weight\")}\n",
        "\n",
        "    if debug:\n",
        "        print(f\"Edges for user {user_id}: {list(edges)[:10]}\")\n",
        "        print(f\"Number of edges for user {user_id}: {len(edges)}\")\n",
        "\n",
        "        for k, v in edges.items():\n",
        "            print(k,v)\n",
        "\n",
        "    # Sum of the ratings done by the user\n",
        "    tot = sum(edges.values())\n",
        "\n",
        "    if debug:\n",
        "        print(f\"Total for user {user_id}: {tot}\")\n",
        "\n",
        "    if tot > 0:\n",
        "        print(f\"User {user_id} has rated movies\")\n",
        "        return len(edges), {\n",
        "            # Assign to each movie a normalized weight. The higher the rating, the higher the weight.\n",
        "            # Se provo a prendere un film che non sta in edges, mi ritorna 0\n",
        "            movie: edges.get(movie, 0) / tot\n",
        "            for movie in filter_nodes(user_movie_graph, 1) # 1 : Movie\n",
        "        }\n",
        "    else:\n",
        "        # User has not rated any movies or the sum of all weighted ratings is zero / negative\n",
        "        print(f\"User {user_id} has not rated any movies or the sum of all weighted ratings is zero / negative. All movies will have a weight of 1\")\n",
        "        return len(edges), {\n",
        "            movie: 1 for movie in filter_nodes(user_movie_graph, 1) # Penso che dovremmo metterci zero come peso in questo caso\n",
        "        }"
      ]
    },
    {
      "cell_type": "markdown",
      "metadata": {
        "id": "AwZBToYOPmTb"
      },
      "source": [
        "Il vettore di personalizzazione assegna 0 a tutti i film non visti, mentre assegna valori normalizzati in base alla rating a tutti gli altri archi. Per come è stato costruito il vettore dei pesi delle ratings, al momento voti come 2, 2.5 e 3 vengono considerati allo stesso modo di film non visti"
      ]
    },
    {
      "cell_type": "code",
      "execution_count": null,
      "metadata": {
        "id": "Kzrl-V82PmTb",
        "outputId": "732a85b5-f9f8-4e73-912a-4a0765e7b98f"
      },
      "outputs": [
        {
          "name": "stdout",
          "output_type": "stream",
          "text": [
            "Edges for user 1: ['Toy Story (1995)', 'Grumpier Old Men (1995)', 'Heat (1995)', 'Seven (a.k.a. Se7en) (1995)', 'Usual Suspects, The (1995)', 'From Dusk Till Dawn (1996)', 'Bottle Rocket (1996)', 'Braveheart (1995)', 'Rob Roy (1995)', 'Canadian Bacon (1995)']\n",
            "Number of edges for user 1: 232\n",
            "Toy Story (1995) 1\n",
            "Grumpier Old Men (1995) 1\n",
            "Heat (1995) 1\n",
            "Seven (a.k.a. Se7en) (1995) 1.2\n",
            "Usual Suspects, The (1995) 1.2\n",
            "From Dusk Till Dawn (1996) 0\n",
            "Bottle Rocket (1996) 1.2\n",
            "Braveheart (1995) 1\n",
            "Rob Roy (1995) 1.2\n",
            "Canadian Bacon (1995) 1.2\n",
            "Desperado (1995) 1.2\n",
            "Billy Madison (1995) 1.2\n",
            "Clerks (1994) 0\n",
            "Dumb & Dumber (Dumb and Dumber) (1994) 1.2\n",
            "Ed Wood (1994) 1\n",
            "Star Wars: Episode IV - A New Hope (1977) 1.2\n",
            "Pulp Fiction (1994) 0\n",
            "Stargate (1994) 0\n",
            "Tommy Boy (1995) 1.2\n",
            "Clear and Present Danger (1994) 1\n",
            "Forrest Gump (1994) 1\n",
            "Jungle Book, The (1994) 1.2\n",
            "Mask, The (1994) 1\n",
            "Blown Away (1994) 0\n",
            "Dazed and Confused (1993) 1\n",
            "Fugitive, The (1993) 1.2\n",
            "Jurassic Park (1993) 1\n",
            "Mrs. Doubtfire (1993) 0\n",
            "Schindler's List (1993) 1.2\n",
            "So I Married an Axe Murderer (1993) 1\n",
            "Three Musketeers, The (1993) 1\n",
            "Tombstone (1993) 1.2\n",
            "Dances with Wolves (1990) 1\n",
            "Batman (1989) 1\n",
            "Silence of the Lambs, The (1991) 1\n",
            "Pinocchio (1940) 1.2\n",
            "Fargo (1996) 1.2\n",
            "Mission: Impossible (1996) 0\n",
            "James and the Giant Peach (1996) 1.2\n",
            "Space Jam (1996) 0\n",
            "Rock, The (1996) 1\n",
            "Twister (1996) 0\n",
            "Independence Day (a.k.a. ID4) (1996) 0\n",
            "She's the One (1996) 1\n",
            "Wizard of Oz, The (1939) 1.2\n",
            "Citizen Kane (1941) 1.2\n",
            "Adventures of Robin Hood, The (1938) 1.2\n",
            "Ghost and Mrs. Muir, The (1947) 1\n",
            "Mr. Smith Goes to Washington (1939) 1.2\n",
            "Escape to Witch Mountain (1975) 0\n",
            "Winnie the Pooh and the Blustery Day (1968) 1.2\n",
            "Three Caballeros, The (1945) 1.2\n",
            "Sword in the Stone, The (1963) 1.2\n",
            "Dumbo (1941) 1.2\n",
            "Pete's Dragon (1977) 0\n",
            "Bedknobs and Broomsticks (1971) 1.2\n",
            "Alice in Wonderland (1951) 1.2\n",
            "That Thing You Do! (1996) 1\n",
            "Ghost and the Darkness, The (1996) 1.2\n",
            "Swingers (1996) 1\n",
            "Willy Wonka & the Chocolate Factory (1971) 1.2\n",
            "Monty Python's Life of Brian (1979) 1.2\n",
            "Reservoir Dogs (1992) 1.2\n",
            "Platoon (1986) 1\n",
            "Basic Instinct (1992) 1.2\n",
            "E.T. the Extra-Terrestrial (1982) 1.2\n",
            "Abyss, The (1989) 1\n",
            "Monty Python and the Holy Grail (1975) 1.2\n",
            "Star Wars: Episode V - The Empire Strikes Back (1980) 1.2\n",
            "Princess Bride, The (1987) 1.2\n",
            "Raiders of the Lost Ark (Indiana Jones and the Raiders of the Lost Ark) (1981) 1.2\n",
            "Clockwork Orange, A (1971) 1.2\n",
            "Apocalypse Now (1979) 1\n",
            "Star Wars: Episode VI - Return of the Jedi (1983) 1.2\n",
            "Goodfellas (1990) 1.2\n",
            "Alien (1979) 1\n",
            "Psycho (1960) 0\n",
            "Blues Brothers, The (1980) 1.2\n",
            "Full Metal Jacket (1987) 1.2\n",
            "Henry V (1989) 1.2\n",
            "Quiet Man, The (1952) 1.2\n",
            "Terminator, The (1984) 1.2\n",
            "Duck Soup (1933) 1.2\n",
            "Shining, The (1980) 0\n",
            "Groundhog Day (1993) 1\n",
            "Back to the Future (1985) 1.2\n",
            "Highlander (1986) 1.2\n",
            "Young Frankenstein (1974) 1.2\n",
            "Fantasia (1940) 1.2\n",
            "Indiana Jones and the Last Crusade (1989) 1.2\n",
            "Pink Floyd: The Wall (1982) 1.2\n",
            "Nosferatu (Nosferatu, eine Symphonie des Grauens) (1922) 1\n",
            "Batman Returns (1992) 0\n",
            "Sneakers (1992) 0\n",
            "Last of the Mohicans, The (1992) 0\n",
            "McHale's Navy (1997) 0\n",
            "Best Men (1997) 1\n",
            "Grosse Pointe Blank (1997) 1\n",
            "Austin Powers: International Man of Mystery (1997) 1.2\n",
            "Con Air (1997) 1\n",
            "Face/Off (1997) 1.2\n",
            "Men in Black (a.k.a. MIB) (1997) 0\n",
            "Conan the Barbarian (1982) 1.2\n",
            "L.A. Confidential (1997) 1.2\n",
            "Kiss the Girls (1997) 1\n",
            "Game, The (1997) 1.2\n",
            "I Know What You Did Last Summer (1997) 0\n",
            "Starship Troopers (1997) 0\n",
            "Big Lebowski, The (1998) 1.2\n",
            "Wedding Singer, The (1998) 1\n",
            "Welcome to Woop-Woop (1997) 1\n",
            "Newton Boys, The (1998) 1.2\n",
            "Wild Things (1998) 1\n",
            "Small Soldiers (1998) 1\n",
            "All Quiet on the Western Front (1930) 1.2\n",
            "Rocky (1976) 1.2\n",
            "Labyrinth (1986) 1\n",
            "Lethal Weapon (1987) 1\n",
            "Goonies, The (1985) 1.2\n",
            "Back to the Future Part III (1990) 1\n",
            "Bambi (1942) 1.2\n",
            "Saving Private Ryan (1998) 1\n",
            "Black Cauldron, The (1985) 1.2\n",
            "Flight of the Navigator (1986) 1\n",
            "Great Mouse Detective, The (1986) 1.2\n",
            "Honey, I Shrunk the Kids (1989) 1\n",
            "Negotiator, The (1998) 1.2\n",
            "Jungle Book, The (1967) 1.2\n",
            "Rescuers, The (1977) 1.2\n",
            "Return to Oz (1985) 0\n",
            "Rocketeer, The (1991) 1.2\n",
            "Sleeping Beauty (1959) 1\n",
            "Song of the South (1946) 1\n",
            "Tron (1982) 1\n",
            "Indiana Jones and the Temple of Doom (1984) 1.2\n",
            "Lord of the Rings, The (1978) 1.2\n",
            "Charlotte's Web (1973) 1.2\n",
            "Secret of NIMH, The (1982) 1.2\n",
            "American Tail, An (1986) 1.2\n",
            "Legend (1985) 1\n",
            "NeverEnding Story, The (1984) 1.2\n",
            "Beetlejuice (1988) 1\n",
            "Willow (1988) 1\n",
            "Toys (1992) 0\n",
            "Few Good Men, A (1992) 1\n",
            "Rush Hour (1998) 1\n",
            "Edward Scissorhands (1990) 1.2\n",
            "American History X (1998) 1.2\n",
            "I Still Know What You Did Last Summer (1998) 0\n",
            "Enemy of the State (1998) 1.2\n",
            "King Kong (1933) 1\n",
            "Very Bad Things (1998) 1.2\n",
            "Psycho (1998) 0\n",
            "Rushmore (1998) 1.2\n",
            "Romancing the Stone (1984) 1\n",
            "Young Sherlock Holmes (1985) 0\n",
            "Thin Red Line, The (1998) 1.2\n",
            "Howard the Duck (1986) 1\n",
            "Texas Chainsaw Massacre, The (1974) 1.2\n",
            "Crocodile Dundee (1986) 1.2\n",
            "¡Three Amigos! (1986) 1\n",
            "20 Dates (1998) 1\n",
            "Office Space (1999) 1.2\n",
            "Logan's Run (1976) 0\n",
            "Planet of the Apes (1968) 1.2\n",
            "Lock, Stock & Two Smoking Barrels (1998) 1.2\n",
            "Matrix, The (1999) 1.2\n",
            "Go (1999) 1.2\n",
            "SLC Punk! (1998) 1.2\n",
            "Dick Tracy (1990) 1\n",
            "Mummy, The (1999) 0\n",
            "Star Wars: Episode I - The Phantom Menace (1999) 1\n",
            "Superman (1978) 1\n",
            "Superman II (1980) 1.2\n",
            "Dracula (1931) 1\n",
            "Frankenstein (1931) 1\n",
            "Wolf Man, The (1941) 1.2\n",
            "Rocky Horror Picture Show, The (1975) 0\n",
            "Run Lola Run (Lola rennt) (1998) 1.2\n",
            "South Park: Bigger, Longer and Uncut (1999) 1.2\n",
            "Ghostbusters (a.k.a. Ghost Busters) (1984) 1.2\n",
            "Iron Giant, The (1999) 1.2\n",
            "Big (1988) 1\n",
            "13th Warrior, The (1999) 1\n",
            "American Beauty (1999) 1.2\n",
            "Excalibur (1981) 1.2\n",
            "Gulliver's Travels (1939) 1.2\n",
            "Total Recall (1990) 1\n",
            "Dirty Dozen, The (1967) 1.2\n",
            "Goldfinger (1964) 1.2\n",
            "From Russia with Love (1963) 1.2\n",
            "Dr. No (1962) 1.2\n",
            "Fight Club (1999) 1.2\n",
            "RoboCop (1987) 1\n",
            "Who Framed Roger Rabbit? (1988) 1.2\n",
            "Live and Let Die (1973) 1.2\n",
            "Thunderball (1965) 1.2\n",
            "Being John Malkovich (1999) 1\n",
            "Spaceballs (1987) 1.2\n",
            "Robin Hood (1973) 1.2\n",
            "Dogma (1999) 1.2\n",
            "Messenger: The Story of Joan of Arc, The (1999) 1.2\n",
            "Longest Day, The (1962) 1\n",
            "Green Mile, The (1999) 1.2\n",
            "Easy Rider (1969) 1\n",
            "Talented Mr. Ripley, The (1999) -1\n",
            "Encino Man (1992) 0\n",
            "Sister Act (1992) 0\n",
            "Wayne's World (1992) 1.2\n",
            "Scream 3 (2000) 1.2\n",
            "JFK (1991) 1.2\n",
            "Teenage Mutant Ninja Turtles II: The Secret of the Ooze (1991) 1\n",
            "Teenage Mutant Ninja Turtles III (1993) 1\n",
            "Red Dawn (1984) 1.2\n",
            "Good Morning, Vietnam (1987) 1.2\n",
            "Grumpy Old Men (1993) 1.2\n",
            "Ladyhawke (1985) 1\n",
            "Hook (1991) 1\n",
            "Predator (1987) 1\n",
            "Gladiator (2000) 1.2\n",
            "Road Trip (2000) 1\n",
            "Man with the Golden Gun, The (1974) 1\n",
            "Blazing Saddles (1974) 1.2\n",
            "Mad Max (1979) 1.2\n",
            "Road Warrior, The (Mad Max 2) (1981) 1.2\n",
            "Shaft (1971) 1.2\n",
            "Big Trouble in Little China (1986) 1\n",
            "Shaft (2000) 1\n",
            "X-Men (2000) 1.2\n",
            "What About Bob? (1991) 1\n",
            "Transformers: The Movie (1986) 1\n",
            "M*A*S*H (a.k.a. MASH) (1970) 1.2\n",
            "Total for user 1: 223.79999999999998\n",
            "User 1 has rated movies\n"
          ]
        }
      ],
      "source": [
        "# # Test the function\n",
        "# debug = True\n",
        "# num, p_vec = create_preference_vector(debug, 1, user_movie_graph)"
      ]
    },
    {
      "cell_type": "code",
      "execution_count": null,
      "metadata": {
        "id": "DqA-SduVPmTc",
        "outputId": "f14bab11-4fed-4b16-9d0e-b60ce0df6c44"
      },
      "outputs": [
        {
          "name": "stdout",
          "output_type": "stream",
          "text": [
            "Number of movies rated by the user: 232\n",
            "{0.004468275245755139: 76, 0.005361930294906166: 124, 0.0: 9518, -0.004468275245755139: 1}\n",
            "Number of values different from zero 201\n",
            "Alcuni dei film visti dall'utente hanno peso 0\n"
          ]
        }
      ],
      "source": [
        "# print(f\"Number of movies rated by the user: {num}\")\n",
        "# weight_dict = {}\n",
        "# for k, v in p_vec.items():\n",
        "#     if v in weight_dict:\n",
        "#         weight_dict[v] += 1\n",
        "#     else:\n",
        "#         weight_dict[v] = 1\n",
        "\n",
        "# print(weight_dict)\n",
        "\n",
        "# total = 0\n",
        "# for k, v in weight_dict.items():\n",
        "#     if k != 0.0:\n",
        "#         total += v\n",
        "\n",
        "# print(\"Number of values different from zero\", total)\n",
        "# if total != num:\n",
        "#     print(\"Alcuni dei film visti dall'utente hanno peso 0\")"
      ]
    },
    {
      "cell_type": "code",
      "execution_count": null,
      "metadata": {
        "id": "CbKWHBnHPmTc"
      },
      "outputs": [],
      "source": [
        "# # print(p_vec)\n",
        "# # print(type(p_vec))\n",
        "\n",
        "# # for k, v in p_vec.items():\n",
        "# #     print(k, v)\n",
        "\n",
        "# print('Valori negativi')\n",
        "# for k, v in p_vec.items():\n",
        "#     if v < 0.0:\n",
        "#         print(k, v)\n",
        "\n",
        "# print('Valori maggiori di 0')\n",
        "# for k, v in p_vec.items():\n",
        "#     if v > 0.0:\n",
        "#         print(k, v)"
      ]
    },
    {
      "cell_type": "markdown",
      "source": [
        "PAGE RANK"
      ],
      "metadata": {
        "id": "AkZ7udWeQ824"
      }
    },
    {
      "cell_type": "code",
      "execution_count": null,
      "metadata": {
        "id": "gBe3NjRnPmTc"
      },
      "outputs": [],
      "source": [
        "###VECCHIA PREDICT USER E PAGE RANK\n",
        "\n",
        "# def predict_user(user_id, user_movie_graph: nx.Graph, movie_movie_graph: nx.Graph):\n",
        "#     _, p_vec = create_preference_vector(False, user_id, user_movie_graph)\n",
        "#     print(f\"Preference vector for user {user_id}: {list(p_vec)[:10]}\")\n",
        "\n",
        "#     already_seen = [movie for movie, p in p_vec.items() if p > 0]\n",
        "#     # Qua uso p > 0 perchè sopra assegno 0 ad ogni film non visto e valori diversi da 0 per quelli visti\n",
        "\n",
        "#     print(f\"Already seen movies for user {user_id}: {list(already_seen)[:10]}\")\n",
        "\n",
        "#     if len(already_seen) < 1:\n",
        "#         return []\n",
        "#     item_rank = nx.pagerank(movie_movie_graph, personalization=p_vec, alpha=0.95, weight=\"weight\")\n",
        "#     print(f\"Item rank for user {user_id}: {list(item_rank)[:10]}\")\n",
        "#     s_t = [\n",
        "#         x for x in sorted(\n",
        "#             movie_movie_graph.nodes(), key=lambda x: item_rank[x] if x in item_rank else 0, reverse=True\n",
        "#             )\n",
        "#         if x not in already_seen\n",
        "#         ]\n",
        "\n",
        "#     return s_t"
      ]
    },
    {
      "cell_type": "code",
      "source": [
        "# vorrei fare page rank per trovare sul grafo user_user i 10 utenti più simili all'utente a cui farò la raccomandazione\n",
        "def find_similar_users_with_graph(user_id, user_user_graph, top_n=10):\n",
        "    # Calcola il PageRank personalizzato\n",
        "    pagerank_scores = nx.pagerank(user_user_graph, alpha=0.85, weight=\"weight\")\n",
        "\n",
        "    # Ordina gli utenti in base al punteggio di PageRank, escludendo l'utente stesso\n",
        "    similar_users = sorted(\n",
        "        [(u, score) for u, score in pagerank_scores.items() if u != user_id],\n",
        "        key=lambda x: x[1],\n",
        "        reverse=True\n",
        "    )[:top_n]\n",
        "\n",
        "    # Restituisci solo gli ID degli utenti\n",
        "    return [user for user, _ in similar_users]\n"
      ],
      "metadata": {
        "id": "IN0w2LjeRxxz"
      },
      "execution_count": 30,
      "outputs": []
    },
    {
      "cell_type": "code",
      "source": [
        "#POSSIBILE NUOVA PAGE RANK E PREDICT che sfrutta gli utenti simili al mio per la raccomandazione\n",
        "def predict_user_with_similars(user_id, user_movie_graph, movie_movie_graph, similar_users, already_seen):\n",
        "\n",
        "    # Costruisci il preference vector per l'utente target usando solo i film degli utenti simili\n",
        "    _, p_vec = create_preference_vector(False, user_id, user_movie_graph)\n",
        "\n",
        "    # Se non ci sono film da analizzare, ritorna una lista vuota\n",
        "    if len(p_vec) < 1 or len(already_seen) < 1:\n",
        "        return []\n",
        "\n",
        "    # Calcola il ranking dei film usando PageRank\n",
        "    item_rank = nx.pagerank(movie_movie_graph, personalization= p_vec, alpha=0.95, weight=\"weight\")\n",
        "\n",
        "    # Ordina i film per punteggio e rimuovi quelli già visti\n",
        "    recommended_movies = [\n",
        "        x for x in sorted(\n",
        "            movie_movie_graph.nodes(),\n",
        "            key=lambda x: item_rank[x] if x in item_rank else 0,\n",
        "            reverse=True\n",
        "        )\n",
        "        if x not in already_seen\n",
        "    ]\n",
        "\n",
        "    return recommended_movies\n"
      ],
      "metadata": {
        "id": "BcOnw16VRKAW"
      },
      "execution_count": 31,
      "outputs": []
    },
    {
      "cell_type": "markdown",
      "metadata": {
        "id": "ghi5JtynPmTc"
      },
      "source": [
        "Cercare i 10 utenti più simili al mio"
      ]
    },
    {
      "cell_type": "code",
      "execution_count": 38,
      "metadata": {
        "colab": {
          "base_uri": "https://localhost:8080/"
        },
        "id": "ccfJ-xD-PmTc",
        "outputId": "4485c1f1-b475-4c6e-f26f-575075b59872"
      },
      "outputs": [
        {
          "output_type": "stream",
          "name": "stdout",
          "text": [
            "User 599 has rated movies\n",
            "Similar users to user 599: [414, 68, 474, 274, 448, 380, 480, 288, 608, 590]\n",
            "Already seen movies for user 599: ['Toy Story (1995)', 'Jumanji (1995)', 'Grumpier Old Men (1995)', 'Heat (1995)', 'Sabrina (1995)', 'Sudden Death (1995)', 'GoldenEye (1995)', 'American President, The (1995)', 'Dracula: Dead and Loving It (1995)', 'Cutthroat Island (1995)', 'Casino (1995)', 'Sense and Sensibility (1995)', 'Four Rooms (1995)', 'Ace Ventura: When Nature Calls (1995)', 'Money Train (1995)', 'Get Shorty (1995)', 'Assassins (1995)', 'Powder (1995)', 'Othello (1995)', 'City of Lost Children, The (Cité des enfants perdus, La) (1995)', 'Dangerous Minds (1995)', 'Twelve Monkeys (a.k.a. 12 Monkeys) (1995)', 'Clueless (1995)', 'Richard III (1995)', 'Dead Presidents (1995)', 'Restoration (1995)', 'Mortal Kombat (1995)', 'To Die For (1995)', 'Seven (a.k.a. Se7en) (1995)', 'Usual Suspects, The (1995)', 'Mighty Aphrodite (1995)', 'Home for the Holidays (1995)', 'Indian in the Cupboard, The (1995)', 'Eye for an Eye (1996)', 'Bio-Dome (1996)', 'Friday (1995)', 'From Dusk Till Dawn (1996)', 'Misérables, Les (1995)', 'Big Bully (1996)', 'Screamers (1995)', 'Juror, The (1996)', \"Things to Do in Denver When You're Dead (1995)\", 'Dunston Checks In (1996)', 'Black Sheep (1996)', 'Nick of Time (1995)', 'Vampire in Brooklyn (1995)', 'Broken Arrow (1996)', 'Hate (Haine, La) (1995)', 'City Hall (1996)', 'Bottle Rocket (1996)', 'Happy Gilmore (1996)', 'Braveheart (1995)', 'Taxi Driver (1976)', 'Rumble in the Bronx (Hont faan kui) (1995)', 'Birdcage, The (1996)', 'Brothers McMullen, The (1995)', 'Bad Boys (1995)', 'Basketball Diaries, The (1995)', 'Apollo 13 (1995)', 'Batman Forever (1995)', 'Beyond Rangoon (1995)', 'Canadian Bacon (1995)', 'Casper (1995)', 'Clockers (1995)', 'Congo (1995)', 'Crimson Tide (1995)', 'Desperado (1995)', 'Devil in a Blue Dress (1995)', 'Die Hard: With a Vengeance (1995)', 'First Knight (1995)', 'Hackers (1995)', 'Johnny Mnemonic (1995)', 'Judge Dredd (1995)', 'Kids (1995)', 'Mallrats (1995)', 'Mighty Morphin Power Rangers: The Movie (1995)', 'Net, The (1995)', 'Nine Months (1995)', 'Prophecy, The (1995)', 'Scarlet Letter, The (1995)', 'Showgirls (1995)', 'Something to Talk About (1995)', 'Species (1995)', 'Strange Days (1995)', 'To Wong Foo, Thanks for Everything! Julie Newmar (1995)', 'Walk in the Clouds, A (1995)', 'Waterworld (1995)', \"White Man's Burden (1995)\", 'Wild Bill (1995)', 'Before Sunrise (1995)', 'Billy Madison (1995)', 'Boys on the Side (1995)', 'Clerks (1994)', 'Death and the Maiden (1994)', 'Dolores Claiborne (1995)', 'Dumb & Dumber (Dumb and Dumber) (1994)', 'Exotica (1994)', 'Exit to Eden (1994)', 'Ed Wood (1994)', 'French Kiss (1995)', 'Forget Paris (1995)', 'Hideaway (1995)', 'Houseguest (1994)', 'Heavyweights (Heavy Weights) (1995)', 'I.Q. (1994)', 'Interview with the Vampire: The Vampire Chronicles (1994)', 'Junior (1994)', 'Star Wars: Episode IV - A New Hope (1977)', 'Little Princess, A (1995)', 'Major Payne (1995)', 'Love Affair (1994)', 'Man of the House (1995)', 'Milk Money (1994)', 'Miracle on 34th Street (1994)', \"Nobody's Fool (1994)\", 'Nell (1994)', 'Natural Born Killers (1994)', 'Outbreak (1995)', 'Léon: The Professional (a.k.a. The Professional) (Léon) (1994)', 'Pulp Fiction (1994)', 'Quiz Show (1994)', 'Quick and the Dead, The (1995)', 'Stuart Saves His Family (1995)', 'Secret of Roan Inish, The (1994)', 'Stargate (1994)', 'Santa Clause, The (1994)', 'Shawshank Redemption, The (1994)', 'Swimming with Sharks (1995)', \"National Lampoon's Senior Trip (1995)\", 'Tank Girl (1995)', 'Tales from the Crypt Presents: Demon Knight (1995)', 'Star Trek: Generations (1994)', 'Village of the Damned (1995)', 'Tommy Boy (1995)', \"What's Eating Gilbert Grape (1993)\", 'Virtuosity (1995)', \"Muriel's Wedding (1994)\", 'Ace Ventura: Pet Detective (1994)', 'Adventures of Priscilla, Queen of the Desert, The (1994)', 'Bullets Over Broadway (1994)', 'Clear and Present Danger (1994)', 'Client, The (1994)', 'Corrina, Corrina (1994)', 'Crow, The (1994)', 'Cobb (1994)', 'Flintstones, The (1994)', 'Forrest Gump (1994)', 'Four Weddings and a Funeral (1994)', 'I Love Trouble (1994)', 'It Could Happen to You (1994)', 'Lion King, The (1994)', \"Wes Craven's New Nightmare (Nightmare on Elm Street Part 7: Freddy's Finale, A) (1994)\", 'Mask, The (1994)', 'Maverick (1994)', 'Naked Gun 33 1/3: The Final Insult (1994)', 'Paper, The (1994)', 'Red Rock West (1992)', 'Richie Rich (1994)', 'River Wild, The (1994)', 'Speed (1994)', 'Timecop (1994)', 'True Lies (1994)', 'Wolf (1994)', 'Wyatt Earp (1994)', 'Street Fighter (1994)', 'Highlander III: The Sorcerer (a.k.a. Highlander: The Final Dimension) (1994)', 'Addams Family Values (1993)', 'Age of Innocence, The (1993)', 'Airheads (1994)', 'Air Up There, The (1994)', 'Another Stakeout (1993)', 'Bad Girls (1994)', 'Beverly Hillbillies, The (1993)', 'Beverly Hills Cop III (1994)', 'Blown Away (1994)', 'Blue Chips (1994)', 'Bronx Tale, A (1993)', 'Cabin Boy (1994)', \"Carlito's Way (1993)\", \"City Slickers II: The Legend of Curly's Gold (1994)\", 'Cliffhanger (1993)', 'Coneheads (1993)', 'Cops and Robbersons (1994)', 'Cowboy Way, The (1994)', 'Dave (1993)', 'Dazed and Confused (1993)', 'Demolition Man (1993)', 'For Love or Money (1993)', 'Firm, The (1993)', 'Free Willy (1993)', 'Fugitive, The (1993)', 'Geronimo: An American Legend (1993)', 'Getaway, The (1994)', 'Getting Even with Dad (1994)', 'Hard Target (1993)', 'Hot Shots! Part Deux (1993)', 'Englishman Who Went Up a Hill But Came Down a Mountain, The (1995)', 'Hudsucker Proxy, The (1994)', \"I'll Do Anything (1994)\", 'In the Army Now (1994)', 'In the Line of Fire (1993)', \"What's Love Got to Do with It? (1993)\", 'Jimmy Hollywood (1994)', 'Jurassic Park (1993)', 'Kalifornia (1993)', 'Last Action Hero (1993)', 'Lightning Jack (1994)', 'Man Without a Face, The (1993)', 'Manhattan Murder Mystery (1993)', 'Executive Decision (1996)', 'Much Ado About Nothing (1993)', 'Mrs. Doubtfire (1993)', 'Next Karate Kid, The (1994)', 'North (1994)', 'Philadelphia (1993)', 'Renaissance Man (1994)', 'Rising Sun (1993)', 'RoboCop 3 (1993)', 'Robin Hood: Men in Tights (1993)', 'Rudy (1993)', 'Scout, The (1994)', 'Searching for Bobby Fischer (1993)', 'Secret Garden, The (1993)', 'Shadow, The (1994)', 'Short Cuts (1993)', 'Six Degrees of Separation (1993)', 'Sleepless in Seattle (1993)', 'Blade Runner (1982)', 'Son in Law (1993)', 'So I Married an Axe Murderer (1993)', 'Striking Distance (1993)', 'Super Mario Bros. (1993)', 'Surviving the Game (1994)', 'Terminal Velocity (1994)', 'Nightmare Before Christmas, The (1993)', 'Three Musketeers, The (1993)', 'Tombstone (1993)', 'True Romance (1993)', 'Welcome to the Dollhouse (1995)', 'Little Big League (1994)', 'Little Rascals, The (1994)', 'Andre (1994)', 'Princess Caraboo (1994)', 'Brady Bunch Movie, The (1995)', 'Home Alone (1990)', 'Ghost (1990)', 'Aladdin (1992)', 'Terminator 2: Judgment Day (1991)', 'Batman (1989)', 'Silence of the Lambs, The (1991)', 'Snow White and the Seven Dwarfs (1937)', 'Beauty and the Beast (1991)', 'Pinocchio (1940)', 'Pretty Woman (1990)', 'Wild Bunch, The (1969)', 'One Fine Day (1996)', 'Fargo (1996)', 'Heavy Metal (1981)', 'Pallbearer, The (1996)', 'Jane Eyre (1996)', 'Ed (1996)', 'Last Supper, The (1995)', 'Primal Fear (1996)', 'Theodore Rex (1995)', 'Sgt. Bilko (1996)', 'Courage Under Fire (1996)', 'Mission: Impossible (1996)', 'Dragonheart (1996)', 'Kids in the Hall: Brain Candy (1996)', 'Bloodsport 2 (a.k.a. Bloodsport II: The Next Kumite) (1996)', 'Space Jam (1996)', 'Operation Dumbo Drop (1995)', 'Substitute, The (1996)', 'Quest, The (1996)', 'Mulholland Falls (1996)', 'Truth About Cats & Dogs, The (1996)', 'Multiplicity (1996)', 'Wallace & Gromit: The Best of Aardman Animation (1996)', 'Craft, The (1996)', 'Great White Hype, The (1996)', 'Cold Comfort Farm (1995)', \"Heaven's Prisoners (1996)\", 'Rock, The (1996)', 'Twister (1996)', 'Barb Wire (1996)', 'Ghost in the Shell (Kôkaku kidôtai) (1995)', 'Thinner (1996)', 'Spy Hard (1996)', 'Wallace & Gromit: A Close Shave (1995)', 'Arrival, The (1996)', 'Dr. Strangelove or: How I Learned to Stop Worrying and Love the Bomb (1964)', 'Phantom, The (1996)', 'Striptease (1996)', 'Heavy (1995)', 'Trainspotting (1996)', 'Independence Day (a.k.a. ID4) (1996)', 'Stealing Beauty (1996)', 'Fan, The (1996)', 'Cable Guy, The (1996)', 'Kingpin (1996)', 'Eraser (1996)', 'Nutty Professor, The (1996)', 'Frighteners, The (1996)', 'Phenomenon (1996)', 'American Buffalo (1996)', 'Fled (1996)', 'Very Brady Sequel, A (1996)', 'Ransom (1996)', 'High School High (1996)', 'Chain Reaction (1996)', 'Matilda (1996)', 'Emma (1996)', 'Tales from the Crypt Presents: Bordello of Blood (1996)', 'Escape from L.A. (1996)', 'Basquiat (1996)', 'Tin Cup (1996)', 'Godfather, The (1972)', 'Supercop (Police Story 3: Supercop) (Jing cha gu shi III: Chao ji jing cha) (1992)', 'Island of Dr. Moreau, The (1996)', 'First Kid (1996)', 'Bogus (1996)', 'Bulletproof (1996)', 'Twelfth Night (1996)', 'Mother Night (1996)', 'Philadelphia Story, The (1940)', \"Singin' in the Rain (1952)\", 'Rear Window (1954)', 'Some Like It Hot (1959)', 'Charade (1963)', 'Casablanca (1942)', 'Maltese Falcon, The (1941)', 'Roman Holiday (1953)', 'Wizard of Oz, The (1939)', 'Gone with the Wind (1939)', 'Sunset Blvd. (a.k.a. Sunset Boulevard) (1950)', 'Citizen Kane (1941)', '2001: A Space Odyssey (1968)', 'Rebecca (1940)', 'Notorious (1946)', 'Spellbound (1945)', 'His Girl Friday (1940)', \"It's a Wonderful Life (1946)\", 'Night of the Living Dead (1968)', 'Michael Collins (1996)', 'Big Night (1996)', 'Last Man Standing (1996)', '2 Days in the Valley (1996)', 'Extreme Measures (1996)', 'Chamber, The (1996)', 'Homeward Bound: The Incredible Journey (1993)', 'Cool Runnings (1993)', 'Angels in the Outfield (1994)', 'Cinderella (1950)', 'Robin Hood: Prince of Thieves (1991)', 'Mary Poppins (1964)', 'Bedknobs and Broomsticks (1971)', 'Alice in Wonderland (1951)', 'Freeway (1996)', 'Die Hard (1988)', 'That Thing You Do! (1996)', 'Long Kiss Goodnight, The (1996)', 'Ghost and the Darkness, The (1996)', 'Looking for Richard (1996)', 'Everyone Says I Love You (1996)', \"William Shakespeare's Romeo + Juliet (1996)\", 'Swingers (1996)', 'Willy Wonka & the Chocolate Factory (1971)', 'Sleeper (1973)', 'Fish Called Wanda, A (1988)', \"Monty Python's Life of Brian (1979)\", 'Victor/Victoria (1982)', 'Bonnie and Clyde (1967)', 'Dirty Dancing (1987)', 'Reservoir Dogs (1992)', 'Platoon (1986)', \"Weekend at Bernie's (1989)\", 'Doors, The (1991)', 'Crying Game, The (1992)', 'Glengarry Glen Ross (1992)', 'E.T. the Extra-Terrestrial (1982)', 'Days of Thunder (1990)', 'Top Gun (1986)', 'Rebel Without a Cause (1955)', 'Streetcar Named Desire, A (1951)', 'Funeral, The (1996)', 'People vs. Larry Flynt, The (1996)', 'Drop Dead Fred (1991)', 'Abyss, The (1989)', 'Escape from New York (1981)', 'Monty Python and the Holy Grail (1975)', 'Wallace & Gromit: The Wrong Trousers (1993)', 'Bob Roberts (1992)', 'Paths of Glory (1957)', 'English Patient, The (1996)', 'My Left Foot (1989)', 'Sex, Lies, and Videotape (1989)', 'Thin Blue Line, The (1988)', 'Star Wars: Episode V - The Empire Strikes Back (1980)', 'Princess Bride, The (1987)', 'Raiders of the Lost Ark (Indiana Jones and the Raiders of the Lost Ark) (1981)', 'Brazil (1985)', 'Aliens (1986)', 'Good, the Bad and the Ugly, The (Buono, il brutto, il cattivo, Il) (1966)', 'Lawrence of Arabia (1962)', 'Clockwork Orange, A (1971)', 'Apocalypse Now (1979)', 'Star Wars: Episode VI - Return of the Jedi (1983)', 'Third Man, The (1949)', 'Goodfellas (1990)', 'Alien (1979)', 'Army of Darkness (1993)', 'Big Blue, The (Grand bleu, Le) (1988)', 'Killer, The (Die xue shuang xiong) (1989)', 'Psycho (1960)', 'Blues Brothers, The (1980)', 'Godfather: Part II, The (1974)', 'Full Metal Jacket (1987)', 'Grand Day Out with Wallace and Gromit, A (1989)', 'Henry V (1989)', 'Amadeus (1984)', 'Quiet Man, The (1952)', 'Raging Bull (1980)', 'Annie Hall (1977)', 'Right Stuff, The (1983)', 'Stalker (1979)', 'Boot, Das (Boat, The) (1981)', 'Trust (1990)', 'Seventh Seal, The (Sjunde inseglet, Det) (1957)', 'Terminator, The (1984)', 'Glory (1989)', 'Rosencrantz and Guildenstern Are Dead (1990)', 'Manhattan (1979)', \"Miller's Crossing (1990)\", 'Dead Poets Society (1989)', 'Graduate, The (1967)', 'Touch of Evil (1958)', 'Femme Nikita, La (Nikita) (1990)', 'Chinatown (1974)', 'Day the Earth Stood Still, The (1951)', 'Treasure of the Sierra Madre, The (1948)', 'Better Off Dead... (1985)', 'Shining, The (1980)', 'Stand by Me (1986)', 'Evil Dead II (Dead by Dawn) (1987)', 'Deer Hunter, The (1978)', 'Groundhog Day (1993)', 'Unforgiven (1992)', 'Pump Up the Volume (1990)', 'Back to the Future (1985)', 'Fried Green Tomatoes (1991)', 'Akira (1988)', 'Highlander (1986)', 'Young Frankenstein (1974)', 'Fantasia (1940)', 'High Noon (1952)', 'Indiana Jones and the Last Crusade (1989)', 'Real Genius (1985)', 'Pink Floyd: The Wall (1982)', 'Killing Fields, The (1984)', 'Field of Dreams (1989)', 'When Harry Met Sally... (1989)', 'Alien³ (a.k.a. Alien 3) (1992)', 'Birds, The (1963)', \"Dracula (Bram Stoker's Dracula) (1992)\", 'Candyman (1992)', 'Cape Fear (1991)', 'Nightmare on Elm Street, A (1984)', 'Omen, The (1976)', 'Blood and Wine (Blood & Wine) (1996)', 'Albino Alligator (1996)', 'Nightwatch (1997)', 'Star Trek: First Contact (1996)', 'Shine (1996)', 'Jingle All the Way (1996)', 'Crucible, The (1996)', 'Die Hard 2 (1990)', 'Star Trek: The Motion Picture (1979)', 'Star Trek VI: The Undiscovered Country (1991)', 'Star Trek V: The Final Frontier (1989)', 'Star Trek II: The Wrath of Khan (1982)', 'Star Trek III: The Search for Spock (1984)', 'Star Trek IV: The Voyage Home (1986)', 'Batman Returns (1992)', 'Young Guns (1988)', 'Grease (1978)', 'Grease 2 (1982)', 'Marked for Death (1990)', 'Under Siege (1992)', 'Jaws (1975)', 'My Fellow Americans (1996)', 'Mars Attacks! (1996)', 'Jerry Maguire (1996)', 'Raising Arizona (1987)', 'Sneakers (1992)', 'Ghosts of Mississippi (1996)', 'Beavis and Butt-Head Do America (1996)', 'Scream (1996)', 'Last of the Mohicans, The (1992)', 'Michael (1996)', 'Hamlet (1996)', 'Zeus and Roxanne (1997)', 'First Strike (Police Story 4: First Strike) (Ging chaat goo si 4: Ji gaan daan yam mo) (1996)', 'Beverly Hills Ninja (1997)', 'Metro (1997)', \"Dante's Peak (1997)\", 'Meet Wally Sparks (1997)', 'Benny & Joon (1993)', \"McHale's Navy (1997)\", \"Gridlock'd (1997)\", 'Waiting for Guffman (1996)', 'Fools Rush In (1997)', 'Absolute Power (1997)', \"Vegas Vacation (National Lampoon's Las Vegas Vacation) (1997)\", 'Lost Highway (1997)', 'Rosewood (1997)', 'Donnie Brasco (1997)', 'Booty Call (1997)', 'Private Parts (1997)', 'Saint, The (1997)', \"Smilla's Sense of Snow (1997)\", 'Daytrippers, The (1996)', 'Liar Liar (1997)', 'Selena (1997)', \"Devil's Own, The (1997)\", 'Anaconda (1997)', 'Volcano (1997)', 'Austin Powers: International Man of Mystery (1997)', \"Fathers' Day (1997)\", 'Fifth Element, The (1997)', 'Addicted to Love (1997)', 'Lost World: Jurassic Park, The (1997)', 'Con Air (1997)', 'Batman & Robin (1997)', 'Face/Off (1997)', 'Men in Black (a.k.a. MIB) (1997)', 'Out to Sea (1997)', 'Contact (1997)', 'Conan the Barbarian (1982)', 'Cop Land (1997)', 'Event Horizon (1997)', 'Spawn (1997)', 'Conspiracy Theory (1997)', 'Steel (1997)', 'Hoodlum (1997)', 'Mimic (1997)', 'Excess Baggage (1997)', 'Air Force One (1997)', '187 (One Eight Seven) (1997)', 'Hunt for Red October, The (1990)', 'Edge, The (1997)', 'Peacemaker, The (1997)', 'L.A. Confidential (1997)', 'Seven Years in Tibet (1997)', 'Wishmaster (1997)', 'Game, The (1997)', \"Ulee's Gold (1997)\", 'Ice Storm, The (1997)', 'Chasing Amy (1997)', 'I Know What You Did Last Summer (1997)', \"The Devil's Advocate (1997)\", 'RocketMan (a.k.a. Rocket Man) (1997)', 'Playing God (1997)', 'Gattaca (1997)', 'Life Less Ordinary, A (1997)', 'Stripes (1981)', 'Mad City (1997)', 'Rainmaker, The (1997)', 'Boogie Nights (1997)', 'Witness (1985)', 'Starship Troopers (1997)', 'Mortal Kombat: Annihilation (1997)', 'Truman Show, The (1998)', 'Jackal, The (1997)', 'Man Who Knew Too Little, The (1997)', 'Alien: Resurrection (1997)', 'Amistad (1997)', 'Apostle, The (1997)', 'Deconstructing Harry (1997)', 'For Richer or Poorer (1997)', 'Good Will Hunting (1997)', 'Midnight in the Garden of Good and Evil (1997)', 'Mouse Hunt (1997)', 'Sweet Hereafter, The (1997)', 'Titanic (1997)', 'Tomorrow Never Dies (1997)', 'Postman, The (1997)', 'Jackie Brown (1997)', 'Kundun (1997)', 'Big Lebowski, The (1998)', 'Great Expectations (1998)', 'Wag the Dog (1997)', 'Dark City (1998)', 'Hard Rain (1998)', 'Half Baked (1998)', 'Deep Rising (1998)', 'Replacement Killers, The (1998)', 'B. Monkey (1998)', 'Wedding Singer, The (1998)', 'Sphere (1998)', 'As Good as It Gets (1997)', 'Twilight (1998)', 'U.S. Marshals (1998)', 'Love and Death on Long Island (1997)', 'Suicide Kings (1997)', 'Man in the Iron Mask, The (1998)', 'Wild Things (1998)', 'Primary Colors (1998)', 'Big One, The (1997)', 'Spanish Prisoner, The (1997)', 'City of Angels (1998)', 'He Got Game (1998)', 'Zero Effect (1998)', \"Krippendorf's Tribe (1998)\", 'Mr. Nice Guy (Yat goh ho yan) (1997)', 'Species II (1998)', 'Big Hit, The (1998)', 'Misérables, Les (1998)', 'Deep Impact (1998)', 'Godzilla (1998)', 'Bulworth (1998)', 'Fear and Loathing in Las Vegas (1998)', 'Almost Heroes (1998)', 'Six Days Seven Nights (1998)', \"Can't Hardly Wait (1998)\", 'Henry Fool (1997)', 'X-Files: Fight the Future, The (1998)', 'Dr. Dolittle (1998)', 'Out of Sight (1998)', 'Armageddon (1998)', 'Lethal Weapon 4 (1998)', 'Small Soldiers (1998)', 'Pi (1998)', \"There's Something About Mary (1998)\", 'On the Waterfront (1954)', 'West Side Story (1961)', 'In the Heat of the Night (1967)', 'Oliver! (1968)', 'Midnight Cowboy (1969)', 'French Connection, The (1971)', 'Rocky (1976)', 'Terms of Endearment (1983)', 'Out of Africa (1985)', 'Last Emperor, The (1987)', 'Rain Man (1988)', 'Repo Man (1984)', 'Labyrinth (1986)', 'Breakfast Club, The (1985)', 'Halloween (1978)', \"Child's Play (1988)\", \"Child's Play 2 (1990)\", \"Child's Play 3 (1991)\", 'Poltergeist (1982)', 'Exorcist, The (1973)', 'Lethal Weapon (1987)', 'Lethal Weapon 2 (1989)', 'Lethal Weapon 3 (1992)', 'Gremlins (1984)', 'Gremlins 2: The New Batch (1990)', 'Goonies, The (1985)', 'Mask of Zorro, The (1998)', 'Back to the Future Part II (1989)', 'Back to the Future Part III (1990)', 'Bambi (1942)', 'Seven Samurai (Shichinin no samurai) (1954)', 'Godfather: Part III, The (1990)', 'Saving Private Ryan (1998)', 'Blank Check (1994)', 'Hocus Pocus (1993)', 'Honey, I Blew Up the Kid (1992)', 'Honey, I Shrunk the Kids (1989)', 'Negotiator, The (1998)', 'BASEketball (1998)', 'Roger & Me (1989)', 'And the Band Played On (1993)', \"'burbs, The (1989)\", 'Night Porter, The (Portiere di notte, Il) (1974)', 'Blue Velvet (1986)', 'Jungle Book, The (1967)', 'Lady and the Tramp (1955)', 'Little Mermaid, The (1989)', 'Mighty Ducks, The (1992)', 'Muppet Christmas Carol, The (1992)', 'Newsies (1992)', 'Peter Pan (1953)', 'Popeye (1980)', 'Return of Jafar, The (1994)', 'Rocketeer, The (1991)', 'Sleeping Beauty (1959)', 'Song of the South (1946)', 'Splash (1984)', 'Tron (1982)', 'Indiana Jones and the Temple of Doom (1984)', 'Lord of the Rings, The (1978)', 'Dead Zone, The (1983)', 'Maximum Overdrive (1986)', 'All Dogs Go to Heaven (1989)', 'Addams Family, The (1991)', 'Snake Eyes (1998)', 'Adventures in Babysitting (1987)', 'Weird Science (1985)', \"Charlotte's Web (1973)\", 'Dark Crystal, The (1982)', 'Sixteen Candles (1984)', 'Pretty in Pink (1986)', 'How Stella Got Her Groove Back (1998)', \"Rosemary's Baby (1968)\", 'NeverEnding Story, The (1984)', 'NeverEnding Story II: The Next Chapter, The (1990)', 'Blade (1998)', 'Wrongfully Accused (1998)', 'Next Stop Wonderland (1998)', 'Beetlejuice (1988)', 'Strangers on a Train (1951)', '54 (1998)', 'Willow (1988)', 'Untouchables, The (1987)', 'Lady Vanishes, The (1938)', 'Rounders (1998)', 'Cube (1997)', 'Broadcast News (1987)', 'Working Girl (1988)', 'Married to the Mob (1988)', 'Say Anything... (1989)', 'Hero (1992)', 'Toys (1992)', 'One Crazy Summer (1986)', 'Nothing But Trouble (1991)', 'Few Good Men, A (1992)', 'Indecent Proposal (1993)', 'Rush Hour (1998)', 'Six-String Samurai (1998)', 'Ronin (1998)', 'Monument Ave. (1998)', 'Thing, The (1982)', 'Player, The (1992)', 'Edward Scissorhands (1990)', 'Overnight Delivery (1998)', 'Night at the Roxbury, A (1998)', 'What Dreams May Come (1998)', 'History of the World: Part I (1981)', 'My Cousin Vinny (1992)', 'Holy Man (1998)', '2010: The Year We Make Contact (1984)', 'Pleasantville (1998)', 'Soldier (1998)', 'Cruise, The (1998)', 'Orgazmo (1997)', 'Vampires (1998)', 'American History X (1998)', 'Siege, The (1998)', 'Waterboy, The (1998)', 'Elizabeth (1998)', \"I'll Be Home For Christmas (1998)\", 'Sid and Nancy (1986)', 'Big Chill, The (1983)', 'Enemy of the State (1998)', \"Bug's Life, A (1998)\", 'Celebrity (1998)', 'Waking Ned Devine (a.k.a. Waking Ned) (1998)', 'Pink Flamingos (1972)', 'King Kong (1933)', 'Desperately Seeking Susan (1985)', 'Fletch (1985)', 'Fletch Lives (1989)', 'Money Pit, The (1986)', 'View to a Kill, A (1985)', 'Lifeforce (1985)', 'Police Academy (1984)', 'Police Academy 3: Back in Training (1986)', 'Police Academy 4: Citizens on Patrol (1987)', 'Police Academy 5: Assignment: Miami Beach (1988)', 'Police Academy 6: City Under Siege (1989)', 'Very Bad Things (1998)', 'Simple Plan, A (1998)', 'Star Trek: Insurrection (1998)', 'Rushmore (1998)', 'Shakespeare in Love (1998)', 'Miracle on 34th Street (1947)', 'Santa Claus: The Movie (1985)', 'Rambo: First Blood Part II (1985)', 'First Blood (Rambo: First Blood) (1982)', 'Rambo III (1988)', 'Romancing the Stone (1984)', 'Rocky II (1979)', 'Rocky III (1982)', 'Rocky IV (1985)', 'Rocky V (1990)', 'Clue (1985)', 'Nothing in Common (1986)', 'Karate Kid, The (1984)', 'Karate Kid, Part II, The (1986)', 'Karate Kid, Part III, The (1989)', \"Christmas Vacation (National Lampoon's Christmas Vacation) (1989)\", \"You've Got Mail (1998)\", 'Thin Red Line, The (1998)', 'Faculty, The (1998)', 'Civil Action, A (1998)', 'Affliction (1997)', 'At First Sight (1999)', 'Varsity Blues (1999)', 'Virus (1999)', 'Howard the Duck (1986)', 'Fly, The (1986)', 'Armed and Dangerous (1986)', 'Deadly Friend (1986)', \"Jumpin' Jack Flash (1986)\", 'Crocodile Dundee (1986)', 'Crocodile Dundee II (1988)', 'Tough Guys (1986)', 'Color of Money, The (1986)', '¡Three Amigos! (1986)', \"She's All That (1999)\", 'Payback (1999)', 'Blast from the Past (1999)', 'Message in a Bottle (1999)', 'October Sky (1999)', 'Office Space (1999)', '8MM (1999)', 'Alligator (1980)', 'Planet of the Apes (1968)', 'Beneath the Planet of the Apes (1970)', 'Escape from the Planet of the Apes (1971)', 'Analyze This (1999)', 'Corruptor, The (1999)', 'Cruel Intentions (1999)', 'Lock, Stock & Two Smoking Barrels (1998)', \"My Boyfriend's Back (1993)\", 'EDtv (1999)', 'Matrix, The (1999)', '10 Things I Hate About You (1999)', 'Go (1999)', 'Twin Dragons (Shuang long hui) (1992)', \"Cookie's Fortune (1999)\", 'Goodbye Lover (1999)', 'Open Your Eyes (Abre los ojos) (1997)', 'Lost & Found (1999)', 'Pushing Tin (1999)', 'Election (1999)', 'eXistenZ (1999)', 'Entrapment (1999)', 'Idle Hands (1999)', 'Night of the Comet (1984)', 'Dick Tracy (1990)', 'Mummy, The (1999)', \"William Shakespeare's A Midsummer Night's Dream (1999)\", 'Black Mask (Hak hap) (1996)', 'Star Wars: Episode I - The Phantom Menace (1999)', 'Superman (1978)', 'Superman II (1980)', 'Superman III (1983)', 'Superman IV: The Quest for Peace (1987)', 'Rocky Horror Picture Show, The (1975)', 'War of the Worlds, The (1953)', 'Notting Hill (1999)', 'Instinct (1999)', 'Free Enterprise (1998)', 'Austin Powers: The Spy Who Shagged Me (1999)', \"Legend of 1900, The (a.k.a. The Legend of the Pianist on the Ocean) (Leggenda del pianista sull'oceano) (1998)\", 'Run Lola Run (Lola rennt) (1998)', 'Big Daddy (1999)', 'Zone 39 (1997)', 'South Park: Bigger, Longer and Uncut (1999)', 'Wild Wild West (1999)', 'American Pie (1999)', 'Arlington Road (1999)', 'Muppets From Space (1999)', 'Blair Witch Project, The (1999)', 'Ghostbusters (a.k.a. Ghost Busters) (1984)', 'Ghostbusters II (1989)', 'Drop Dead Gorgeous (1999)', 'Haunting, The (1999)', 'Deep Blue Sea (1999)', 'Mystery Men (1999)', 'Killing, The (1956)', 'Mosquito Coast, The (1986)', 'Mission, The (1986)', 'Little Shop of Horrors (1986)', 'Iron Giant, The (1999)', 'Sixth Sense, The (1999)', 'Heaven Can Wait (1978)', \"Monty Python's And Now for Something Completely Different (1971)\", 'Airplane! (1980)', 'Airplane II: The Sequel (1982)', \"European Vacation (aka National Lampoon's European Vacation) (1985)\", \"National Lampoon's Vacation (1983)\", 'Funny Farm (1988)', 'Big (1988)', 'Problem Child (1990)', 'Problem Child 2 (1991)', 'Pelican Brief, The (1993)', 'Christmas Story, A (1983)', 'Universal Soldier (1992)', 'Perfect Blue (1997)', 'Three Days of the Condor (3 Days of the Condor) (1975)', 'Medicine Man (1992)', '13th Warrior, The (1999)', 'Muse, The (1999)', 'Outside Providence (1999)', 'Stir of Echoes (1999)', 'Adventures of Milo and Otis, The (Koneko monogatari) (1986)', 'American Beauty (1999)', 'Excalibur (1981)', 'Tommy (1975)', 'Armour of God II: Operation Condor (Operation Condor) (Fei ying gai wak) (1991)', 'Armour of God (Long xiong hu di) (1987)', 'Jakob the Liar (1999)', 'Three Kings (1999)', 'Limey, The (1999)', 'Risky Business (1983)', 'Total Recall (1990)', \"Ferris Bueller's Day Off (1986)\", 'Drunken Master (Jui kuen) (1978)', 'Days of Heaven (1978)', 'Palm Beach Story, The (1942)', 'Flashdance (1983)', 'Goldfinger (1964)', 'From Russia with Love (1963)', 'Dr. No (1962)', 'Blue Lagoon, The (1980)', 'Fistful of Dollars, A (Per un pugno di dollari) (1964)', 'Sydney (Hard Eight) (1996)', 'Home Alone 2: Lost in New York (1992)', 'Fight Club (1999)', 'Straight Story, The (1999)', 'Time Bandits (1981)', 'Bringing Out the Dead (1999)', 'RoboCop (1987)', 'RoboCop 2 (1990)', 'Who Framed Roger Rabbit? (1988)', 'For Your Eyes Only (1981)', 'Licence to Kill (1989)', 'Live and Let Die (1973)', 'Thunderball (1965)', 'House on Haunted Hill (1999)', 'Being John Malkovich (1999)', 'Princess Mononoke (Mononoke-hime) (1997)', 'Insider, The (1999)', 'American Movie (1999)', 'Creepshow (1982)', 'Falling Down (1993)', 'Yojimbo (1961)', 'Spaceballs (1987)', 'Quest for Fire (Guerre du feu, La) (1981)', 'Trading Places (1983)', 'Meatballs (1979)', \"Peter's Friends (1992)\", 'Dogma (1999)', 'Messenger: The Story of Joan of Arc, The (1999)', 'Pokémon: The First Movie (1998)', 'Verdict, The (1982)', 'Adventures of Buckaroo Banzai Across the 8th Dimension, The (1984)', 'Stand and Deliver (1988)', 'Moonstruck (1987)', 'Sleepy Hollow (1999)', 'Scrooged (1988)', 'River Runs Through It, A (1992)', 'Midnight Run (1988)', 'Awakenings (1990)', 'Backdraft (1991)', 'Fisher King, The (1991)', 'End of Days (1999)', 'Two Jakes, The (1990)', 'Cradle Will Rock (1999)', 'Deuce Bigalow: Male Gigolo (1999)', 'Green Mile, The (1999)', 'Cider House Rules, The (1999)', 'Magnolia (1999)', 'Easy Rider (1969)', 'Any Given Sunday (1999)', 'Man on the Moon (1999)', 'Galaxy Quest (1999)', 'Talented Mr. Ripley, The (1999)', 'Titus (1999)', 'Girl, Interrupted (1999)', 'Supernova (2000)', 'Stalag 17 (1953)', 'Presidio, The (1988)', 'Last Detail, The (1973)', 'Five Easy Pieces (1970)', \"Loaded Weapon 1 (National Lampoon's Loaded Weapon 1) (1993)\", 'Fast Times at Ridgemont High (1982)', 'Batman: Mask of the Phantasm (1993)', 'Where the Buffalo Roam (1980)', 'Big Tease, The (1999)', 'Encino Man (1992)', 'Sister Act (1992)', 'Sister Act 2: Back in the Habit (1993)', 'Alive (1993)', 'Scent of a Woman (1992)', \"Wayne's World (1992)\", \"Wayne's World 2 (1993)\", 'League of Their Own, A (1992)', 'Patriot Games (1992)', 'Bodyguard, The (1992)', 'Death Becomes Her (1992)', 'Far and Away (1992)', \"White Men Can't Jump (1992)\", 'Buffy the Vampire Slayer (1992)', 'Hard-Boiled (Lat sau san taam) (1992)', \"Man Bites Dog (C'est arrivé près de chez vous) (1992)\", 'Mariachi, El (1992)', 'Stop! Or My Mom Will Shoot (1992)', 'Forever Young (1992)', 'Cutting Edge, The (1992)', 'Of Mice and Men (1992)', 'Boondock Saints, The (2000)', 'Boiler Room (2000)', 'Pitch Black (2000)', 'Whole Nine Yards, The (2000)', 'Wonder Boys (2000)', 'Beyond the Mat (1999)', 'Ghost Dog: The Way of the Samurai (1999)', 'Key Largo (1948)', 'Birdy (1984)', 'Mission to Mars (2000)', 'Ninth Gate, The (1999)', 'Defending Your Life (1991)', 'Bull Durham (1988)', 'Dog Day Afternoon (1975)', 'Searchers, The (1956)', 'On the Beach (1959)', 'Volunteers (1985)', 'JFK (1991)', \"Who's Harry Crumb? (1989)\", 'Harry and the Hendersons (1987)', 'She-Devil (1989)', 'Muppet Movie, The (1979)', 'Great Muppet Caper, The (1981)', 'Muppets Take Manhattan, The (1984)', 'Erin Brockovich (2000)', 'Final Destination (2000)', \"Bear, The (Ours, L') (1988)\", 'Thelma & Louise (1991)', 'Animal House (1978)', 'School Daze (1988)', 'Do the Right Thing (1989)', 'Double Indemnity (1944)', 'Teenage Mutant Ninja Turtles (1990)', 'Teenage Mutant Ninja Turtles II: The Secret of the Ooze (1991)', 'Teenage Mutant Ninja Turtles III (1993)', 'Bloodsport (1988)', 'Good Morning, Vietnam (1987)', 'Grumpy Old Men (1993)', 'Romeo Must Die (2000)', 'Whatever It Takes (2000)', 'Lord of the Flies (1963)', 'Hustler, The (1961)', 'Close Encounters of the Third Kind (1977)', \"Jacob's Ladder (1990)\", 'Bamba, La (1987)', 'Ladyhawke (1985)', 'High Fidelity (2000)', 'Hook (1991)', 'Misery (1990)', \"Murphy's Romance (1985)\", 'My Life (1993)', 'Solaris (Solyaris) (1972)', 'No Way Out (1987)', 'Frequency (2000)', 'Ready to Rumble (2000)', 'Mystery Train (1989)', 'Arthur (1981)', 'Predator (1987)', 'Where the Money Is (2000)', 'Caddyshack (1980)', 'Virgin Suicides, The (1999)', 'Big Kahuna, The (2000)', 'Time Code (2000)', 'Gladiator (2000)', 'Mr. Mom (1983)', 'Hamlet (2000)', 'Honeymoon in Vegas (1992)', 'Road Trip (2000)', 'Shanghai Noon (2000)', 'Gold Rush, The (1925)', 'Guns of Navarone, The (1961)', 'Romeo and Juliet (1968)', 'Stay Tuned (1992)', 'Blazing Saddles (1974)', 'For a Few Dollars More (Per qualche dollaro in più) (1965)', 'Blood Simple (1984)', 'Fabulous Baker Boys, The (1989)', 'Flatliners (1990)', \"Porky's (1982)\", 'Toxic Avenger, The (1985)', 'Predator 2 (1990)', 'Running Man, The (1987)', 'Brother from Another Planet, The (1984)', 'Alien Nation (1988)', 'Mad Max (1979)', 'Road Warrior, The (Mad Max 2) (1981)', 'Mad Max Beyond Thunderdome (1985)', 'Sleepwalkers (1992)', 'Hamlet (1990)', 'Coming Home (1978)', 'Conversation, The (1974)', 'Serpico (1973)', 'Big Trouble in Little China (1986)', 'Badlands (1973)', 'Me, Myself & Irene (2000)', 'Patriot, The (2000)', 'Perfect Storm, The (2000)', 'F/X (1986)', 'F/X2 (a.k.a. F/X 2 - The Deadly Art of Illusion) (1991)', 'House Party 2 (1991)', 'Croupier (1998)', 'Kid, The (2000)', 'Scary Movie (2000)', 'Footloose (1984)', 'X-Men (2000)', 'What Lies Beneath (2000)', 'Pokémon the Movie 2000 (2000)', 'What About Bob? (1991)', 'Coyote Ugly (2000)', 'Hollow Man (2000)', 'Space Cowboys (2000)', 'Psycho Beach Party (2000)', 'Saving Grace (2000)', 'Crush, The (1993)', 'Tao of Steve, The (2000)', 'Replacements, The (2000)', 'Cell, The (2000)', 'Godzilla 2000 (Gojira ni-sen mireniamu) (1999)', 'Original Kings of Comedy, The (2000)', 'Naked Gun: From the Files of Police Squad!, The (1988)', 'Naked Gun 2 1/2: The Smell of Fear, The (1991)', 'Shane (1953)', 'Bring It On (2000)', 'Crew, The (2000)', 'Highlander: Endgame (Highlander IV) (2000)', 'Way of the Gun, The (2000)', 'Almost Famous (2000)', 'Under Suspicion (2000)', 'Best in Show (2000)', 'Girlfight (2000)', 'Hellraiser (1987)', 'Runaway (1984)', 'Bamboozled (2000)', 'Get Carter (1971)', 'Meet the Parents (2000)', 'Requiem for a Dream (2000)', 'Tigerland (2000)', 'Contender, The (2000)', 'Ghoulies II (1987)', 'Bedazzled (2000)', 'Pay It Forward (2000)', 'Legend of Drunken Master, The (Jui kuen II) (1994)', 'Book of Shadows: Blair Witch 2 (2000)', \"Charlie's Angels (2000)\", 'Little Nicky (2000)', 'Red Planet (2000)', 'Diamonds Are Forever (1971)', '6th Day, The (2000)', 'Unbreakable (2000)', 'Crouching Tiger, Hidden Dragon (Wo hu cang long) (2000)', 'Dungeons & Dragons (2000)', 'Living Daylights, The (1987)', 'Transformers: The Movie (1986)', 'Wall Street (1987)', 'Born on the Fourth of July (1989)', \"Brewster's Millions (1985)\", 'Snatch (2000)', 'Punchline (1988)', 'Chocolat (2000)', \"Dude, Where's My Car? (2000)\", 'Pollock (2000)', 'Finding Forrester (2000)', 'Cast Away (2000)', 'O Brother, Where Art Thou? (2000)', 'State and Main (2000)', 'Traffic (2000)', 'Shadow of the Vampire (2000)', 'House of Games (1987)', 'Annie (1982)', \"Don't Tell Mom the Babysitter's Dead (1991)\", 'At Close Range (1986)', 'Gettysburg (1993)', 'Pledge, The (2001)', 'Mystic Pizza (1988)', 'Prelude to a Kiss (1992)', 'Beverly Hills Cop II (1987)', 'Beverly Hills Cop (1984)', 'Brave Little Toaster, The (1987)', 'Empire of the Sun (1987)', 'Ernest Goes to Camp (1987)', 'Evil Dead, The (1981)', 'Flowers in the Attic (1987)', 'Glass Menagerie, The (1987)', 'Innerspace (1987)', 'Leonard Part 6 (1987)', 'Like Father, Like Son (1987)', 'Making Mr. Right (1987)', 'Mannequin (1987)', 'Masters of the Universe (1987)', 'Hannibal (2001)', 'Saving Silverman (Evil Woman) (2001)', 'Sweet November (2001)', 'Mexican, The (2001)', '15 Minutes (2001)', \"Gray's Anatomy (1996)\", 'Real Life (1979)', 'Double Impact (1991)', 'Harley Davidson and the Marlboro Man (1991)', 'Mermaids (1990)', 'Revenge of the Nerds (1984)', 'Revenge of the Nerds II: Nerds in Paradise (1987)', 'Enemy at the Gates (2001)', 'Memento (2000)', 'Blow (2001)', 'Just Visiting (2001)', 'Joe Dirt (2001)', 'Crocodile Dundee in Los Angeles (2001)', 'Scarface (1983)', 'Mummy Returns, The (2001)', 'Krull (1983)', 'Frankie and Johnny (1991)', 'Nine to Five (a.k.a. 9 to 5) (1980)', 'Norma Rae (1979)', 'Summer Rental (1985)', \"Knight's Tale, A (2001)\", 'Shrek (2001)', 'Moulin Rouge (2001)', 'Pearl Harbor (2001)', 'City Slickers (1991)', 'Magnificent Seven, The (1960)', 'Throw Momma from the Train (1987)', 'Swordfish (2001)', 'Point Break (1991)', 'Seven Year Itch, The (1955)', 'Tootsie (1982)', 'Lara Croft: Tomb Raider (2001)', 'Fast and the Furious, The (2001)', 'A.I. Artificial Intelligence (2001)', 'Sexy Beast (2000)', 'Princess and the Warrior, The (Krieger und die Kaiserin, Der) (2000)', 'Cats & Dogs (2001)', 'Kiss of the Dragon (2001)', 'Scary Movie 2 (2001)', 'Alice (1990)', 'Beach Blanket Bingo (1965)', 'Lion in Winter, The (1968)', 'Big Boss, The (Fists of Fury) (Tang shan da xiong) (1971)', 'Game of Death (1978)', 'Last Dragon, The (1985)', 'Outland (1981)', 'Final Fantasy: The Spirits Within (2001)', 'Made (2001)', 'Adventures of Baron Munchausen, The (1988)', 'Ariel (1988)', 'Beaches (1988)', 'Big Top Pee-Wee (1988)', 'Caddyshack II (1988)', 'Cocktail (1988)', 'Coming to America (1988)', 'Couch Trip, The (1988)', 'Dead Pool, The (1988)', 'Ernest Saves Christmas (1988)', 'Feds (1988)', 'Frantic (1988)', 'Gorillas in the Mist (1988)', 'Great Outdoors, The (1988)', 'High Spirits (1988)', 'Land Before Time, The (1988)', 'Red Heat (1988)', 'Short Circuit 2 (1988)', 'Short Circuit (1986)', 'They Live (1988)', 'Twins (1988)', 'Young Einstein (1988)', 'Always (1989)', 'Best of the Best (1989)', \"Bill & Ted's Excellent Adventure (1989)\", 'Blind Fury (1989)', 'Chances Are (1989)', 'Cyborg (1989)', 'Dream Team, The (1989)', 'Earth Girls Are Easy (1988)', 'Erik the Viking (1989)', 'Family Business (1989)', 'Farewell to the King (1989)', 'Gleaming the Cube (1989)', 'Her Alibi (1989)', 'Let It Ride (1989)', 'Little Monsters (1989)', \"Look Who's Talking (1989)\", 'Major League (1989)', 'Millennium (1989)', 'Package, The (1989)', 'Punisher, The (1989)', \"America's Sweethearts (2001)\", 'Ghost World (2001)', 'Road House (1989)', 'See No Evil, Hear No Evil (1989)', 'Stepfather, The (1987)', 'Troop Beverly Hills (1989)', 'Uncle Buck (1989)', 'Wizard, The (1989)', \"Weekend at Bernie's II (1993)\", 'Princess Diaries, The (2001)', 'Rush Hour 2 (2001)', 'American Pie 2 (2001)', 'Osmosis Jones (2001)', 'Others, The (2001)', 'Rat Race (2001)', 'Bubble Boy (2001)', 'Jay and Silent Bob Strike Back (2001)', '3 Ninjas (1992)', 'Big Trouble (2002)', 'Training Day (2001)', 'Little Man Tate (1991)', 'Vanishing, The (1993)', 'SpaceCamp (1986)', \"Don't Say a Word (2001)\", 'Corky Romano (2001)', 'Iron Monkey (Siu nin Wong Fei-hung ji: Tit Ma Lau) (1993)', 'Mulholland Drive (2001)', 'My First Mister (2001)', 'Dirty Harry (1971)', 'Not Without My Daughter (1991)', 'Waking Life (2001)', 'K-PAX (2001)', 'Donnie Darko (2001)', 'Life as a House (2001)', \"Man Who Wasn't There, The (2001)\", 'Monsters, Inc. (2001)', 'One, The (2001)', 'Shallow Hal (2001)', \"Harry Potter and the Sorcerer's Stone (a.k.a. Harry Potter and the Philosopher's Stone) (2001)\", 'Novocaine (2001)', 'Spy Game (2001)', \"Devil's Backbone, The (Espinazo del diablo, El) (2001)\", 'In the Bedroom (2001)', 'Subway (1985)', 'Now, Voyager (1942)', 'That Obscure Object of Desire (Cet obscur objet du désir) (1977)', 'Toy, The (1982)', 'Fame (1980)', 'Sudden Impact (1983)', \"Ocean's Eleven (2001)\", 'Moscow on the Hudson (1984)', \"Amelie (Fabuleux destin d'Amélie Poulain, Le) (2001)\", 'Not Another Teen Movie (2001)', 'Vanilla Sky (2001)', 'Lantana (2001)', 'Royal Tenenbaums, The (2001)', \"Bill & Ted's Bogus Journey (1991)\", 'How High (2001)', 'Kate & Leopold (2001)', 'Lord of the Rings: The Fellowship of the Ring, The (2001)', 'Beautiful Mind, A (2001)', 'Party, The (1968)', 'Black Hawk Down (2001)', 'Gosford Park (2001)', \"Monster's Ball (2001)\", 'Shipping News, The (2001)', 'Orange County (2002)', 'Brotherhood of the Wolf (Pacte des loups, Le) (2001)', 'Another 48 Hrs. (1990)', 'Conan the Destroyer (1984)', 'Kung Pow: Enter the Fist (2002)', '48 Hrs. (1982)', 'Blankman (1994)', 'Brainstorm (1983)', 'Dragon: The Bruce Lee Story (1993)', 'Escaflowne: The Movie (Escaflowne) (2000)', 'Metropolis (2001)', 'Adventures of Huck Finn, The (1993)', 'Slackers (2002)', 'Birthday Girl (2001)', \"Baby's Day Out (1994)\", 'Rookie of the Year (1993)', 'Sandlot, The (1993)', 'Super Troopers (2001)', 'Good Son, The (1993)', 'Queen of the Damned (2002)', \"How to Kill Your Neighbor's Dog (2000)\", 'Wendigo (2001)', 'Bad News Bears, The (1976)', 'Vampire Hunter D: Bloodlust (Banpaia hantâ D) (2000)', 'We Were Soldiers (2002)', 'Ferngully: The Last Rainforest (1992)', 'Time Machine, The (2002)', 'Long Good Friday, The (1980)', 'Oh, God! (1977)', 'Resident Evil (2002)', \"Harrison's Flowers (2000)\", 'Smokey and the Bandit (1977)', 'Blade II (2002)', 'Sorority Boys (2002)', 'Death to Smoochy (2002)', 'Panic Room (2002)', 'No Such Thing (2001)', \"National Lampoon's Van Wilder (2002)\", 'Rashomon (Rashômon) (1950)', 'Human Nature (2001)', 'Joe Versus the Volcano (1990)', 'Three Men and a Baby (1987)', 'Three Men and a Little Lady (1990)', 'Nine Queens (Nueve reinas) (2000)', 'Bob le Flambeur (1955)', 'Cadillac Man (1990)', 'Delirious (1991)', 'Spider-Man (2002)', 'White Fang (1991)', 'New Guy, The (2002)', 'About a Boy (2002)', 'Star Wars: Episode II - Attack of the Clones (2002)', 'Insomnia (2002)', 'Bourne Identity, The (2002)', 'Gangster No. 1 (2000)', \"Cheech & Chong's The Corsican Brothers (1984)\", 'V. I. Warshawski (1991)', 'Minority Report (2002)', 'Lovely & Amazing (2001)', \"Look Who's Talking Now (1993)\", 'Reign of Fire (2002)', 'Road to Perdition (2002)', 'Perfect (1985)', 'Austin Powers in Goldmember (2002)', 'Signs (2002)', 'Good Girl, The (2002)', '24 Hour Party People (2002)', 'Principal, The (1987)', 'One Hour Photo (2002)', 'Simone (S1m0ne) (2002)', 'Clash of the Titans (1981)', 'Hot Shots! (1991)', 'Down and Out in Beverly Hills (1986)', 'Stakeout (1987)', 'FearDotCom (a.k.a. Fear.com) (a.k.a. Fear Dot Com) (2002)', 'Johnny Dangerously (1984)', 'Transporter, The (2002)', 'Igby Goes Down (2002)', 'Captain Ron (1992)', 'Ernest Scared Stupid (1991)', 'Monkey Trouble (1994)', 'Spaced Invaders (1990)', 'Suburban Commando (1991)', 'Secretary (2002)', 'Spirited Away (Sen to Chihiro no kamikakushi) (2001)', 'Wasabi (2001)', 'Red Dragon (2002)', 'Knockaround Guys (2002)', 'White Oleander (2002)', 'Bowling for Columbine (2002)', 'Punch-Drunk Love (2002)', 'Formula 51 (2001)', 'Ring, The (2002)', 'Tully (2000)', 'Billy Bathgate (1991)', 'Grave of the Fireflies (Hotaru no haka) (1988)', 'Saturday Night Fever (1977)', 'Urban Cowboy (1980)', 'Modern Problems (1981)', 'Roger Dodger (2002)', '8 Mile (2002)', 'Harry Potter and the Chamber of Secrets (2002)', 'Return to the Blue Lagoon (1991)', 'Toy Soldiers (1991)', 'Solaris (2002)', 'Adaptation (2002)', 'Equilibrium (2002)', 'Star Trek: Nemesis (2002)', 'About Schmidt (2002)', 'Lord of the Rings: The Two Towers, The (2002)', '25th Hour (2002)', 'Gangs of New York (2002)', 'Narc (2002)', 'Blue Steel (1990)', 'My Girl (1991)', 'Quicksilver (1986)', 'Catch Me If You Can (2002)', 'Chicago (2002)', 'Max (2002)', 'Pianist, The (2002)', 'Heavy Metal 2000 (2000)', 'Confessions of a Dangerous Mind (2002)', 'Blue Collar Comedy Tour: The Movie (2003)', 'City of God (Cidade de Deus) (2002)', 'Pépé le Moko (1937)', 'Woman in Red, The (1984)', 'Harder They Come, The (1973)', 'Recruit, The (2003)', 'Lost in La Mancha (2002)', 'Last Unicorn, The (1982)', 'Richard Pryor Live on the Sunset Strip (1982)', 'Daredevil (2003)', 'Gerry (2002)', 'Dennis the Menace (1993)', 'Dark Blue (2003)', 'Old School (2003)', 'Life Stinks (1991)', 'Meteor Man, The (1993)', 'Tears of the Sun (2003)', 'Safety of Objects, The (2001)', 'Green Card (1990)', 'Assassination Tango (2002)', 'Cowboy Bebop: The Movie (Cowboy Bebop: Tengoku no Tobira) (2001)', 'Anger Management (2003)', 'House of 1000 Corpses (2003)', 'Winged Migration (Peuple migrateur, Le) (2001)', 'Fahrenheit 451 (1966)', 'Legal Eagles (1986)', 'Memories of Me (1988)', 'Scenes from a Mall (1991)', 'Confidence (2003)', 'It Runs in the Family (2003)', 'People I Know (2002)', 'X2: X-Men United (2003)', 'Shape of Things, The (2003)', \"Breakin' 2: Electric Boogaloo (1984)\", 'Matrix Reloaded, The (2003)', 'Italian Job, The (2003)', \"This Boy's Life (1993)\", 'Barton Fink (1991)', 'Hollywood Homicide (2003)', '28 Days Later (2002)', 'Fulltime Killer (Chuen jik sat sau) (2001)', 'Babe, The (1992)', 'Mr. Baseball (1992)', 'Hulk (2003)', 'Terminator 3: Rise of the Machines (2003)', 'Pirates of the Caribbean: The Curse of the Black Pearl (2003)', 'League of Extraordinary Gentlemen, The (a.k.a. LXG) (2003)', 'Bad Boys II (2003)', 'Born to Be Wild (1995)', 'Curly Sue (1991)', 'Little Giants (1994)', 'Seabiscuit (2003)', 'Private Life of Sherlock Holmes, The (1970)', 'Remo Williams: The Adventure Begins (1985)', 'Gigli (2003)', 'Freaky Friday (2003)', 'I Love You to Death (1990)', 'Freddy vs. Jason (2003)', 'Shaolin Soccer (Siu lam juk kau) (2001)', 'American Splendor (2003)', 'Camp Nowhere (1994)', \"Man's Best Friend (1993)\", 'Valley Girl (1983)', 'THX 1138 (1971)', 'Tremors (1990)', 'Pink Panther, The (1963)', 'Commando (1985)', 'Comic Book Villains (2002)', 'Dust (2001)', 'Once Upon a Time in Mexico (2003)', 'Lost in Translation (2003)', 'Kuffs (1992)', 'Once Upon a Time in China (Wong Fei Hung) (1991)', 'Once Upon a Time in China II (Wong Fei-hung Ji Yi: Naam yi dong ji keung) (1992)', 'Once Upon a Time in China III (Wong Fei-hung tsi sam: Siwong tsangba) (1993)', 'Day of the Dead (1985)', 'Memoirs of an Invisible Man (1992)', 'Underworld (2003)', 'Bubba Ho-tep (2002)', 'Rundown, The (2003)', 'Videodrome (1983)', \"All the President's Men (1976)\", \"Babette's Feast (Babettes gæstebud) (1987)\", 'Beethoven (1992)', 'Cobra (1986)', 'Crimewave (1985)', \"Monty Python's The Meaning of Life (1983)\", 'Sleeping with the Enemy (1991)', 'PCU (1994)', \"It's Pat (1994)\", 'Regarding Henry (1991)', 'Leap of Faith (1992)', 'Gas, Food, Lodging (1992)', 'Ninja Scroll (Jûbei ninpûchô) (1995)', 'Mobsters (1991)', 'Station Agent, The (2003)', 'Mystic River (2003)', 'Intolerable Cruelty (2003)', 'Kill Bill: Vol. 1 (2003)', 'Pieces of April (2003)', 'Returner (Ritaanaa) (2002)', 'Scary Movie 3 (2003)', 'Elephant (2003)', 'Eye, The (Gin gwai) (Jian gui) (2002)', 'Cercle Rouge, Le (Red Circle, The) (1970)', 'Shattered Glass (2003)', 'Matrix Revolutions, The (2003)', 'Elf (2003)', 'Master and Commander: The Far Side of the World (2003)', 'Bad Santa (2003)', 'Darkman (1990)', 'Freshman, The (1990)', 'WarGames (1983)', 'Guarding Tess (1994)', 'Hard Way, The (1991)', 'Highlander II: The Quickening (1991)', 'Hoffa (1992)', 'House of Cards (1993)', 'Hudson Hawk (1991)', 'Kindergarten Cop (1990)', 'King Ralph (1991)', 'Only the Lonely (1991)', 'Passenger 57 (1992)', 'Project X (1987)', 'Battle Royale (Batoru rowaiaru) (2000)', 'Silverado (1985)', 'Quick Change (1990)', 'Radio Flyer (1992)', 'Secret of My Succe$s, The (a.k.a. The Secret of My Success) (1987)', 'Trapped in Paradise (1994)', 'Witches, The (1990)', 'Witches of Eastwick, The (1987)', 'Year of the Dragon (1985)', 'Stagecoach (1939)', 'Hero (Ying xiong) (2002)', 'Nausicaä of the Valley of the Wind (Kaze no tani no Naushika) (1984)', 'Doc Hollywood (1991)', 'Dragnet (1987)', 'Crime Story (Zhong an zu) (1993)', 'Leprechaun (1993)', 'Grass (1999)', 'Spring Forward (1999)', 'Cooler, The (2003)', 'Last Samurai, The (2003)', 'Lord of the Rings: The Return of the King, The (2003)', 'Blame It on the Bellboy (1992)', 'Only the Strong (1993)', 'Adventures of Ford Fairlane, The (1990)', 'Pumping Iron (1977)', 'Cool World (1992)', 'Ichi the Killer (Koroshiya 1) (2001)', 'Chitty Chitty Bang Bang (1968)', 'The Butterfly Effect (2004)', 'Thirteen (2003)', 'Flesh & Blood (1985)', 'Just One of the Guys (1985)', 'Girl Next Door, The (2004)', 'Mad Dog and Glory (1993)', 'Dawn of the Dead (2004)', 'Eternal Sunshine of the Spotless Mind (2004)', 'Jersey Girl (2004)', 'Dogville (2003)', 'Hellboy (2004)', 'Dawn of the Dead (1978)', 'After Hours (1985)', 'Kill Bill: Vol. 2 (2004)', 'Punisher, The (2004)', 'This So-Called Disaster (2003)', 'Man on Fire (2004)', 'Enemy Mine (1985)', 'Enter the Dragon (1973)', 'Octopussy (1983)', 'Never Say Never Again (1983)', 'Samouraï, Le (Godson, The) (1967)', 'School Ties (1992)', 'Versus (2000)', 'Pride and Prejudice (1995)', \"Look Who's Talking Too (1990)\", 'Delta Force, The (1986)', 'He Said, She Said (1991)', 'Four Musketeers, The (1974)', 'Pierrot le fou (1965)', 'Jason and the Argonauts (1963)', 'Tinker, Tailor, Soldier, Spy (1979)', 'Sniper (1993)', 'Warriors, The (1979)', 'Gunga Din (1939)', 'Legend, The (Legend of Fong Sai-Yuk, The) (Fong Sai Yuk) (1993)', 'Tremors II: Aftershocks (1996)', 'Duck, You Sucker (1971)', 'Tale of Two Sisters, A (Janghwa, Hongryeon) (2003)', 'Robot Jox (1990)', 'Space Truckers (1996)', 'Kikujiro (Kikujirô no natsu) (1999)', 'How to Steal a Million (1966)', 'Mean Streets (1973)', 'Jack the Bear (1993)', 'I Am a Fugitive from a Chain Gang (1932)', 'Hamburger Hill (1987)', 'Crossroads (1986)', 'Jin Roh: The Wolf Brigade (Jin-Rô) (1998)', '*batteries not included (1987)', 'Educating Rita (1983)', 'Day After Tomorrow, The (2004)', 'Mindhunters (2004)', 'Father Hood (1993)', 'Police Academy: Mission to Moscow (1994)', 'Meet the Applegates (1991)', 'Blackboard Jungle (1955)', 'Jetée, La (1962)', 'White Heat (1949)', 'Godzilla vs. Mechagodzilla (Gojira tai Mekagojira) (1974)', 'Fear X (2003)', 'Dodgeball: A True Underdog Story (2004)', 'Terminal, The (2004)', 'White Chicks (2004)', 'Taxi (1998)', 'Taxi 3 (2003)', 'Overboard (1987)', 'Fahrenheit 9/11 (2004)', 'Roxanne (1987)', 'Spider-Man 2 (2004)', 'Before Sunset (2004)', 'Anchorman: The Legend of Ron Burgundy (2004)', 'Bourne Supremacy, The (2004)', 'Snake Pit, The (1948)', 'Super, The (1991)', 'My Voyage to Italy (Il mio viaggio in Italia) (1999)', 'Village, The (2004)', 'Garden State (2004)', 'Collateral (2004)', 'Little Black Book (2004)', 'Harold and Kumar Go to White Castle (2004)', 'Danny Deckchair (2003)', 'Bill Cosby, Himself (1983)', 'Warriors of Heaven and Earth (Tian di ying xiong) (2003)', 'Cellular (2004)', 'Resident Evil: Apocalypse (2004)', 'Shaun of the Dead (2004)', '1492: Conquest of Paradise (1992)', 'I Heart Huckabees (2004)', 'Primer (2004)', 'Team America: World Police (2004)', \"Bebe's Kids (1992)\", 'Birth (2004)', 'Incredibles, The (2004)', 'Closer (2004)', 'House of Flying Daggers (Shi mian mai fu) (2004)', \"Ocean's Twelve (2004)\", 'Blade: Trinity (2004)', 'D.A.R.Y.L. (1985)', 'Fire in the Sky (1993)', \"Love Me If You Dare (Jeux d'enfants) (2003)\", 'Major Dundee (1965)', 'Batman (1966)', 'Tokyo Drifter (Tôkyô nagaremono) (1966)', 'Point Blank (1967)', 'Titicut Follies (1967)', 'Sympathy for the Devil (1968)', 'Duel (1971)', 'Charley Varrick (1973)', 'Dark Star (1974)', 'Gone in 60 Seconds (1974)', 'French Connection II (1975)', 'Futureworld (1976)', 'Silver Streak (1976)', \"Snake in the Eagle's Shadow (Se ying diu sau) (1978)\", \"Smiley's People (1982)\", 'Day After, The (1983)', 'Twilight Zone: The Movie (1983)', 'Cloak & Dagger (1984)', 'Ewok Adventure, The (a.k.a. Caravan of Courage: An Ewok Adventure) (1984)', 'Death of a Salesman (1985)', 'Ewoks: The Battle for Endor (1985)', 'Police Story (Ging chaat goo si) (1985)', 'Spies Like Us (1985)', 'White Nights (1985)', 'Club Paradise (1986)', 'Better Tomorrow, A (Ying hung boon sik) (1986)', 'G.I. Joe: The Movie (1987)', 'Hell Comes to Frogtown (1988)', 'Better Tomorrow II, A (Ying hung boon sik II) (1987)', 'Dominick and Eugene (1988)', 'Killer Klowns from Outer Space (1988)', 'Moonwalker (1988)', 'Alice (Neco z Alenky) (1988)', 'Lonesome Dove (1989)', \"Kiki's Delivery Service (Majo no takkyûbin) (1989)\", 'Almost an Angel (1990)', 'Ghost Dad (1990)', 'Lionheart (1990)', 'Nuns on the Run (1990)', 'Patlabor: The Movie (Kidô keisatsu patorebâ: The Movie) (1989)', 'Dutch (1991)', 'Hearts of Darkness: A Filmmakers Apocalypse (1991)', 'Mannequin 2: On the Move (1991)', \"Other People's Money (1991)\", 'Captain America (1990)', 'Ladybugs (1992)', 'Mambo Kings, The (1992)', 'Sidekicks (1992)', 'Visions of Light: The Art of Cinematography (1992)', 'Barbarians at the Gate (1993)', 'Mr. Nanny (1993)', 'Darkman II: Return of Durant, The (1995)', 'Freaked (1993)', 'Fist of Legend (Jing wu ying xiong) (1994)', 'Major League II (1994)', 'My Father the Hero (1994)', 'Street Fighter II: The Animated Movie (Sutorîto Faitâ II gekijô-ban) (1994)', 'Late Shift, The (1996)', 'Pusher (1996)', 'From the Earth to the Moon (1998)', 'From Dusk Till Dawn 2: Texas Blood Money (1999) ', 'Gia (1998)', 'Who Am I? (Wo shi shei) (1998)', 'Brave New World (1998)', 'Purgatory (1999)', 'Bleeder (1999)', 'Batman/Superman Movie, The (1998)', 'Neon Genesis Evangelion: The End of Evangelion (Shin seiki Evangelion Gekijô-ban: Air/Magokoro wo, kimi ni) (1997)', 'Taxi 2 (2000)', 'Bartleby (2001)', 'Batman Beyond: Return of the Joker (2000)', 'Audition (Ôdishon) (1999)', 'Joint Security Area (Gongdong gyeongbi guyeok JSA) (2000)', 'Teknolust (2002)', 'Darkness (2002)', 'Blood: The Last Vampire (2000)', 'Ali G Indahouse (2002)', 'Dead or Alive: Final (2002)', 'Jesus Christ Vampire Hunter (2001)', 'Suicide Club (Jisatsu saakuru) (2001)', 'Battlestar Galactica (2003)', 'Animatrix, The (2003)', 'Last Life in the Universe (Ruang rak noi nid mahasan) (2003)', 'Ghost in the Shell 2: Innocence (a.k.a. Innocence) (Inosensu) (2004)', 'Twilight Samurai, The (Tasogare Seibei) (2002)', 'Comic Book: The Movie (2004)', 'Down to the Bone (2004)', 'Ju-on: The Grudge (2002)', 'Old Boy (2003)', 'One Missed Call (Chakushin ari) (2003)', 'Jacket, The (2005)', 'Ong-Bak: The Thai Warrior (Ong Bak) (2003)', 'Slasher (2004)', 'Layer Cake (2004)', 'Azumi (2003)', 'Scanner Darkly, A (2006)', 'Life Aquatic with Steve Zissou, The (2004)', 'Imaginary Heroes (2004)', 'Elektra (2005)', 'Chase, The (1994)', 'Double Dragon (1994)', \"Howl's Moving Castle (Hauru no ugoku shiro) (2004)\", 'Steamboy (Suchîmubôi) (2004)', 'Gorgeous (Boh lee chun) (1999)', 'Hitch (2005)', 'Kung Fu Hustle (Gong fu) (2004)', 'Seven-Per-Cent Solution, The (1976)', 'Class Action (1991)', 'Melinda and Melinda (2004)', 'D.E.B.S. (2004)', 'Sword of Doom, The (Dai-bosatsu tôge) (1966)', 'If Looks Could Kill (1991)', 'Greedy (1994)', 'Walker (1987)', 'Memories (Memorîzu) (1995)', 'Ballad of Jack and Rose, The (2005)', 'Sin City (2005)', 'Trip to the Moon, A (Voyage dans la lune, Le) (1902)', 'Mutant Aliens (2001)', 'Frisco Kid, The (1979)', 'Kingdom of Heaven (2005)', 'Crash (2004)', 'Vampire Hunter D (1985)', 'Los Angeles Plays Itself (2003)', 'Unleashed (Danny the Dog) (2005)', 'Star Wars: Episode III - Revenge of the Sith (2005)', 'Airborne (1993)', 'Mr. & Mrs. Smith (2005)', \"It's All Gone Pete Tong (2004)\", 'Batman Begins (2005)', 'Godzilla: Final Wars (Gojira: Fainaru uôzu) (2004)', 'Bewitched (2005)', '3 Extremes (Three... Extremes) (Saam gaang yi) (2004)', 'Cop and ½ (1993)', 'Dark Water (2005)', \"Beat That My Heart Skipped, The (battre mon coeur s'est arrêté, De) (2005)\", 'Fantastic Four (2005)', 'Wedding Crashers (2005)', 'Hardware (1990)', \"Devil's Rejects, The (2005)\", 'Sky High (2005)', 'Aristocrats, The (2005)', 'Serenity (2005)', 'Broken Flowers (2005)', 'Private Resort (1985)', 'Pusher II: With Blood on My Hands (2004)', '40-Year-Old Virgin, The (2005)', 'Constant Gardener, The (2005)', 'Transporter 2 (2005)', 'Police Story 2 (Ging chaat goo si juk jaap) (1988)', 'Domino (2005)', 'Waiting... (2005)', 'Flightplan (2005)', 'Final Fantasy VII: Advent Children (2004)', 'MirrorMask (2005)', 'Wallace & Gromit in The Curse of the Were-Rabbit (2005)', 'Kiss Kiss Bang Bang (2005)', 'Bittersweet Life, A (Dalkomhan insaeng) (2005)', 'Squid and the Whale, The (2005)', 'Proposition, The (2005)', 'Shopgirl (2005)', 'Great Yokai War, The (Yôkai daisensô) (2005)', 'Revolver (2005)', 'Sword of the Beast (Kedamono no ken) (1965)', 'Syriana (2005)', 'Derailed (2005)', 'Chronicles of Narnia: The Lion, the Witch and the Wardrobe, The (2005)', 'Havoc (2005)', 'Samurai Rebellion (Jôi-uchi: Hairyô tsuma shimatsu) (1967)', 'Matador, The (2005)', 'Fun with Dick and Jane (2005)', 'New World, The (2005)', 'Samurai Assassin (Samurai) (1965)', 'Lady Vengeance (Sympathy for Lady Vengeance) (Chinjeolhan geumjassi) (2005)', 'Grand Theft Parsons (2003)', 'District 13 (Banlieue 13) (2004)', \"Grandma's Boy (2006)\", 'Underworld: Evolution (2006)', 'Revolution (1985)', \"Project A ('A' gai waak) (1983)\", 'Bandidas (2006)', 'Tuskegee Airmen, The (1995)', \"Block Party (a.k.a. Dave Chappelle's Block Party) (2005)\", 'When a Stranger Calls (2006)', 'London (2005)', 'Running Scared (2006)', 'Ultraviolet (2006)', 'Ultimate Avengers (2006)', 'V for Vendetta (2006)', 'Thank You for Smoking (2006)', 'Inside Man (2006)', 'Leprechaun 2 (1994)', 'Leprechaun 3 (1995)', 'Leprechaun 4: In Space (1997)', 'Stay Alive (2006)', 'Brick (2005)', 'Slither (2006)', 'Benchwarmers, The (2006)', 'Renaissance (2006)', 'Friends with Money (2006)', 'Hard Candy (2005)', 'Silent Hill (2006)', 'Protector, The (a.k.a. Warrior King) (Tom yum goong) (2005)', 'Mission: Impossible III (2006)', 'RV (2006)', 'Stick It (2006)', 'Down in the Valley (2005)', 'Art School Confidential (2006)', 'X-Men: The Last Stand (2006)', 'Game 6 (2005)', 'Devil Wears Prada, The (2006)', \"Pirates of the Caribbean: Dead Man's Chest (2006)\", 'Marie Antoinette (2006)', 'Inconvenient Truth, An (2006)', 'Career Opportunities (1991)', \"Jet Li's Fearless (Huo Yuan Jia) (2006)\", 'Fast and the Furious: Tokyo Drift, The (Fast and the Furious 3, The) (2006)', 'Public Eye, The (1992)', 'Superman Returns (2006)', 'OH in Ohio, The (2006)', 'Little Miss Sunshine (2006)', 'Babel (2006)', 'Talladega Nights: The Ballad of Ricky Bobby (2006)', 'Stranger than Fiction (2006)', 'Pursuit of Happyness, The (2006)', 'Crank (2006)', 'Step Up (2006)', 'Half Nelson (2006)', 'Illusionist, The (2006)', 'Red Balloon, The (Ballon rouge, Le) (1956)', 'Angel-A (2005)', 'Puffy Chair, The (2006)', 'Fountain, The (2006)', 'Borat: Cultural Learnings of America for Make Benefit Glorious Nation of Kazakhstan (2006)', \"Pan's Labyrinth (Laberinto del fauno, El) (2006)\", 'Departed, The (2006)', 'Children of Men (2006)', 'Prestige, The (2006)', 'Mom and Dad Save the World (1992)', 'For Your Consideration (2006)', 'Casino Royale (2006)', 'Déjà Vu (Deja Vu) (2006)', 'Holiday, The (2006)', 'DOA: Dead or Alive (2006)', 'Curse of the Golden Flower (Man cheng jin dai huang jin jia) (2006)', 'Ratatouille (2007)', \"Paris, I Love You (Paris, je t'aime) (2006)\", 'The Odyssey (1997)', 'Ghost Rider (2007)', 'Breach (2007)', 'Black Snake Moan (2006)', 'Hot Fuzz (2007)', 'Zodiac (2007)', \"Pusher III: I'm the Angel of Death (2005)\", 'Wild Hogs (2007)', '300 (2007)', 'Host, The (Gwoemul) (2006)', 'Reign Over Me (2007)', 'Lookout, The (2007)', 'Grindhouse (2007)', 'Sunshine (2007)', 'Spider-Man 3 (2007)', 'Paprika (Papurika) (2006)', 'Knocked Up (2007)', 'Wheels on Meals (Kuai can che) (1984)', \"Pirates of the Caribbean: At World's End (2007)\", 'Fay Grim (2006)', \"I'm a Cyborg, But That's OK (Saibogujiman kwenchana) (2006)\", \"Ocean's Thirteen (2007)\", 'Legend of Sleepy Hollow, The (1980)', 'Fido (2006)', 'Death Proof (2007)', 'Sicko (2007)', 'Transformers (2007)', 'Manufactured Landscapes (2006)', 'I Know Who Killed Me (2007)', 'Charlie Bartlett (2007)', 'Bourne Ultimatum, The (2007)', 'Superbad (2007)', 'King of Kong, The (2007)', 'Taxi 4 (2007)', 'Planet Terror (2007)', 'Gotti (1996)', 'Electroma (2006)', 'Hunting Party, The (2007)', 'Tekkonkinkreet (Tekkon kinkurîto) (2006)', 'Interview (2007)', 'Cashback (2004)', 'Resident Evil: Extinction (2007)', 'Dan in Real Life (2007)', 'Darjeeling Limited, The (2007)', '30 Days of Night (2007)', 'Gone Baby Gone (2007)', 'No Country for Old Men (2007)', 'Harrison Bergeron (1995)', 'Mist, The (2007)', 'I Am Legend (2007)', \"I'm Not There (2007)\", 'Helvetica (2007)', 'There Will Be Blood (2007)', 'Cloverfield (2008)', 'Heaven and Earth (Ten to Chi to) (1990)', 'Hellboy II: The Golden Army (2008)', 'World on a Wire (Welt am Draht) (1973)', 'Mongol (2007)', 'Justice League: The New Frontier (2008) ', 'Heima (2007)', 'Dark Knight, The (2008)', 'Street Kings (2008)', 'Outpost (2008)', 'Iron Man (2008)', 'Redbelt (2008)', 'Taken (2008)', 'Fall, The (2006)', 'Indiana Jones and the Kingdom of the Crystal Skull (2008)', 'Protector, The (1985)', 'Incredible Hulk, The (2008)', 'WALL·E (2008)', 'Hancock (2008)', 'Gonzo: The Life and Work of Dr. Hunter S. Thompson (2008)', 'Frosty the Snowman (1969)', \"It's the Great Pumpkin, Charlie Brown (1966)\", 'Machine Girl, The (Kataude mashin gâru) (2008)', 'Watchmen (2009)', 'Step Brothers (2008)', 'Little Drummer Boy, The (1968)', 'Hell Ride (2008)', 'Tropic Thunder (2008)', 'Waltz with Bashir (Vals im Bashir) (2008)', 'Let the Right One In (Låt den rätte komma in) (2008)', 'Burn After Reading (2008)', \"Nick and Norah's Infinite Playlist (2008)\", 'FLCL (2000)', 'Tokyo-Ga (1985)', 'Tin Man (2007)', 'Slumdog Millionaire (2008)', 'Quantum of Solace (2008)', 'JCVD (2008)', 'Class, The (Entre les murs) (2008)', 'Transporter 3 (2008)', \"Wallace and Gromit in 'A Matter of Loaf and Death' (2008)\", 'Wrestler, The (2008)', '5 Centimeters per Second (Byôsoku 5 senchimêtoru) (2007)', 'Push (2009)', 'Good, the Bad, the Weird, The (Joheunnom nabbeunnom isanghannom) (2008)', 'Rock-A-Doodle (1991)', \"Dr. Horrible's Sing-Along Blog (2008)\", 'Duplicity (2009)', 'Girl with the Dragon Tattoo, The (Män som hatar kvinnor) (2009)', 'Adventureland (2009)', 'Inglourious Basterds (2009)', 'Crank: High Voltage (2009)', 'Moon (2009)', 'X-Men Origins: Wolverine (2009)', 'Star Trek (2009)', 'Crossing Over (2009)', 'Powder Blue (2009)', 'Neon Genesis Evangelion: Death & Rebirth (Shin seiki Evangelion Gekijô-ban: Shito shinsei) (1997)', 'Drag Me to Hell (2009)', 'Up (2009)', 'Hangover, The (2009)', 'Killshot (2008)', 'Ernest Rides Again (1993)', 'Hurt Locker, The (2008)', '(500) Days of Summer (2009)', 'Roots (1977)', 'District 9 (2009)', 'Evangelion: 1.0 You Are (Not) Alone (Evangerion shin gekijôban: Jo) (2007)', 'Christopher Columbus: The Discovery (1992)', 'Bronson (2009)', 'Food, Inc. (2008)', 'Thirst (Bakjwi) (2009)', 'Bright Star (2009)', 'Serious Man, A (2009)', 'Metropia (2009)', 'Surrogates (2009)', 'Zombieland (2009)', 'Assassination of a High School President (2008)', 'Education, An (2009)', 'Legionnaire (1998)', 'Up in the Air (2009)', 'Fantastic Mr. Fox (2009)', 'Precious (2009)', 'Messenger, The (2009)', 'Avatar (2009)', 'Sherlock Holmes (2009)', 'Book of Eli, The (2010)', \"Project A 2 ('A' gai wak juk jap) (1987)\", 'Chaser, The (Chugyeogja) (2008)', 'Rudolph, the Red-Nosed Reindeer (1964)', 'Wicked City (Yôjû toshi) (1987)', 'District 13: Ultimatum (Banlieue 13 - Ultimatum) (2009)', 'Last Train Home (2009)', 'From Paris with Love (2010)', 'Greenberg (2010)', 'Generation X (1996)', 'Leaves of Grass (2009)', 'Mondo Cane (1962)', 'Repo Men (2010)', 'Case 39 (2009)', 'Hot Tub Time Machine (2010)', 'How to Train Your Dragon (2010)', 'Kick-Ass (2010)', 'Valhalla Rising (2009)', 'Exit Through the Gift Shop (2010)', 'Iron Man 2 (2010)', 'Sky Crawlers, The (Sukai kurora) (2008)', 'Four Lions (2010)', 'Prince of Persia: The Sands of Time (2010)', 'Toy Story 3 (2010)', 'Endgame (2009)', 'Predators (2010)', 'Despicable Me (2010)', 'Inception (2010)', 'Serbian Film, A (Srpski film) (2010)', 'Batman: Under the Red Hood (2010)', 'Scott Pilgrim vs. the World (2010)', 'Extraordinary Adventures of Adèle Blanc-Sec, The (2010)', 'Dragon Ball Z: Dead Zone (Doragon bôru Z 1: Ora no Gohan wo kaese) (1989)', 'Machete (2010)', 'Social Network, The (2010)', 'Town, The (2010)', 'Let Me In (2010)', 'Stone (2010)', 'Red (2010)', '127 Hours (2010)', 'Black Swan (2010)', 'Unstoppable (2010)', 'Next Three Days, The (2010)', 'Somewhere (2010)', 'Harry Potter and the Deathly Hallows: Part 1 (2010)', \"King's Speech, The (2010)\", 'Fighter, The (2010)', 'Love and Other Drugs (2010)', 'True Grit (2010)', 'Tron: Legacy (2010)', 'Company Men, The (2010)', 'I Saw the Devil (Akmareul boatda) (2010)', 'Burlesque (2010)', 'Anything for Her (Pour elle) (2008)', 'Day & Night (2010)', 'Evangelion: 2.0 You Can (Not) Advance (Evangerion shin gekijôban: Ha) (2009)', 'All-Star Superman (2011)', 'Kill! (Kiru) (1968)', 'Unknown (2011)', 'Paul (2011)', 'Summer Wars (Samâ wôzu) (2009)', 'Just Go with It (2011)', 'Source Code (2011)', 'Jane Eyre (2011)', 'Sucker Punch (2011)', 'Hobo with a Shotgun (2011)', 'Win Win (2011)', '13 Assassins (Jûsan-nin no shikaku) (2010)', 'Hanna (2011)', \"Daffy Duck's Quackbusters (1988)\", 'Thor (2011)', 'Atlas Shrugged: Part 1 (2011)', 'Fast Five (Fast and the Furious 5, The) (2011)', 'Mothra (Mosura) (1961)', 'Pirates of the Caribbean: On Stranger Tides (2011)', 'Midnight in Paris (2011)', 'Tree of Life, The (2011)', 'Attack the Block (2011)', 'Let the Bullets Fly (2010)', 'X-Men: First Class (2011)', 'Beginners (2010)', 'Super 8 (2011)', 'Larry Crowne (2011)', 'Between the Folds (2008)', 'Drive (2011)', 'Captain America: The First Avenger (2011)', 'Crazy, Stupid, Love. (2011)', 'Guard, The (2011)', 'Yellow Sea, The (a.k.a. The Murderer) (Hwanghae) (2010)', 'SUBWAYStories: Tales from the Underground (1997)', 'Rise of the Planet of the Apes (2011)', 'Debt, The (2011)', 'Colombiana (2011)', 'Contagion (2011)', 'Moneyball (2011)', 'Avengers, The (2012)', 'Tinker Tailor Soldier Spy (2011)', 'Ides of March, The (2011)', 'Bellflower (2011)', 'The Artist (2011)', 'Take Shelter (2011)', 'Three Outlaw Samurai (Sanbiki no samurai) (1964)', 'In Time (2011)', 'Margaret (2011)', 'Carnage (2011)', 'Puncture (2011)', 'Batman: Year One (2011)', 'Sign of Four, The (1987)', 'Descendants, The (2011)', 'Muppets, The (2011)', 'Dark Knight Rises, The (2012)', 'Sherlock Holmes: A Game of Shadows (2011)', 'Coriolanus (2011)', 'Mission: Impossible - Ghost Protocol (2011)', 'We Bought a Zoo (2011)', 'Sacrifice (Zhao shi gu er) (2010)', 'Haywire (2011)', 'Innkeepers, The (2011)', 'Janie Jones (2010)', \"Mickey's The Prince and the Pauper (1990)\", 'Ledge, The (2011)', '21 Jump Street (2012)', 'Damsels in Distress (2011)', 'The Raid: Redemption (2011)', 'Cabin in the Woods, The (2012)', \"Comic-Con Episode IV: A Fan's Hope (2011)\", 'Dark Shadows (2012)', 'Prometheus (2012)', 'Moonrise Kingdom (2012)', 'Dragon Ball: The Curse Of The Blood Rubies (Doragon bôru: Shenron no densetsu) (1986)', \"Dragon Ball: Sleeping Princess in Devil's Castle (Doragon bôru: Majinjô no nemuri hime) (1987)\", 'Dragon Ball: Mystical Adventure (Doragon bôru: Makafushigi dai bôken) (1988)', \"Dragon Ball Z the Movie: The World's Strongest (a.k.a. Dragon Ball Z: The Strongest Guy in The World) (Doragon bôru Z: Kono yo de ichiban tsuyoi yatsu) (1990)\", 'Dragon Ball Z the Movie: The Tree of Might (Doragon bôru Z 3: Chikyû marugoto chô kessen) (1990)', 'Abraham Lincoln: Vampire Hunter (2012)', 'Ted (2012)', 'Magic Mike (2012)', \"Dragon Ball Z: Cooler's Revenge (Doragon bôru Z 5: Tobikkiri no saikyô tai saikyô) (1991)\", 'Dragon Ball Z: Super Android 13! (Doragon bôru Z 7: Kyokugen batoru!! San dai sûpâ saiyajin) (1992)', 'Dragon Ball Z: Broly - The Legendary Super Saiyan (Doragon bôru Z 8: Moetsukiro!! Nessen retsusen-chô gekisen) (1993)', 'Amazing Spider-Man, The (2012)', 'Dragon Ball Z: Bojack Unbound (Doragon bôru Z 9: Ginga girigiri!! Butchigiri no sugoi yatsu) (1993)', 'Treasure Island (2012)', 'Dragon Ball Z: Broly Second Coming (Doragon bôru Z 10: Kiken na futari! Sûpâ senshi wa nemurenai) (1994)', 'Dragon Ball Z: Bio-Broly (Doragon bôru Z 11: Sûpâ senshi gekiha! Katsu no wa ore da) (1994)', 'Christmas Carol, A (1999)', 'Ruby Sparks (2012)', 'Dragon Ball Z: Bardock - The Father of Goku (Doragon bôru Z: Tatta hitori no saishuu kessen - Furiiza ni itonda Z senshi Kakarotto no chichi) (1990)', 'Dragon Ball Z: The History of Trunks (Doragon bôru Z: Zetsubô e no hankô!! Nokosareta chô senshi - Gohan to Torankusu) (1993)', 'Skyfall (2012)', 'Lawless (2012)', 'Looper (2012)', 'Robot & Frank (2012)', 'Master, The (2012)', 'Dredd (2012)', 'Side by Side (2012)', 'Seven Psychopaths (2012)', 'Cloud Atlas (2012)', 'Silver Linings Playbook (2012)', 'Man with the Iron Fists, The (2012)', 'Indie Game: The Movie (2012)', 'Batman: The Dark Knight Returns, Part 1 (2012)', 'Paperman (2012)', 'Fearless Hyena, The (Xiao quan guai zhao) (1979)', 'Half a Loaf of Kung Fu (Dian zhi gong fu gan chian chan) (1980)', 'Winners and Sinners (Qi mou miao ji: Wu fu xing) (1983)', \"Money Money Money (L'aventure, c'est l'aventure) (1972)\", \"Liar's Autobiography: The Untrue Story of Monty Python's Graham Chapman, A (2012)\", 'Hobbit: An Unexpected Journey, The (2012)', 'Warm Bodies (2013)', 'Django Unchained (2012)', 'Misérables, Les (2000)', 'Fish Story (Fisshu sutôrî) (2009)', 'Batman: The Dark Knight Returns, Part 2 (2013)', 'Upstream Color (2013)', 'Legend of Sleepy Hollow, The (1949)', 'Mezzo Forte (1998)', 'Place Beyond the Pines, The (2012)', 'Oblivion (2013)', 'Iron Man 3 (2013)', 'Star Trek Into Darkness (2013)', 'Darkon (2006)', 'Captain America (1979)', 'Captain America II: Death Too Soon (1979)', 'With Great Power: The Stan Lee Story (2012)', 'Much Ado About Nothing (2012)', 'Man of Steel (2013)', 'Pacific Rim (2013)', \"Adam and Eve (National Lampoon's Adam & Eve) (2005)\", 'Redemption (Hummingbird) (2013)', 'Class Act (1992)', 'Wolverine, The (2013)', 'Blue Jasmine (2013)', '3 dev adam (Three Giant Men) (1973) ', 'Justice League: Crisis on Two Earths (2010)', 'Rage of Honor (1987)', 'Gravity (2013)', 'Family, The (2013)', 'Collision Course (1989)', 'Thief of Paris, The (Le voleur) (1967)', '12 Years a Slave (2013)', 'Thor: The Dark World (2013)', 'Inside Llewyn Davis (2013)', 'Wolf of Wall Street, The (2013)', 'Evangelion: 3.0 You Can (Not) Redo (2012)', 'American Hustle (2013)', 'Her (2013)', 'Snowpiercer (2013)', 'Dragon ball Z 04: Lord Slug (1991)', 'Dragon Ball: The Path to Power (Doragon bôru: Saikyô e no michi) (1996)', \"Hotel Chevalier (Part 1 of 'The Darjeeling Limited') (2007)\", 'RoboCop (2014)', 'Interstellar (2014)', 'Captain America: The Winter Soldier (2014)', 'The Raid 2: Berandal (2014)', 'Brain Smasher... A Love Story (Bouncer and the Lady, The) (1993)', 'Locke (2013)', 'Lucy (2014)', 'X-Men: Days of Future Past (2014)', 'A Million Ways to Die in the West (2014)', 'Edge of Tomorrow (2014)', 'Midnight Chronicles (2009)', 'Equalizer, The (2014)', 'Birdman: Or (The Unexpected Virtue of Ignorance) (2014)', 'Nick Fury: Agent of S.H.I.E.L.D. (1998)', 'Whiplash (2014)', 'Gone Girl (2014)', 'Dawn of the Planet of the Apes (2014)', 'Guardians of the Galaxy (2014)', 'Headshot (2011)', 'Beautiful Losers (2008)', 'Maze Runner, The (2014)', \"Angel's Egg (Tenshi no tamago) (1985)\", 'John Wick (2014)', 'Big Hero 6 (2014)', 'Ex Machina (2015)', 'Mr Hublot (2013)', 'Christmas in Connecticut (1992)', 'Reign of Assassins (2010)', 'Inherent Vice (2014)', 'Jetsons: The Movie (1990)', 'Ski School (1991)', 'Too Many Cooks (2014)', 'Double Trouble (1992)', 'Maze Runner: Scorch Trials (2015)', 'Omega Doom (1996)', 'The Punisher: Dirty Laundry (2012)', 'A Man Called Blade (1977)', 'The Hound of the Baskervilles (1988)', 'Houdini (2014)', \"To Grandmother's House We Go (1992)\", 'It Follows (2014)', 'The Diary of Anne Frank (2009)', 'The Deadly Bees (1967)', 'Oblivion 2: Backlash (1996)', 'Mad Max: Fury Road (2015)', 'Star Wars: Episode VII - The Force Awakens (2015)', 'Avengers: Age of Ultron (2015)', 'Ant-Man (2015)', 'Deadpool (2016)', 'Thor: Ragnarok (2017)', 'Guardians of the Galaxy 2 (2017)', 'Captain America: Civil War (2016)', 'Doctor Strange (2016)', 'X-Men: Apocalypse (2016)', 'Untitled Spider-Man Reboot (2017)', 'Tornado! (1996)', 'Hard Promises (1991)', 'The Hateful Eight (2015)', \"I'm Here (2010)\", 'Chris Rock: Bigger & Blacker (1999)', 'Marvel One-Shot: Item 47 (2012)', 'Ghost in the Shell Arise - Border 1: Ghost Pain (2013)', 'The Amazing Screw-On Head (2006)', 'Reckless Kelly (1994)', 'Let It Be Me (1995)', 'Patlabor 2: The Movie (1993)', 'The Longest Ride (2015)', 'The Martian (2015)', 'Ghost in the Shell: Stand Alone Complex - The Laughing Man (2005)', 'Star Trek Beyond (2016)', \"Bruce Lee: A Warrior's Journey (2000)\", 'Bloodsport III (1996)', 'Mortal Kombat: The Journey Begins (1995)', 'Ghost in the Shell 2.0 (2008)', 'Steve Jobs (2015)', 'April Morning (1988)', 'That Demon Within (2014)', 'Dragon Ball Z Gaiden: The Plot to Destroy the Saiyans (1993)', 'Feast (2014)', 'Afro Samurai (2007)', 'Sicario (2015)', 'Anomalisa (2015)', 'Ghost in the Shell Arise - Border 2: Ghost Whispers (2013)', '964 Pinocchio (1991)', 'Green Room (2015)', 'Spotlight (2015)', 'The Little Prince (2015)', 'Wonder Woman (2017)', 'Sky High (2003)', 'Idaho Transfer (1973)', 'Witch Hunt (1999)', 'Big Short, The (2015)', 'The Flash 2 - Revenge of the Trickster (1991)', 'Ghost in the Shell: Solid State Society (2006)', 'Genius Party (2007)', 'Project X (1968)', 'Ratchet & Clank (2016)', 'Buck Rogers in the 25th Century (1979)', 'The Handmaiden (2016)', 'Karate Bullfighter (1975)', 'The Wailing (2016)', 'Neo Tokyo (1987)', 'Planet Earth (2006)', 'Hellevator (2004)', 'The Forbidden Dance (1990)', 'The Grandmother (1970)', 'Webmaster (1998)', 'Hell or High Water (2016)', 'Over the Garden Wall (2013)', 'Arrival (2016)', 'La La Land (2016)', 'Flowers for Algernon (2000)', 'Manchester by the Sea (2016)', 'Rogue One: A Star Wars Story (2016)', 'Shakespeare Behind Bars (2005)', 'John Wick: Chapter Two (2017)', 'Get Out (2017)', 'Logan (2017)', 'The Big Sick (2017)', 'Call Me by Your Name (2017)', 'Mudbound (2017)', 'The Void (2016)', 'Guyver: Dark Hero (1994)', \"Buster's Mal Heart (2017)\", 'Alien: Covenant (2017)', 'Ultimate Avengers 2 (2006)', 'Mulholland Dr. (1999)', 'The Quiet Family (1998)', 'Cosmos', 'Robin Williams: Live on Broadway (2002)', 'Baby Driver (2017)', 'Saved by the Bell: Hawaiian Style (1992)', 'Plain Clothes (1988)', 'The Prime Gig (2000)', 'The Night Before (1988)', 'Valerian and the City of a Thousand Planets (2017)', \"Gulliver's Travels (1996)\", 'Dunkirk (2017)', 'Good Time (2017)', 'Wind River (2017)', 'Blade Runner 2049 (2017)', 'Mother! (2017)', 'Lady Bird (2017)', 'I, Tonya (2017)', 'Adventures in Plymptoons! (2011)', '2048: Nowhere to Run (2017)', 'Darkest Hour (2017)', 'The Shape of Water (2017)', 'The Disaster Artist (2017)', 'Phantom Thread (2017)', 'The Tale of the Bunny Picnic (1986)']\n"
          ]
        }
      ],
      "source": [
        "# Test the prediction\n",
        "user = 599\n",
        "similar_users = find_similar_users_with_graph(user, user_user_graph)\n",
        "\n",
        "# Costruisci il preference vector per l'utente target usando solo i film degli utenti simili\n",
        "_, p_vec = create_preference_vector(False, user, user_movie_graph)\n",
        "\n",
        "already_seen = [movie for _ , movie, v in user_movie_graph.edges(user, data = \"weight\")]\n",
        "print(f\"Similar users to user {user}: {similar_users}\")\n",
        "print(f\"Already seen movies for user {user}: {already_seen}\")"
      ]
    },
    {
      "cell_type": "code",
      "source": [
        "recommendation = []\n",
        "for u in similar_users:\n",
        "  s_t = predict_user_with_similars(u, user_movie_graph, movie_movie_graph, similar_users, already_seen)\n",
        "  print(f\"Predicted movies for user {u}: {s_t[:10]}\")\n",
        "  for m in s_t[:10]:\n",
        "    if m not in recommendation:\n",
        "      recommendation.append(m)\n",
        "\n",
        "print(f\"Recommended movies for user {user}: {recommendation[:10]}\")\n",
        "print(f\"The number of movies recommended is: {len(recommendation)}\")\n",
        "\n"
      ],
      "metadata": {
        "colab": {
          "base_uri": "https://localhost:8080/"
        },
        "id": "RJ40NHcPQx8K",
        "outputId": "09d29296-e505-4d64-ae82-1a42faae543a"
      },
      "execution_count": 41,
      "outputs": [
        {
          "output_type": "stream",
          "name": "stdout",
          "text": [
            "User 414 has rated movies\n",
            "Predicted movies for user 414: [\"Schindler's List (1993)\", 'Finding Nemo (2003)', \"One Flew Over the Cuckoo's Nest (1975)\", 'Toy Story 2 (1999)', 'Dances with Wolves (1990)', 'Shrek 2 (2004)', 'Babe (1995)', 'Ice Age (2002)', 'Bruce Almighty (2003)', 'Mission: Impossible II (2000)']\n",
            "User 68 has rated movies\n",
            "Predicted movies for user 68: [\"Schindler's List (1993)\", 'Finding Nemo (2003)', 'Dances with Wolves (1990)', 'Harry Potter and the Prisoner of Azkaban (2004)', \"One Flew Over the Cuckoo's Nest (1975)\", 'Harry Potter and the Goblet of Fire (2005)', 'Shrek 2 (2004)', 'School of Rock (2003)', 'Mission: Impossible II (2000)', 'Toy Story 2 (1999)']\n",
            "User 474 has rated movies\n",
            "Predicted movies for user 474: [\"Schindler's List (1993)\", 'Finding Nemo (2003)', \"One Flew Over the Cuckoo's Nest (1975)\", 'Toy Story 2 (1999)', 'Dances with Wolves (1990)', 'Shrek 2 (2004)', 'Babe (1995)', 'Harry Potter and the Prisoner of Azkaban (2004)', 'Harry Potter and the Goblet of Fire (2005)', 'Ice Age (2002)']\n",
            "User 274 has rated movies\n",
            "Predicted movies for user 274: [\"Schindler's List (1993)\", 'Finding Nemo (2003)', \"One Flew Over the Cuckoo's Nest (1975)\", 'Dances with Wolves (1990)', 'Toy Story 2 (1999)', 'Shrek 2 (2004)', 'Babe (1995)', 'Ice Age (2002)', 'American Psycho (2000)', 'Bruce Almighty (2003)']\n",
            "User 448 has rated movies\n",
            "Predicted movies for user 448: [\"One Flew Over the Cuckoo's Nest (1975)\", 'Finding Nemo (2003)', \"Schindler's List (1993)\", 'Toy Story 2 (1999)', 'School of Rock (2003)', 'Dances with Wolves (1990)', 'This Is Spinal Tap (1984)', 'Shrek 2 (2004)', 'My Big Fat Greek Wedding (2002)', 'Sting, The (1973)']\n",
            "User 380 has rated movies\n",
            "Predicted movies for user 380: ['Finding Nemo (2003)', \"Schindler's List (1993)\", \"One Flew Over the Cuckoo's Nest (1975)\", 'Toy Story 2 (1999)', 'Shrek 2 (2004)', 'Ice Age (2002)', 'Bruce Almighty (2003)', 'Babe (1995)', 'Dances with Wolves (1990)', 'Harry Potter and the Goblet of Fire (2005)']\n",
            "User 480 has rated movies\n",
            "Predicted movies for user 480: [\"Schindler's List (1993)\", 'Dances with Wolves (1990)', \"One Flew Over the Cuckoo's Nest (1975)\", 'Finding Nemo (2003)', 'Harry Potter and the Prisoner of Azkaban (2004)', 'Babe (1995)', 'School of Rock (2003)', 'Shrek 2 (2004)', 'Harry Potter and the Goblet of Fire (2005)', 'Bruce Almighty (2003)']\n",
            "User 288 has rated movies\n",
            "Predicted movies for user 288: [\"Schindler's List (1993)\", \"One Flew Over the Cuckoo's Nest (1975)\", 'Finding Nemo (2003)', 'Dances with Wolves (1990)', 'Toy Story 2 (1999)', 'Babe (1995)', 'Shrek 2 (2004)', 'Big Fish (2003)', 'Harry Potter and the Prisoner of Azkaban (2004)', 'Harry Potter and the Goblet of Fire (2005)']\n",
            "User 608 has rated movies\n",
            "Predicted movies for user 608: [\"Schindler's List (1993)\", 'Finding Nemo (2003)', 'Shrek 2 (2004)', \"One Flew Over the Cuckoo's Nest (1975)\", 'Bruce Almighty (2003)', 'Ice Age (2002)', 'Harry Potter and the Prisoner of Azkaban (2004)', 'School of Rock (2003)', 'War of the Worlds (2005)', 'Men in Black II (a.k.a. MIIB) (a.k.a. MIB 2) (2002)']\n",
            "User 590 has rated movies\n",
            "Predicted movies for user 590: [\"Schindler's List (1993)\", \"One Flew Over the Cuckoo's Nest (1975)\", 'Finding Nemo (2003)', 'Ice Age (2002)', 'Harry Potter and the Prisoner of Azkaban (2004)', 'Shrek 2 (2004)', 'Dances with Wolves (1990)', 'Toy Story 2 (1999)', 'Sting, The (1973)', 'Sound of Music, The (1965)']\n",
            "Recommended movies for user 599: [\"Schindler's List (1993)\", 'Finding Nemo (2003)', \"One Flew Over the Cuckoo's Nest (1975)\", 'Toy Story 2 (1999)', 'Dances with Wolves (1990)', 'Shrek 2 (2004)', 'Babe (1995)', 'Ice Age (2002)', 'Bruce Almighty (2003)', 'Mission: Impossible II (2000)']\n",
            "The number of movies recommended is: 21\n"
          ]
        }
      ]
    },
    {
      "cell_type": "markdown",
      "source": [
        "User 414 has rated movies\n",
        "Predicted movies for user 414: ['Silence of the Lambs, The (1991)', 'Toy Story (1995)', 'Men in Black (a.k.a. MIB) (1997)', 'Lord of the Rings: The Two Towers, The (2002)', 'Lord of the Rings: The Return of the King, The (2003)', 'Star Wars: Episode I - The Phantom Menace (1999)', 'Shrek (2001)', 'Pirates of the Caribbean: The Curse of the Black Pearl (2003)', 'Twelve Monkeys (a.k.a. 12 Monkeys) (1995)', 'Speed (1994)']\n",
        "\n",
        "\n",
        "User 68 has rated movies\n",
        "Predicted movies for user 68: ['Silence of the Lambs, The (1991)', 'Men in Black (a.k.a. MIB) (1997)', 'Lord of the Rings: The Return of the King, The (2003)', 'Lord of the Rings: The Two Towers, The (2002)', 'Shrek (2001)', 'Pirates of the Caribbean: The Curse of the Black Pearl (2003)', 'Toy Story (1995)', 'Speed (1994)', 'Fugitive, The (1993)', 'Mission: Impossible (1996)']\n",
        "\n",
        "\n",
        "User 474 has rated movies\n",
        "Predicted movies for user 474: ['Silence of the Lambs, The (1991)', 'Toy Story (1995)', 'Men in Black (a.k.a. MIB) (1997)', 'Lord of the Rings: The Two Towers, The (2002)', 'Lord of the Rings: The Return of the King, The (2003)', 'Star Wars: Episode I - The Phantom Menace (1999)', 'Shrek (2001)', 'Twelve Monkeys (a.k.a. 12 Monkeys) (1995)', 'Pirates of the Caribbean: The Curse of the Black Pearl (2003)', \"Schindler's List (1993)\"]\n",
        "\n",
        "\n",
        "User 274 has rated movies\n",
        "Predicted movies for user 274: ['Silence of the Lambs, The (1991)', 'Toy Story (1995)', 'Pirates of the Caribbean: The Curse of the Black Pearl (2003)', 'Lord of the Rings: The Two Towers, The (2002)', 'Twelve Monkeys (a.k.a. 12 Monkeys) (1995)', 'Men in Black (a.k.a. MIB) (1997)', 'Shrek (2001)', 'Mask, The (1994)', \"Schindler's List (1993)\", 'Lord of the Rings: The Return of the King, The (2003)']\n",
        "\n",
        "\n",
        "User 448 has rated movies\n",
        "Predicted movies for user 448: ['Silence of the Lambs, The (1991)', 'Toy Story (1995)', 'Men in Black (a.k.a. MIB) (1997)', 'Lord of the Rings: The Return of the King, The (2003)', 'Lord of the Rings: The Two Towers, The (2002)', 'Speed (1994)', 'Fugitive, The (1993)', 'Pirates of the Caribbean: The Curse of the Black Pearl (2003)', 'Monsters, Inc. (2001)', 'Mrs. Doubtfire (1993)']\n",
        "\n",
        "User 380 has rated movies\n",
        "Predicted movies for user 380: ['Silence of the Lambs, The (1991)', 'Toy Story (1995)', 'Men in Black (a.k.a. MIB) (1997)', 'Lord of the Rings: The Two Towers, The (2002)', 'Lord of the Rings: The Return of the King, The (2003)', 'Shrek (2001)', 'Pirates of the Caribbean: The Curse of the Black Pearl (2003)', 'Star Wars: Episode I - The Phantom Menace (1999)', 'Twelve Monkeys (a.k.a. 12 Monkeys) (1995)', 'Speed (1994)']\n",
        "\n",
        "User 480 has rated movies\n",
        "Predicted movies for user 480: ['Silence of the Lambs, The (1991)', 'Lord of the Rings: The Two Towers, The (2002)', 'Lord of the Rings: The Return of the King, The (2003)', 'Men in Black (a.k.a. MIB) (1997)', 'Twelve Monkeys (a.k.a. 12 Monkeys) (1995)', \"Schindler's List (1993)\", 'Toy Story (1995)', 'Shrek (2001)', 'Mask, The (1994)', 'Aladdin (1992)']\n",
        "\n",
        "User 288 has rated movies\n",
        "Predicted movies for user 288: ['Silence of the Lambs, The (1991)', 'Toy Story (1995)', 'Men in Black (a.k.a. MIB) (1997)', 'Lord of the Rings: The Return of the King, The (2003)', 'Star Wars: Episode I - The Phantom Menace (1999)', 'Twelve Monkeys (a.k.a. 12 Monkeys) (1995)', 'Shrek (2001)', 'Pirates of the Caribbean: The Curse of the Black Pearl (2003)', \"Schindler's List (1993)\", 'Lord of the Rings: The Two Towers, The (2002)']\n",
        "\n",
        "User 608 has rated movies\n",
        "Predicted movies for user 608: ['Silence of the Lambs, The (1991)', 'Lord of the Rings: The Two Towers, The (2002)', 'Shrek (2001)', 'Lord of the Rings: The Return of the King, The (2003)', 'Star Wars: Episode I - The Phantom Menace (1999)', 'Pirates of the Caribbean: The Curse of the Black Pearl (2003)', 'Men in Black (a.k.a. MIB) (1997)', \"Schindler's List (1993)\", 'Monsters, Inc. (2001)', 'Toy Story (1995)']\n",
        "\n",
        "User 590 has rated movies\n",
        "Predicted movies for user 590: ['Silence of the Lambs, The (1991)', 'Toy Story (1995)', 'Lord of the Rings: The Two Towers, The (2002)', 'Lord of the Rings: The Return of the King, The (2003)', 'Shrek (2001)', 'Men in Black (a.k.a. MIB) (1997)', 'Pirates of the Caribbean: The Curse of the Black Pearl (2003)', \"Schindler's List (1993)\", 'Fugitive, The (1993)', 'Lion King, The (1994)']\n",
        "Recommended movies for user 599: []\n",
        "0\n",
        "\n"
      ],
      "metadata": {
        "id": "xNktLQiRcX8s"
      }
    },
    {
      "cell_type": "code",
      "source": [
        "#printa i film che ha visto l'utente 599 e ordinali in ordine alfabetico\n",
        "\n",
        "print(f\"Movies seen by user {user}: {already_seen}\")\n",
        "\n"
      ],
      "metadata": {
        "colab": {
          "base_uri": "https://localhost:8080/"
        },
        "id": "l-ccl9rWdRJe",
        "outputId": "a031c067-3cf0-4c04-9ebd-c7b4e9e863f6"
      },
      "execution_count": 40,
      "outputs": [
        {
          "output_type": "stream",
          "name": "stdout",
          "text": [
            "Movies seen by user 599: ['Toy Story (1995)', 'Jumanji (1995)', 'Grumpier Old Men (1995)', 'Heat (1995)', 'Sabrina (1995)', 'Sudden Death (1995)', 'GoldenEye (1995)', 'American President, The (1995)', 'Dracula: Dead and Loving It (1995)', 'Cutthroat Island (1995)', 'Casino (1995)', 'Sense and Sensibility (1995)', 'Four Rooms (1995)', 'Ace Ventura: When Nature Calls (1995)', 'Money Train (1995)', 'Get Shorty (1995)', 'Assassins (1995)', 'Powder (1995)', 'Othello (1995)', 'City of Lost Children, The (Cité des enfants perdus, La) (1995)', 'Dangerous Minds (1995)', 'Twelve Monkeys (a.k.a. 12 Monkeys) (1995)', 'Clueless (1995)', 'Richard III (1995)', 'Dead Presidents (1995)', 'Restoration (1995)', 'Mortal Kombat (1995)', 'To Die For (1995)', 'Seven (a.k.a. Se7en) (1995)', 'Usual Suspects, The (1995)', 'Mighty Aphrodite (1995)', 'Home for the Holidays (1995)', 'Indian in the Cupboard, The (1995)', 'Eye for an Eye (1996)', 'Bio-Dome (1996)', 'Friday (1995)', 'From Dusk Till Dawn (1996)', 'Misérables, Les (1995)', 'Big Bully (1996)', 'Screamers (1995)', 'Juror, The (1996)', \"Things to Do in Denver When You're Dead (1995)\", 'Dunston Checks In (1996)', 'Black Sheep (1996)', 'Nick of Time (1995)', 'Vampire in Brooklyn (1995)', 'Broken Arrow (1996)', 'Hate (Haine, La) (1995)', 'City Hall (1996)', 'Bottle Rocket (1996)', 'Happy Gilmore (1996)', 'Braveheart (1995)', 'Taxi Driver (1976)', 'Rumble in the Bronx (Hont faan kui) (1995)', 'Birdcage, The (1996)', 'Brothers McMullen, The (1995)', 'Bad Boys (1995)', 'Basketball Diaries, The (1995)', 'Apollo 13 (1995)', 'Batman Forever (1995)', 'Beyond Rangoon (1995)', 'Canadian Bacon (1995)', 'Casper (1995)', 'Clockers (1995)', 'Congo (1995)', 'Crimson Tide (1995)', 'Desperado (1995)', 'Devil in a Blue Dress (1995)', 'Die Hard: With a Vengeance (1995)', 'First Knight (1995)', 'Hackers (1995)', 'Johnny Mnemonic (1995)', 'Judge Dredd (1995)', 'Kids (1995)', 'Mallrats (1995)', 'Mighty Morphin Power Rangers: The Movie (1995)', 'Net, The (1995)', 'Nine Months (1995)', 'Prophecy, The (1995)', 'Scarlet Letter, The (1995)', 'Showgirls (1995)', 'Something to Talk About (1995)', 'Species (1995)', 'Strange Days (1995)', 'To Wong Foo, Thanks for Everything! Julie Newmar (1995)', 'Walk in the Clouds, A (1995)', 'Waterworld (1995)', \"White Man's Burden (1995)\", 'Wild Bill (1995)', 'Before Sunrise (1995)', 'Billy Madison (1995)', 'Boys on the Side (1995)', 'Clerks (1994)', 'Death and the Maiden (1994)', 'Dolores Claiborne (1995)', 'Dumb & Dumber (Dumb and Dumber) (1994)', 'Exotica (1994)', 'Exit to Eden (1994)', 'Ed Wood (1994)', 'French Kiss (1995)', 'Forget Paris (1995)', 'Hideaway (1995)', 'Houseguest (1994)', 'Heavyweights (Heavy Weights) (1995)', 'I.Q. (1994)', 'Interview with the Vampire: The Vampire Chronicles (1994)', 'Junior (1994)', 'Star Wars: Episode IV - A New Hope (1977)', 'Little Princess, A (1995)', 'Major Payne (1995)', 'Love Affair (1994)', 'Man of the House (1995)', 'Milk Money (1994)', 'Miracle on 34th Street (1994)', \"Nobody's Fool (1994)\", 'Nell (1994)', 'Natural Born Killers (1994)', 'Outbreak (1995)', 'Léon: The Professional (a.k.a. The Professional) (Léon) (1994)', 'Pulp Fiction (1994)', 'Quiz Show (1994)', 'Quick and the Dead, The (1995)', 'Stuart Saves His Family (1995)', 'Secret of Roan Inish, The (1994)', 'Stargate (1994)', 'Santa Clause, The (1994)', 'Shawshank Redemption, The (1994)', 'Swimming with Sharks (1995)', \"National Lampoon's Senior Trip (1995)\", 'Tank Girl (1995)', 'Tales from the Crypt Presents: Demon Knight (1995)', 'Star Trek: Generations (1994)', 'Village of the Damned (1995)', 'Tommy Boy (1995)', \"What's Eating Gilbert Grape (1993)\", 'Virtuosity (1995)', \"Muriel's Wedding (1994)\", 'Ace Ventura: Pet Detective (1994)', 'Adventures of Priscilla, Queen of the Desert, The (1994)', 'Bullets Over Broadway (1994)', 'Clear and Present Danger (1994)', 'Client, The (1994)', 'Corrina, Corrina (1994)', 'Crow, The (1994)', 'Cobb (1994)', 'Flintstones, The (1994)', 'Forrest Gump (1994)', 'Four Weddings and a Funeral (1994)', 'I Love Trouble (1994)', 'It Could Happen to You (1994)', 'Lion King, The (1994)', \"Wes Craven's New Nightmare (Nightmare on Elm Street Part 7: Freddy's Finale, A) (1994)\", 'Mask, The (1994)', 'Maverick (1994)', 'Naked Gun 33 1/3: The Final Insult (1994)', 'Paper, The (1994)', 'Red Rock West (1992)', 'Richie Rich (1994)', 'River Wild, The (1994)', 'Speed (1994)', 'Timecop (1994)', 'True Lies (1994)', 'Wolf (1994)', 'Wyatt Earp (1994)', 'Street Fighter (1994)', 'Highlander III: The Sorcerer (a.k.a. Highlander: The Final Dimension) (1994)', 'Addams Family Values (1993)', 'Age of Innocence, The (1993)', 'Airheads (1994)', 'Air Up There, The (1994)', 'Another Stakeout (1993)', 'Bad Girls (1994)', 'Beverly Hillbillies, The (1993)', 'Beverly Hills Cop III (1994)', 'Blown Away (1994)', 'Blue Chips (1994)', 'Bronx Tale, A (1993)', 'Cabin Boy (1994)', \"Carlito's Way (1993)\", \"City Slickers II: The Legend of Curly's Gold (1994)\", 'Cliffhanger (1993)', 'Coneheads (1993)', 'Cops and Robbersons (1994)', 'Cowboy Way, The (1994)', 'Dave (1993)', 'Dazed and Confused (1993)', 'Demolition Man (1993)', 'For Love or Money (1993)', 'Firm, The (1993)', 'Free Willy (1993)', 'Fugitive, The (1993)', 'Geronimo: An American Legend (1993)', 'Getaway, The (1994)', 'Getting Even with Dad (1994)', 'Hard Target (1993)', 'Hot Shots! Part Deux (1993)', 'Englishman Who Went Up a Hill But Came Down a Mountain, The (1995)', 'Hudsucker Proxy, The (1994)', \"I'll Do Anything (1994)\", 'In the Army Now (1994)', 'In the Line of Fire (1993)', \"What's Love Got to Do with It? (1993)\", 'Jimmy Hollywood (1994)', 'Jurassic Park (1993)', 'Kalifornia (1993)', 'Last Action Hero (1993)', 'Lightning Jack (1994)', 'Man Without a Face, The (1993)', 'Manhattan Murder Mystery (1993)', 'Executive Decision (1996)', 'Much Ado About Nothing (1993)', 'Mrs. Doubtfire (1993)', 'Next Karate Kid, The (1994)', 'North (1994)', 'Philadelphia (1993)', 'Renaissance Man (1994)', 'Rising Sun (1993)', 'RoboCop 3 (1993)', 'Robin Hood: Men in Tights (1993)', 'Rudy (1993)', 'Scout, The (1994)', 'Searching for Bobby Fischer (1993)', 'Secret Garden, The (1993)', 'Shadow, The (1994)', 'Short Cuts (1993)', 'Six Degrees of Separation (1993)', 'Sleepless in Seattle (1993)', 'Blade Runner (1982)', 'Son in Law (1993)', 'So I Married an Axe Murderer (1993)', 'Striking Distance (1993)', 'Super Mario Bros. (1993)', 'Surviving the Game (1994)', 'Terminal Velocity (1994)', 'Nightmare Before Christmas, The (1993)', 'Three Musketeers, The (1993)', 'Tombstone (1993)', 'True Romance (1993)', 'Welcome to the Dollhouse (1995)', 'Little Big League (1994)', 'Little Rascals, The (1994)', 'Andre (1994)', 'Princess Caraboo (1994)', 'Brady Bunch Movie, The (1995)', 'Home Alone (1990)', 'Ghost (1990)', 'Aladdin (1992)', 'Terminator 2: Judgment Day (1991)', 'Batman (1989)', 'Silence of the Lambs, The (1991)', 'Snow White and the Seven Dwarfs (1937)', 'Beauty and the Beast (1991)', 'Pinocchio (1940)', 'Pretty Woman (1990)', 'Wild Bunch, The (1969)', 'One Fine Day (1996)', 'Fargo (1996)', 'Heavy Metal (1981)', 'Pallbearer, The (1996)', 'Jane Eyre (1996)', 'Ed (1996)', 'Last Supper, The (1995)', 'Primal Fear (1996)', 'Theodore Rex (1995)', 'Sgt. Bilko (1996)', 'Courage Under Fire (1996)', 'Mission: Impossible (1996)', 'Dragonheart (1996)', 'Kids in the Hall: Brain Candy (1996)', 'Bloodsport 2 (a.k.a. Bloodsport II: The Next Kumite) (1996)', 'Space Jam (1996)', 'Operation Dumbo Drop (1995)', 'Substitute, The (1996)', 'Quest, The (1996)', 'Mulholland Falls (1996)', 'Truth About Cats & Dogs, The (1996)', 'Multiplicity (1996)', 'Wallace & Gromit: The Best of Aardman Animation (1996)', 'Craft, The (1996)', 'Great White Hype, The (1996)', 'Cold Comfort Farm (1995)', \"Heaven's Prisoners (1996)\", 'Rock, The (1996)', 'Twister (1996)', 'Barb Wire (1996)', 'Ghost in the Shell (Kôkaku kidôtai) (1995)', 'Thinner (1996)', 'Spy Hard (1996)', 'Wallace & Gromit: A Close Shave (1995)', 'Arrival, The (1996)', 'Dr. Strangelove or: How I Learned to Stop Worrying and Love the Bomb (1964)', 'Phantom, The (1996)', 'Striptease (1996)', 'Heavy (1995)', 'Trainspotting (1996)', 'Independence Day (a.k.a. ID4) (1996)', 'Stealing Beauty (1996)', 'Fan, The (1996)', 'Cable Guy, The (1996)', 'Kingpin (1996)', 'Eraser (1996)', 'Nutty Professor, The (1996)', 'Frighteners, The (1996)', 'Phenomenon (1996)', 'American Buffalo (1996)', 'Fled (1996)', 'Very Brady Sequel, A (1996)', 'Ransom (1996)', 'High School High (1996)', 'Chain Reaction (1996)', 'Matilda (1996)', 'Emma (1996)', 'Tales from the Crypt Presents: Bordello of Blood (1996)', 'Escape from L.A. (1996)', 'Basquiat (1996)', 'Tin Cup (1996)', 'Godfather, The (1972)', 'Supercop (Police Story 3: Supercop) (Jing cha gu shi III: Chao ji jing cha) (1992)', 'Island of Dr. Moreau, The (1996)', 'First Kid (1996)', 'Bogus (1996)', 'Bulletproof (1996)', 'Twelfth Night (1996)', 'Mother Night (1996)', 'Philadelphia Story, The (1940)', \"Singin' in the Rain (1952)\", 'Rear Window (1954)', 'Some Like It Hot (1959)', 'Charade (1963)', 'Casablanca (1942)', 'Maltese Falcon, The (1941)', 'Roman Holiday (1953)', 'Wizard of Oz, The (1939)', 'Gone with the Wind (1939)', 'Sunset Blvd. (a.k.a. Sunset Boulevard) (1950)', 'Citizen Kane (1941)', '2001: A Space Odyssey (1968)', 'Rebecca (1940)', 'Notorious (1946)', 'Spellbound (1945)', 'His Girl Friday (1940)', \"It's a Wonderful Life (1946)\", 'Night of the Living Dead (1968)', 'Michael Collins (1996)', 'Big Night (1996)', 'Last Man Standing (1996)', '2 Days in the Valley (1996)', 'Extreme Measures (1996)', 'Chamber, The (1996)', 'Homeward Bound: The Incredible Journey (1993)', 'Cool Runnings (1993)', 'Angels in the Outfield (1994)', 'Cinderella (1950)', 'Robin Hood: Prince of Thieves (1991)', 'Mary Poppins (1964)', 'Bedknobs and Broomsticks (1971)', 'Alice in Wonderland (1951)', 'Freeway (1996)', 'Die Hard (1988)', 'That Thing You Do! (1996)', 'Long Kiss Goodnight, The (1996)', 'Ghost and the Darkness, The (1996)', 'Looking for Richard (1996)', 'Everyone Says I Love You (1996)', \"William Shakespeare's Romeo + Juliet (1996)\", 'Swingers (1996)', 'Willy Wonka & the Chocolate Factory (1971)', 'Sleeper (1973)', 'Fish Called Wanda, A (1988)', \"Monty Python's Life of Brian (1979)\", 'Victor/Victoria (1982)', 'Bonnie and Clyde (1967)', 'Dirty Dancing (1987)', 'Reservoir Dogs (1992)', 'Platoon (1986)', \"Weekend at Bernie's (1989)\", 'Doors, The (1991)', 'Crying Game, The (1992)', 'Glengarry Glen Ross (1992)', 'E.T. the Extra-Terrestrial (1982)', 'Days of Thunder (1990)', 'Top Gun (1986)', 'Rebel Without a Cause (1955)', 'Streetcar Named Desire, A (1951)', 'Funeral, The (1996)', 'People vs. Larry Flynt, The (1996)', 'Drop Dead Fred (1991)', 'Abyss, The (1989)', 'Escape from New York (1981)', 'Monty Python and the Holy Grail (1975)', 'Wallace & Gromit: The Wrong Trousers (1993)', 'Bob Roberts (1992)', 'Paths of Glory (1957)', 'English Patient, The (1996)', 'My Left Foot (1989)', 'Sex, Lies, and Videotape (1989)', 'Thin Blue Line, The (1988)', 'Star Wars: Episode V - The Empire Strikes Back (1980)', 'Princess Bride, The (1987)', 'Raiders of the Lost Ark (Indiana Jones and the Raiders of the Lost Ark) (1981)', 'Brazil (1985)', 'Aliens (1986)', 'Good, the Bad and the Ugly, The (Buono, il brutto, il cattivo, Il) (1966)', 'Lawrence of Arabia (1962)', 'Clockwork Orange, A (1971)', 'Apocalypse Now (1979)', 'Star Wars: Episode VI - Return of the Jedi (1983)', 'Third Man, The (1949)', 'Goodfellas (1990)', 'Alien (1979)', 'Army of Darkness (1993)', 'Big Blue, The (Grand bleu, Le) (1988)', 'Killer, The (Die xue shuang xiong) (1989)', 'Psycho (1960)', 'Blues Brothers, The (1980)', 'Godfather: Part II, The (1974)', 'Full Metal Jacket (1987)', 'Grand Day Out with Wallace and Gromit, A (1989)', 'Henry V (1989)', 'Amadeus (1984)', 'Quiet Man, The (1952)', 'Raging Bull (1980)', 'Annie Hall (1977)', 'Right Stuff, The (1983)', 'Stalker (1979)', 'Boot, Das (Boat, The) (1981)', 'Trust (1990)', 'Seventh Seal, The (Sjunde inseglet, Det) (1957)', 'Terminator, The (1984)', 'Glory (1989)', 'Rosencrantz and Guildenstern Are Dead (1990)', 'Manhattan (1979)', \"Miller's Crossing (1990)\", 'Dead Poets Society (1989)', 'Graduate, The (1967)', 'Touch of Evil (1958)', 'Femme Nikita, La (Nikita) (1990)', 'Chinatown (1974)', 'Day the Earth Stood Still, The (1951)', 'Treasure of the Sierra Madre, The (1948)', 'Better Off Dead... (1985)', 'Shining, The (1980)', 'Stand by Me (1986)', 'Evil Dead II (Dead by Dawn) (1987)', 'Deer Hunter, The (1978)', 'Groundhog Day (1993)', 'Unforgiven (1992)', 'Pump Up the Volume (1990)', 'Back to the Future (1985)', 'Fried Green Tomatoes (1991)', 'Akira (1988)', 'Highlander (1986)', 'Young Frankenstein (1974)', 'Fantasia (1940)', 'High Noon (1952)', 'Indiana Jones and the Last Crusade (1989)', 'Real Genius (1985)', 'Pink Floyd: The Wall (1982)', 'Killing Fields, The (1984)', 'Field of Dreams (1989)', 'When Harry Met Sally... (1989)', 'Alien³ (a.k.a. Alien 3) (1992)', 'Birds, The (1963)', \"Dracula (Bram Stoker's Dracula) (1992)\", 'Candyman (1992)', 'Cape Fear (1991)', 'Nightmare on Elm Street, A (1984)', 'Omen, The (1976)', 'Blood and Wine (Blood & Wine) (1996)', 'Albino Alligator (1996)', 'Nightwatch (1997)', 'Star Trek: First Contact (1996)', 'Shine (1996)', 'Jingle All the Way (1996)', 'Crucible, The (1996)', 'Die Hard 2 (1990)', 'Star Trek: The Motion Picture (1979)', 'Star Trek VI: The Undiscovered Country (1991)', 'Star Trek V: The Final Frontier (1989)', 'Star Trek II: The Wrath of Khan (1982)', 'Star Trek III: The Search for Spock (1984)', 'Star Trek IV: The Voyage Home (1986)', 'Batman Returns (1992)', 'Young Guns (1988)', 'Grease (1978)', 'Grease 2 (1982)', 'Marked for Death (1990)', 'Under Siege (1992)', 'Jaws (1975)', 'My Fellow Americans (1996)', 'Mars Attacks! (1996)', 'Jerry Maguire (1996)', 'Raising Arizona (1987)', 'Sneakers (1992)', 'Ghosts of Mississippi (1996)', 'Beavis and Butt-Head Do America (1996)', 'Scream (1996)', 'Last of the Mohicans, The (1992)', 'Michael (1996)', 'Hamlet (1996)', 'Zeus and Roxanne (1997)', 'First Strike (Police Story 4: First Strike) (Ging chaat goo si 4: Ji gaan daan yam mo) (1996)', 'Beverly Hills Ninja (1997)', 'Metro (1997)', \"Dante's Peak (1997)\", 'Meet Wally Sparks (1997)', 'Benny & Joon (1993)', \"McHale's Navy (1997)\", \"Gridlock'd (1997)\", 'Waiting for Guffman (1996)', 'Fools Rush In (1997)', 'Absolute Power (1997)', \"Vegas Vacation (National Lampoon's Las Vegas Vacation) (1997)\", 'Lost Highway (1997)', 'Rosewood (1997)', 'Donnie Brasco (1997)', 'Booty Call (1997)', 'Private Parts (1997)', 'Saint, The (1997)', \"Smilla's Sense of Snow (1997)\", 'Daytrippers, The (1996)', 'Liar Liar (1997)', 'Selena (1997)', \"Devil's Own, The (1997)\", 'Anaconda (1997)', 'Volcano (1997)', 'Austin Powers: International Man of Mystery (1997)', \"Fathers' Day (1997)\", 'Fifth Element, The (1997)', 'Addicted to Love (1997)', 'Lost World: Jurassic Park, The (1997)', 'Con Air (1997)', 'Batman & Robin (1997)', 'Face/Off (1997)', 'Men in Black (a.k.a. MIB) (1997)', 'Out to Sea (1997)', 'Contact (1997)', 'Conan the Barbarian (1982)', 'Cop Land (1997)', 'Event Horizon (1997)', 'Spawn (1997)', 'Conspiracy Theory (1997)', 'Steel (1997)', 'Hoodlum (1997)', 'Mimic (1997)', 'Excess Baggage (1997)', 'Air Force One (1997)', '187 (One Eight Seven) (1997)', 'Hunt for Red October, The (1990)', 'Edge, The (1997)', 'Peacemaker, The (1997)', 'L.A. Confidential (1997)', 'Seven Years in Tibet (1997)', 'Wishmaster (1997)', 'Game, The (1997)', \"Ulee's Gold (1997)\", 'Ice Storm, The (1997)', 'Chasing Amy (1997)', 'I Know What You Did Last Summer (1997)', \"The Devil's Advocate (1997)\", 'RocketMan (a.k.a. Rocket Man) (1997)', 'Playing God (1997)', 'Gattaca (1997)', 'Life Less Ordinary, A (1997)', 'Stripes (1981)', 'Mad City (1997)', 'Rainmaker, The (1997)', 'Boogie Nights (1997)', 'Witness (1985)', 'Starship Troopers (1997)', 'Mortal Kombat: Annihilation (1997)', 'Truman Show, The (1998)', 'Jackal, The (1997)', 'Man Who Knew Too Little, The (1997)', 'Alien: Resurrection (1997)', 'Amistad (1997)', 'Apostle, The (1997)', 'Deconstructing Harry (1997)', 'For Richer or Poorer (1997)', 'Good Will Hunting (1997)', 'Midnight in the Garden of Good and Evil (1997)', 'Mouse Hunt (1997)', 'Sweet Hereafter, The (1997)', 'Titanic (1997)', 'Tomorrow Never Dies (1997)', 'Postman, The (1997)', 'Jackie Brown (1997)', 'Kundun (1997)', 'Big Lebowski, The (1998)', 'Great Expectations (1998)', 'Wag the Dog (1997)', 'Dark City (1998)', 'Hard Rain (1998)', 'Half Baked (1998)', 'Deep Rising (1998)', 'Replacement Killers, The (1998)', 'B. Monkey (1998)', 'Wedding Singer, The (1998)', 'Sphere (1998)', 'As Good as It Gets (1997)', 'Twilight (1998)', 'U.S. Marshals (1998)', 'Love and Death on Long Island (1997)', 'Suicide Kings (1997)', 'Man in the Iron Mask, The (1998)', 'Wild Things (1998)', 'Primary Colors (1998)', 'Big One, The (1997)', 'Spanish Prisoner, The (1997)', 'City of Angels (1998)', 'He Got Game (1998)', 'Zero Effect (1998)', \"Krippendorf's Tribe (1998)\", 'Mr. Nice Guy (Yat goh ho yan) (1997)', 'Species II (1998)', 'Big Hit, The (1998)', 'Misérables, Les (1998)', 'Deep Impact (1998)', 'Godzilla (1998)', 'Bulworth (1998)', 'Fear and Loathing in Las Vegas (1998)', 'Almost Heroes (1998)', 'Six Days Seven Nights (1998)', \"Can't Hardly Wait (1998)\", 'Henry Fool (1997)', 'X-Files: Fight the Future, The (1998)', 'Dr. Dolittle (1998)', 'Out of Sight (1998)', 'Armageddon (1998)', 'Lethal Weapon 4 (1998)', 'Small Soldiers (1998)', 'Pi (1998)', \"There's Something About Mary (1998)\", 'On the Waterfront (1954)', 'West Side Story (1961)', 'In the Heat of the Night (1967)', 'Oliver! (1968)', 'Midnight Cowboy (1969)', 'French Connection, The (1971)', 'Rocky (1976)', 'Terms of Endearment (1983)', 'Out of Africa (1985)', 'Last Emperor, The (1987)', 'Rain Man (1988)', 'Repo Man (1984)', 'Labyrinth (1986)', 'Breakfast Club, The (1985)', 'Halloween (1978)', \"Child's Play (1988)\", \"Child's Play 2 (1990)\", \"Child's Play 3 (1991)\", 'Poltergeist (1982)', 'Exorcist, The (1973)', 'Lethal Weapon (1987)', 'Lethal Weapon 2 (1989)', 'Lethal Weapon 3 (1992)', 'Gremlins (1984)', 'Gremlins 2: The New Batch (1990)', 'Goonies, The (1985)', 'Mask of Zorro, The (1998)', 'Back to the Future Part II (1989)', 'Back to the Future Part III (1990)', 'Bambi (1942)', 'Seven Samurai (Shichinin no samurai) (1954)', 'Godfather: Part III, The (1990)', 'Saving Private Ryan (1998)', 'Blank Check (1994)', 'Hocus Pocus (1993)', 'Honey, I Blew Up the Kid (1992)', 'Honey, I Shrunk the Kids (1989)', 'Negotiator, The (1998)', 'BASEketball (1998)', 'Roger & Me (1989)', 'And the Band Played On (1993)', \"'burbs, The (1989)\", 'Night Porter, The (Portiere di notte, Il) (1974)', 'Blue Velvet (1986)', 'Jungle Book, The (1967)', 'Lady and the Tramp (1955)', 'Little Mermaid, The (1989)', 'Mighty Ducks, The (1992)', 'Muppet Christmas Carol, The (1992)', 'Newsies (1992)', 'Peter Pan (1953)', 'Popeye (1980)', 'Return of Jafar, The (1994)', 'Rocketeer, The (1991)', 'Sleeping Beauty (1959)', 'Song of the South (1946)', 'Splash (1984)', 'Tron (1982)', 'Indiana Jones and the Temple of Doom (1984)', 'Lord of the Rings, The (1978)', 'Dead Zone, The (1983)', 'Maximum Overdrive (1986)', 'All Dogs Go to Heaven (1989)', 'Addams Family, The (1991)', 'Snake Eyes (1998)', 'Adventures in Babysitting (1987)', 'Weird Science (1985)', \"Charlotte's Web (1973)\", 'Dark Crystal, The (1982)', 'Sixteen Candles (1984)', 'Pretty in Pink (1986)', 'How Stella Got Her Groove Back (1998)', \"Rosemary's Baby (1968)\", 'NeverEnding Story, The (1984)', 'NeverEnding Story II: The Next Chapter, The (1990)', 'Blade (1998)', 'Wrongfully Accused (1998)', 'Next Stop Wonderland (1998)', 'Beetlejuice (1988)', 'Strangers on a Train (1951)', '54 (1998)', 'Willow (1988)', 'Untouchables, The (1987)', 'Lady Vanishes, The (1938)', 'Rounders (1998)', 'Cube (1997)', 'Broadcast News (1987)', 'Working Girl (1988)', 'Married to the Mob (1988)', 'Say Anything... (1989)', 'Hero (1992)', 'Toys (1992)', 'One Crazy Summer (1986)', 'Nothing But Trouble (1991)', 'Few Good Men, A (1992)', 'Indecent Proposal (1993)', 'Rush Hour (1998)', 'Six-String Samurai (1998)', 'Ronin (1998)', 'Monument Ave. (1998)', 'Thing, The (1982)', 'Player, The (1992)', 'Edward Scissorhands (1990)', 'Overnight Delivery (1998)', 'Night at the Roxbury, A (1998)', 'What Dreams May Come (1998)', 'History of the World: Part I (1981)', 'My Cousin Vinny (1992)', 'Holy Man (1998)', '2010: The Year We Make Contact (1984)', 'Pleasantville (1998)', 'Soldier (1998)', 'Cruise, The (1998)', 'Orgazmo (1997)', 'Vampires (1998)', 'American History X (1998)', 'Siege, The (1998)', 'Waterboy, The (1998)', 'Elizabeth (1998)', \"I'll Be Home For Christmas (1998)\", 'Sid and Nancy (1986)', 'Big Chill, The (1983)', 'Enemy of the State (1998)', \"Bug's Life, A (1998)\", 'Celebrity (1998)', 'Waking Ned Devine (a.k.a. Waking Ned) (1998)', 'Pink Flamingos (1972)', 'King Kong (1933)', 'Desperately Seeking Susan (1985)', 'Fletch (1985)', 'Fletch Lives (1989)', 'Money Pit, The (1986)', 'View to a Kill, A (1985)', 'Lifeforce (1985)', 'Police Academy (1984)', 'Police Academy 3: Back in Training (1986)', 'Police Academy 4: Citizens on Patrol (1987)', 'Police Academy 5: Assignment: Miami Beach (1988)', 'Police Academy 6: City Under Siege (1989)', 'Very Bad Things (1998)', 'Simple Plan, A (1998)', 'Star Trek: Insurrection (1998)', 'Rushmore (1998)', 'Shakespeare in Love (1998)', 'Miracle on 34th Street (1947)', 'Santa Claus: The Movie (1985)', 'Rambo: First Blood Part II (1985)', 'First Blood (Rambo: First Blood) (1982)', 'Rambo III (1988)', 'Romancing the Stone (1984)', 'Rocky II (1979)', 'Rocky III (1982)', 'Rocky IV (1985)', 'Rocky V (1990)', 'Clue (1985)', 'Nothing in Common (1986)', 'Karate Kid, The (1984)', 'Karate Kid, Part II, The (1986)', 'Karate Kid, Part III, The (1989)', \"Christmas Vacation (National Lampoon's Christmas Vacation) (1989)\", \"You've Got Mail (1998)\", 'Thin Red Line, The (1998)', 'Faculty, The (1998)', 'Civil Action, A (1998)', 'Affliction (1997)', 'At First Sight (1999)', 'Varsity Blues (1999)', 'Virus (1999)', 'Howard the Duck (1986)', 'Fly, The (1986)', 'Armed and Dangerous (1986)', 'Deadly Friend (1986)', \"Jumpin' Jack Flash (1986)\", 'Crocodile Dundee (1986)', 'Crocodile Dundee II (1988)', 'Tough Guys (1986)', 'Color of Money, The (1986)', '¡Three Amigos! (1986)', \"She's All That (1999)\", 'Payback (1999)', 'Blast from the Past (1999)', 'Message in a Bottle (1999)', 'October Sky (1999)', 'Office Space (1999)', '8MM (1999)', 'Alligator (1980)', 'Planet of the Apes (1968)', 'Beneath the Planet of the Apes (1970)', 'Escape from the Planet of the Apes (1971)', 'Analyze This (1999)', 'Corruptor, The (1999)', 'Cruel Intentions (1999)', 'Lock, Stock & Two Smoking Barrels (1998)', \"My Boyfriend's Back (1993)\", 'EDtv (1999)', 'Matrix, The (1999)', '10 Things I Hate About You (1999)', 'Go (1999)', 'Twin Dragons (Shuang long hui) (1992)', \"Cookie's Fortune (1999)\", 'Goodbye Lover (1999)', 'Open Your Eyes (Abre los ojos) (1997)', 'Lost & Found (1999)', 'Pushing Tin (1999)', 'Election (1999)', 'eXistenZ (1999)', 'Entrapment (1999)', 'Idle Hands (1999)', 'Night of the Comet (1984)', 'Dick Tracy (1990)', 'Mummy, The (1999)', \"William Shakespeare's A Midsummer Night's Dream (1999)\", 'Black Mask (Hak hap) (1996)', 'Star Wars: Episode I - The Phantom Menace (1999)', 'Superman (1978)', 'Superman II (1980)', 'Superman III (1983)', 'Superman IV: The Quest for Peace (1987)', 'Rocky Horror Picture Show, The (1975)', 'War of the Worlds, The (1953)', 'Notting Hill (1999)', 'Instinct (1999)', 'Free Enterprise (1998)', 'Austin Powers: The Spy Who Shagged Me (1999)', \"Legend of 1900, The (a.k.a. The Legend of the Pianist on the Ocean) (Leggenda del pianista sull'oceano) (1998)\", 'Run Lola Run (Lola rennt) (1998)', 'Big Daddy (1999)', 'Zone 39 (1997)', 'South Park: Bigger, Longer and Uncut (1999)', 'Wild Wild West (1999)', 'American Pie (1999)', 'Arlington Road (1999)', 'Muppets From Space (1999)', 'Blair Witch Project, The (1999)', 'Ghostbusters (a.k.a. Ghost Busters) (1984)', 'Ghostbusters II (1989)', 'Drop Dead Gorgeous (1999)', 'Haunting, The (1999)', 'Deep Blue Sea (1999)', 'Mystery Men (1999)', 'Killing, The (1956)', 'Mosquito Coast, The (1986)', 'Mission, The (1986)', 'Little Shop of Horrors (1986)', 'Iron Giant, The (1999)', 'Sixth Sense, The (1999)', 'Heaven Can Wait (1978)', \"Monty Python's And Now for Something Completely Different (1971)\", 'Airplane! (1980)', 'Airplane II: The Sequel (1982)', \"European Vacation (aka National Lampoon's European Vacation) (1985)\", \"National Lampoon's Vacation (1983)\", 'Funny Farm (1988)', 'Big (1988)', 'Problem Child (1990)', 'Problem Child 2 (1991)', 'Pelican Brief, The (1993)', 'Christmas Story, A (1983)', 'Universal Soldier (1992)', 'Perfect Blue (1997)', 'Three Days of the Condor (3 Days of the Condor) (1975)', 'Medicine Man (1992)', '13th Warrior, The (1999)', 'Muse, The (1999)', 'Outside Providence (1999)', 'Stir of Echoes (1999)', 'Adventures of Milo and Otis, The (Koneko monogatari) (1986)', 'American Beauty (1999)', 'Excalibur (1981)', 'Tommy (1975)', 'Armour of God II: Operation Condor (Operation Condor) (Fei ying gai wak) (1991)', 'Armour of God (Long xiong hu di) (1987)', 'Jakob the Liar (1999)', 'Three Kings (1999)', 'Limey, The (1999)', 'Risky Business (1983)', 'Total Recall (1990)', \"Ferris Bueller's Day Off (1986)\", 'Drunken Master (Jui kuen) (1978)', 'Days of Heaven (1978)', 'Palm Beach Story, The (1942)', 'Flashdance (1983)', 'Goldfinger (1964)', 'From Russia with Love (1963)', 'Dr. No (1962)', 'Blue Lagoon, The (1980)', 'Fistful of Dollars, A (Per un pugno di dollari) (1964)', 'Sydney (Hard Eight) (1996)', 'Home Alone 2: Lost in New York (1992)', 'Fight Club (1999)', 'Straight Story, The (1999)', 'Time Bandits (1981)', 'Bringing Out the Dead (1999)', 'RoboCop (1987)', 'RoboCop 2 (1990)', 'Who Framed Roger Rabbit? (1988)', 'For Your Eyes Only (1981)', 'Licence to Kill (1989)', 'Live and Let Die (1973)', 'Thunderball (1965)', 'House on Haunted Hill (1999)', 'Being John Malkovich (1999)', 'Princess Mononoke (Mononoke-hime) (1997)', 'Insider, The (1999)', 'American Movie (1999)', 'Creepshow (1982)', 'Falling Down (1993)', 'Yojimbo (1961)', 'Spaceballs (1987)', 'Quest for Fire (Guerre du feu, La) (1981)', 'Trading Places (1983)', 'Meatballs (1979)', \"Peter's Friends (1992)\", 'Dogma (1999)', 'Messenger: The Story of Joan of Arc, The (1999)', 'Pokémon: The First Movie (1998)', 'Verdict, The (1982)', 'Adventures of Buckaroo Banzai Across the 8th Dimension, The (1984)', 'Stand and Deliver (1988)', 'Moonstruck (1987)', 'Sleepy Hollow (1999)', 'Scrooged (1988)', 'River Runs Through It, A (1992)', 'Midnight Run (1988)', 'Awakenings (1990)', 'Backdraft (1991)', 'Fisher King, The (1991)', 'End of Days (1999)', 'Two Jakes, The (1990)', 'Cradle Will Rock (1999)', 'Deuce Bigalow: Male Gigolo (1999)', 'Green Mile, The (1999)', 'Cider House Rules, The (1999)', 'Magnolia (1999)', 'Easy Rider (1969)', 'Any Given Sunday (1999)', 'Man on the Moon (1999)', 'Galaxy Quest (1999)', 'Talented Mr. Ripley, The (1999)', 'Titus (1999)', 'Girl, Interrupted (1999)', 'Supernova (2000)', 'Stalag 17 (1953)', 'Presidio, The (1988)', 'Last Detail, The (1973)', 'Five Easy Pieces (1970)', \"Loaded Weapon 1 (National Lampoon's Loaded Weapon 1) (1993)\", 'Fast Times at Ridgemont High (1982)', 'Batman: Mask of the Phantasm (1993)', 'Where the Buffalo Roam (1980)', 'Big Tease, The (1999)', 'Encino Man (1992)', 'Sister Act (1992)', 'Sister Act 2: Back in the Habit (1993)', 'Alive (1993)', 'Scent of a Woman (1992)', \"Wayne's World (1992)\", \"Wayne's World 2 (1993)\", 'League of Their Own, A (1992)', 'Patriot Games (1992)', 'Bodyguard, The (1992)', 'Death Becomes Her (1992)', 'Far and Away (1992)', \"White Men Can't Jump (1992)\", 'Buffy the Vampire Slayer (1992)', 'Hard-Boiled (Lat sau san taam) (1992)', \"Man Bites Dog (C'est arrivé près de chez vous) (1992)\", 'Mariachi, El (1992)', 'Stop! Or My Mom Will Shoot (1992)', 'Forever Young (1992)', 'Cutting Edge, The (1992)', 'Of Mice and Men (1992)', 'Boondock Saints, The (2000)', 'Boiler Room (2000)', 'Pitch Black (2000)', 'Whole Nine Yards, The (2000)', 'Wonder Boys (2000)', 'Beyond the Mat (1999)', 'Ghost Dog: The Way of the Samurai (1999)', 'Key Largo (1948)', 'Birdy (1984)', 'Mission to Mars (2000)', 'Ninth Gate, The (1999)', 'Defending Your Life (1991)', 'Bull Durham (1988)', 'Dog Day Afternoon (1975)', 'Searchers, The (1956)', 'On the Beach (1959)', 'Volunteers (1985)', 'JFK (1991)', \"Who's Harry Crumb? (1989)\", 'Harry and the Hendersons (1987)', 'She-Devil (1989)', 'Muppet Movie, The (1979)', 'Great Muppet Caper, The (1981)', 'Muppets Take Manhattan, The (1984)', 'Erin Brockovich (2000)', 'Final Destination (2000)', \"Bear, The (Ours, L') (1988)\", 'Thelma & Louise (1991)', 'Animal House (1978)', 'School Daze (1988)', 'Do the Right Thing (1989)', 'Double Indemnity (1944)', 'Teenage Mutant Ninja Turtles (1990)', 'Teenage Mutant Ninja Turtles II: The Secret of the Ooze (1991)', 'Teenage Mutant Ninja Turtles III (1993)', 'Bloodsport (1988)', 'Good Morning, Vietnam (1987)', 'Grumpy Old Men (1993)', 'Romeo Must Die (2000)', 'Whatever It Takes (2000)', 'Lord of the Flies (1963)', 'Hustler, The (1961)', 'Close Encounters of the Third Kind (1977)', \"Jacob's Ladder (1990)\", 'Bamba, La (1987)', 'Ladyhawke (1985)', 'High Fidelity (2000)', 'Hook (1991)', 'Misery (1990)', \"Murphy's Romance (1985)\", 'My Life (1993)', 'Solaris (Solyaris) (1972)', 'No Way Out (1987)', 'Frequency (2000)', 'Ready to Rumble (2000)', 'Mystery Train (1989)', 'Arthur (1981)', 'Predator (1987)', 'Where the Money Is (2000)', 'Caddyshack (1980)', 'Virgin Suicides, The (1999)', 'Big Kahuna, The (2000)', 'Time Code (2000)', 'Gladiator (2000)', 'Mr. Mom (1983)', 'Hamlet (2000)', 'Honeymoon in Vegas (1992)', 'Road Trip (2000)', 'Shanghai Noon (2000)', 'Gold Rush, The (1925)', 'Guns of Navarone, The (1961)', 'Romeo and Juliet (1968)', 'Stay Tuned (1992)', 'Blazing Saddles (1974)', 'For a Few Dollars More (Per qualche dollaro in più) (1965)', 'Blood Simple (1984)', 'Fabulous Baker Boys, The (1989)', 'Flatliners (1990)', \"Porky's (1982)\", 'Toxic Avenger, The (1985)', 'Predator 2 (1990)', 'Running Man, The (1987)', 'Brother from Another Planet, The (1984)', 'Alien Nation (1988)', 'Mad Max (1979)', 'Road Warrior, The (Mad Max 2) (1981)', 'Mad Max Beyond Thunderdome (1985)', 'Sleepwalkers (1992)', 'Hamlet (1990)', 'Coming Home (1978)', 'Conversation, The (1974)', 'Serpico (1973)', 'Big Trouble in Little China (1986)', 'Badlands (1973)', 'Me, Myself & Irene (2000)', 'Patriot, The (2000)', 'Perfect Storm, The (2000)', 'F/X (1986)', 'F/X2 (a.k.a. F/X 2 - The Deadly Art of Illusion) (1991)', 'House Party 2 (1991)', 'Croupier (1998)', 'Kid, The (2000)', 'Scary Movie (2000)', 'Footloose (1984)', 'X-Men (2000)', 'What Lies Beneath (2000)', 'Pokémon the Movie 2000 (2000)', 'What About Bob? (1991)', 'Coyote Ugly (2000)', 'Hollow Man (2000)', 'Space Cowboys (2000)', 'Psycho Beach Party (2000)', 'Saving Grace (2000)', 'Crush, The (1993)', 'Tao of Steve, The (2000)', 'Replacements, The (2000)', 'Cell, The (2000)', 'Godzilla 2000 (Gojira ni-sen mireniamu) (1999)', 'Original Kings of Comedy, The (2000)', 'Naked Gun: From the Files of Police Squad!, The (1988)', 'Naked Gun 2 1/2: The Smell of Fear, The (1991)', 'Shane (1953)', 'Bring It On (2000)', 'Crew, The (2000)', 'Highlander: Endgame (Highlander IV) (2000)', 'Way of the Gun, The (2000)', 'Almost Famous (2000)', 'Under Suspicion (2000)', 'Best in Show (2000)', 'Girlfight (2000)', 'Hellraiser (1987)', 'Runaway (1984)', 'Bamboozled (2000)', 'Get Carter (1971)', 'Meet the Parents (2000)', 'Requiem for a Dream (2000)', 'Tigerland (2000)', 'Contender, The (2000)', 'Ghoulies II (1987)', 'Bedazzled (2000)', 'Pay It Forward (2000)', 'Legend of Drunken Master, The (Jui kuen II) (1994)', 'Book of Shadows: Blair Witch 2 (2000)', \"Charlie's Angels (2000)\", 'Little Nicky (2000)', 'Red Planet (2000)', 'Diamonds Are Forever (1971)', '6th Day, The (2000)', 'Unbreakable (2000)', 'Crouching Tiger, Hidden Dragon (Wo hu cang long) (2000)', 'Dungeons & Dragons (2000)', 'Living Daylights, The (1987)', 'Transformers: The Movie (1986)', 'Wall Street (1987)', 'Born on the Fourth of July (1989)', \"Brewster's Millions (1985)\", 'Snatch (2000)', 'Punchline (1988)', 'Chocolat (2000)', \"Dude, Where's My Car? (2000)\", 'Pollock (2000)', 'Finding Forrester (2000)', 'Cast Away (2000)', 'O Brother, Where Art Thou? (2000)', 'State and Main (2000)', 'Traffic (2000)', 'Shadow of the Vampire (2000)', 'House of Games (1987)', 'Annie (1982)', \"Don't Tell Mom the Babysitter's Dead (1991)\", 'At Close Range (1986)', 'Gettysburg (1993)', 'Pledge, The (2001)', 'Mystic Pizza (1988)', 'Prelude to a Kiss (1992)', 'Beverly Hills Cop II (1987)', 'Beverly Hills Cop (1984)', 'Brave Little Toaster, The (1987)', 'Empire of the Sun (1987)', 'Ernest Goes to Camp (1987)', 'Evil Dead, The (1981)', 'Flowers in the Attic (1987)', 'Glass Menagerie, The (1987)', 'Innerspace (1987)', 'Leonard Part 6 (1987)', 'Like Father, Like Son (1987)', 'Making Mr. Right (1987)', 'Mannequin (1987)', 'Masters of the Universe (1987)', 'Hannibal (2001)', 'Saving Silverman (Evil Woman) (2001)', 'Sweet November (2001)', 'Mexican, The (2001)', '15 Minutes (2001)', \"Gray's Anatomy (1996)\", 'Real Life (1979)', 'Double Impact (1991)', 'Harley Davidson and the Marlboro Man (1991)', 'Mermaids (1990)', 'Revenge of the Nerds (1984)', 'Revenge of the Nerds II: Nerds in Paradise (1987)', 'Enemy at the Gates (2001)', 'Memento (2000)', 'Blow (2001)', 'Just Visiting (2001)', 'Joe Dirt (2001)', 'Crocodile Dundee in Los Angeles (2001)', 'Scarface (1983)', 'Mummy Returns, The (2001)', 'Krull (1983)', 'Frankie and Johnny (1991)', 'Nine to Five (a.k.a. 9 to 5) (1980)', 'Norma Rae (1979)', 'Summer Rental (1985)', \"Knight's Tale, A (2001)\", 'Shrek (2001)', 'Moulin Rouge (2001)', 'Pearl Harbor (2001)', 'City Slickers (1991)', 'Magnificent Seven, The (1960)', 'Throw Momma from the Train (1987)', 'Swordfish (2001)', 'Point Break (1991)', 'Seven Year Itch, The (1955)', 'Tootsie (1982)', 'Lara Croft: Tomb Raider (2001)', 'Fast and the Furious, The (2001)', 'A.I. Artificial Intelligence (2001)', 'Sexy Beast (2000)', 'Princess and the Warrior, The (Krieger und die Kaiserin, Der) (2000)', 'Cats & Dogs (2001)', 'Kiss of the Dragon (2001)', 'Scary Movie 2 (2001)', 'Alice (1990)', 'Beach Blanket Bingo (1965)', 'Lion in Winter, The (1968)', 'Big Boss, The (Fists of Fury) (Tang shan da xiong) (1971)', 'Game of Death (1978)', 'Last Dragon, The (1985)', 'Outland (1981)', 'Final Fantasy: The Spirits Within (2001)', 'Made (2001)', 'Adventures of Baron Munchausen, The (1988)', 'Ariel (1988)', 'Beaches (1988)', 'Big Top Pee-Wee (1988)', 'Caddyshack II (1988)', 'Cocktail (1988)', 'Coming to America (1988)', 'Couch Trip, The (1988)', 'Dead Pool, The (1988)', 'Ernest Saves Christmas (1988)', 'Feds (1988)', 'Frantic (1988)', 'Gorillas in the Mist (1988)', 'Great Outdoors, The (1988)', 'High Spirits (1988)', 'Land Before Time, The (1988)', 'Red Heat (1988)', 'Short Circuit 2 (1988)', 'Short Circuit (1986)', 'They Live (1988)', 'Twins (1988)', 'Young Einstein (1988)', 'Always (1989)', 'Best of the Best (1989)', \"Bill & Ted's Excellent Adventure (1989)\", 'Blind Fury (1989)', 'Chances Are (1989)', 'Cyborg (1989)', 'Dream Team, The (1989)', 'Earth Girls Are Easy (1988)', 'Erik the Viking (1989)', 'Family Business (1989)', 'Farewell to the King (1989)', 'Gleaming the Cube (1989)', 'Her Alibi (1989)', 'Let It Ride (1989)', 'Little Monsters (1989)', \"Look Who's Talking (1989)\", 'Major League (1989)', 'Millennium (1989)', 'Package, The (1989)', 'Punisher, The (1989)', \"America's Sweethearts (2001)\", 'Ghost World (2001)', 'Road House (1989)', 'See No Evil, Hear No Evil (1989)', 'Stepfather, The (1987)', 'Troop Beverly Hills (1989)', 'Uncle Buck (1989)', 'Wizard, The (1989)', \"Weekend at Bernie's II (1993)\", 'Princess Diaries, The (2001)', 'Rush Hour 2 (2001)', 'American Pie 2 (2001)', 'Osmosis Jones (2001)', 'Others, The (2001)', 'Rat Race (2001)', 'Bubble Boy (2001)', 'Jay and Silent Bob Strike Back (2001)', '3 Ninjas (1992)', 'Big Trouble (2002)', 'Training Day (2001)', 'Little Man Tate (1991)', 'Vanishing, The (1993)', 'SpaceCamp (1986)', \"Don't Say a Word (2001)\", 'Corky Romano (2001)', 'Iron Monkey (Siu nin Wong Fei-hung ji: Tit Ma Lau) (1993)', 'Mulholland Drive (2001)', 'My First Mister (2001)', 'Dirty Harry (1971)', 'Not Without My Daughter (1991)', 'Waking Life (2001)', 'K-PAX (2001)', 'Donnie Darko (2001)', 'Life as a House (2001)', \"Man Who Wasn't There, The (2001)\", 'Monsters, Inc. (2001)', 'One, The (2001)', 'Shallow Hal (2001)', \"Harry Potter and the Sorcerer's Stone (a.k.a. Harry Potter and the Philosopher's Stone) (2001)\", 'Novocaine (2001)', 'Spy Game (2001)', \"Devil's Backbone, The (Espinazo del diablo, El) (2001)\", 'In the Bedroom (2001)', 'Subway (1985)', 'Now, Voyager (1942)', 'That Obscure Object of Desire (Cet obscur objet du désir) (1977)', 'Toy, The (1982)', 'Fame (1980)', 'Sudden Impact (1983)', \"Ocean's Eleven (2001)\", 'Moscow on the Hudson (1984)', \"Amelie (Fabuleux destin d'Amélie Poulain, Le) (2001)\", 'Not Another Teen Movie (2001)', 'Vanilla Sky (2001)', 'Lantana (2001)', 'Royal Tenenbaums, The (2001)', \"Bill & Ted's Bogus Journey (1991)\", 'How High (2001)', 'Kate & Leopold (2001)', 'Lord of the Rings: The Fellowship of the Ring, The (2001)', 'Beautiful Mind, A (2001)', 'Party, The (1968)', 'Black Hawk Down (2001)', 'Gosford Park (2001)', \"Monster's Ball (2001)\", 'Shipping News, The (2001)', 'Orange County (2002)', 'Brotherhood of the Wolf (Pacte des loups, Le) (2001)', 'Another 48 Hrs. (1990)', 'Conan the Destroyer (1984)', 'Kung Pow: Enter the Fist (2002)', '48 Hrs. (1982)', 'Blankman (1994)', 'Brainstorm (1983)', 'Dragon: The Bruce Lee Story (1993)', 'Escaflowne: The Movie (Escaflowne) (2000)', 'Metropolis (2001)', 'Adventures of Huck Finn, The (1993)', 'Slackers (2002)', 'Birthday Girl (2001)', \"Baby's Day Out (1994)\", 'Rookie of the Year (1993)', 'Sandlot, The (1993)', 'Super Troopers (2001)', 'Good Son, The (1993)', 'Queen of the Damned (2002)', \"How to Kill Your Neighbor's Dog (2000)\", 'Wendigo (2001)', 'Bad News Bears, The (1976)', 'Vampire Hunter D: Bloodlust (Banpaia hantâ D) (2000)', 'We Were Soldiers (2002)', 'Ferngully: The Last Rainforest (1992)', 'Time Machine, The (2002)', 'Long Good Friday, The (1980)', 'Oh, God! (1977)', 'Resident Evil (2002)', \"Harrison's Flowers (2000)\", 'Smokey and the Bandit (1977)', 'Blade II (2002)', 'Sorority Boys (2002)', 'Death to Smoochy (2002)', 'Panic Room (2002)', 'No Such Thing (2001)', \"National Lampoon's Van Wilder (2002)\", 'Rashomon (Rashômon) (1950)', 'Human Nature (2001)', 'Joe Versus the Volcano (1990)', 'Three Men and a Baby (1987)', 'Three Men and a Little Lady (1990)', 'Nine Queens (Nueve reinas) (2000)', 'Bob le Flambeur (1955)', 'Cadillac Man (1990)', 'Delirious (1991)', 'Spider-Man (2002)', 'White Fang (1991)', 'New Guy, The (2002)', 'About a Boy (2002)', 'Star Wars: Episode II - Attack of the Clones (2002)', 'Insomnia (2002)', 'Bourne Identity, The (2002)', 'Gangster No. 1 (2000)', \"Cheech & Chong's The Corsican Brothers (1984)\", 'V. I. Warshawski (1991)', 'Minority Report (2002)', 'Lovely & Amazing (2001)', \"Look Who's Talking Now (1993)\", 'Reign of Fire (2002)', 'Road to Perdition (2002)', 'Perfect (1985)', 'Austin Powers in Goldmember (2002)', 'Signs (2002)', 'Good Girl, The (2002)', '24 Hour Party People (2002)', 'Principal, The (1987)', 'One Hour Photo (2002)', 'Simone (S1m0ne) (2002)', 'Clash of the Titans (1981)', 'Hot Shots! (1991)', 'Down and Out in Beverly Hills (1986)', 'Stakeout (1987)', 'FearDotCom (a.k.a. Fear.com) (a.k.a. Fear Dot Com) (2002)', 'Johnny Dangerously (1984)', 'Transporter, The (2002)', 'Igby Goes Down (2002)', 'Captain Ron (1992)', 'Ernest Scared Stupid (1991)', 'Monkey Trouble (1994)', 'Spaced Invaders (1990)', 'Suburban Commando (1991)', 'Secretary (2002)', 'Spirited Away (Sen to Chihiro no kamikakushi) (2001)', 'Wasabi (2001)', 'Red Dragon (2002)', 'Knockaround Guys (2002)', 'White Oleander (2002)', 'Bowling for Columbine (2002)', 'Punch-Drunk Love (2002)', 'Formula 51 (2001)', 'Ring, The (2002)', 'Tully (2000)', 'Billy Bathgate (1991)', 'Grave of the Fireflies (Hotaru no haka) (1988)', 'Saturday Night Fever (1977)', 'Urban Cowboy (1980)', 'Modern Problems (1981)', 'Roger Dodger (2002)', '8 Mile (2002)', 'Harry Potter and the Chamber of Secrets (2002)', 'Return to the Blue Lagoon (1991)', 'Toy Soldiers (1991)', 'Solaris (2002)', 'Adaptation (2002)', 'Equilibrium (2002)', 'Star Trek: Nemesis (2002)', 'About Schmidt (2002)', 'Lord of the Rings: The Two Towers, The (2002)', '25th Hour (2002)', 'Gangs of New York (2002)', 'Narc (2002)', 'Blue Steel (1990)', 'My Girl (1991)', 'Quicksilver (1986)', 'Catch Me If You Can (2002)', 'Chicago (2002)', 'Max (2002)', 'Pianist, The (2002)', 'Heavy Metal 2000 (2000)', 'Confessions of a Dangerous Mind (2002)', 'Blue Collar Comedy Tour: The Movie (2003)', 'City of God (Cidade de Deus) (2002)', 'Pépé le Moko (1937)', 'Woman in Red, The (1984)', 'Harder They Come, The (1973)', 'Recruit, The (2003)', 'Lost in La Mancha (2002)', 'Last Unicorn, The (1982)', 'Richard Pryor Live on the Sunset Strip (1982)', 'Daredevil (2003)', 'Gerry (2002)', 'Dennis the Menace (1993)', 'Dark Blue (2003)', 'Old School (2003)', 'Life Stinks (1991)', 'Meteor Man, The (1993)', 'Tears of the Sun (2003)', 'Safety of Objects, The (2001)', 'Green Card (1990)', 'Assassination Tango (2002)', 'Cowboy Bebop: The Movie (Cowboy Bebop: Tengoku no Tobira) (2001)', 'Anger Management (2003)', 'House of 1000 Corpses (2003)', 'Winged Migration (Peuple migrateur, Le) (2001)', 'Fahrenheit 451 (1966)', 'Legal Eagles (1986)', 'Memories of Me (1988)', 'Scenes from a Mall (1991)', 'Confidence (2003)', 'It Runs in the Family (2003)', 'People I Know (2002)', 'X2: X-Men United (2003)', 'Shape of Things, The (2003)', \"Breakin' 2: Electric Boogaloo (1984)\", 'Matrix Reloaded, The (2003)', 'Italian Job, The (2003)', \"This Boy's Life (1993)\", 'Barton Fink (1991)', 'Hollywood Homicide (2003)', '28 Days Later (2002)', 'Fulltime Killer (Chuen jik sat sau) (2001)', 'Babe, The (1992)', 'Mr. Baseball (1992)', 'Hulk (2003)', 'Terminator 3: Rise of the Machines (2003)', 'Pirates of the Caribbean: The Curse of the Black Pearl (2003)', 'League of Extraordinary Gentlemen, The (a.k.a. LXG) (2003)', 'Bad Boys II (2003)', 'Born to Be Wild (1995)', 'Curly Sue (1991)', 'Little Giants (1994)', 'Seabiscuit (2003)', 'Private Life of Sherlock Holmes, The (1970)', 'Remo Williams: The Adventure Begins (1985)', 'Gigli (2003)', 'Freaky Friday (2003)', 'I Love You to Death (1990)', 'Freddy vs. Jason (2003)', 'Shaolin Soccer (Siu lam juk kau) (2001)', 'American Splendor (2003)', 'Camp Nowhere (1994)', \"Man's Best Friend (1993)\", 'Valley Girl (1983)', 'THX 1138 (1971)', 'Tremors (1990)', 'Pink Panther, The (1963)', 'Commando (1985)', 'Comic Book Villains (2002)', 'Dust (2001)', 'Once Upon a Time in Mexico (2003)', 'Lost in Translation (2003)', 'Kuffs (1992)', 'Once Upon a Time in China (Wong Fei Hung) (1991)', 'Once Upon a Time in China II (Wong Fei-hung Ji Yi: Naam yi dong ji keung) (1992)', 'Once Upon a Time in China III (Wong Fei-hung tsi sam: Siwong tsangba) (1993)', 'Day of the Dead (1985)', 'Memoirs of an Invisible Man (1992)', 'Underworld (2003)', 'Bubba Ho-tep (2002)', 'Rundown, The (2003)', 'Videodrome (1983)', \"All the President's Men (1976)\", \"Babette's Feast (Babettes gæstebud) (1987)\", 'Beethoven (1992)', 'Cobra (1986)', 'Crimewave (1985)', \"Monty Python's The Meaning of Life (1983)\", 'Sleeping with the Enemy (1991)', 'PCU (1994)', \"It's Pat (1994)\", 'Regarding Henry (1991)', 'Leap of Faith (1992)', 'Gas, Food, Lodging (1992)', 'Ninja Scroll (Jûbei ninpûchô) (1995)', 'Mobsters (1991)', 'Station Agent, The (2003)', 'Mystic River (2003)', 'Intolerable Cruelty (2003)', 'Kill Bill: Vol. 1 (2003)', 'Pieces of April (2003)', 'Returner (Ritaanaa) (2002)', 'Scary Movie 3 (2003)', 'Elephant (2003)', 'Eye, The (Gin gwai) (Jian gui) (2002)', 'Cercle Rouge, Le (Red Circle, The) (1970)', 'Shattered Glass (2003)', 'Matrix Revolutions, The (2003)', 'Elf (2003)', 'Master and Commander: The Far Side of the World (2003)', 'Bad Santa (2003)', 'Darkman (1990)', 'Freshman, The (1990)', 'WarGames (1983)', 'Guarding Tess (1994)', 'Hard Way, The (1991)', 'Highlander II: The Quickening (1991)', 'Hoffa (1992)', 'House of Cards (1993)', 'Hudson Hawk (1991)', 'Kindergarten Cop (1990)', 'King Ralph (1991)', 'Only the Lonely (1991)', 'Passenger 57 (1992)', 'Project X (1987)', 'Battle Royale (Batoru rowaiaru) (2000)', 'Silverado (1985)', 'Quick Change (1990)', 'Radio Flyer (1992)', 'Secret of My Succe$s, The (a.k.a. The Secret of My Success) (1987)', 'Trapped in Paradise (1994)', 'Witches, The (1990)', 'Witches of Eastwick, The (1987)', 'Year of the Dragon (1985)', 'Stagecoach (1939)', 'Hero (Ying xiong) (2002)', 'Nausicaä of the Valley of the Wind (Kaze no tani no Naushika) (1984)', 'Doc Hollywood (1991)', 'Dragnet (1987)', 'Crime Story (Zhong an zu) (1993)', 'Leprechaun (1993)', 'Grass (1999)', 'Spring Forward (1999)', 'Cooler, The (2003)', 'Last Samurai, The (2003)', 'Lord of the Rings: The Return of the King, The (2003)', 'Blame It on the Bellboy (1992)', 'Only the Strong (1993)', 'Adventures of Ford Fairlane, The (1990)', 'Pumping Iron (1977)', 'Cool World (1992)', 'Ichi the Killer (Koroshiya 1) (2001)', 'Chitty Chitty Bang Bang (1968)', 'The Butterfly Effect (2004)', 'Thirteen (2003)', 'Flesh & Blood (1985)', 'Just One of the Guys (1985)', 'Girl Next Door, The (2004)', 'Mad Dog and Glory (1993)', 'Dawn of the Dead (2004)', 'Eternal Sunshine of the Spotless Mind (2004)', 'Jersey Girl (2004)', 'Dogville (2003)', 'Hellboy (2004)', 'Dawn of the Dead (1978)', 'After Hours (1985)', 'Kill Bill: Vol. 2 (2004)', 'Punisher, The (2004)', 'This So-Called Disaster (2003)', 'Man on Fire (2004)', 'Enemy Mine (1985)', 'Enter the Dragon (1973)', 'Octopussy (1983)', 'Never Say Never Again (1983)', 'Samouraï, Le (Godson, The) (1967)', 'School Ties (1992)', 'Versus (2000)', 'Pride and Prejudice (1995)', \"Look Who's Talking Too (1990)\", 'Delta Force, The (1986)', 'He Said, She Said (1991)', 'Four Musketeers, The (1974)', 'Pierrot le fou (1965)', 'Jason and the Argonauts (1963)', 'Tinker, Tailor, Soldier, Spy (1979)', 'Sniper (1993)', 'Warriors, The (1979)', 'Gunga Din (1939)', 'Legend, The (Legend of Fong Sai-Yuk, The) (Fong Sai Yuk) (1993)', 'Tremors II: Aftershocks (1996)', 'Duck, You Sucker (1971)', 'Tale of Two Sisters, A (Janghwa, Hongryeon) (2003)', 'Robot Jox (1990)', 'Space Truckers (1996)', 'Kikujiro (Kikujirô no natsu) (1999)', 'How to Steal a Million (1966)', 'Mean Streets (1973)', 'Jack the Bear (1993)', 'I Am a Fugitive from a Chain Gang (1932)', 'Hamburger Hill (1987)', 'Crossroads (1986)', 'Jin Roh: The Wolf Brigade (Jin-Rô) (1998)', '*batteries not included (1987)', 'Educating Rita (1983)', 'Day After Tomorrow, The (2004)', 'Mindhunters (2004)', 'Father Hood (1993)', 'Police Academy: Mission to Moscow (1994)', 'Meet the Applegates (1991)', 'Blackboard Jungle (1955)', 'Jetée, La (1962)', 'White Heat (1949)', 'Godzilla vs. Mechagodzilla (Gojira tai Mekagojira) (1974)', 'Fear X (2003)', 'Dodgeball: A True Underdog Story (2004)', 'Terminal, The (2004)', 'White Chicks (2004)', 'Taxi (1998)', 'Taxi 3 (2003)', 'Overboard (1987)', 'Fahrenheit 9/11 (2004)', 'Roxanne (1987)', 'Spider-Man 2 (2004)', 'Before Sunset (2004)', 'Anchorman: The Legend of Ron Burgundy (2004)', 'Bourne Supremacy, The (2004)', 'Snake Pit, The (1948)', 'Super, The (1991)', 'My Voyage to Italy (Il mio viaggio in Italia) (1999)', 'Village, The (2004)', 'Garden State (2004)', 'Collateral (2004)', 'Little Black Book (2004)', 'Harold and Kumar Go to White Castle (2004)', 'Danny Deckchair (2003)', 'Bill Cosby, Himself (1983)', 'Warriors of Heaven and Earth (Tian di ying xiong) (2003)', 'Cellular (2004)', 'Resident Evil: Apocalypse (2004)', 'Shaun of the Dead (2004)', '1492: Conquest of Paradise (1992)', 'I Heart Huckabees (2004)', 'Primer (2004)', 'Team America: World Police (2004)', \"Bebe's Kids (1992)\", 'Birth (2004)', 'Incredibles, The (2004)', 'Closer (2004)', 'House of Flying Daggers (Shi mian mai fu) (2004)', \"Ocean's Twelve (2004)\", 'Blade: Trinity (2004)', 'D.A.R.Y.L. (1985)', 'Fire in the Sky (1993)', \"Love Me If You Dare (Jeux d'enfants) (2003)\", 'Major Dundee (1965)', 'Batman (1966)', 'Tokyo Drifter (Tôkyô nagaremono) (1966)', 'Point Blank (1967)', 'Titicut Follies (1967)', 'Sympathy for the Devil (1968)', 'Duel (1971)', 'Charley Varrick (1973)', 'Dark Star (1974)', 'Gone in 60 Seconds (1974)', 'French Connection II (1975)', 'Futureworld (1976)', 'Silver Streak (1976)', \"Snake in the Eagle's Shadow (Se ying diu sau) (1978)\", \"Smiley's People (1982)\", 'Day After, The (1983)', 'Twilight Zone: The Movie (1983)', 'Cloak & Dagger (1984)', 'Ewok Adventure, The (a.k.a. Caravan of Courage: An Ewok Adventure) (1984)', 'Death of a Salesman (1985)', 'Ewoks: The Battle for Endor (1985)', 'Police Story (Ging chaat goo si) (1985)', 'Spies Like Us (1985)', 'White Nights (1985)', 'Club Paradise (1986)', 'Better Tomorrow, A (Ying hung boon sik) (1986)', 'G.I. Joe: The Movie (1987)', 'Hell Comes to Frogtown (1988)', 'Better Tomorrow II, A (Ying hung boon sik II) (1987)', 'Dominick and Eugene (1988)', 'Killer Klowns from Outer Space (1988)', 'Moonwalker (1988)', 'Alice (Neco z Alenky) (1988)', 'Lonesome Dove (1989)', \"Kiki's Delivery Service (Majo no takkyûbin) (1989)\", 'Almost an Angel (1990)', 'Ghost Dad (1990)', 'Lionheart (1990)', 'Nuns on the Run (1990)', 'Patlabor: The Movie (Kidô keisatsu patorebâ: The Movie) (1989)', 'Dutch (1991)', 'Hearts of Darkness: A Filmmakers Apocalypse (1991)', 'Mannequin 2: On the Move (1991)', \"Other People's Money (1991)\", 'Captain America (1990)', 'Ladybugs (1992)', 'Mambo Kings, The (1992)', 'Sidekicks (1992)', 'Visions of Light: The Art of Cinematography (1992)', 'Barbarians at the Gate (1993)', 'Mr. Nanny (1993)', 'Darkman II: Return of Durant, The (1995)', 'Freaked (1993)', 'Fist of Legend (Jing wu ying xiong) (1994)', 'Major League II (1994)', 'My Father the Hero (1994)', 'Street Fighter II: The Animated Movie (Sutorîto Faitâ II gekijô-ban) (1994)', 'Late Shift, The (1996)', 'Pusher (1996)', 'From the Earth to the Moon (1998)', 'From Dusk Till Dawn 2: Texas Blood Money (1999) ', 'Gia (1998)', 'Who Am I? (Wo shi shei) (1998)', 'Brave New World (1998)', 'Purgatory (1999)', 'Bleeder (1999)', 'Batman/Superman Movie, The (1998)', 'Neon Genesis Evangelion: The End of Evangelion (Shin seiki Evangelion Gekijô-ban: Air/Magokoro wo, kimi ni) (1997)', 'Taxi 2 (2000)', 'Bartleby (2001)', 'Batman Beyond: Return of the Joker (2000)', 'Audition (Ôdishon) (1999)', 'Joint Security Area (Gongdong gyeongbi guyeok JSA) (2000)', 'Teknolust (2002)', 'Darkness (2002)', 'Blood: The Last Vampire (2000)', 'Ali G Indahouse (2002)', 'Dead or Alive: Final (2002)', 'Jesus Christ Vampire Hunter (2001)', 'Suicide Club (Jisatsu saakuru) (2001)', 'Battlestar Galactica (2003)', 'Animatrix, The (2003)', 'Last Life in the Universe (Ruang rak noi nid mahasan) (2003)', 'Ghost in the Shell 2: Innocence (a.k.a. Innocence) (Inosensu) (2004)', 'Twilight Samurai, The (Tasogare Seibei) (2002)', 'Comic Book: The Movie (2004)', 'Down to the Bone (2004)', 'Ju-on: The Grudge (2002)', 'Old Boy (2003)', 'One Missed Call (Chakushin ari) (2003)', 'Jacket, The (2005)', 'Ong-Bak: The Thai Warrior (Ong Bak) (2003)', 'Slasher (2004)', 'Layer Cake (2004)', 'Azumi (2003)', 'Scanner Darkly, A (2006)', 'Life Aquatic with Steve Zissou, The (2004)', 'Imaginary Heroes (2004)', 'Elektra (2005)', 'Chase, The (1994)', 'Double Dragon (1994)', \"Howl's Moving Castle (Hauru no ugoku shiro) (2004)\", 'Steamboy (Suchîmubôi) (2004)', 'Gorgeous (Boh lee chun) (1999)', 'Hitch (2005)', 'Kung Fu Hustle (Gong fu) (2004)', 'Seven-Per-Cent Solution, The (1976)', 'Class Action (1991)', 'Melinda and Melinda (2004)', 'D.E.B.S. (2004)', 'Sword of Doom, The (Dai-bosatsu tôge) (1966)', 'If Looks Could Kill (1991)', 'Greedy (1994)', 'Walker (1987)', 'Memories (Memorîzu) (1995)', 'Ballad of Jack and Rose, The (2005)', 'Sin City (2005)', 'Trip to the Moon, A (Voyage dans la lune, Le) (1902)', 'Mutant Aliens (2001)', 'Frisco Kid, The (1979)', 'Kingdom of Heaven (2005)', 'Crash (2004)', 'Vampire Hunter D (1985)', 'Los Angeles Plays Itself (2003)', 'Unleashed (Danny the Dog) (2005)', 'Star Wars: Episode III - Revenge of the Sith (2005)', 'Airborne (1993)', 'Mr. & Mrs. Smith (2005)', \"It's All Gone Pete Tong (2004)\", 'Batman Begins (2005)', 'Godzilla: Final Wars (Gojira: Fainaru uôzu) (2004)', 'Bewitched (2005)', '3 Extremes (Three... Extremes) (Saam gaang yi) (2004)', 'Cop and ½ (1993)', 'Dark Water (2005)', \"Beat That My Heart Skipped, The (battre mon coeur s'est arrêté, De) (2005)\", 'Fantastic Four (2005)', 'Wedding Crashers (2005)', 'Hardware (1990)', \"Devil's Rejects, The (2005)\", 'Sky High (2005)', 'Aristocrats, The (2005)', 'Serenity (2005)', 'Broken Flowers (2005)', 'Private Resort (1985)', 'Pusher II: With Blood on My Hands (2004)', '40-Year-Old Virgin, The (2005)', 'Constant Gardener, The (2005)', 'Transporter 2 (2005)', 'Police Story 2 (Ging chaat goo si juk jaap) (1988)', 'Domino (2005)', 'Waiting... (2005)', 'Flightplan (2005)', 'Final Fantasy VII: Advent Children (2004)', 'MirrorMask (2005)', 'Wallace & Gromit in The Curse of the Were-Rabbit (2005)', 'Kiss Kiss Bang Bang (2005)', 'Bittersweet Life, A (Dalkomhan insaeng) (2005)', 'Squid and the Whale, The (2005)', 'Proposition, The (2005)', 'Shopgirl (2005)', 'Great Yokai War, The (Yôkai daisensô) (2005)', 'Revolver (2005)', 'Sword of the Beast (Kedamono no ken) (1965)', 'Syriana (2005)', 'Derailed (2005)', 'Chronicles of Narnia: The Lion, the Witch and the Wardrobe, The (2005)', 'Havoc (2005)', 'Samurai Rebellion (Jôi-uchi: Hairyô tsuma shimatsu) (1967)', 'Matador, The (2005)', 'Fun with Dick and Jane (2005)', 'New World, The (2005)', 'Samurai Assassin (Samurai) (1965)', 'Lady Vengeance (Sympathy for Lady Vengeance) (Chinjeolhan geumjassi) (2005)', 'Grand Theft Parsons (2003)', 'District 13 (Banlieue 13) (2004)', \"Grandma's Boy (2006)\", 'Underworld: Evolution (2006)', 'Revolution (1985)', \"Project A ('A' gai waak) (1983)\", 'Bandidas (2006)', 'Tuskegee Airmen, The (1995)', \"Block Party (a.k.a. Dave Chappelle's Block Party) (2005)\", 'When a Stranger Calls (2006)', 'London (2005)', 'Running Scared (2006)', 'Ultraviolet (2006)', 'Ultimate Avengers (2006)', 'V for Vendetta (2006)', 'Thank You for Smoking (2006)', 'Inside Man (2006)', 'Leprechaun 2 (1994)', 'Leprechaun 3 (1995)', 'Leprechaun 4: In Space (1997)', 'Stay Alive (2006)', 'Brick (2005)', 'Slither (2006)', 'Benchwarmers, The (2006)', 'Renaissance (2006)', 'Friends with Money (2006)', 'Hard Candy (2005)', 'Silent Hill (2006)', 'Protector, The (a.k.a. Warrior King) (Tom yum goong) (2005)', 'Mission: Impossible III (2006)', 'RV (2006)', 'Stick It (2006)', 'Down in the Valley (2005)', 'Art School Confidential (2006)', 'X-Men: The Last Stand (2006)', 'Game 6 (2005)', 'Devil Wears Prada, The (2006)', \"Pirates of the Caribbean: Dead Man's Chest (2006)\", 'Marie Antoinette (2006)', 'Inconvenient Truth, An (2006)', 'Career Opportunities (1991)', \"Jet Li's Fearless (Huo Yuan Jia) (2006)\", 'Fast and the Furious: Tokyo Drift, The (Fast and the Furious 3, The) (2006)', 'Public Eye, The (1992)', 'Superman Returns (2006)', 'OH in Ohio, The (2006)', 'Little Miss Sunshine (2006)', 'Babel (2006)', 'Talladega Nights: The Ballad of Ricky Bobby (2006)', 'Stranger than Fiction (2006)', 'Pursuit of Happyness, The (2006)', 'Crank (2006)', 'Step Up (2006)', 'Half Nelson (2006)', 'Illusionist, The (2006)', 'Red Balloon, The (Ballon rouge, Le) (1956)', 'Angel-A (2005)', 'Puffy Chair, The (2006)', 'Fountain, The (2006)', 'Borat: Cultural Learnings of America for Make Benefit Glorious Nation of Kazakhstan (2006)', \"Pan's Labyrinth (Laberinto del fauno, El) (2006)\", 'Departed, The (2006)', 'Children of Men (2006)', 'Prestige, The (2006)', 'Mom and Dad Save the World (1992)', 'For Your Consideration (2006)', 'Casino Royale (2006)', 'Déjà Vu (Deja Vu) (2006)', 'Holiday, The (2006)', 'DOA: Dead or Alive (2006)', 'Curse of the Golden Flower (Man cheng jin dai huang jin jia) (2006)', 'Ratatouille (2007)', \"Paris, I Love You (Paris, je t'aime) (2006)\", 'The Odyssey (1997)', 'Ghost Rider (2007)', 'Breach (2007)', 'Black Snake Moan (2006)', 'Hot Fuzz (2007)', 'Zodiac (2007)', \"Pusher III: I'm the Angel of Death (2005)\", 'Wild Hogs (2007)', '300 (2007)', 'Host, The (Gwoemul) (2006)', 'Reign Over Me (2007)', 'Lookout, The (2007)', 'Grindhouse (2007)', 'Sunshine (2007)', 'Spider-Man 3 (2007)', 'Paprika (Papurika) (2006)', 'Knocked Up (2007)', 'Wheels on Meals (Kuai can che) (1984)', \"Pirates of the Caribbean: At World's End (2007)\", 'Fay Grim (2006)', \"I'm a Cyborg, But That's OK (Saibogujiman kwenchana) (2006)\", \"Ocean's Thirteen (2007)\", 'Legend of Sleepy Hollow, The (1980)', 'Fido (2006)', 'Death Proof (2007)', 'Sicko (2007)', 'Transformers (2007)', 'Manufactured Landscapes (2006)', 'I Know Who Killed Me (2007)', 'Charlie Bartlett (2007)', 'Bourne Ultimatum, The (2007)', 'Superbad (2007)', 'King of Kong, The (2007)', 'Taxi 4 (2007)', 'Planet Terror (2007)', 'Gotti (1996)', 'Electroma (2006)', 'Hunting Party, The (2007)', 'Tekkonkinkreet (Tekkon kinkurîto) (2006)', 'Interview (2007)', 'Cashback (2004)', 'Resident Evil: Extinction (2007)', 'Dan in Real Life (2007)', 'Darjeeling Limited, The (2007)', '30 Days of Night (2007)', 'Gone Baby Gone (2007)', 'No Country for Old Men (2007)', 'Harrison Bergeron (1995)', 'Mist, The (2007)', 'I Am Legend (2007)', \"I'm Not There (2007)\", 'Helvetica (2007)', 'There Will Be Blood (2007)', 'Cloverfield (2008)', 'Heaven and Earth (Ten to Chi to) (1990)', 'Hellboy II: The Golden Army (2008)', 'World on a Wire (Welt am Draht) (1973)', 'Mongol (2007)', 'Justice League: The New Frontier (2008) ', 'Heima (2007)', 'Dark Knight, The (2008)', 'Street Kings (2008)', 'Outpost (2008)', 'Iron Man (2008)', 'Redbelt (2008)', 'Taken (2008)', 'Fall, The (2006)', 'Indiana Jones and the Kingdom of the Crystal Skull (2008)', 'Protector, The (1985)', 'Incredible Hulk, The (2008)', 'WALL·E (2008)', 'Hancock (2008)', 'Gonzo: The Life and Work of Dr. Hunter S. Thompson (2008)', 'Frosty the Snowman (1969)', \"It's the Great Pumpkin, Charlie Brown (1966)\", 'Machine Girl, The (Kataude mashin gâru) (2008)', 'Watchmen (2009)', 'Step Brothers (2008)', 'Little Drummer Boy, The (1968)', 'Hell Ride (2008)', 'Tropic Thunder (2008)', 'Waltz with Bashir (Vals im Bashir) (2008)', 'Let the Right One In (Låt den rätte komma in) (2008)', 'Burn After Reading (2008)', \"Nick and Norah's Infinite Playlist (2008)\", 'FLCL (2000)', 'Tokyo-Ga (1985)', 'Tin Man (2007)', 'Slumdog Millionaire (2008)', 'Quantum of Solace (2008)', 'JCVD (2008)', 'Class, The (Entre les murs) (2008)', 'Transporter 3 (2008)', \"Wallace and Gromit in 'A Matter of Loaf and Death' (2008)\", 'Wrestler, The (2008)', '5 Centimeters per Second (Byôsoku 5 senchimêtoru) (2007)', 'Push (2009)', 'Good, the Bad, the Weird, The (Joheunnom nabbeunnom isanghannom) (2008)', 'Rock-A-Doodle (1991)', \"Dr. Horrible's Sing-Along Blog (2008)\", 'Duplicity (2009)', 'Girl with the Dragon Tattoo, The (Män som hatar kvinnor) (2009)', 'Adventureland (2009)', 'Inglourious Basterds (2009)', 'Crank: High Voltage (2009)', 'Moon (2009)', 'X-Men Origins: Wolverine (2009)', 'Star Trek (2009)', 'Crossing Over (2009)', 'Powder Blue (2009)', 'Neon Genesis Evangelion: Death & Rebirth (Shin seiki Evangelion Gekijô-ban: Shito shinsei) (1997)', 'Drag Me to Hell (2009)', 'Up (2009)', 'Hangover, The (2009)', 'Killshot (2008)', 'Ernest Rides Again (1993)', 'Hurt Locker, The (2008)', '(500) Days of Summer (2009)', 'Roots (1977)', 'District 9 (2009)', 'Evangelion: 1.0 You Are (Not) Alone (Evangerion shin gekijôban: Jo) (2007)', 'Christopher Columbus: The Discovery (1992)', 'Bronson (2009)', 'Food, Inc. (2008)', 'Thirst (Bakjwi) (2009)', 'Bright Star (2009)', 'Serious Man, A (2009)', 'Metropia (2009)', 'Surrogates (2009)', 'Zombieland (2009)', 'Assassination of a High School President (2008)', 'Education, An (2009)', 'Legionnaire (1998)', 'Up in the Air (2009)', 'Fantastic Mr. Fox (2009)', 'Precious (2009)', 'Messenger, The (2009)', 'Avatar (2009)', 'Sherlock Holmes (2009)', 'Book of Eli, The (2010)', \"Project A 2 ('A' gai wak juk jap) (1987)\", 'Chaser, The (Chugyeogja) (2008)', 'Rudolph, the Red-Nosed Reindeer (1964)', 'Wicked City (Yôjû toshi) (1987)', 'District 13: Ultimatum (Banlieue 13 - Ultimatum) (2009)', 'Last Train Home (2009)', 'From Paris with Love (2010)', 'Greenberg (2010)', 'Generation X (1996)', 'Leaves of Grass (2009)', 'Mondo Cane (1962)', 'Repo Men (2010)', 'Case 39 (2009)', 'Hot Tub Time Machine (2010)', 'How to Train Your Dragon (2010)', 'Kick-Ass (2010)', 'Valhalla Rising (2009)', 'Exit Through the Gift Shop (2010)', 'Iron Man 2 (2010)', 'Sky Crawlers, The (Sukai kurora) (2008)', 'Four Lions (2010)', 'Prince of Persia: The Sands of Time (2010)', 'Toy Story 3 (2010)', 'Endgame (2009)', 'Predators (2010)', 'Despicable Me (2010)', 'Inception (2010)', 'Serbian Film, A (Srpski film) (2010)', 'Batman: Under the Red Hood (2010)', 'Scott Pilgrim vs. the World (2010)', 'Extraordinary Adventures of Adèle Blanc-Sec, The (2010)', 'Dragon Ball Z: Dead Zone (Doragon bôru Z 1: Ora no Gohan wo kaese) (1989)', 'Machete (2010)', 'Social Network, The (2010)', 'Town, The (2010)', 'Let Me In (2010)', 'Stone (2010)', 'Red (2010)', '127 Hours (2010)', 'Black Swan (2010)', 'Unstoppable (2010)', 'Next Three Days, The (2010)', 'Somewhere (2010)', 'Harry Potter and the Deathly Hallows: Part 1 (2010)', \"King's Speech, The (2010)\", 'Fighter, The (2010)', 'Love and Other Drugs (2010)', 'True Grit (2010)', 'Tron: Legacy (2010)', 'Company Men, The (2010)', 'I Saw the Devil (Akmareul boatda) (2010)', 'Burlesque (2010)', 'Anything for Her (Pour elle) (2008)', 'Day & Night (2010)', 'Evangelion: 2.0 You Can (Not) Advance (Evangerion shin gekijôban: Ha) (2009)', 'All-Star Superman (2011)', 'Kill! (Kiru) (1968)', 'Unknown (2011)', 'Paul (2011)', 'Summer Wars (Samâ wôzu) (2009)', 'Just Go with It (2011)', 'Source Code (2011)', 'Jane Eyre (2011)', 'Sucker Punch (2011)', 'Hobo with a Shotgun (2011)', 'Win Win (2011)', '13 Assassins (Jûsan-nin no shikaku) (2010)', 'Hanna (2011)', \"Daffy Duck's Quackbusters (1988)\", 'Thor (2011)', 'Atlas Shrugged: Part 1 (2011)', 'Fast Five (Fast and the Furious 5, The) (2011)', 'Mothra (Mosura) (1961)', 'Pirates of the Caribbean: On Stranger Tides (2011)', 'Midnight in Paris (2011)', 'Tree of Life, The (2011)', 'Attack the Block (2011)', 'Let the Bullets Fly (2010)', 'X-Men: First Class (2011)', 'Beginners (2010)', 'Super 8 (2011)', 'Larry Crowne (2011)', 'Between the Folds (2008)', 'Drive (2011)', 'Captain America: The First Avenger (2011)', 'Crazy, Stupid, Love. (2011)', 'Guard, The (2011)', 'Yellow Sea, The (a.k.a. The Murderer) (Hwanghae) (2010)', 'SUBWAYStories: Tales from the Underground (1997)', 'Rise of the Planet of the Apes (2011)', 'Debt, The (2011)', 'Colombiana (2011)', 'Contagion (2011)', 'Moneyball (2011)', 'Avengers, The (2012)', 'Tinker Tailor Soldier Spy (2011)', 'Ides of March, The (2011)', 'Bellflower (2011)', 'The Artist (2011)', 'Take Shelter (2011)', 'Three Outlaw Samurai (Sanbiki no samurai) (1964)', 'In Time (2011)', 'Margaret (2011)', 'Carnage (2011)', 'Puncture (2011)', 'Batman: Year One (2011)', 'Sign of Four, The (1987)', 'Descendants, The (2011)', 'Muppets, The (2011)', 'Dark Knight Rises, The (2012)', 'Sherlock Holmes: A Game of Shadows (2011)', 'Coriolanus (2011)', 'Mission: Impossible - Ghost Protocol (2011)', 'We Bought a Zoo (2011)', 'Sacrifice (Zhao shi gu er) (2010)', 'Haywire (2011)', 'Innkeepers, The (2011)', 'Janie Jones (2010)', \"Mickey's The Prince and the Pauper (1990)\", 'Ledge, The (2011)', '21 Jump Street (2012)', 'Damsels in Distress (2011)', 'The Raid: Redemption (2011)', 'Cabin in the Woods, The (2012)', \"Comic-Con Episode IV: A Fan's Hope (2011)\", 'Dark Shadows (2012)', 'Prometheus (2012)', 'Moonrise Kingdom (2012)', 'Dragon Ball: The Curse Of The Blood Rubies (Doragon bôru: Shenron no densetsu) (1986)', \"Dragon Ball: Sleeping Princess in Devil's Castle (Doragon bôru: Majinjô no nemuri hime) (1987)\", 'Dragon Ball: Mystical Adventure (Doragon bôru: Makafushigi dai bôken) (1988)', \"Dragon Ball Z the Movie: The World's Strongest (a.k.a. Dragon Ball Z: The Strongest Guy in The World) (Doragon bôru Z: Kono yo de ichiban tsuyoi yatsu) (1990)\", 'Dragon Ball Z the Movie: The Tree of Might (Doragon bôru Z 3: Chikyû marugoto chô kessen) (1990)', 'Abraham Lincoln: Vampire Hunter (2012)', 'Ted (2012)', 'Magic Mike (2012)', \"Dragon Ball Z: Cooler's Revenge (Doragon bôru Z 5: Tobikkiri no saikyô tai saikyô) (1991)\", 'Dragon Ball Z: Super Android 13! (Doragon bôru Z 7: Kyokugen batoru!! San dai sûpâ saiyajin) (1992)', 'Dragon Ball Z: Broly - The Legendary Super Saiyan (Doragon bôru Z 8: Moetsukiro!! Nessen retsusen-chô gekisen) (1993)', 'Amazing Spider-Man, The (2012)', 'Dragon Ball Z: Bojack Unbound (Doragon bôru Z 9: Ginga girigiri!! Butchigiri no sugoi yatsu) (1993)', 'Treasure Island (2012)', 'Dragon Ball Z: Broly Second Coming (Doragon bôru Z 10: Kiken na futari! Sûpâ senshi wa nemurenai) (1994)', 'Dragon Ball Z: Bio-Broly (Doragon bôru Z 11: Sûpâ senshi gekiha! Katsu no wa ore da) (1994)', 'Christmas Carol, A (1999)', 'Ruby Sparks (2012)', 'Dragon Ball Z: Bardock - The Father of Goku (Doragon bôru Z: Tatta hitori no saishuu kessen - Furiiza ni itonda Z senshi Kakarotto no chichi) (1990)', 'Dragon Ball Z: The History of Trunks (Doragon bôru Z: Zetsubô e no hankô!! Nokosareta chô senshi - Gohan to Torankusu) (1993)', 'Skyfall (2012)', 'Lawless (2012)', 'Looper (2012)', 'Robot & Frank (2012)', 'Master, The (2012)', 'Dredd (2012)', 'Side by Side (2012)', 'Seven Psychopaths (2012)', 'Cloud Atlas (2012)', 'Silver Linings Playbook (2012)', 'Man with the Iron Fists, The (2012)', 'Indie Game: The Movie (2012)', 'Batman: The Dark Knight Returns, Part 1 (2012)', 'Paperman (2012)', 'Fearless Hyena, The (Xiao quan guai zhao) (1979)', 'Half a Loaf of Kung Fu (Dian zhi gong fu gan chian chan) (1980)', 'Winners and Sinners (Qi mou miao ji: Wu fu xing) (1983)', \"Money Money Money (L'aventure, c'est l'aventure) (1972)\", \"Liar's Autobiography: The Untrue Story of Monty Python's Graham Chapman, A (2012)\", 'Hobbit: An Unexpected Journey, The (2012)', 'Warm Bodies (2013)', 'Django Unchained (2012)', 'Misérables, Les (2000)', 'Fish Story (Fisshu sutôrî) (2009)', 'Batman: The Dark Knight Returns, Part 2 (2013)', 'Upstream Color (2013)', 'Legend of Sleepy Hollow, The (1949)', 'Mezzo Forte (1998)', 'Place Beyond the Pines, The (2012)', 'Oblivion (2013)', 'Iron Man 3 (2013)', 'Star Trek Into Darkness (2013)', 'Darkon (2006)', 'Captain America (1979)', 'Captain America II: Death Too Soon (1979)', 'With Great Power: The Stan Lee Story (2012)', 'Much Ado About Nothing (2012)', 'Man of Steel (2013)', 'Pacific Rim (2013)', \"Adam and Eve (National Lampoon's Adam & Eve) (2005)\", 'Redemption (Hummingbird) (2013)', 'Class Act (1992)', 'Wolverine, The (2013)', 'Blue Jasmine (2013)', '3 dev adam (Three Giant Men) (1973) ', 'Justice League: Crisis on Two Earths (2010)', 'Rage of Honor (1987)', 'Gravity (2013)', 'Family, The (2013)', 'Collision Course (1989)', 'Thief of Paris, The (Le voleur) (1967)', '12 Years a Slave (2013)', 'Thor: The Dark World (2013)', 'Inside Llewyn Davis (2013)', 'Wolf of Wall Street, The (2013)', 'Evangelion: 3.0 You Can (Not) Redo (2012)', 'American Hustle (2013)', 'Her (2013)', 'Snowpiercer (2013)', 'Dragon ball Z 04: Lord Slug (1991)', 'Dragon Ball: The Path to Power (Doragon bôru: Saikyô e no michi) (1996)', \"Hotel Chevalier (Part 1 of 'The Darjeeling Limited') (2007)\", 'RoboCop (2014)', 'Interstellar (2014)', 'Captain America: The Winter Soldier (2014)', 'The Raid 2: Berandal (2014)', 'Brain Smasher... A Love Story (Bouncer and the Lady, The) (1993)', 'Locke (2013)', 'Lucy (2014)', 'X-Men: Days of Future Past (2014)', 'A Million Ways to Die in the West (2014)', 'Edge of Tomorrow (2014)', 'Midnight Chronicles (2009)', 'Equalizer, The (2014)', 'Birdman: Or (The Unexpected Virtue of Ignorance) (2014)', 'Nick Fury: Agent of S.H.I.E.L.D. (1998)', 'Whiplash (2014)', 'Gone Girl (2014)', 'Dawn of the Planet of the Apes (2014)', 'Guardians of the Galaxy (2014)', 'Headshot (2011)', 'Beautiful Losers (2008)', 'Maze Runner, The (2014)', \"Angel's Egg (Tenshi no tamago) (1985)\", 'John Wick (2014)', 'Big Hero 6 (2014)', 'Ex Machina (2015)', 'Mr Hublot (2013)', 'Christmas in Connecticut (1992)', 'Reign of Assassins (2010)', 'Inherent Vice (2014)', 'Jetsons: The Movie (1990)', 'Ski School (1991)', 'Too Many Cooks (2014)', 'Double Trouble (1992)', 'Maze Runner: Scorch Trials (2015)', 'Omega Doom (1996)', 'The Punisher: Dirty Laundry (2012)', 'A Man Called Blade (1977)', 'The Hound of the Baskervilles (1988)', 'Houdini (2014)', \"To Grandmother's House We Go (1992)\", 'It Follows (2014)', 'The Diary of Anne Frank (2009)', 'The Deadly Bees (1967)', 'Oblivion 2: Backlash (1996)', 'Mad Max: Fury Road (2015)', 'Star Wars: Episode VII - The Force Awakens (2015)', 'Avengers: Age of Ultron (2015)', 'Ant-Man (2015)', 'Deadpool (2016)', 'Thor: Ragnarok (2017)', 'Guardians of the Galaxy 2 (2017)', 'Captain America: Civil War (2016)', 'Doctor Strange (2016)', 'X-Men: Apocalypse (2016)', 'Untitled Spider-Man Reboot (2017)', 'Tornado! (1996)', 'Hard Promises (1991)', 'The Hateful Eight (2015)', \"I'm Here (2010)\", 'Chris Rock: Bigger & Blacker (1999)', 'Marvel One-Shot: Item 47 (2012)', 'Ghost in the Shell Arise - Border 1: Ghost Pain (2013)', 'The Amazing Screw-On Head (2006)', 'Reckless Kelly (1994)', 'Let It Be Me (1995)', 'Patlabor 2: The Movie (1993)', 'The Longest Ride (2015)', 'The Martian (2015)', 'Ghost in the Shell: Stand Alone Complex - The Laughing Man (2005)', 'Star Trek Beyond (2016)', \"Bruce Lee: A Warrior's Journey (2000)\", 'Bloodsport III (1996)', 'Mortal Kombat: The Journey Begins (1995)', 'Ghost in the Shell 2.0 (2008)', 'Steve Jobs (2015)', 'April Morning (1988)', 'That Demon Within (2014)', 'Dragon Ball Z Gaiden: The Plot to Destroy the Saiyans (1993)', 'Feast (2014)', 'Afro Samurai (2007)', 'Sicario (2015)', 'Anomalisa (2015)', 'Ghost in the Shell Arise - Border 2: Ghost Whispers (2013)', '964 Pinocchio (1991)', 'Green Room (2015)', 'Spotlight (2015)', 'The Little Prince (2015)', 'Wonder Woman (2017)', 'Sky High (2003)', 'Idaho Transfer (1973)', 'Witch Hunt (1999)', 'Big Short, The (2015)', 'The Flash 2 - Revenge of the Trickster (1991)', 'Ghost in the Shell: Solid State Society (2006)', 'Genius Party (2007)', 'Project X (1968)', 'Ratchet & Clank (2016)', 'Buck Rogers in the 25th Century (1979)', 'The Handmaiden (2016)', 'Karate Bullfighter (1975)', 'The Wailing (2016)', 'Neo Tokyo (1987)', 'Planet Earth (2006)', 'Hellevator (2004)', 'The Forbidden Dance (1990)', 'The Grandmother (1970)', 'Webmaster (1998)', 'Hell or High Water (2016)', 'Over the Garden Wall (2013)', 'Arrival (2016)', 'La La Land (2016)', 'Flowers for Algernon (2000)', 'Manchester by the Sea (2016)', 'Rogue One: A Star Wars Story (2016)', 'Shakespeare Behind Bars (2005)', 'John Wick: Chapter Two (2017)', 'Get Out (2017)', 'Logan (2017)', 'The Big Sick (2017)', 'Call Me by Your Name (2017)', 'Mudbound (2017)', 'The Void (2016)', 'Guyver: Dark Hero (1994)', \"Buster's Mal Heart (2017)\", 'Alien: Covenant (2017)', 'Ultimate Avengers 2 (2006)', 'Mulholland Dr. (1999)', 'The Quiet Family (1998)', 'Cosmos', 'Robin Williams: Live on Broadway (2002)', 'Baby Driver (2017)', 'Saved by the Bell: Hawaiian Style (1992)', 'Plain Clothes (1988)', 'The Prime Gig (2000)', 'The Night Before (1988)', 'Valerian and the City of a Thousand Planets (2017)', \"Gulliver's Travels (1996)\", 'Dunkirk (2017)', 'Good Time (2017)', 'Wind River (2017)', 'Blade Runner 2049 (2017)', 'Mother! (2017)', 'Lady Bird (2017)', 'I, Tonya (2017)', 'Adventures in Plymptoons! (2011)', '2048: Nowhere to Run (2017)', 'Darkest Hour (2017)', 'The Shape of Water (2017)', 'The Disaster Artist (2017)', 'Phantom Thread (2017)', 'The Tale of the Bunny Picnic (1986)']\n"
          ]
        }
      ]
    },
    {
      "cell_type": "code",
      "execution_count": 35,
      "metadata": {
        "id": "-a6CSxIBPmTd"
      },
      "outputs": [],
      "source": [
        "# # Make all predictions\n",
        "# predictions = {}\n",
        "# for user in filter_nodes(user_movie_graph, 0):\n",
        "#     predictions[user] = predict_user_with_similars(user, user_movie_graph, movie_movie_graph)[:10]"
      ]
    }
  ],
  "metadata": {
    "kernelspec": {
      "display_name": "Python 3",
      "language": "python",
      "name": "python3"
    },
    "language_info": {
      "codemirror_mode": {
        "name": "ipython",
        "version": 3
      },
      "file_extension": ".py",
      "mimetype": "text/x-python",
      "name": "python",
      "nbconvert_exporter": "python",
      "pygments_lexer": "ipython3",
      "version": "3.12.0"
    },
    "colab": {
      "provenance": []
    }
  },
  "nbformat": 4,
  "nbformat_minor": 0
}