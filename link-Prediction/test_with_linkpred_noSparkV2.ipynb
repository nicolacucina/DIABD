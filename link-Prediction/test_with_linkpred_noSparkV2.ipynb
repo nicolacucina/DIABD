{
 "cells": [
  {
   "cell_type": "code",
   "execution_count": 20,
   "metadata": {},
   "outputs": [],
   "source": [
    "import pandas as pd\n",
    "\n",
    "# Open ratings.csv file\n",
    "ratings = pd.read_csv('../ml-latest-small/ml-latest-small/ratings.csv')"
   ]
  },
  {
   "cell_type": "code",
   "execution_count": 21,
   "metadata": {},
   "outputs": [],
   "source": [
    "# Open movies.csv file\n",
    "movies = pd.read_csv(\"../ml-latest-small/ml-latest-small/movies.csv\")"
   ]
  },
  {
   "cell_type": "code",
   "execution_count": 22,
   "metadata": {},
   "outputs": [
    {
     "name": "stdout",
     "output_type": "stream",
     "text": [
      "   userId  movieId  rating   timestamp             title  \\\n",
      "0       1        1     4.0   964982703  Toy Story (1995)   \n",
      "1       5        1     4.0   847434962  Toy Story (1995)   \n",
      "2       7        1     4.5  1106635946  Toy Story (1995)   \n",
      "3      15        1     2.5  1510577970  Toy Story (1995)   \n",
      "4      17        1     4.5  1305696483  Toy Story (1995)   \n",
      "\n",
      "                                        genres  \n",
      "0  Adventure|Animation|Children|Comedy|Fantasy  \n",
      "1  Adventure|Animation|Children|Comedy|Fantasy  \n",
      "2  Adventure|Animation|Children|Comedy|Fantasy  \n",
      "3  Adventure|Animation|Children|Comedy|Fantasy  \n",
      "4  Adventure|Animation|Children|Comedy|Fantasy  \n"
     ]
    }
   ],
   "source": [
    "# Merge ratings and movies\n",
    "user_movie_matrix = pd.merge(ratings, movies, on=\"movieId\")\n",
    "print(user_movie_matrix.head())"
   ]
  },
  {
   "cell_type": "code",
   "execution_count": null,
   "metadata": {},
   "outputs": [],
   "source": [
    "# # Check for common movies rated by multiple users\n",
    "# common_movies = ratings.groupby(\"title\").size().reset_index(name='count')\n",
    "# print(common_movies[common_movies['count'] > 1].head(10))  # Print movies rated by more than one user"
   ]
  },
  {
   "cell_type": "code",
   "execution_count": 23,
   "metadata": {},
   "outputs": [],
   "source": [
    "# Map rating to scores\n",
    "\n",
    "mapping_score = {\n",
    "    0.5:-1,\n",
    "    1:-1,\n",
    "    1.5:-0.5,\n",
    "    2:0,\n",
    "    2.5:0,\n",
    "    3:0,\n",
    "    3.5:0.5,\n",
    "    4:1,\n",
    "    4.5:1.1,\n",
    "    5:1.2\n",
    "}"
   ]
  },
  {
   "cell_type": "markdown",
   "metadata": {},
   "source": [
    "Basandoci sulle ratings presenti nel dataset vado a proiettare il grafo movie_movie che mi consente di trovare la similarità tra i film. Il vettore di mappaggio è scelto arbitrariamente e serve a decidere quanto pesano le varie ratings."
   ]
  },
  {
   "cell_type": "code",
   "execution_count": 25,
   "metadata": {},
   "outputs": [
    {
     "name": "stdout",
     "output_type": "stream",
     "text": [
      "Nodes in the graph: [(1, {'bipartite': 0}), ('Toy Story (1995)', {'bipartite': 1, 'genre': 'Adventure|Animation|Children|Comedy|Fantasy', 'movieId': 1}), (5, {'bipartite': 0}), (7, {'bipartite': 0}), (15, {'bipartite': 0}), (17, {'bipartite': 0}), (18, {'bipartite': 0}), (19, {'bipartite': 0}), (21, {'bipartite': 0}), (27, {'bipartite': 0})]\n",
      "Edges in the graph: [(1, 'Toy Story (1995)', {'weight': 1}), (1, 'Grumpier Old Men (1995)', {'weight': 1}), (1, 'Heat (1995)', {'weight': 1}), (1, 'Seven (a.k.a. Se7en) (1995)', {'weight': 1.2}), (1, 'Usual Suspects, The (1995)', {'weight': 1.2}), (1, 'From Dusk Till Dawn (1996)', {'weight': 0}), (1, 'Bottle Rocket (1996)', {'weight': 1.2}), (1, 'Braveheart (1995)', {'weight': 1}), (1, 'Rob Roy (1995)', {'weight': 1.2}), (1, 'Canadian Bacon (1995)', {'weight': 1.2})]\n"
     ]
    }
   ],
   "source": [
    "import networkx as nx\n",
    "\n",
    "# Create a directed graph\n",
    "user_movie_graph = nx.Graph()\n",
    "\n",
    "# Add nodes and edges\n",
    "for _, row in user_movie_matrix.iterrows():\n",
    "    user_movie_graph.add_node(row[\"userId\"], bipartite=0)\n",
    "    user_movie_graph.add_node(row[\"title\"], bipartite=1, genre=row[\"genres\"], movieId=row[\"movieId\"])\n",
    "    # user_movie_graph.add_edge(row[\"userId\"], row[\"title\"], weight=row[\"rating\"])\n",
    "    user_movie_graph.add_edge(row[\"userId\"], row[\"title\"], weight=mapping_score[row[\"rating\"]])\n",
    "\n",
    "# Debug print to check the graph construction\n",
    "print(f\"Nodes in the graph: {list(user_movie_graph.nodes(data=True))[:10]}\")\n",
    "print(f\"Edges in the graph: {list(user_movie_graph.edges(data=True))[:10]}\")"
   ]
  },
  {
   "cell_type": "code",
   "execution_count": 26,
   "metadata": {},
   "outputs": [
    {
     "name": "stdout",
     "output_type": "stream",
     "text": [
      "Users: [1, 2, 3, 4, 5, 6, 7, 8, 9, 10]\n",
      "Number of users: 610\n"
     ]
    }
   ],
   "source": [
    "users = {n for n, d in user_movie_graph.nodes(data=True) if d[\"bipartite\"] == 0}\n",
    "print(f\"Users: {list(users)[:10]}\")\n",
    "print(f\"Number of users: {len(users)}\")"
   ]
  },
  {
   "cell_type": "code",
   "execution_count": 27,
   "metadata": {},
   "outputs": [
    {
     "name": "stdout",
     "output_type": "stream",
     "text": [
      "Movies: ['Zabriskie Point (1970)', 'Envy (2004)', 'House of Flying Daggers (Shi mian mai fu) (2004)', 'Super Troopers (2001)', 'Over the Top (1987)', 'Grace of My Heart (1996)', 'Pride and Glory (2008)', 'Psycho II (1983)', 'Dawn of the Planet of the Apes (2014)', 'Slasher (2004)']\n",
      "Number of movies: 9719\n"
     ]
    }
   ],
   "source": [
    "movies = {n for n, d in user_movie_graph.nodes(data=True) if d[\"bipartite\"] == 1}\n",
    "print(f\"Movies: {list(movies)[:10]}\")\n",
    "print(f\"Number of movies: {len(movies)}\")"
   ]
  },
  {
   "cell_type": "code",
   "execution_count": 28,
   "metadata": {},
   "outputs": [
    {
     "name": "stdout",
     "output_type": "stream",
     "text": [
      "True\n",
      "True\n"
     ]
    }
   ],
   "source": [
    "print(nx.is_bipartite(user_movie_graph))\n",
    "print(nx.is_connected(user_movie_graph))"
   ]
  },
  {
   "cell_type": "code",
   "execution_count": null,
   "metadata": {},
   "outputs": [],
   "source": [
    "# user_user_graph = nx.bipartite.weighted_projected_graph(user_movie_graph, users)\n",
    "# print(f\"Nodes in the user-user graph: {list(user_user_graph.nodes(data=True))[:10]}\")\n",
    "# print(f\"Edges in the user-user graph: {list(user_user_graph.edges(data=True))[:10]}\")\n",
    "# print(len(user_user_graph.nodes()))\n",
    "# print(len(user_user_graph.edges()))"
   ]
  },
  {
   "cell_type": "code",
   "execution_count": 29,
   "metadata": {},
   "outputs": [
    {
     "name": "stdout",
     "output_type": "stream",
     "text": [
      "Nodes in movie_movie_graph: [('Zabriskie Point (1970)', {'bipartite': 1, 'genre': 'Drama|Romance', 'movieId': 26237}), ('Envy (2004)', {'bipartite': 1, 'genre': 'Comedy', 'movieId': 7448}), ('House of Flying Daggers (Shi mian mai fu) (2004)', {'bipartite': 1, 'genre': 'Action|Drama|Romance', 'movieId': 8983}), ('Super Troopers (2001)', {'bipartite': 1, 'genre': 'Comedy|Crime|Mystery', 'movieId': 5110}), ('Over the Top (1987)', {'bipartite': 1, 'genre': 'Action|Drama', 'movieId': 7016}), ('Grace of My Heart (1996)', {'bipartite': 1, 'genre': 'Comedy|Drama', 'movieId': 988}), ('Pride and Glory (2008)', {'bipartite': 1, 'genre': 'Crime|Drama', 'movieId': 62792}), ('Psycho II (1983)', {'bipartite': 1, 'genre': 'Horror|Mystery|Thriller', 'movieId': 2902}), ('Dawn of the Planet of the Apes (2014)', {'bipartite': 1, 'genre': 'Sci-Fi', 'movieId': 112623}), ('Slasher (2004)', {'bipartite': 1, 'genre': 'Documentary', 'movieId': 27829})]\n",
      "Edges in movie_movie_graph: [('Zabriskie Point (1970)', 'Filth (2013)', {'weight': 1}), ('Zabriskie Point (1970)', 'Frank (2014)', {'weight': 1}), ('Zabriskie Point (1970)', 'Empties (2007)', {'weight': 1}), ('Zabriskie Point (1970)', 'Anchorman: The Legend of Ron Burgundy (2004)', {'weight': 1}), ('Zabriskie Point (1970)', 'Harry Potter and the Goblet of Fire (2005)', {'weight': 1}), ('Zabriskie Point (1970)', 'Scary Movie (2000)', {'weight': 1}), ('Zabriskie Point (1970)', 'Harakiri (Seppuku) (1962)', {'weight': 1}), ('Zabriskie Point (1970)', 'Battleship Potemkin (1925)', {'weight': 1}), ('Zabriskie Point (1970)', 'Short Film About Love, A (Krótki film o milosci) (1988)', {'weight': 1}), ('Zabriskie Point (1970)', 'Prisoners (2013)', {'weight': 1})]\n"
     ]
    }
   ],
   "source": [
    "# Project the graph using weights\n",
    "movie_movie_graph = nx.bipartite.weighted_projected_graph(user_movie_graph, movies)\n",
    "print(f\"Nodes in movie_movie_graph: {list(movie_movie_graph.nodes(data=True))[:10]}\")\n",
    "print(f\"Edges in movie_movie_graph: {list(movie_movie_graph.edges(data=True))[:10]}\")"
   ]
  },
  {
   "cell_type": "code",
   "execution_count": 30,
   "metadata": {},
   "outputs": [
    {
     "name": "stdout",
     "output_type": "stream",
     "text": [
      "True\n"
     ]
    }
   ],
   "source": [
    "print(nx.is_connected(movie_movie_graph))"
   ]
  },
  {
   "cell_type": "code",
   "execution_count": 31,
   "metadata": {},
   "outputs": [],
   "source": [
    "# 0: User, 1: Movie\n",
    "def filter_nodes(graph: nx.Graph, node_type: int):\n",
    "    return [n for n, d in graph.nodes(data=True) if d[\"bipartite\"] == node_type]\n"
   ]
  },
  {
   "cell_type": "code",
   "execution_count": 32,
   "metadata": {},
   "outputs": [],
   "source": [
    "def create_preference_vector(debug: bool, user_id: int, user_movie_graph: nx.Graph):\n",
    "    # Get the edges for the user\n",
    "    edges = {m: v for _, m, v in user_movie_graph.edges(user_id, data=\"weight\")}\n",
    "    \n",
    "    if debug:\n",
    "        print(f\"Edges for user {user_id}: {list(edges)[:10]}\")\n",
    "        print(f\"Number of edges for user {user_id}: {len(edges)}\")\n",
    "        \n",
    "        for k, v in edges.items():\n",
    "            print(k,v)\n",
    "\n",
    "    # Sum of the ratings done by the user\n",
    "    tot = sum(edges.values())\n",
    "    \n",
    "    if debug:\n",
    "        print(f\"Total for user {user_id}: {tot}\")\n",
    "\n",
    "    if tot > 0:\n",
    "        print(f\"User {user_id} has rated movies\")\n",
    "        return len(edges), {\n",
    "            # Assign to each movie a normalized weight. The higher the rating, the higher the weight. \n",
    "            # Se provo a prendere un film che non sta in edges, mi ritorna 0 \n",
    "            movie: edges.get(movie, 0) / tot\n",
    "            for movie in filter_nodes(user_movie_graph, 1) # 1 : Movie\n",
    "        }\n",
    "    else:\n",
    "        # User has not rated any movies or the sum of all weighted ratings is zero / negative\n",
    "        print(f\"User {user_id} has not rated any movies or the sum of all weighted ratings is zero / negative. All movies will have a weight of 1\")\n",
    "        return len(edges), {\n",
    "            movie: 1 for movie in filter_nodes(user_movie_graph, 1) # Penso che dovremmo metterci zero come peso in questo caso\n",
    "        }"
   ]
  },
  {
   "cell_type": "markdown",
   "metadata": {},
   "source": [
    "Il vettore di personalizzazione assegna 0 a tutti i film non visti, mentre assegna valori normalizzati in base alla rating a tutti gli altri archi. Per come è stato costruito il vettore dei pesi delle ratings, al momento voti come 2, 2.5 e 3 vengono considerati allo stesso modo di film non visti"
   ]
  },
  {
   "cell_type": "code",
   "execution_count": 34,
   "metadata": {},
   "outputs": [],
   "source": [
    "# # Test the function\n",
    "# debug = True\n",
    "# num, p_vec = create_preference_vector(debug, 1, user_movie_graph)"
   ]
  },
  {
   "cell_type": "markdown",
   "metadata": {},
   "source": [
    "**Page Rank**"
   ]
  },
  {
   "cell_type": "code",
   "execution_count": 33,
   "metadata": {},
   "outputs": [],
   "source": [
    "def predict_user(user_id, user_movie_graph: nx.Graph, movie_movie_graph: nx.Graph):\n",
    "    _, p_vec = create_preference_vector(False, user_id, user_movie_graph)\n",
    "    print(f\"Preference vector for user {user_id}: {list(p_vec)[:10]}\")  \n",
    "\n",
    "    already_seen = [movie for movie, p in p_vec.items() if p > 0]\n",
    "    # Qua uso p > 0 perchè sopra assegno 0 ad ogni film non visto e valori diversi da 0 per quelli visti\n",
    "         \n",
    "    print(f\"Already seen movies for user {user_id}: {list(already_seen)[:10]}\")  \n",
    "\n",
    "    if len(already_seen) < 1:\n",
    "        return []\n",
    "    item_rank = nx.pagerank(movie_movie_graph, personalization=p_vec, alpha=0.95, weight=\"weight\")\n",
    "    print(f\"Item rank for user {user_id}: {list(item_rank)[:10]}\")  \n",
    "    s_t = [\n",
    "        x for x in sorted(\n",
    "            movie_movie_graph.nodes(), key=lambda x: item_rank[x] if x in item_rank else 0, reverse=True\n",
    "            )\n",
    "        if x not in already_seen\n",
    "        ]\n",
    "    \n",
    "    return s_t"
   ]
  },
  {
   "cell_type": "markdown",
   "metadata": {},
   "source": [
    "**Link Prediction with Adamic Adar Index**"
   ]
  },
  {
   "cell_type": "markdown",
   "metadata": {},
   "source": [
    "L'**Adamic-Adar Index** è una misura utilizzata per calcolare la _similarità_ tra due nodi in una rete (o grafo) in base ai loro _vicini comuni_. Questa misura si basa sull'idea che i vicini comuni più _rari_ (cioè quelli con un basso grado) contribuiscano _maggiormente_ alla similarità rispetto a quelli con un alto grado.  [https://neo4j.com/docs/graph-data-science/current/alpha-algorithms/adamic-adar/]\n",
    "\n",
    "La formula per calcolare l'indice di Adamic-Adar tra due nodi $u$ e $v$ è:\n",
    "\n",
    "$$\n",
    "A(u, v) = \\sum_{w \\in N(u) \\cap N(v)} \\frac{1}{\\log |N(w)|}\n",
    "$$\n",
    "\n",
    "Dove:\n",
    "- $N(u)$ è l'insieme dei vicini del nodo $u$.\n",
    "- $N(v)$ è l'insieme dei vicini del nodo $v$.\n",
    "- $N(w)$ è l'insieme dei vicini del nodo $w$ (nodo comune tra $u$ e $v$).\n",
    "- $|N(w)|$ rappresenta il grado del nodo $w$.\n",
    "\n",
    "In altre parole, l'indice somma i contributi inversamente proporzionali alla logaritmica del grado dei vicini comuni $w$.\n",
    "\n",
    "L'Adamic-Adar Index viene ampiamente utilizzato nella **link prediction** nei sistemi di raccomandazione, ad esempio per predire nuovi film che un utente potrebbe apprezzare. Ecco i motivi principali:\n",
    "\n",
    "1. **Valorizzazione dei vicini rari**:\n",
    "   - La presenza di vicini comuni rari è considerata più significativa nella formazione di nuovi collegamenti, poiché suggerisce una connessione più forte tra i nodi.\n",
    "   - Ad esempio, in una rete sociale, avere amici comuni con pochi altri contatti può essere indicativo di una relazione più stretta.\n",
    "\n",
    "2. **Efficienza computazionale**:\n",
    "   - L'indice è relativamente semplice da calcolare per coppie di nodi e può essere implementato in modo efficace anche su grandi reti sparse.\n",
    "\n",
    "3. **Adattabilità a diversi domini**:\n",
    "   - L'indice si applica bene a reti sociali, biologiche, di co-autorship, e molte altre tipologie di grafo.\n",
    "\n",
    "4. **Rilevanza statistica**:\n",
    "   - Penalizzando i nodi con alti gradi ($\\log |N(w)|$), l'Adamic-Adar Index riduce l'effetto di \"hub\" o nodi centrali nella rete, rendendo la misura più bilanciata.\n",
    "\n",
    "Nella link prediction, l'indice viene utilizzato per stimare la _probabilità_ che un collegamento esista (o si formi in futuro) tra due nodi non direttamente collegati. In particolare:\n",
    "\n",
    "1. Si calcolano gli indici Adamic-Adar per tutte le coppie di nodi non collegati.\n",
    "2. Si ordinano le coppie in base ai valori di similarità.\n",
    "3. Si predice che i collegamenti con i valori più alti abbiano la maggiore probabilità di esistere o di formarsi.\n",
    "\n",
    "Immaginiamo un grafo con i seguenti nodi e connessioni:\n",
    "- Nodo $u$ è connesso a $a, b$.\n",
    "- Nodo $v$ è connesso a $b, c$.\n",
    "\n",
    "Il vicinato comune tra $u$ e $v$ è costituito dal nodo $b$. Supponendo che $|N(b)| = 10$, il contributo di $b$ all'indice Adamic-Adar sarà:\n",
    "\n",
    "$$\n",
    "\\frac{1}{\\log 10} \\approx 0.434\n",
    "$$\n",
    "\n",
    "Se ci sono più vicini comuni, i loro contributi saranno sommati per ottenere il valore finale dell'indice.\n",
    "\n",
    "Nonostante l'efficacia in molti scenari, l'Adamic-Adar Index presenta alcune limitazioni:\n",
    "- **Bias verso nodi con basso grado**: Questa caratteristica può risultare svantaggiosa in alcune reti dove gli hub giocano un ruolo cruciale.\n",
    "- **Non considera i pesi degli archi**: La versione standard non tiene conto di pesi o altre proprietà degli archi, che potrebbero essere rilevanti in applicazioni specifiche.\n"
   ]
  },
  {
   "cell_type": "code",
   "execution_count": 37,
   "metadata": {},
   "outputs": [],
   "source": [
    "#Adamic Adar iniziale che semplicemente calcola le connessioni, e l'output è 13318643\n",
    "\n",
    "# import numpy as np\n",
    "# # Calcolo dell'indice di Adamic-Adar\n",
    "# def calculate_adamic_adar(graph):\n",
    "#     scores = []\n",
    "#     for u, v in nx.non_edges(graph):\n",
    "#         common_neighbors = set(nx.common_neighbors(graph, u, v))\n",
    "#         if common_neighbors:\n",
    "#             score = sum(1 / np.log(len(list(graph.neighbors(w)))) for w in common_neighbors)\n",
    "#             scores.append((u, v, score))\n",
    "#     return scores\n"
   ]
  },
  {
   "cell_type": "code",
   "execution_count": null,
   "metadata": {},
   "outputs": [],
   "source": [
    "# # Uso delle funzioni\n",
    "# adamic_adar_scores = calculate_adamic_adar(user_movie_graph)"
   ]
  },
  {
   "cell_type": "code",
   "execution_count": 39,
   "metadata": {},
   "outputs": [
    {
     "name": "stdout",
     "output_type": "stream",
     "text": [
      "The link predicted are #  13318643\n"
     ]
    }
   ],
   "source": [
    "# print(\"The link predicted are # \", len(adamic_adar_scores))"
   ]
  },
  {
   "cell_type": "code",
   "execution_count": null,
   "metadata": {},
   "outputs": [
    {
     "name": "stdout",
     "output_type": "stream",
     "text": [
      "The link predicted are #  13318643\n"
     ]
    }
   ],
   "source": [
    "#NUOVA ADAMIC ADAR\n",
    "import numpy as np\n",
    "# Modifica per calcolare Adamic-Adar con il tipo di link\n",
    "def calculate_adamic_adar(graph):\n",
    "    scores = []\n",
    "    for u, v in nx.non_edges(graph):\n",
    "        common_neighbors = set(nx.common_neighbors(graph, u, v))\n",
    "        if common_neighbors:\n",
    "            score = sum(1 / np.log(len(list(graph.neighbors(w)))) for w in common_neighbors)\n",
    "            # Determinare il tipo di link\n",
    "            type_u = graph.nodes[u].get('bipartite', -1)\n",
    "            type_v = graph.nodes[v].get('bipartite', -1)\n",
    "            if type_u == 0 and type_v == 1:  # user-movie\n",
    "                link_type = \"user-movie\"\n",
    "            elif type_u == 1 and type_v == 1:  # movie-movie\n",
    "                link_type = \"movie-movie\"\n",
    "            elif type_u == 0 and type_v == 0:  # user-user (poco probabile nel tuo caso)\n",
    "                link_type = \"user-user\"\n",
    "            else:\n",
    "                link_type = \"unknown\"\n",
    "            # Aggiungere le informazioni\n",
    "            scores.append((u, v, score, link_type))\n",
    "    return scores\n",
    "\n",
    "# Calcolo dei punteggi Adamic-Adar con tipo di link\n",
    "adamic_adar_scores = calculate_adamic_adar(user_movie_graph)\n",
    "\n",
    "print(\"The link predicted are # \", len(adamic_adar_scores))\n",
    "\n",
    "# Salva i risultati in un CSV\n",
    "adamic_adar_df = pd.DataFrame(adamic_adar_scores, columns=[\"Node u\", \"Node v\", \"Score\", \"LinkType\"])\n",
    "adamic_adar_df.to_csv(\"adamic_adar_scores.csv\", index=False)\n",
    "\n",
    "print(\"Adamic-Adar scores salvati in 'adamic_adar_scores.csv'\")\n"
   ]
  },
  {
   "cell_type": "markdown",
   "metadata": {},
   "source": [
    "I link predetti dalla link prediction verranno aggiunti al grafo user-movie graph [DA DECIDERE] al fine di aiutare la prediction tramite Page Ranking, arricchendola con le nuove informazioni ottenute."
   ]
  },
  {
   "cell_type": "code",
   "execution_count": null,
   "metadata": {},
   "outputs": [],
   "source": [
    "# Aggiunta di link predetti\n",
    "def add_predicted_links(graph, predicted_edges, threshold):\n",
    "    for u, v, score in predicted_edges:\n",
    "        if score > threshold:\n",
    "            graph.add_edge(u, v, weight=score)\n",
    "    return graph\n"
   ]
  },
  {
   "cell_type": "code",
   "execution_count": null,
   "metadata": {},
   "outputs": [],
   "source": [
    "user_movie_graph_extended = add_predicted_links(user_movie_graph, adamic_adar_scores, 0.5)"
   ]
  },
  {
   "cell_type": "markdown",
   "metadata": {},
   "source": [
    "**Prediction**"
   ]
  },
  {
   "cell_type": "code",
   "execution_count": null,
   "metadata": {},
   "outputs": [],
   "source": [
    "# Test the prediction\n",
    "user = 10\n",
    "s_t = predict_user(user, user_movie_graph, movie_movie_graph)\n",
    "print(f\"Predicted movies for user {user}: {s_t[:10]}\")"
   ]
  },
  {
   "cell_type": "code",
   "execution_count": null,
   "metadata": {},
   "outputs": [],
   "source": [
    "# Make all predictions\n",
    "predictions = {}\n",
    "for user in filter_nodes(user_movie_graph, 0):\n",
    "    predictions[user] = predict_user(user, user_movie_graph, movie_movie_graph)[:10]"
   ]
  }
 ],
 "metadata": {
  "kernelspec": {
   "display_name": "base",
   "language": "python",
   "name": "python3"
  },
  "language_info": {
   "codemirror_mode": {
    "name": "ipython",
    "version": 3
   },
   "file_extension": ".py",
   "mimetype": "text/x-python",
   "name": "python",
   "nbconvert_exporter": "python",
   "pygments_lexer": "ipython3",
   "version": "3.11.5"
  }
 },
 "nbformat": 4,
 "nbformat_minor": 2
}
