{
 "cells": [
  {
   "cell_type": "code",
   "execution_count": 1,
   "metadata": {},
   "outputs": [],
   "source": [
    "import pandas as pd\n",
    "import numpy as np\n",
    "import networkx as nx\n",
    "import matplotlib.pyplot as plt\n",
    "\n",
    "# Caricamento dei dati\n",
    "ratings = pd.read_csv('../ml-latest-small/ml-latest-small/ratings.csv')\n",
    "movies = pd.read_csv('../ml-latest-small/ml-latest-small/movies.csv')\n"
   ]
  },
  {
   "cell_type": "code",
   "execution_count": 2,
   "metadata": {},
   "outputs": [
    {
     "name": "stdout",
     "output_type": "stream",
     "text": [
      "   userId  movieId  rating   timestamp             title  \\\n",
      "0       1        1     4.0   964982703  Toy Story (1995)   \n",
      "1       5        1     4.0   847434962  Toy Story (1995)   \n",
      "2       7        1     4.5  1106635946  Toy Story (1995)   \n",
      "3      15        1     2.5  1510577970  Toy Story (1995)   \n",
      "4      17        1     4.5  1305696483  Toy Story (1995)   \n",
      "\n",
      "                                        genres  \n",
      "0  Adventure|Animation|Children|Comedy|Fantasy  \n",
      "1  Adventure|Animation|Children|Comedy|Fantasy  \n",
      "2  Adventure|Animation|Children|Comedy|Fantasy  \n",
      "3  Adventure|Animation|Children|Comedy|Fantasy  \n",
      "4  Adventure|Animation|Children|Comedy|Fantasy  \n"
     ]
    }
   ],
   "source": [
    "# Merge dei dataset ratings e movies\n",
    "user_movie_matrix = ratings.merge(movies, on=\"movieId\", how=\"inner\")\n",
    "print(user_movie_matrix.head())"
   ]
  },
  {
   "cell_type": "code",
   "execution_count": 3,
   "metadata": {},
   "outputs": [],
   "source": [
    "# Mappatura dei punteggi\n",
    "mapping_score = {\n",
    "    0.5: -1.0,\n",
    "    1: -1.0,\n",
    "    1.5: -0.5,\n",
    "    2: 0.0,\n",
    "    2.5: 0.0,\n",
    "    3: 0.0,\n",
    "    3.5: 0.5,\n",
    "    4: 1.0,\n",
    "    4.5: 1.1,\n",
    "    5: 1.2\n",
    "}"
   ]
  },
  {
   "cell_type": "code",
   "execution_count": 4,
   "metadata": {},
   "outputs": [],
   "source": [
    "user_movie_matrix['weight'] = user_movie_matrix['rating'].map(mapping_score)"
   ]
  },
  {
   "cell_type": "code",
   "execution_count": 5,
   "metadata": {},
   "outputs": [],
   "source": [
    "# Creazione degli edge\n",
    "edges = user_movie_matrix[['userId', 'movieId', 'weight']].rename(\n",
    "    columns={'userId': 'src', 'movieId': 'dst'}\n",
    ")\n",
    "edges['src'] = edges['src'].astype(str)\n",
    "edges['dst'] = edges['dst'].astype(str)"
   ]
  },
  {
   "cell_type": "code",
   "execution_count": 6,
   "metadata": {},
   "outputs": [
    {
     "name": "stdout",
     "output_type": "stream",
     "text": [
      "  src dst  weight\n",
      "0   1   1     1.0\n",
      "1   5   1     1.0\n",
      "2   7   1     1.1\n",
      "3  15   1     0.0\n",
      "4  17   1     1.1\n"
     ]
    }
   ],
   "source": [
    "print(edges.head())"
   ]
  },
  {
   "cell_type": "code",
   "execution_count": 10,
   "metadata": {},
   "outputs": [
    {
     "name": "stdout",
     "output_type": "stream",
     "text": [
      "   id  bipartite\n",
      "0   1          0\n",
      "1   5          0\n",
      "2   7          0\n",
      "3  15          0\n",
      "4  17          0\n"
     ]
    }
   ],
   "source": [
    "# Creazione dei vertici\n",
    "user_vertices = pd.DataFrame(user_movie_matrix['userId'].astype(str).unique(), columns=['id'])\n",
    "user_vertices['bipartite'] = 0\n",
    "\n",
    "movie_vertices = pd.DataFrame(user_movie_matrix['movieId'].astype(str).unique(), columns=['id'])\n",
    "movie_vertices['bipartite'] = 1\n",
    "\n",
    "vertices = pd.concat([user_vertices, movie_vertices], ignore_index=True)\n",
    "\n",
    "#debug print\n",
    "print(vertices.head())\n"
   ]
  },
  {
   "cell_type": "code",
   "execution_count": 11,
   "metadata": {},
   "outputs": [],
   "source": [
    "# Creazione del grafo bipartito\n",
    "user_movie_graph = nx.Graph()\n",
    "for _, edge in edges.iterrows():\n",
    "    user_movie_graph.add_edge(edge['src'], edge['dst'], weight=edge['weight'])\n"
   ]
  },
  {
   "cell_type": "code",
   "execution_count": 12,
   "metadata": {},
   "outputs": [],
   "source": [
    "# Proiezione user-user\n",
    "def project_user_user_graph(user_movie_graph):\n",
    "    user_user_edges = []\n",
    "    users = [node for node, data in user_movie_graph.nodes(data=True) if data.get('bipartite') == 0]\n",
    "    for i, u1 in enumerate(users):\n",
    "        for u2 in users[i+1:]:\n",
    "            common_movies = set(user_movie_graph.neighbors(u1)).intersection(user_movie_graph.neighbors(u2))\n",
    "            weight = sum(\n",
    "                user_movie_graph[u1][movie]['weight'] + user_movie_graph[u2][movie]['weight']\n",
    "                for movie in common_movies\n",
    "            )\n",
    "            if weight > 0:\n",
    "                user_user_edges.append((u1, u2, weight))\n",
    "    user_user_graph = nx.Graph()\n",
    "    user_user_graph.add_weighted_edges_from(user_user_edges)\n",
    "    return user_user_graph\n",
    "\n",
    "user_user_graph = project_user_user_graph(user_movie_graph)\n"
   ]
  },
  {
   "cell_type": "code",
   "execution_count": 13,
   "metadata": {},
   "outputs": [],
   "source": [
    "# Proiezione movie-movie\n",
    "def project_movie_movie_graph(user_movie_graph):\n",
    "    movie_movie_edges = []\n",
    "    movies = [node for node, data in user_movie_graph.nodes(data=True) if data.get('bipartite') == 1]\n",
    "    for i, m1 in enumerate(movies):\n",
    "        for m2 in movies[i+1:]:\n",
    "            common_users = set(user_movie_graph.neighbors(m1)).intersection(user_movie_graph.neighbors(m2))\n",
    "            weight = sum(\n",
    "                user_movie_graph[user][m1]['weight'] + user_movie_graph[user][m2]['weight']\n",
    "                for user in common_users\n",
    "            )\n",
    "            if weight > 0:\n",
    "                movie_movie_edges.append((m1, m2, weight))\n",
    "    movie_movie_graph = nx.Graph()\n",
    "    movie_movie_graph.add_weighted_edges_from(movie_movie_edges)\n",
    "    return movie_movie_graph\n",
    "\n",
    "movie_movie_graph = project_movie_movie_graph(user_movie_graph)"
   ]
  },
  {
   "cell_type": "code",
   "execution_count": 14,
   "metadata": {},
   "outputs": [],
   "source": [
    "# Funzione per calcolare il vettore di preferenze\n",
    "def create_preference_vector(user_id, user_movie_graph):\n",
    "    user_node = str(user_id)\n",
    "    edges = [(neighbor, user_movie_graph[user_node][neighbor]['weight']) for neighbor in user_movie_graph.neighbors(user_node)]\n",
    "    tot = sum(weight for _, weight in edges)\n",
    "    if tot > 0:\n",
    "        return {movie: weight / tot for movie, weight in edges}\n",
    "    else:\n",
    "        movies = [n for n, data in user_movie_graph.nodes(data=True) if data.get('bipartite') == 1]\n",
    "        return {movie: 1 / len(movies) for movie in movies}\n"
   ]
  },
  {
   "cell_type": "markdown",
   "metadata": {},
   "source": [
    "**Page Rank**"
   ]
  },
  {
   "cell_type": "code",
   "execution_count": 15,
   "metadata": {},
   "outputs": [],
   "source": [
    "# Funzione di predizione\n",
    "def predict_user(user_id, user_movie_graph, movie_movie_graph):\n",
    "    p_vec = create_preference_vector(user_id, user_movie_graph)\n",
    "    already_seen = [movie for movie, weight in p_vec.items() if weight > 0]\n",
    "    if len(already_seen) == len(p_vec):\n",
    "        return []\n",
    "    pagerank = nx.pagerank(movie_movie_graph, alpha=0.95)\n",
    "    item_rank = sorted(\n",
    "        [(movie, rank) for movie, rank in pagerank.items() if movie not in already_seen],\n",
    "        key=lambda x: x[1], reverse=True\n",
    "    )\n",
    "    return [movie for movie, _ in item_rank[:10]]\n"
   ]
  },
  {
   "cell_type": "markdown",
   "metadata": {},
   "source": [
    "**Link Prediction**"
   ]
  },
  {
   "cell_type": "code",
   "execution_count": 16,
   "metadata": {},
   "outputs": [],
   "source": [
    "# Calcolo dell'indice di Adamic-Adar\n",
    "def calculate_adamic_adar(graph):\n",
    "    scores = []\n",
    "    for u, v in nx.non_edges(graph):\n",
    "        common_neighbors = set(nx.common_neighbors(graph, u, v))\n",
    "        if common_neighbors:\n",
    "            score = sum(1 / np.log(len(list(graph.neighbors(w)))) for w in common_neighbors)\n",
    "            scores.append((u, v, score))\n",
    "    return scores\n"
   ]
  },
  {
   "cell_type": "code",
   "execution_count": 17,
   "metadata": {},
   "outputs": [],
   "source": [
    "#plot histogram for Adamic-Adar index \n",
    "def plot_histogram(scores):\n",
    "    plt.hist([score for _, _, score in scores], bins=100)\n",
    "    plt.title('Adamic-Adar index')\n",
    "    plt.xlabel('Index')\n",
    "    plt.ylabel('Frequency')\n",
    "    plt.show()"
   ]
  },
  {
   "cell_type": "code",
   "execution_count": null,
   "metadata": {},
   "outputs": [],
   "source": [
    "# Uso delle funzioni\n",
    "adamic_adar_scores = calculate_adamic_adar(user_movie_graph)"
   ]
  },
  {
   "cell_type": "code",
   "execution_count": null,
   "metadata": {},
   "outputs": [],
   "source": [
    "#     # :param predicted_edges: DataFrame dei link predetti con colonne 'v1', 'v2', 'score'.\n",
    "#     # :param vertices: DataFrame dei nodi con colonne 'id' e 'bipartite'.\n",
    "#     # :return: Un dizionario con i conti per ciascuna tipologia di link.\n",
    "\n",
    "# def count_link_types(predicted_edges, vertices):\n",
    "#     link_types = {}\n",
    "#     for _, edge in predicted_edges.iterrows():\n",
    "#         v1_bipartite = vertices.loc[vertices['id'] == edge['v1'], 'bipartite'].values[0]\n",
    "#         v2_bipartite = vertices.loc[vertices['id'] == edge['v2'], 'bipartite'].values[0]\n",
    "#         link_type = (v1_bipartite, v2_bipartite)\n",
    "#         link_types[link_type] = link_types.get(link_type, 0) + 1\n",
    "#     return link_types\n",
    "\n",
    "# # Calcolo del numero di link predetti per ciascuna tipologia\n",
    "# predicted_edges = pd.DataFrame(adamic_adar_scores, columns=['v1', 'v2', 'score'])\n",
    "# link_types = count_link_types(predicted_edges, vertices)\n",
    "# print(link_types)\n",
    "\n",
    "def count_link_types(predicted_edges, vertices):\n",
    "    \"\"\"\n",
    "    Conta le tipologie di link predetti (user-user, movie-movie, user-movie).\n",
    "    \n",
    "    :param predicted_edges: Lista di tuple (u, v, score) con i link predetti.\n",
    "    :param vertices: Dizionario con ID dei nodi e il loro tipo (0 = user, 1 = movie).\n",
    "    :return: Un dizionario con i conti per ciascuna tipologia di link.\n",
    "    \"\"\"\n",
    "    # Dizionario per contare le tipologie di link\n",
    "    link_counts = {\n",
    "        \"user-user\": 0,\n",
    "        \"movie-movie\": 0,\n",
    "        \"user-movie\": 0,\n",
    "        \"unknown\": 0\n",
    "    }\n",
    "\n",
    "    # Itera attraverso i link predetti e classifica\n",
    "    for u, v, _ in predicted_edges:\n",
    "        v1_type = vertices.get(u, -1)  # Tipo del nodo u\n",
    "        v2_type = vertices.get(v, -1)  # Tipo del nodo v\n",
    "        \n",
    "        if v1_type == 0 and v2_type == 0:\n",
    "            link_counts[\"user-user\"] += 1\n",
    "        elif v1_type == 1 and v2_type == 1:\n",
    "            link_counts[\"movie-movie\"] += 1\n",
    "        elif v1_type != v2_type:\n",
    "            link_counts[\"user-movie\"] += 1\n",
    "        else:\n",
    "            link_counts[\"unknown\"] += 1  # Caso di tipo sconosciuto\n",
    "\n",
    "    # Stampa il totale\n",
    "    print(f\"Total predicted edges: {len(predicted_edges)}, Classified edges: {sum(link_counts.values())}\")\n",
    "\n",
    "    return link_counts\n"
   ]
  },
  {
   "cell_type": "code",
   "execution_count": null,
   "metadata": {},
   "outputs": [],
   "source": [
    "link_type_counts = count_link_types(adamic_adar_scores, vertices)\n",
    "print(\"Link type counts:\", link_type_counts)"
   ]
  },
  {
   "cell_type": "code",
   "execution_count": null,
   "metadata": {},
   "outputs": [],
   "source": [
    "print(\"The link predicted are # \", len(adamic_adar_scores))"
   ]
  },
  {
   "cell_type": "code",
   "execution_count": null,
   "metadata": {},
   "outputs": [],
   "source": [
    "# Aggiunta di link predetti\n",
    "def add_predicted_links(graph, predicted_edges, threshold):\n",
    "    for u, v, score in predicted_edges:\n",
    "        if score > threshold:\n",
    "            graph.add_edge(u, v, weight=score)\n",
    "    return graph\n"
   ]
  },
  {
   "cell_type": "code",
   "execution_count": null,
   "metadata": {},
   "outputs": [],
   "source": [
    "user_movie_graph_extended = add_predicted_links(user_movie_graph, adamic_adar_scores, 0.5)"
   ]
  },
  {
   "cell_type": "code",
   "execution_count": null,
   "metadata": {},
   "outputs": [],
   "source": [
    "# Predizione per un utente\n",
    "user = 10\n",
    "recommended_movies = predict_user(user, user_movie_graph_extended, movie_movie_graph)\n",
    "print(f\"Recommended movies for user {user}: {recommended_movies[:10]}\")"
   ]
  }
 ],
 "metadata": {
  "kernelspec": {
   "display_name": "base",
   "language": "python",
   "name": "python3"
  },
  "language_info": {
   "codemirror_mode": {
    "name": "ipython",
    "version": 3
   },
   "file_extension": ".py",
   "mimetype": "text/x-python",
   "name": "python",
   "nbconvert_exporter": "python",
   "pygments_lexer": "ipython3",
   "version": "3.11.5"
  }
 },
 "nbformat": 4,
 "nbformat_minor": 2
}
