{
 "cells": [
  {
   "cell_type": "markdown",
   "metadata": {},
   "source": [
    "USARE LINK PREDICTION CON ADAMIC ADAR PER PAGE RANK"
   ]
  },
  {
   "cell_type": "code",
   "execution_count": 1,
   "metadata": {},
   "outputs": [
    {
     "name": "stdout",
     "output_type": "stream",
     "text": [
      "   userId  movieId  rating   timestamp             title  \\\n",
      "0       1        1     4.0   964982703  Toy Story (1995)   \n",
      "1       5        1     4.0   847434962  Toy Story (1995)   \n",
      "2       7        1     4.5  1106635946  Toy Story (1995)   \n",
      "3      15        1     2.5  1510577970  Toy Story (1995)   \n",
      "4      17        1     4.5  1305696483  Toy Story (1995)   \n",
      "\n",
      "                                        genres  \n",
      "0  Adventure|Animation|Children|Comedy|Fantasy  \n",
      "1  Adventure|Animation|Children|Comedy|Fantasy  \n",
      "2  Adventure|Animation|Children|Comedy|Fantasy  \n",
      "3  Adventure|Animation|Children|Comedy|Fantasy  \n",
      "4  Adventure|Animation|Children|Comedy|Fantasy  \n"
     ]
    }
   ],
   "source": [
    "import pandas as pd\n",
    "import networkx as nx\n",
    "from collections import defaultdict\n",
    "\n",
    "# Caricamento dei dati\n",
    "ratings = pd.read_csv(\"ml-latest-small/ml-latest-small/ratings.csv\")\n",
    "movies = pd.read_csv(\"ml-latest-small/ml-latest-small/movies.csv\")\n",
    "\n",
    "# Merge dei dataset ratings e movies\n",
    "ratings = pd.merge(ratings, movies, on=\"movieId\")\n",
    "print(ratings.head())"
   ]
  },
  {
   "cell_type": "code",
   "execution_count": 2,
   "metadata": {},
   "outputs": [
    {
     "name": "stdout",
     "output_type": "stream",
     "text": [
      "                             title  count\n",
      "2           'Round Midnight (1986)      2\n",
      "4        'Til There Was You (1997)      2\n",
      "6               'burbs, The (1989)     17\n",
      "8      (500) Days of Summer (2009)     42\n",
      "9   *batteries not included (1987)      7\n",
      "11   ...And Justice for All (1979)      3\n",
      "14                       10 (1979)      4\n",
      "15           10 Cent Pistol (2015)      2\n",
      "16      10 Cloverfield Lane (2016)     14\n",
      "17         10 Items or Less (2006)      3\n"
     ]
    }
   ],
   "source": [
    "# Controllo per film comuni valutati da più utenti\n",
    "common_movies = ratings.groupby(\"title\").size().reset_index(name='count')\n",
    "print(common_movies[common_movies['count'] > 1].head(10))  # Debug"
   ]
  },
  {
   "cell_type": "code",
   "execution_count": 3,
   "metadata": {},
   "outputs": [],
   "source": [
    "# Mappatura dei punteggi\n",
    "mapping_score = {\n",
    "    0.5: -1,\n",
    "    1: -1,\n",
    "    1.5: -0.5,\n",
    "    2: 0,\n",
    "    2.5: 0,\n",
    "    3: 0,\n",
    "    3.5: 0.5,\n",
    "    4: 1,\n",
    "    4.5: 1.1,\n",
    "    5: 1.2\n",
    "}\n",
    "\n",
    "# ratings[\"weight\"] = ratings[\"rating\"].map(mapping_score)  #non presente in cod originale\n",
    "# print(ratings.head())"
   ]
  },
  {
   "cell_type": "code",
   "execution_count": 4,
   "metadata": {},
   "outputs": [
    {
     "name": "stdout",
     "output_type": "stream",
     "text": [
      "Nodes in the graph: [(1, {'bipartite': 0}), ('Toy Story (1995)', {'bipartite': 1}), (5, {'bipartite': 0}), (7, {'bipartite': 0}), (15, {'bipartite': 0}), (17, {'bipartite': 0}), (18, {'bipartite': 0}), (19, {'bipartite': 0}), (21, {'bipartite': 0}), (27, {'bipartite': 0})]\n",
      "Edges in the graph: [(1, 'Toy Story (1995)', {'weight': 1}), (1, 'Grumpier Old Men (1995)', {'weight': 1}), (1, 'Heat (1995)', {'weight': 1}), (1, 'Seven (a.k.a. Se7en) (1995)', {'weight': 1.2}), (1, 'Usual Suspects, The (1995)', {'weight': 1.2}), (1, 'From Dusk Till Dawn (1996)', {'weight': 0}), (1, 'Bottle Rocket (1996)', {'weight': 1.2}), (1, 'Braveheart (1995)', {'weight': 1}), (1, 'Rob Roy (1995)', {'weight': 1.2}), (1, 'Canadian Bacon (1995)', {'weight': 1.2})]\n"
     ]
    }
   ],
   "source": [
    "# Create bipartite graph\n",
    "user_movie_graph = nx.Graph()\n",
    "#Add nodes and edges\n",
    "for _, row in ratings.iterrows():\n",
    "    user_movie_graph.add_node(row[\"userId\"], bipartite=0)\n",
    "    user_movie_graph.add_node(row[\"title\"], bipartite=1)\n",
    "    user_movie_graph.add_edge(row[\"userId\"], row[\"title\"], weight=mapping_score[row[\"rating\"]])\n",
    "\n",
    "# Debug\n",
    "print(f\"Nodes in the graph: {list(user_movie_graph.nodes(data=True))[:10]}\")\n",
    "print(f\"Edges in the graph: {list(user_movie_graph.edges(data=True))[:10]}\")"
   ]
  },
  {
   "cell_type": "code",
   "execution_count": 5,
   "metadata": {},
   "outputs": [
    {
     "name": "stdout",
     "output_type": "stream",
     "text": [
      "Nodes in user_user_graph: [(1, {'bipartite': 0}), (2, {'bipartite': 0}), (3, {'bipartite': 0}), (4, {'bipartite': 0}), (5, {'bipartite': 0}), (6, {'bipartite': 0}), (7, {'bipartite': 0}), (8, {'bipartite': 0}), (9, {'bipartite': 0}), (10, {'bipartite': 0})]\n",
      "Edges in user_user_graph: [(1, 2, {'weight': 2}), (1, 3, {'weight': 7}), (1, 4, {'weight': 45}), (1, 5, {'weight': 13}), (1, 6, {'weight': 33}), (1, 7, {'weight': 26}), (1, 8, {'weight': 15}), (1, 9, {'weight': 5}), (1, 10, {'weight': 6}), (1, 11, {'weight': 16})]\n",
      "Nodes in movie_movie_graph: [('Denise Calls Up (1995)', {'bipartite': 1}), ('Nine Lives of Tomas Katz, The (2000)', {'bipartite': 1}), ('Bank Job, The (2008)', {'bipartite': 1}), ('Crippled Avengers (Can que) (Return of the 5 Deadly Venoms) (1981)', {'bipartite': 1}), ('Bling Ring, The (2013)', {'bipartite': 1}), ('Beerfest (2006)', {'bipartite': 1}), ('Other Sister, The (1999)', {'bipartite': 1}), ('Dead Again (1991)', {'bipartite': 1}), ('The Cave of the Golden Rose (1991)', {'bipartite': 1}), ('Austenland (2013)', {'bipartite': 1})]\n",
      "Edges in movie_movie_graph: [('Denise Calls Up (1995)', 'Body Snatchers (1993)', {'weight': 1}), ('Denise Calls Up (1995)', 'Black Sheep (1996)', {'weight': 1}), ('Denise Calls Up (1995)', 'Reality Bites (1994)', {'weight': 1}), ('Denise Calls Up (1995)', 'Big Lebowski, The (1998)', {'weight': 1}), ('Denise Calls Up (1995)', 'Anne Frank Remembered (1995)', {'weight': 1}), ('Denise Calls Up (1995)', 'Bedknobs and Broomsticks (1971)', {'weight': 1}), ('Denise Calls Up (1995)', 'Happy Gilmore (1996)', {'weight': 1}), ('Denise Calls Up (1995)', 'Birdcage, The (1996)', {'weight': 1}), ('Denise Calls Up (1995)', 'Dave (1993)', {'weight': 1}), ('Denise Calls Up (1995)', 'Fatal Attraction (1987)', {'weight': 1})]\n"
     ]
    }
   ],
   "source": [
    "# Proiezione del grafo bipartito\n",
    "users = {n for n, d in user_movie_graph.nodes(data=True) if d[\"bipartite\"] == 0}\n",
    "movies = {n for n, d in user_movie_graph.nodes(data=True) if d[\"bipartite\"] == 1}\n",
    "user_user_graph = nx.bipartite.weighted_projected_graph(user_movie_graph, users)\n",
    "movie_movie_graph = nx.bipartite.weighted_projected_graph(user_movie_graph, movies)\n",
    "\n",
    "# Debug per le proiezioni\n",
    "print(f\"Nodes in user_user_graph: {list(user_user_graph.nodes(data=True))[:10]}\")\n",
    "print(f\"Edges in user_user_graph: {list(user_user_graph.edges(data=True))[:10]}\")\n",
    "print(f\"Nodes in movie_movie_graph: {list(movie_movie_graph.nodes(data=True))[:10]}\")\n",
    "print(f\"Edges in movie_movie_graph: {list(movie_movie_graph.edges(data=True))[:10]}\")"
   ]
  },
  {
   "cell_type": "code",
   "execution_count": 6,
   "metadata": {},
   "outputs": [],
   "source": [
    "# Funzione per calcolare il vettore di preferenze\n",
    "def create_preference_vector(user_id: int, user_movie_graph: nx.Graph):\n",
    "    edges = {m: v for _, m, v in user_movie_graph.edges(user_id, data=\"weight\")}\n",
    "    tot = sum(edges.values())\n",
    "    if tot > 0:\n",
    "        return {\n",
    "            movie: edges.get(movie, 0) / tot\n",
    "            for movie in movies\n",
    "        }\n",
    "    else:\n",
    "        return {movie: 1 for movie in movies}\n"
   ]
  },
  {
   "cell_type": "markdown",
   "metadata": {},
   "source": [
    "**Page Rank**"
   ]
  },
  {
   "cell_type": "code",
   "execution_count": 7,
   "metadata": {},
   "outputs": [],
   "source": [
    "def predict_user(user_id, user_movie_graph: nx.Graph, movie_movie_graph: nx.Graph):\n",
    "    p_vec = create_preference_vector(user_id, user_movie_graph)\n",
    "    already_seen = [movie for movie, p in p_vec.items() if p > 0]\n",
    "    if len(already_seen) < 1:\n",
    "        return []\n",
    "    item_rank = nx.pagerank(movie_movie_graph, personalization=p_vec, alpha=0.95, weight=\"weight\")\n",
    "    s_t = [\n",
    "        x for x in sorted(\n",
    "            movie_movie_graph.nodes(), key=lambda x: item_rank[x] if x in item_rank else 0, reverse=True\n",
    "            )\n",
    "        if x not in already_seen\n",
    "        ]\n",
    "    return s_t"
   ]
  },
  {
   "cell_type": "markdown",
   "metadata": {},
   "source": [
    "**Link Prediction**"
   ]
  },
  {
   "cell_type": "code",
   "execution_count": 8,
   "metadata": {},
   "outputs": [],
   "source": [
    "# 1. Calculate Link Prediction using Adamic-Adar Index\n",
    "def link_prediction(graph: nx.Graph):\n",
    "    predicted_edges = []\n",
    "    for u, v, p in nx.adamic_adar_index(graph):\n",
    "        predicted_edges.append((u, v, p))\n",
    "    return predicted_edges"
   ]
  },
  {
   "cell_type": "code",
   "execution_count": 9,
   "metadata": {},
   "outputs": [],
   "source": [
    "import matplotlib.pyplot as plt\n",
    "import numpy as np\n",
    "\n",
    "def plot_adamic_adar_histogram(predicted_edges):\n",
    "    p = [x[2] for x in predicted_edges]\n",
    "    plt.hist(p, bins=np.arange(0, max(p), 0.01), edgecolor='black', alpha=0.7)\n",
    "    plt.xlabel('Adamic-Adar Index')\n",
    "    plt.ylabel('Frequency')\n",
    "    plt.title('Histogram of Adamic-Adar Index for Predicted Edges')\n",
    "    plt.show()"
   ]
  },
  {
   "cell_type": "code",
   "execution_count": null,
   "metadata": {},
   "outputs": [],
   "source": [
    "# Plottare l'istogramma delle probabilità ottenute dall'indice Adamic-Adar\n",
    "plot_adamic_adar_histogram(link_prediction(user_movie_graph))"
   ]
  },
  {
   "cell_type": "code",
   "execution_count": null,
   "metadata": {},
   "outputs": [],
   "source": [
    "#print the length of the predicted edges\n",
    "print(len(link_prediction(user_movie_graph)))"
   ]
  },
  {
   "cell_type": "code",
   "execution_count": 66,
   "metadata": {},
   "outputs": [],
   "source": [
    "def add_predicted_links(graph: nx.Graph, predicted_edges, threshold: float):\n",
    "    extended_graph = graph.copy()\n",
    "    for u, v, p in predicted_edges:\n",
    "        if p > threshold:  # Considera solo le predizioni sopra una certa soglia\n",
    "            extended_graph.add_edge(u, v, weight=p)\n",
    "            print(f\"Added predicted edge: ({u}, {v}) with weight {p}\")  # Debug\n",
    "    return extended_graph"
   ]
  },
  {
   "cell_type": "code",
   "execution_count": 67,
   "metadata": {},
   "outputs": [
    {
     "ename": "KeyboardInterrupt",
     "evalue": "",
     "output_type": "error",
     "traceback": [
      "\u001b[1;31m---------------------------------------------------------------------------\u001b[0m",
      "\u001b[1;31mKeyboardInterrupt\u001b[0m                         Traceback (most recent call last)",
      "Cell \u001b[1;32mIn[67], line 2\u001b[0m\n\u001b[0;32m      1\u001b[0m \u001b[38;5;66;03m# Apply Link Prediction to the movie-movie graph\u001b[39;00m\n\u001b[1;32m----> 2\u001b[0m add_predicted_links(movie_movie_graph, link_prediction(movie_movie_graph), \u001b[38;5;241m0.5\u001b[39m)\n",
      "Cell \u001b[1;32mIn[59], line 4\u001b[0m, in \u001b[0;36mlink_prediction\u001b[1;34m(graph)\u001b[0m\n\u001b[0;32m      2\u001b[0m \u001b[38;5;28;01mdef\u001b[39;00m \u001b[38;5;21mlink_prediction\u001b[39m(graph: nx\u001b[38;5;241m.\u001b[39mGraph):\n\u001b[0;32m      3\u001b[0m     predicted_edges \u001b[38;5;241m=\u001b[39m []\n\u001b[1;32m----> 4\u001b[0m     \u001b[38;5;28;01mfor\u001b[39;00m u, v, p \u001b[38;5;129;01min\u001b[39;00m nx\u001b[38;5;241m.\u001b[39madamic_adar_index(graph):\n\u001b[0;32m      5\u001b[0m         predicted_edges\u001b[38;5;241m.\u001b[39mappend((u, v, p))\n\u001b[0;32m      6\u001b[0m     \u001b[38;5;28;01mreturn\u001b[39;00m predicted_edges\n",
      "File \u001b[1;32mc:\\Users\\aury1\\anaconda3\\Lib\\site-packages\\networkx\\algorithms\\link_prediction.py:40\u001b[0m, in \u001b[0;36m<genexpr>\u001b[1;34m(.0)\u001b[0m\n\u001b[0;32m     38\u001b[0m \u001b[38;5;28;01mif\u001b[39;00m ebunch \u001b[38;5;129;01mis\u001b[39;00m \u001b[38;5;28;01mNone\u001b[39;00m:\n\u001b[0;32m     39\u001b[0m     ebunch \u001b[38;5;241m=\u001b[39m nx\u001b[38;5;241m.\u001b[39mnon_edges(G)\n\u001b[1;32m---> 40\u001b[0m \u001b[38;5;28;01mreturn\u001b[39;00m ((u, v, func(u, v)) \u001b[38;5;28;01mfor\u001b[39;00m u, v \u001b[38;5;129;01min\u001b[39;00m ebunch)\n",
      "File \u001b[1;32mc:\\Users\\aury1\\anaconda3\\Lib\\site-packages\\networkx\\algorithms\\link_prediction.py:204\u001b[0m, in \u001b[0;36madamic_adar_index.<locals>.predict\u001b[1;34m(u, v)\u001b[0m\n\u001b[0;32m    203\u001b[0m \u001b[38;5;28;01mdef\u001b[39;00m \u001b[38;5;21mpredict\u001b[39m(u, v):\n\u001b[1;32m--> 204\u001b[0m     \u001b[38;5;28;01mreturn\u001b[39;00m \u001b[38;5;28msum\u001b[39m(\u001b[38;5;241m1\u001b[39m \u001b[38;5;241m/\u001b[39m log(G\u001b[38;5;241m.\u001b[39mdegree(w)) \u001b[38;5;28;01mfor\u001b[39;00m w \u001b[38;5;129;01min\u001b[39;00m nx\u001b[38;5;241m.\u001b[39mcommon_neighbors(G, u, v))\n",
      "File \u001b[1;32mc:\\Users\\aury1\\anaconda3\\Lib\\site-packages\\networkx\\algorithms\\link_prediction.py:204\u001b[0m, in \u001b[0;36m<genexpr>\u001b[1;34m(.0)\u001b[0m\n\u001b[0;32m    203\u001b[0m \u001b[38;5;28;01mdef\u001b[39;00m \u001b[38;5;21mpredict\u001b[39m(u, v):\n\u001b[1;32m--> 204\u001b[0m     \u001b[38;5;28;01mreturn\u001b[39;00m \u001b[38;5;28msum\u001b[39m(\u001b[38;5;241m1\u001b[39m \u001b[38;5;241m/\u001b[39m log(G\u001b[38;5;241m.\u001b[39mdegree(w)) \u001b[38;5;28;01mfor\u001b[39;00m w \u001b[38;5;129;01min\u001b[39;00m nx\u001b[38;5;241m.\u001b[39mcommon_neighbors(G, u, v))\n",
      "File \u001b[1;32mc:\\Users\\aury1\\anaconda3\\Lib\\site-packages\\networkx\\classes\\function.py:953\u001b[0m, in \u001b[0;36m<genexpr>\u001b[1;34m(.0)\u001b[0m\n\u001b[0;32m    949\u001b[0m     \u001b[38;5;28;01mraise\u001b[39;00m nx\u001b[38;5;241m.\u001b[39mNetworkXError(\u001b[38;5;124m\"\u001b[39m\u001b[38;5;124mv is not in the graph.\u001b[39m\u001b[38;5;124m\"\u001b[39m)\n\u001b[0;32m    951\u001b[0m \u001b[38;5;66;03m# Return a generator explicitly instead of yielding so that the above\u001b[39;00m\n\u001b[0;32m    952\u001b[0m \u001b[38;5;66;03m# checks are executed eagerly.\u001b[39;00m\n\u001b[1;32m--> 953\u001b[0m \u001b[38;5;28;01mreturn\u001b[39;00m (w \u001b[38;5;28;01mfor\u001b[39;00m w \u001b[38;5;129;01min\u001b[39;00m G[u] \u001b[38;5;28;01mif\u001b[39;00m w \u001b[38;5;129;01min\u001b[39;00m G[v] \u001b[38;5;129;01mand\u001b[39;00m w \u001b[38;5;129;01mnot\u001b[39;00m \u001b[38;5;129;01min\u001b[39;00m (u, v))\n",
      "File \u001b[1;32mc:\\Users\\aury1\\anaconda3\\Lib\\site-packages\\networkx\\classes\\graph.py:489\u001b[0m, in \u001b[0;36mGraph.__getitem__\u001b[1;34m(self, n)\u001b[0m\n\u001b[0;32m    468\u001b[0m \u001b[38;5;250m    \u001b[39m\u001b[38;5;124;03m\"\"\"Returns the number of nodes in the graph. Use: 'len(G)'.\u001b[39;00m\n\u001b[0;32m    469\u001b[0m \n\u001b[0;32m    470\u001b[0m \u001b[38;5;124;03m    Returns\u001b[39;00m\n\u001b[1;32m   (...)\u001b[0m\n\u001b[0;32m    485\u001b[0m \n\u001b[0;32m    486\u001b[0m \u001b[38;5;124;03m    \"\"\"\u001b[39;00m\n\u001b[0;32m    487\u001b[0m     \u001b[38;5;28;01mreturn\u001b[39;00m \u001b[38;5;28mlen\u001b[39m(\u001b[38;5;28mself\u001b[39m\u001b[38;5;241m.\u001b[39m_node)\n\u001b[1;32m--> 489\u001b[0m \u001b[38;5;28;01mdef\u001b[39;00m \u001b[38;5;21m__getitem__\u001b[39m(\u001b[38;5;28mself\u001b[39m, n):\n\u001b[0;32m    490\u001b[0m \u001b[38;5;250m    \u001b[39m\u001b[38;5;124;03m\"\"\"Returns a dict of neighbors of node n.  Use: 'G[n]'.\u001b[39;00m\n\u001b[0;32m    491\u001b[0m \n\u001b[0;32m    492\u001b[0m \u001b[38;5;124;03m    Parameters\u001b[39;00m\n\u001b[1;32m   (...)\u001b[0m\n\u001b[0;32m    511\u001b[0m \u001b[38;5;124;03m    AtlasView({1: {}})\u001b[39;00m\n\u001b[0;32m    512\u001b[0m \u001b[38;5;124;03m    \"\"\"\u001b[39;00m\n\u001b[0;32m    513\u001b[0m     \u001b[38;5;28;01mreturn\u001b[39;00m \u001b[38;5;28mself\u001b[39m\u001b[38;5;241m.\u001b[39madj[n]\n",
      "\u001b[1;31mKeyboardInterrupt\u001b[0m: "
     ]
    }
   ],
   "source": [
    "# Apply Link Prediction to the movie-movie graph\n",
    "add_predicted_links(movie_movie_graph, link_prediction(movie_movie_graph), 0.5)"
   ]
  },
  {
   "cell_type": "markdown",
   "metadata": {},
   "source": [
    "**Prediction**"
   ]
  },
  {
   "cell_type": "code",
   "execution_count": null,
   "metadata": {},
   "outputs": [],
   "source": [
    "# Now, calculate the PageRank on the updated graph\n",
    "user = 10\n",
    "s_t = predict_user(user, user_movie_graph, movie_movie_graph)\n",
    "print(f\"Predicted movies for user {user}: {s_t[:10]}\")"
   ]
  }
 ],
 "metadata": {
  "kernelspec": {
   "display_name": "Python 3 (ipykernel)",
   "language": "python",
   "name": "python3"
  },
  "language_info": {
   "codemirror_mode": {
    "name": "ipython",
    "version": 3
   },
   "file_extension": ".py",
   "mimetype": "text/x-python",
   "name": "python",
   "nbconvert_exporter": "python",
   "pygments_lexer": "ipython3",
   "version": "3.11.5"
  }
 },
 "nbformat": 4,
 "nbformat_minor": 2
}
