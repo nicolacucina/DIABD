{
 "cells": [
  {
   "cell_type": "markdown",
   "metadata": {},
   "source": [
    "Implementazione di https://medium.com/eni-digitalks/a-simple-recommender-system-using-pagerank-4a63071c8cbf\n",
    "\n",
    "Da: https://grouplens.org/datasets/movielens/ scaricare [ml-latest-small.zip](https://files.grouplens.org/datasets/movielens/ml-latest-small.zip)\n",
    "\n",
    "## recommended for education and development\n",
    " \n",
    "### MovieLens Latest Datasets\n",
    "\n",
    "These datasets will change over time, and are not appropriate for reporting research results. We will keep the download links stable for automated downloads. We will not archive or make available previously released versions.\n",
    "\n",
    "_Small_: 100,000 ratings and 3,600 tag applications applied to 9,000 movies by 600 users. Last updated 9/2018.\n",
    "\n",
    "    README.html\n",
    "[ml-latest-small.zip](https://files.grouplens.org/datasets/movielens/ml-latest-small.zip) (size: 1 MB)\n",
    "\n",
    "_Full_: approximately 33,000,000 ratings and 2,000,000 tag applications applied to 86,000 movies by 330,975 users. Includes tag genome data with 14 million relevance scores across 1,100 tags. Last updated 9/2018.\n",
    "\n",
    "    README.html\n",
    "[ml-latest.zip](https://files.grouplens.org/datasets/movielens/ml-latest.zip) (size: 335 MB) \n",
    "\n",
    "Permalink: https://grouplens.org/datasets/movielens/latest/"
   ]
  },
  {
   "cell_type": "code",
   "execution_count": null,
   "metadata": {},
   "outputs": [],
   "source": [
    "#pip install pandas"
   ]
  },
  {
   "cell_type": "code",
   "execution_count": 19,
   "metadata": {},
   "outputs": [
    {
     "name": "stdout",
     "output_type": "stream",
     "text": [
      "--- 22.76940155029297 seconds ---\n"
     ]
    }
   ],
   "source": [
    "import pandas as pd\n",
    "import time\n",
    "\n",
    "start_time = time.time()\n",
    "#ratings = pd.read_csv(\"../ml-latest-small/ratings.csv\")\n",
    "ratings = pd.read_csv(\"../../movieBigDataset/ratings.csv\")\n",
    "print(\"--- %s seconds ---\" % (time.time() - start_time))"
   ]
  },
  {
   "cell_type": "code",
   "execution_count": 20,
   "metadata": {},
   "outputs": [],
   "source": [
    "#movies = pd.read_csv(\"../ml-latest-small/movies.csv\")\n",
    "movies = pd.read_csv(\"../../movieBigDataset/movies.csv\")"
   ]
  },
  {
   "cell_type": "code",
   "execution_count": 21,
   "metadata": {},
   "outputs": [],
   "source": [
    "user_movie_matrix = pd.merge(ratings, movies, on=\"movieId\", how=\"inner\")"
   ]
  },
  {
   "cell_type": "code",
   "execution_count": 22,
   "metadata": {},
   "outputs": [
    {
     "data": {
      "text/html": [
       "<div>\n",
       "<style scoped>\n",
       "    .dataframe tbody tr th:only-of-type {\n",
       "        vertical-align: middle;\n",
       "    }\n",
       "\n",
       "    .dataframe tbody tr th {\n",
       "        vertical-align: top;\n",
       "    }\n",
       "\n",
       "    .dataframe thead th {\n",
       "        text-align: right;\n",
       "    }\n",
       "</style>\n",
       "<table border=\"1\" class=\"dataframe\">\n",
       "  <thead>\n",
       "    <tr style=\"text-align: right;\">\n",
       "      <th></th>\n",
       "      <th>userId</th>\n",
       "      <th>movieId</th>\n",
       "      <th>rating</th>\n",
       "      <th>timestamp</th>\n",
       "      <th>title</th>\n",
       "      <th>genres</th>\n",
       "    </tr>\n",
       "  </thead>\n",
       "  <tbody>\n",
       "    <tr>\n",
       "      <th>0</th>\n",
       "      <td>1</td>\n",
       "      <td>1</td>\n",
       "      <td>4.0</td>\n",
       "      <td>1225734739</td>\n",
       "      <td>Toy Story (1995)</td>\n",
       "      <td>Adventure|Animation|Children|Comedy|Fantasy</td>\n",
       "    </tr>\n",
       "    <tr>\n",
       "      <th>1</th>\n",
       "      <td>1</td>\n",
       "      <td>110</td>\n",
       "      <td>4.0</td>\n",
       "      <td>1225865086</td>\n",
       "      <td>Braveheart (1995)</td>\n",
       "      <td>Action|Drama|War</td>\n",
       "    </tr>\n",
       "    <tr>\n",
       "      <th>2</th>\n",
       "      <td>1</td>\n",
       "      <td>158</td>\n",
       "      <td>4.0</td>\n",
       "      <td>1225733503</td>\n",
       "      <td>Casper (1995)</td>\n",
       "      <td>Adventure|Children</td>\n",
       "    </tr>\n",
       "    <tr>\n",
       "      <th>3</th>\n",
       "      <td>1</td>\n",
       "      <td>260</td>\n",
       "      <td>4.5</td>\n",
       "      <td>1225735204</td>\n",
       "      <td>Star Wars: Episode IV - A New Hope (1977)</td>\n",
       "      <td>Action|Adventure|Sci-Fi</td>\n",
       "    </tr>\n",
       "    <tr>\n",
       "      <th>4</th>\n",
       "      <td>1</td>\n",
       "      <td>356</td>\n",
       "      <td>5.0</td>\n",
       "      <td>1225735119</td>\n",
       "      <td>Forrest Gump (1994)</td>\n",
       "      <td>Comedy|Drama|Romance|War</td>\n",
       "    </tr>\n",
       "  </tbody>\n",
       "</table>\n",
       "</div>"
      ],
      "text/plain": [
       "   userId  movieId  rating   timestamp  \\\n",
       "0       1        1     4.0  1225734739   \n",
       "1       1      110     4.0  1225865086   \n",
       "2       1      158     4.0  1225733503   \n",
       "3       1      260     4.5  1225735204   \n",
       "4       1      356     5.0  1225735119   \n",
       "\n",
       "                                       title  \\\n",
       "0                           Toy Story (1995)   \n",
       "1                          Braveheart (1995)   \n",
       "2                              Casper (1995)   \n",
       "3  Star Wars: Episode IV - A New Hope (1977)   \n",
       "4                        Forrest Gump (1994)   \n",
       "\n",
       "                                        genres  \n",
       "0  Adventure|Animation|Children|Comedy|Fantasy  \n",
       "1                             Action|Drama|War  \n",
       "2                           Adventure|Children  \n",
       "3                      Action|Adventure|Sci-Fi  \n",
       "4                     Comedy|Drama|Romance|War  "
      ]
     },
     "execution_count": 22,
     "metadata": {},
     "output_type": "execute_result"
    }
   ],
   "source": [
    "user_movie_matrix.head()"
   ]
  },
  {
   "cell_type": "code",
   "execution_count": 5,
   "metadata": {},
   "outputs": [
    {
     "name": "stdout",
     "output_type": "stream",
     "text": [
      "[4.  5.  3.  2.  1.  4.5 3.5 2.5 0.5 1.5]\n"
     ]
    }
   ],
   "source": [
    "print(user_movie_matrix[\"rating\"].unique())"
   ]
  },
  {
   "cell_type": "code",
   "execution_count": 23,
   "metadata": {},
   "outputs": [],
   "source": [
    "mapping_score = {\n",
    "    0.5:-1.2,\n",
    "    1:-1.1,\n",
    "    1.5:-1,\n",
    "    2:-0.5,\n",
    "    2.5:-0.1,\n",
    "    3:0.1,\n",
    "    3.5:0.5,\n",
    "    4:1,\n",
    "    4.5:1.1,\n",
    "    5:1.2\n",
    "}"
   ]
  },
  {
   "cell_type": "markdown",
   "metadata": {},
   "source": [
    "Basandoci sulle ratings presenti nel dataset vado a proiettare il grafo movie_movie che mi consente di trovare la similarità tra i film. Il vettore di mappaggio è scelto arbitrariamente e serve a decidere quanto pesano le varie ratings."
   ]
  },
  {
   "cell_type": "code",
   "execution_count": 13,
   "metadata": {},
   "outputs": [
    {
     "name": "stdout",
     "output_type": "stream",
     "text": [
      "Requirement already satisfied: networkx in /home/master/test/lib/python3.11/site-packages (3.4.2)\n",
      "Note: you may need to restart the kernel to use updated packages.\n"
     ]
    }
   ],
   "source": [
    "#pip install networkx"
   ]
  },
  {
   "cell_type": "code",
   "execution_count": null,
   "metadata": {},
   "outputs": [],
   "source": [
    "import networkx as nx\n",
    "\n",
    "user_movie_graph = nx.Graph()\n",
    "\n",
    "start_time = time.time()\n",
    "for _, row in user_movie_matrix.iterrows():\n",
    "    user_movie_graph.add_node(row[\"userId\"], bipartite=0)\n",
    "    user_movie_graph.add_node(row[\"title\"], bipartite=1, genre=row[\"genres\"], movieId=row[\"movieId\"])\n",
    "    user_movie_graph.add_edge(row[\"userId\"], row[\"title\"], weight=mapping_score[row[\"rating\"]])\n",
    "print(\"--- %s seconds ---\" % (time.time() - start_time))"
   ]
  },
  {
   "cell_type": "code",
   "execution_count": 8,
   "metadata": {},
   "outputs": [
    {
     "name": "stdout",
     "output_type": "stream",
     "text": [
      "Nodes in the graph: [(1, {'bipartite': 0}), ('Toy Story (1995)', {'bipartite': 1, 'genre': 'Adventure|Animation|Children|Comedy|Fantasy', 'movieId': 1}), ('Grumpier Old Men (1995)', {'bipartite': 1, 'genre': 'Comedy|Romance', 'movieId': 3}), ('Heat (1995)', {'bipartite': 1, 'genre': 'Action|Crime|Thriller', 'movieId': 6}), ('Seven (a.k.a. Se7en) (1995)', {'bipartite': 1, 'genre': 'Mystery|Thriller', 'movieId': 47}), ('Usual Suspects, The (1995)', {'bipartite': 1, 'genre': 'Crime|Mystery|Thriller', 'movieId': 50}), ('From Dusk Till Dawn (1996)', {'bipartite': 1, 'genre': 'Action|Comedy|Horror|Thriller', 'movieId': 70}), ('Bottle Rocket (1996)', {'bipartite': 1, 'genre': 'Adventure|Comedy|Crime|Romance', 'movieId': 101}), ('Braveheart (1995)', {'bipartite': 1, 'genre': 'Action|Drama|War', 'movieId': 110}), ('Rob Roy (1995)', {'bipartite': 1, 'genre': 'Action|Drama|Romance|War', 'movieId': 151})]\n"
     ]
    }
   ],
   "source": [
    "print(f\"Nodes in the graph: {list(user_movie_graph.nodes(data=True))[:10]}\")"
   ]
  },
  {
   "cell_type": "code",
   "execution_count": 9,
   "metadata": {},
   "outputs": [
    {
     "name": "stdout",
     "output_type": "stream",
     "text": [
      "Edges in the graph: [(1, 'Toy Story (1995)', {'weight': 1}), (1, 'Grumpier Old Men (1995)', {'weight': 1}), (1, 'Heat (1995)', {'weight': 1}), (1, 'Seven (a.k.a. Se7en) (1995)', {'weight': 1.2}), (1, 'Usual Suspects, The (1995)', {'weight': 1.2}), (1, 'From Dusk Till Dawn (1996)', {'weight': 0.1}), (1, 'Bottle Rocket (1996)', {'weight': 1.2}), (1, 'Braveheart (1995)', {'weight': 1}), (1, 'Rob Roy (1995)', {'weight': 1.2}), (1, 'Canadian Bacon (1995)', {'weight': 1.2})]\n"
     ]
    }
   ],
   "source": [
    "print(f\"Edges in the graph: {list(user_movie_graph.edges(data=True))[:10]}\")"
   ]
  },
  {
   "cell_type": "code",
   "execution_count": 13,
   "metadata": {},
   "outputs": [
    {
     "name": "stdout",
     "output_type": "stream",
     "text": [
      "1\n"
     ]
    }
   ],
   "source": [
    "print(list(user_movie_graph.edges(data=True))[0][2]['weight'])"
   ]
  },
  {
   "cell_type": "code",
   "execution_count": 10,
   "metadata": {},
   "outputs": [
    {
     "name": "stdout",
     "output_type": "stream",
     "text": [
      "Edge memory: 5.385009765625 MB\n",
      "Node memory: 0.7169580459594727 MB\n",
      "Total memory: 6.101967811584473 MB\n"
     ]
    }
   ],
   "source": [
    "# Check memory consumption\n",
    "import sys\n",
    "\n",
    "edge_mem = sum([sys.getsizeof(e) for e in user_movie_graph.edges])\n",
    "node_mem = sum([sys.getsizeof(n) for n in user_movie_graph.nodes])\n",
    "\n",
    "print(\"Edge memory:\", edge_mem / (1024**2),\"MB\")\n",
    "print(\"Node memory:\", node_mem / (1024**2),\"MB\")\n",
    "print(\"Total memory:\", (edge_mem + node_mem) / (1024**2), \"MB\")"
   ]
  },
  {
   "cell_type": "code",
   "execution_count": 11,
   "metadata": {},
   "outputs": [
    {
     "name": "stdout",
     "output_type": "stream",
     "text": [
      "Users: [1, 2, 3, 4, 5, 6, 7, 8, 9, 10]\n",
      "Number of users: 610\n"
     ]
    }
   ],
   "source": [
    "users = {n for n, d in user_movie_graph.nodes(data=True) if d[\"bipartite\"] == 0}\n",
    "print(f\"Users: {list(users)[:10]}\")\n",
    "print(f\"Number of users: {len(users)}\")"
   ]
  },
  {
   "cell_type": "code",
   "execution_count": 14,
   "metadata": {},
   "outputs": [
    {
     "name": "stdout",
     "output_type": "stream",
     "text": [
      "Movies: ['Just Jim (2015)', 'Opera (1987)', '00 Schneider - Jagd auf Nihil Baxter (1994)', 'Daredevil (2003)', 'Dreamgirls (2006)', 'Black Rain (1989)', 'Sapphire Blue (2014)', 'Howling, The (1980)', 'Hoosiers (a.k.a. Best Shot) (1986)', 'Psycho II (1983)']\n",
      "Number of movies: 9719\n"
     ]
    }
   ],
   "source": [
    "movies = {n for n, d in user_movie_graph.nodes(data=True) if d[\"bipartite\"] == 1}\n",
    "print(f\"Movies: {list(movies)[:10]}\")\n",
    "print(f\"Number of movies: {len(movies)}\")"
   ]
  },
  {
   "cell_type": "code",
   "execution_count": 13,
   "metadata": {},
   "outputs": [
    {
     "name": "stdout",
     "output_type": "stream",
     "text": [
      "True\n",
      "True\n"
     ]
    }
   ],
   "source": [
    "print(nx.is_bipartite(user_movie_graph))\n",
    "print(nx.is_connected(user_movie_graph))"
   ]
  },
  {
   "cell_type": "code",
   "execution_count": 15,
   "metadata": {},
   "outputs": [
    {
     "name": "stdout",
     "output_type": "stream",
     "text": [
      "--- 113.58181571960449 seconds ---\n"
     ]
    }
   ],
   "source": [
    "# Project the graph using weights\n",
    "\n",
    "start_time = time.time()\n",
    "movie_movie_graph = nx.bipartite.weighted_projected_graph(user_movie_graph, movies)\n",
    "print(\"--- %s seconds ---\" % (time.time() - start_time))"
   ]
  },
  {
   "cell_type": "code",
   "execution_count": 15,
   "metadata": {},
   "outputs": [
    {
     "name": "stdout",
     "output_type": "stream",
     "text": [
      "9719\n",
      "Nodes in movie_movie_graph: [('Upstream Color (2013)', {'bipartite': 1, 'genre': 'Romance|Sci-Fi|Thriller', 'movieId': 99917}), ('Mansfield Park (1999)', {'bipartite': 1, 'genre': 'Comedy|Drama|Romance', 'movieId': 3079}), ('We Own the Night (2007)', {'bipartite': 1, 'genre': 'Crime|Drama', 'movieId': 55272}), ('Last Life in the Universe (Ruang rak noi nid mahasan) (2003)', {'bipartite': 1, 'genre': 'Drama|Romance', 'movieId': 27722}), ('Mr Hublot (2013)', {'bipartite': 1, 'genre': 'Animation|Comedy', 'movieId': 115819}), ('Lion (2016)', {'bipartite': 1, 'genre': 'Drama', 'movieId': 165551}), ('T2 3-D: Battle Across Time (1996)', {'bipartite': 1, 'genre': '(no genres listed)', 'movieId': 172497}), ('Higher Learning (1995)', {'bipartite': 1, 'genre': 'Drama', 'movieId': 358}), ('Baby Mama (2008)', {'bipartite': 1, 'genre': 'Comedy', 'movieId': 59258}), ('Beverly Hills Cop II (1987)', {'bipartite': 1, 'genre': 'Action|Comedy|Crime|Thriller', 'movieId': 4084})]\n"
     ]
    }
   ],
   "source": [
    "print(len(movie_movie_graph.nodes()))\n",
    "print(f\"Nodes in movie_movie_graph: {list(movie_movie_graph.nodes(data=True))[:10]}\")"
   ]
  },
  {
   "cell_type": "code",
   "execution_count": 16,
   "metadata": {},
   "outputs": [
    {
     "name": "stdout",
     "output_type": "stream",
     "text": [
      "13154589\n",
      "Edges in movie_movie_graph: [('Upstream Color (2013)', 'Kiss of the Dragon (2001)', {'weight': 2}), ('Upstream Color (2013)', \"National Lampoon's Van Wilder (2002)\", {'weight': 2}), ('Upstream Color (2013)', 'Last Life in the Universe (Ruang rak noi nid mahasan) (2003)', {'weight': 2}), ('Upstream Color (2013)', 'Mondo Cane (1962)', {'weight': 1}), ('Upstream Color (2013)', 'Treasure Island (2012)', {'weight': 1}), ('Upstream Color (2013)', 'Mr Hublot (2013)', {'weight': 1}), ('Upstream Color (2013)', 'Next Karate Kid, The (1994)', {'weight': 1}), ('Upstream Color (2013)', 'River Runs Through It, A (1992)', {'weight': 1}), ('Upstream Color (2013)', \"Big Momma's House (2000)\", {'weight': 1}), ('Upstream Color (2013)', 'Transcendence (2014)', {'weight': 1})]\n"
     ]
    }
   ],
   "source": [
    "print(len(movie_movie_graph.edges()))\n",
    "print(f\"Edges in movie_movie_graph: {list(movie_movie_graph.edges(data=True))[:10]}\")"
   ]
  },
  {
   "cell_type": "code",
   "execution_count": 17,
   "metadata": {},
   "outputs": [
    {
     "name": "stdout",
     "output_type": "stream",
     "text": [
      "Edge memory: 702.5308456420898 MB\n",
      "Node memory: 0.7006692886352539 MB\n",
      "Total memory: 703.2315149307251 MB\n"
     ]
    }
   ],
   "source": [
    "# Check memory consumption\n",
    "edge_mem = sum([sys.getsizeof(e) for e in movie_movie_graph.edges])\n",
    "node_mem = sum([sys.getsizeof(n) for n in movie_movie_graph.nodes])\n",
    "\n",
    "print(\"Edge memory:\", edge_mem / (1024**2),\"MB\")\n",
    "print(\"Node memory:\", node_mem / (1024**2),\"MB\")\n",
    "print(\"Total memory:\", (edge_mem + node_mem) / (1024**2), \"MB\")"
   ]
  },
  {
   "cell_type": "code",
   "execution_count": 18,
   "metadata": {},
   "outputs": [
    {
     "name": "stdout",
     "output_type": "stream",
     "text": [
      "True\n"
     ]
    }
   ],
   "source": [
    "print(nx.is_connected(movie_movie_graph))"
   ]
  },
  {
   "cell_type": "code",
   "execution_count": 18,
   "metadata": {},
   "outputs": [
    {
     "name": "stdout",
     "output_type": "stream",
     "text": [
      "('Just Jim (2015)', 'Toys (1992)', {'weight': 1})\n"
     ]
    }
   ],
   "source": [
    "print([0])"
   ]
  },
  {
   "cell_type": "code",
   "execution_count": null,
   "metadata": {},
   "outputs": [],
   "source": [
    "dct = {}\n",
    "for e in list(list(movie_movie_graph.edges(data=True)).edges):\n",
    "    dict[e[2]['weight']] += 1"
   ]
  },
  {
   "cell_type": "code",
   "execution_count": null,
   "metadata": {},
   "outputs": [],
   "source": []
  },
  {
   "cell_type": "code",
   "execution_count": 20,
   "metadata": {},
   "outputs": [
    {
     "name": "stdout",
     "output_type": "stream",
     "text": [
      "Collecting neo4j\n",
      "  Downloading neo4j-5.27.0-py3-none-any.whl.metadata (5.9 kB)\n",
      "Requirement already satisfied: pytz in /home/master/test/lib/python3.11/site-packages (from neo4j) (2024.2)\n",
      "Downloading neo4j-5.27.0-py3-none-any.whl (301 kB)\n",
      "Installing collected packages: neo4j\n",
      "Successfully installed neo4j-5.27.0\n",
      "Note: you may need to restart the kernel to use updated packages.\n"
     ]
    }
   ],
   "source": [
    "#pip install neo4j"
   ]
  },
  {
   "cell_type": "code",
   "execution_count": 9,
   "metadata": {},
   "outputs": [],
   "source": [
    "# Connect to Neo4j\n",
    "from neo4j import GraphDatabase\n",
    "\n",
    "uri = \"neo4j://localhost:7687\"\n",
    "username = \"neo4j\"\n",
    "password = \"testtest\"\n",
    "\n",
    "driver = GraphDatabase.driver(uri, auth=(username, password))"
   ]
  },
  {
   "cell_type": "code",
   "execution_count": 34,
   "metadata": {},
   "outputs": [],
   "source": [
    "upload = False"
   ]
  },
  {
   "cell_type": "code",
   "execution_count": 32,
   "metadata": {},
   "outputs": [],
   "source": [
    "# Delete all nodes and relationships from Neo4j\n",
    "if upload:\n",
    "    def delete_all(tx):\n",
    "        tx.run(\"MATCH ()-[r]->() DELETE r\")\n",
    "        tx.run(\"MATCH (n) DELETE n\")\n",
    "            \n",
    "    with driver.session() as session:\n",
    "        session.execute_write(delete_all)"
   ]
  },
  {
   "cell_type": "code",
   "execution_count": 33,
   "metadata": {},
   "outputs": [
    {
     "name": "stdout",
     "output_type": "stream",
     "text": [
      "--- 1773.1200823783875 seconds ---\n"
     ]
    }
   ],
   "source": [
    "# Save the user_movie_graph in Neo4j\n",
    "\n",
    "if upload:\n",
    "    def create_nodes_and_relationships(tx, userId, movieId, rating, title, genres):\n",
    "        tx.run(\"MERGE (u:User {userId: $userId}) \"\n",
    "            \"MERGE (m:Movie {movieId: $movieId, title: $title}) \"\n",
    "            \"MERGE (u)-[:RATED {rating: $rating}]->(m)\",\n",
    "            userId=userId, movieId=movieId, rating=rating, title=title)\n",
    "    \n",
    "    start_time = time.time()\n",
    "    with driver.session() as session:\n",
    "        for _, row in user_movie_matrix.iterrows():\n",
    "            session.execute_write(create_nodes_and_relationships, row[\"userId\"], row[\"movieId\"], row[\"rating\"], row[\"title\"], row[\"genres\"])\n",
    "    print(\"--- %s seconds ---\" % (time.time() - start_time))"
   ]
  },
  {
   "cell_type": "code",
   "execution_count": null,
   "metadata": {},
   "outputs": [],
   "source": [
    "upload_movie_movie_graph = False"
   ]
  },
  {
   "cell_type": "code",
   "execution_count": 18,
   "metadata": {},
   "outputs": [],
   "source": [
    "# Save the movie_movie_graph in Neo4j\n",
    "\n",
    "if upload_movie_movie_graph:\n",
    "    def create_movie_movie_relationships(tx, movie1, movie2, weight):\n",
    "        tx.run(\"MATCH (m1:Movie {title: $movie1}) \"\n",
    "            \"MATCH (m2:Movie {title: $movie2}) \"\n",
    "            \"MERGE (m1)-[:SIMILAR {weight: $weight}]->(m2)\",\n",
    "            movie1=movie1, movie2=movie2, weight=weight)\n",
    "        \n",
    "    with driver.session() as session:\n",
    "        for movie1, movie2, weight in movie_movie_graph.edges(data=True):\n",
    "            session.execute_write(create_movie_movie_relationships, movie1, movie2, weight[\"weight\"])"
   ]
  },
  {
   "cell_type": "markdown",
   "metadata": {},
   "source": [
    "L'idea era caricare on demand il grafo dal database se questo ci poteva aiutare con le performances, ma non è più un approccio che stiamo seguendo"
   ]
  },
  {
   "cell_type": "markdown",
   "metadata": {},
   "source": [
    "PageRank misura l'_importanza_ di una pagina web sulla base del numero di link entranti, mentre i link uscenti _distribuiscono_ quella stessa importanza alle pagine raggiunte.\n",
    "\n",
    "Se il grafo è rappresentato tramite _matrice di adiacenza_, $L_{ij} = 1$ se esiste un link che permette di passare dalla pagina _j_ alla pagina _i_, $j \\rightarrow i$, altrimenti $L_{ij} = 0$.\n",
    "Se $m_{j} = \\sum_{k=1}^{n} L_{kj}$ è il numero di pagine che vengono linkate da _j_, un possibile valore di PageRank, _BrokenRank_, per la pagina _i_ è:\n",
    "\n",
    "$p_{i} = \\sum_{j \\rightarrow i} \\frac{p_{j}}{m_{j}} = \\sum_{j=1}^{n} \\frac{L_{ij}}{m_{j}}p_{j}$\n",
    "\n",
    "In notazione matriciale:\n",
    "\n",
    "$p=\\begin{bmatrix}\n",
    "    p_{1} \\\\\n",
    "    p_{2} \\\\\n",
    "    \\vdots \\\\\n",
    "    p_{n} \\\\\n",
    "\\end{bmatrix},\n",
    "L=\\begin{bmatrix}\n",
    "    L_{11} && L_{12} && \\dots && L_{1n} \\\\\n",
    "    L_{21} && L_{22} && \\dots && L_{2n} \\\\\n",
    "    \\vdots && \\vdots && \\ddots && \\vdots \\\\\n",
    "    L_{n1} && L_{n2} && \\dots && L_{nn} \\\\\n",
    "\\end{bmatrix},\n",
    "M=\\begin{bmatrix}\n",
    "    m_{1} && 0 && \\dots && 0 \\\\\n",
    "    0 && m_{2} && \\dots && 0 \\\\\n",
    "    \\vdots && \\vdots && \\ddots && \\vdots \\\\\n",
    "    0 && 0 && \\dots && m_{n} \\\\\n",
    "\\end{bmatrix} \\implies p = LM^{-1}p = Ap$ \n",
    "\n",
    "Perciò _p_ è un autovettore della matrice _A_ con autovalore 1. Sfruttando algoritmi noti è possibile trovare gli autovalori della matrice  _A_ e nel caso in cui questa sia __sparsa__ si ottengono anche prestazioni migliori, dato l'alto numero di valori nulli che si possono ignorare."
   ]
  },
  {
   "cell_type": "markdown",
   "metadata": {},
   "source": [
    "Utilizzando le catene di Markov, posso rappresentare il processo di navigazione di un utente. Ho _n_ stati che definiscono una matrice di transizione di stato _P_ di dimensione $n \\times n$ dove $P_{ij} è la probabilità di andare dalla pagina _i_ alla pagina _j_.\n",
    "\n",
    "Se $p^{(0)}$ è il vettore con le probabilità iniziali, si vede come $p^{(1)} = P^{T}p^{(0)}$ è il vettore con tutte le probabilità di trovarsi in un certo stato _i_ dopo un singolo step.\n",
    "\n",
    "Sia $A^{T}$ la nostra matrice di transizione, con $(A^{T})_{ij} = L_{ij}/m_{i}$. La nostra catena di Markov diventa:\n",
    "\n",
    "$P_{ij} = \\begin{cases}\n",
    "    \\frac{1}{m_{i}} & \\text{if } i \\rightarrow j \\\\\n",
    "    0 & \\text{altrimenti}\n",
    "\\end{cases}$"
   ]
  },
  {
   "cell_type": "markdown",
   "metadata": {},
   "source": [
    "Una _distribuzione stazionaria_ per la catena di Markov è un vettore di probabilità _p_ con $p = Ap$, ovvero dopo uno step la distribuzione rimane invariata.\n",
    "Se la catena di Markov è _connessa_, ovvero ogni stato è raggiungibile da ogni altro, la distribuzione _p_ esiste ed è _unica_.\n",
    "\n",
    "Il problema è che non possiamo soddisfare queste ipotesi con il nostro grafo in quanto:\n",
    "- Non tutti gli utenti hanno visto tutti i film\n",
    "- Anche nei grafi di proiezione non è detto che tra ogni coppia di film esista un valore di similarità definito.\n",
    "\n",
    "Questo porterebbe a delle dei vettori _p_ ambigui."
   ]
  },
  {
   "cell_type": "markdown",
   "metadata": {},
   "source": [
    "Per questo PageRank è definito modificando BrokenRank:\n",
    "\n",
    "$p_{i} = \\frac{1-d}{n} + d(\\sum_{j=1}^{n} \\frac{L_{ij}}{m_{j}}p_{j})$, con $ 0 < d < 1$, che in notazione matriciale diventa:\n",
    "$p = (\\frac{1-d}{n}E + dLM^{-1})p$, s.t. $\\sum_{i=1}^{n} p_{i} = 1$, con _E_ matrice $n \\times n$ di soli 1\n",
    "\n",
    "Sia $ A = \\frac{1-d}{n}E + dLM^{-1}$ e si consideri la catena di Markov con matrice di transizione $A^{T}$ t.c. $(A^{T})_{ij} = (1 - d)/n + d L_{ij}/m_{i}$. La catena può essere descritta come:\n",
    "\n",
    "$P_{ij} = \\begin{cases}\n",
    "    (1 - d)/n + d / m_{i} & \\text{if } i \\rightarrow j \\\\\n",
    "    (1 - d)/n & \\text{altrimenti}\n",
    "\\end{cases}$, dove $(1 -d)/n$ è la probabilità di saltare verso una pagina non linkata. Questo risolve i problemi di connettività ed è ancora applicabile al nostro caso, in quanto è accettabile pensare che un utente, solito a vedere una certa categoria di film, provi a vedere un film totalmente al di fuori dei suoi standard.\n",
    "\n",
    "Sfruttando le proprietà della catena di markov definita inoltre, è possibile evitare i classici algoritmi di eigendecomposition di complessità $O(n^{3})$ utilizzando una qualsiasi distribuzione iniziale $p^{(0)}$ e calcolando\n",
    "- $p^{(1)} = Ap^{(0)}$\n",
    "- $p^{(2)} = Ap^{(1)}$\n",
    "- $\\vdots$\n",
    "- $p^{(t)} = Ap^{(t-1)}$\n",
    "\n",
    "Quando $t \\rightarrow \\inf$, $p^{(t)} \\rightarrow p$, perciò con un numero di iterazioni sufficientemente grande _t_ si ottiene una complessità $O(tn^{2}) = O(n^{2})$ per n grandi."
   ]
  },
  {
   "cell_type": "markdown",
   "metadata": {},
   "source": [
    "L'ultimo cambiamento introdotto è una generalizzazione della matrice A:\n",
    "\n",
    "$A^{T} = d(L^{T}D_{L}^{-1} + kg_{L}^{T}) + (1-d)ke^{T}$, dove L è la matrice di adiacenza, $D_{L}$ è la matrice diagonale contenente il grado uscente di ogni nodo, mentre $g_{L}^{T}$ contiene gli indici delle pagine che non hanno link uscenti.\n",
    "\n",
    "_k_ è il vettore di __personalizzazione__. Se tende ad una distribuzione uniforme fornisce un risultato simile al PageRank classico, mentre più il vettore è polarizzato, più l'algoritmo è portato a teleportarsi verso i nodi specificati.\n",
    "\n",
    "Nel nostro caso il vettore di personalizzazione dovrà tenere conto dei film visti dall'utente per dare più importanza a quel vicinato di film e polarizzare PageRank nel dare punteggi più alti a film simili a quelli già visti."
   ]
  },
  {
   "cell_type": "code",
   "execution_count": 9,
   "metadata": {},
   "outputs": [],
   "source": [
    "# 0: User, 1: Movie\n",
    "def filter_nodes(graph: nx.Graph, node_type: int):\n",
    "    return [n for n, d in graph.nodes(data=True) if d[\"bipartite\"] == node_type]"
   ]
  },
  {
   "cell_type": "code",
   "execution_count": 10,
   "metadata": {},
   "outputs": [],
   "source": [
    "def create_preference_vector_debug(user_id: int, user_movie_graph: nx.Graph):\n",
    "    edges = {m: v for _, m, v in user_movie_graph.edges(user_id, data=\"weight\")}\n",
    "    \n",
    "    print(f\"Edges for user {user_id}: {list(edges)[:10]}\")\n",
    "    print(f\"Number of edges for user {user_id}: {len(edges)}\")\n",
    "        \n",
    "    for k, v in edges.items():\n",
    "        print(k,v)\n",
    "\n",
    "    tot = sum(edges.values())\n",
    "    \n",
    "    print(f\"Total for user {user_id}: {tot}\")\n",
    "\n",
    "    if tot > 0:\n",
    "        return len(edges), {\n",
    "            movie: edges.get(movie, 0) / tot # get(key, default) : se la chiave non esiste ritorna il default\n",
    "            for movie in filter_nodes(user_movie_graph, 1) # 1 : Movie\n",
    "        }\n",
    "    else:\n",
    "        return len(edges), {\n",
    "            # movie: 1 for movie in filter_nodes(user_movie_graph, 1) # <- Penso che dovremmo metterci zero come peso in questo caso\n",
    "            movie: 1/len(movie) for movie in filter_nodes(user_movie_graph, 1) # \n",
    "        }"
   ]
  },
  {
   "cell_type": "markdown",
   "metadata": {},
   "source": [
    "Il vettore di personalizzazione assegna 0 a tutti i film non visti, mentre assegna valori normalizzati in base alla rating a tutti gli altri archi. Per come è stato costruito il vettore dei pesi delle ratings, al momento voti come 2, 2.5 e 3 vengono considerati allo stesso modo di film non visti"
   ]
  },
  {
   "cell_type": "code",
   "execution_count": 23,
   "metadata": {},
   "outputs": [
    {
     "name": "stdout",
     "output_type": "stream",
     "text": [
      "Edges for user 1: ['Toy Story (1995)', 'Grumpier Old Men (1995)', 'Heat (1995)', 'Seven (a.k.a. Se7en) (1995)', 'Usual Suspects, The (1995)', 'From Dusk Till Dawn (1996)', 'Bottle Rocket (1996)', 'Braveheart (1995)', 'Rob Roy (1995)', 'Canadian Bacon (1995)']\n",
      "Number of edges for user 1: 232\n",
      "Toy Story (1995) 1\n",
      "Grumpier Old Men (1995) 1\n",
      "Heat (1995) 1\n",
      "Seven (a.k.a. Se7en) (1995) 1.2\n",
      "Usual Suspects, The (1995) 1.2\n",
      "From Dusk Till Dawn (1996) 0.1\n",
      "Bottle Rocket (1996) 1.2\n",
      "Braveheart (1995) 1\n",
      "Rob Roy (1995) 1.2\n",
      "Canadian Bacon (1995) 1.2\n",
      "Desperado (1995) 1.2\n",
      "Billy Madison (1995) 1.2\n",
      "Clerks (1994) 0.1\n",
      "Dumb & Dumber (Dumb and Dumber) (1994) 1.2\n",
      "Ed Wood (1994) 1\n",
      "Star Wars: Episode IV - A New Hope (1977) 1.2\n",
      "Pulp Fiction (1994) 0.1\n",
      "Stargate (1994) 0.1\n",
      "Tommy Boy (1995) 1.2\n",
      "Clear and Present Danger (1994) 1\n",
      "Forrest Gump (1994) 1\n",
      "Jungle Book, The (1994) 1.2\n",
      "Mask, The (1994) 1\n",
      "Blown Away (1994) 0.1\n",
      "Dazed and Confused (1993) 1\n",
      "Fugitive, The (1993) 1.2\n",
      "Jurassic Park (1993) 1\n",
      "Mrs. Doubtfire (1993) 0.1\n",
      "Schindler's List (1993) 1.2\n",
      "So I Married an Axe Murderer (1993) 1\n",
      "Three Musketeers, The (1993) 1\n",
      "Tombstone (1993) 1.2\n",
      "Dances with Wolves (1990) 1\n",
      "Batman (1989) 1\n",
      "Silence of the Lambs, The (1991) 1\n",
      "Pinocchio (1940) 1.2\n",
      "Fargo (1996) 1.2\n",
      "Mission: Impossible (1996) 0.1\n",
      "James and the Giant Peach (1996) 1.2\n",
      "Space Jam (1996) 0.1\n",
      "Rock, The (1996) 1\n",
      "Twister (1996) 0.1\n",
      "Independence Day (a.k.a. ID4) (1996) 0.1\n",
      "She's the One (1996) 1\n",
      "Wizard of Oz, The (1939) 1.2\n",
      "Citizen Kane (1941) 1.2\n",
      "Adventures of Robin Hood, The (1938) 1.2\n",
      "Ghost and Mrs. Muir, The (1947) 1\n",
      "Mr. Smith Goes to Washington (1939) 1.2\n",
      "Escape to Witch Mountain (1975) 0.1\n",
      "Winnie the Pooh and the Blustery Day (1968) 1.2\n",
      "Three Caballeros, The (1945) 1.2\n",
      "Sword in the Stone, The (1963) 1.2\n",
      "Dumbo (1941) 1.2\n",
      "Pete's Dragon (1977) 0.1\n",
      "Bedknobs and Broomsticks (1971) 1.2\n",
      "Alice in Wonderland (1951) 1.2\n",
      "That Thing You Do! (1996) 1\n",
      "Ghost and the Darkness, The (1996) 1.2\n",
      "Swingers (1996) 1\n",
      "Willy Wonka & the Chocolate Factory (1971) 1.2\n",
      "Monty Python's Life of Brian (1979) 1.2\n",
      "Reservoir Dogs (1992) 1.2\n",
      "Platoon (1986) 1\n",
      "Basic Instinct (1992) 1.2\n",
      "E.T. the Extra-Terrestrial (1982) 1.2\n",
      "Abyss, The (1989) 1\n",
      "Monty Python and the Holy Grail (1975) 1.2\n",
      "Star Wars: Episode V - The Empire Strikes Back (1980) 1.2\n",
      "Princess Bride, The (1987) 1.2\n",
      "Raiders of the Lost Ark (Indiana Jones and the Raiders of the Lost Ark) (1981) 1.2\n",
      "Clockwork Orange, A (1971) 1.2\n",
      "Apocalypse Now (1979) 1\n",
      "Star Wars: Episode VI - Return of the Jedi (1983) 1.2\n",
      "Goodfellas (1990) 1.2\n",
      "Alien (1979) 1\n",
      "Psycho (1960) -0.5\n",
      "Blues Brothers, The (1980) 1.2\n",
      "Full Metal Jacket (1987) 1.2\n",
      "Henry V (1989) 1.2\n",
      "Quiet Man, The (1952) 1.2\n",
      "Terminator, The (1984) 1.2\n",
      "Duck Soup (1933) 1.2\n",
      "Shining, The (1980) 0.1\n",
      "Groundhog Day (1993) 1\n",
      "Back to the Future (1985) 1.2\n",
      "Highlander (1986) 1.2\n",
      "Young Frankenstein (1974) 1.2\n",
      "Fantasia (1940) 1.2\n",
      "Indiana Jones and the Last Crusade (1989) 1.2\n",
      "Pink Floyd: The Wall (1982) 1.2\n",
      "Nosferatu (Nosferatu, eine Symphonie des Grauens) (1922) 1\n",
      "Batman Returns (1992) 0.1\n",
      "Sneakers (1992) 0.1\n",
      "Last of the Mohicans, The (1992) 0.1\n",
      "McHale's Navy (1997) 0.1\n",
      "Best Men (1997) 1\n",
      "Grosse Pointe Blank (1997) 1\n",
      "Austin Powers: International Man of Mystery (1997) 1.2\n",
      "Con Air (1997) 1\n",
      "Face/Off (1997) 1.2\n",
      "Men in Black (a.k.a. MIB) (1997) 0.1\n",
      "Conan the Barbarian (1982) 1.2\n",
      "L.A. Confidential (1997) 1.2\n",
      "Kiss the Girls (1997) 1\n",
      "Game, The (1997) 1.2\n",
      "I Know What You Did Last Summer (1997) 0.1\n",
      "Starship Troopers (1997) 0.1\n",
      "Big Lebowski, The (1998) 1.2\n",
      "Wedding Singer, The (1998) 1\n",
      "Welcome to Woop-Woop (1997) 1\n",
      "Newton Boys, The (1998) 1.2\n",
      "Wild Things (1998) 1\n",
      "Small Soldiers (1998) 1\n",
      "All Quiet on the Western Front (1930) 1.2\n",
      "Rocky (1976) 1.2\n",
      "Labyrinth (1986) 1\n",
      "Lethal Weapon (1987) 1\n",
      "Goonies, The (1985) 1.2\n",
      "Back to the Future Part III (1990) 1\n",
      "Bambi (1942) 1.2\n",
      "Saving Private Ryan (1998) 1\n",
      "Black Cauldron, The (1985) 1.2\n",
      "Flight of the Navigator (1986) 1\n",
      "Great Mouse Detective, The (1986) 1.2\n",
      "Honey, I Shrunk the Kids (1989) 1\n",
      "Negotiator, The (1998) 1.2\n",
      "Jungle Book, The (1967) 1.2\n",
      "Rescuers, The (1977) 1.2\n",
      "Return to Oz (1985) 0.1\n",
      "Rocketeer, The (1991) 1.2\n",
      "Sleeping Beauty (1959) 1\n",
      "Song of the South (1946) 1\n",
      "Tron (1982) 1\n",
      "Indiana Jones and the Temple of Doom (1984) 1.2\n",
      "Lord of the Rings, The (1978) 1.2\n",
      "Charlotte's Web (1973) 1.2\n",
      "Secret of NIMH, The (1982) 1.2\n",
      "American Tail, An (1986) 1.2\n",
      "Legend (1985) 1\n",
      "NeverEnding Story, The (1984) 1.2\n",
      "Beetlejuice (1988) 1\n",
      "Willow (1988) 1\n",
      "Toys (1992) -0.5\n",
      "Few Good Men, A (1992) 1\n",
      "Rush Hour (1998) 1\n",
      "Edward Scissorhands (1990) 1.2\n",
      "American History X (1998) 1.2\n",
      "I Still Know What You Did Last Summer (1998) -0.5\n",
      "Enemy of the State (1998) 1.2\n",
      "King Kong (1933) 1\n",
      "Very Bad Things (1998) 1.2\n",
      "Psycho (1998) -0.5\n",
      "Rushmore (1998) 1.2\n",
      "Romancing the Stone (1984) 1\n",
      "Young Sherlock Holmes (1985) 0.1\n",
      "Thin Red Line, The (1998) 1.2\n",
      "Howard the Duck (1986) 1\n",
      "Texas Chainsaw Massacre, The (1974) 1.2\n",
      "Crocodile Dundee (1986) 1.2\n",
      "¡Three Amigos! (1986) 1\n",
      "20 Dates (1998) 1\n",
      "Office Space (1999) 1.2\n",
      "Logan's Run (1976) 0.1\n",
      "Planet of the Apes (1968) 1.2\n",
      "Lock, Stock & Two Smoking Barrels (1998) 1.2\n",
      "Matrix, The (1999) 1.2\n",
      "Go (1999) 1.2\n",
      "SLC Punk! (1998) 1.2\n",
      "Dick Tracy (1990) 1\n",
      "Mummy, The (1999) -0.5\n",
      "Star Wars: Episode I - The Phantom Menace (1999) 1\n",
      "Superman (1978) 1\n",
      "Superman II (1980) 1.2\n",
      "Dracula (1931) 1\n",
      "Frankenstein (1931) 1\n",
      "Wolf Man, The (1941) 1.2\n",
      "Rocky Horror Picture Show, The (1975) 0.1\n",
      "Run Lola Run (Lola rennt) (1998) 1.2\n",
      "South Park: Bigger, Longer and Uncut (1999) 1.2\n",
      "Ghostbusters (a.k.a. Ghost Busters) (1984) 1.2\n",
      "Iron Giant, The (1999) 1.2\n",
      "Big (1988) 1\n",
      "13th Warrior, The (1999) 1\n",
      "American Beauty (1999) 1.2\n",
      "Excalibur (1981) 1.2\n",
      "Gulliver's Travels (1939) 1.2\n",
      "Total Recall (1990) 1\n",
      "Dirty Dozen, The (1967) 1.2\n",
      "Goldfinger (1964) 1.2\n",
      "From Russia with Love (1963) 1.2\n",
      "Dr. No (1962) 1.2\n",
      "Fight Club (1999) 1.2\n",
      "RoboCop (1987) 1\n",
      "Who Framed Roger Rabbit? (1988) 1.2\n",
      "Live and Let Die (1973) 1.2\n",
      "Thunderball (1965) 1.2\n",
      "Being John Malkovich (1999) 1\n",
      "Spaceballs (1987) 1.2\n",
      "Robin Hood (1973) 1.2\n",
      "Dogma (1999) 1.2\n",
      "Messenger: The Story of Joan of Arc, The (1999) 1.2\n",
      "Longest Day, The (1962) 1\n",
      "Green Mile, The (1999) 1.2\n",
      "Easy Rider (1969) 1\n",
      "Talented Mr. Ripley, The (1999) -1.1\n",
      "Encino Man (1992) 0.1\n",
      "Sister Act (1992) 0.1\n",
      "Wayne's World (1992) 1.2\n",
      "Scream 3 (2000) 1.2\n",
      "JFK (1991) 1.2\n",
      "Teenage Mutant Ninja Turtles II: The Secret of the Ooze (1991) 1\n",
      "Teenage Mutant Ninja Turtles III (1993) 1\n",
      "Red Dawn (1984) 1.2\n",
      "Good Morning, Vietnam (1987) 1.2\n",
      "Grumpy Old Men (1993) 1.2\n",
      "Ladyhawke (1985) 1\n",
      "Hook (1991) 1\n",
      "Predator (1987) 1\n",
      "Gladiator (2000) 1.2\n",
      "Road Trip (2000) 1\n",
      "Man with the Golden Gun, The (1974) 1\n",
      "Blazing Saddles (1974) 1.2\n",
      "Mad Max (1979) 1.2\n",
      "Road Warrior, The (Mad Max 2) (1981) 1.2\n",
      "Shaft (1971) 1.2\n",
      "Big Trouble in Little China (1986) 1\n",
      "Shaft (2000) 1\n",
      "X-Men (2000) 1.2\n",
      "What About Bob? (1991) 1\n",
      "Transformers: The Movie (1986) 1\n",
      "M*A*S*H (a.k.a. MASH) (1970) 1.2\n",
      "Total for user 1: 223.79999999999947\n"
     ]
    }
   ],
   "source": [
    "# Test the function\n",
    "debug = True\n",
    "num, p_vec = create_preference_vector_debug(1, user_movie_graph)"
   ]
  },
  {
   "cell_type": "code",
   "execution_count": 24,
   "metadata": {},
   "outputs": [
    {
     "name": "stdout",
     "output_type": "stream",
     "text": [
      "Number of movies rated by the user: 232\n",
      "{0.004468275245755149: 76, 0.0053619302949061785: 124, 0.0004468275245755149: 26, -0.0022341376228775744: 5, -0.004915102770330664: 1, 0.0: 9487}\n",
      "Number of values different from zero 232\n"
     ]
    }
   ],
   "source": [
    "print(f\"Number of movies rated by the user: {num}\")\n",
    "weight_dict = {}\n",
    "for k, v in p_vec.items():\n",
    "    if v in weight_dict:\n",
    "        weight_dict[v] += 1\n",
    "    else:\n",
    "        weight_dict[v] = 1\n",
    "\n",
    "print(weight_dict)\n",
    "\n",
    "total = 0\n",
    "for k, v in weight_dict.items():\n",
    "    if k != 0.0:\n",
    "        total += v\n",
    "\n",
    "print(\"Number of values different from zero\", total)\n",
    "if total != num:\n",
    "    print(\"Alcuni dei film visti dall'utente hanno peso 0\")   "
   ]
  },
  {
   "cell_type": "code",
   "execution_count": 15,
   "metadata": {},
   "outputs": [],
   "source": [
    "def predict_user_debug(user_id, user_movie_graph: nx.Graph, movie_movie_graph: nx.Graph):\n",
    "    _, p_vec = create_preference_vector_debug(user_id, user_movie_graph)\n",
    "    \n",
    "    print(f\"Preference vector for user {user_id}: {list(p_vec)[:10]}\")  \n",
    "\n",
    "    already_seen = [m for _, m, v in user_movie_graph.edges(user_id, data=\"weight\")]\n",
    "\n",
    "    print(f\"Already seen movies for user {user_id}: {list(already_seen)[:10]}\")  \n",
    "\n",
    "    if len(already_seen) < 1:\n",
    "        return []\n",
    "    \n",
    "    item_rank = nx.pagerank(movie_movie_graph, personalization=p_vec, alpha=0.85, weight=\"weight\")\n",
    "    \n",
    "    print(f\"Item rank for user {user_id}: {list(item_rank)[:10]}\") \n",
    "\n",
    "    s_t = [\n",
    "        x for x in sorted(\n",
    "            movie_movie_graph.nodes(), key=lambda x: item_rank[x] if x in item_rank else 0, reverse=True\n",
    "            )\n",
    "        if x not in already_seen\n",
    "        ]\n",
    "    \n",
    "    return s_t[:10]"
   ]
  },
  {
   "cell_type": "code",
   "execution_count": null,
   "metadata": {},
   "outputs": [],
   "source": [
    "#pip install scipy"
   ]
  },
  {
   "cell_type": "code",
   "execution_count": 16,
   "metadata": {},
   "outputs": [
    {
     "name": "stdout",
     "output_type": "stream",
     "text": [
      "Edges for user 10: ['Pulp Fiction (1994)', 'Forrest Gump (1994)', 'Aladdin (1992)', 'Pretty Woman (1990)', 'Casablanca (1942)', 'Mary Poppins (1964)', 'Dirty Dancing (1987)', 'Graduate, The (1967)', 'When Harry Met Sally... (1989)', 'As Good as It Gets (1997)']\n",
      "Number of edges for user 10: 140\n",
      "Pulp Fiction (1994) -1.1\n",
      "Forrest Gump (1994) 0.5\n",
      "Aladdin (1992) 1\n",
      "Pretty Woman (1990) 0.5\n",
      "Casablanca (1942) 1\n",
      "Mary Poppins (1964) -1.2\n",
      "Dirty Dancing (1987) 0.1\n",
      "Graduate, The (1967) 0.1\n",
      "When Harry Met Sally... (1989) 0.1\n",
      "As Good as It Gets (1997) 0.5\n",
      "Mulan (1998) 1\n",
      "Matrix, The (1999) -1.2\n",
      "Notting Hill (1999) 0.5\n",
      "Sixth Sense, The (1999) -1.2\n",
      "American Beauty (1999) -1.1\n",
      "Fight Club (1999) -1.2\n",
      "Gladiator (2000) 1\n",
      "Bring It On (2000) 0.1\n",
      "Bridget Jones's Diary (2001) 0.5\n",
      "Shrek (2001) 1.1\n",
      "Legally Blonde (2001) 1.1\n",
      "Lord of the Rings: The Fellowship of the Ring, The (2001) 1\n",
      "Beautiful Mind, A (2001) 1\n",
      "Walk to Remember, A (2002) 0.1\n",
      "About a Boy (2002) 0.5\n",
      "Sweet Home Alabama (2002) 0.1\n",
      "Maid in Manhattan (2002) 0.1\n",
      "Lord of the Rings: The Two Towers, The (2002) 1\n",
      "Two Weeks Notice (2002) 0.1\n",
      "How to Lose a Guy in 10 Days (2003) 0.1\n",
      "What a Girl Wants (2003) 0.1\n",
      "Finding Nemo (2003) 0.5\n",
      "Legally Blonde 2: Red, White & Blonde (2003) 1\n",
      "Love Actually (2003) 1\n",
      "Something's Gotta Give (2003) 1\n",
      "Girl with a Pearl Earring (2003) 0.1\n",
      "Lord of the Rings: The Return of the King, The (2003) 1\n",
      "Mona Lisa Smile (2003) 1\n",
      "Chasing Liberty (2004) 1.1\n",
      "50 First Dates (2004) 0.5\n",
      "Prince & Me, The (2004) 1\n",
      "Mean Girls (2004) 0.5\n",
      "Troy (2004) 1.2\n",
      "Terminal, The (2004) 0.5\n",
      "Notebook, The (2004) 1.2\n",
      "Spider-Man 2 (2004) 0.5\n",
      "Bourne Supremacy, The (2004) 0.5\n",
      "Princess Diaries 2: Royal Engagement, The (2004) 0.1\n",
      "First Daughter (2004) 1.2\n",
      "Incredibles, The (2004) -0.1\n",
      "Bridget Jones: The Edge of Reason (2004) 0.5\n",
      "Finding Neverland (2004) -1.1\n",
      "Hotel Rwanda (2004) 0.5\n",
      "Wedding Date, The (2005) -0.1\n",
      "Hitch (2005) 1.1\n",
      "Lot Like Love, A (2005) 0.1\n",
      "Mr. & Mrs. Smith (2005) 0.1\n",
      "Batman Begins (2005) 1.2\n",
      "Pride & Prejudice (2005) 0.1\n",
      "Walk the Line (2005) 1\n",
      "Match Point (2005) -0.1\n",
      "Pursuit of Happyness, The (2006) 0.1\n",
      "Casino Royale (2006) 1.2\n",
      "Holiday, The (2006) 1.2\n",
      "300 (2007) 0.1\n",
      "Priceless (Hors de prix) (2006) 1.1\n",
      "Becoming Jane (2007) -1\n",
      "Bourne Ultimatum, The (2007) 0.5\n",
      "Juno (2007) 0.5\n",
      "27 Dresses (2008) 0.1\n",
      "Definitely, Maybe (2008) 0.5\n",
      "Dark Knight, The (2008) 1.1\n",
      "Made of Honor (2008) -0.1\n",
      "What Happens in Vegas... (2008) -0.5\n",
      "Mamma Mia! (2008) 0.1\n",
      "Vicky Cristina Barcelona (2008) -0.5\n",
      "House Bunny, The (2008) -0.1\n",
      "Quantum of Solace (2008) 0.5\n",
      "Twilight (2008) 1.1\n",
      "Yes Man (2008) -1.2\n",
      "He's Just Not That Into You (2009) 0.5\n",
      "Up (2009) 1\n",
      "Proposal, The (2009) 1.1\n",
      "Harry Potter and the Half-Blood Prince (2009) 0.1\n",
      "Ugly Truth, The (2009) 0.1\n",
      "Julie & Julia (2009) -1.2\n",
      "Education, An (2009) 1.2\n",
      "Up in the Air (2009) -0.1\n",
      "Private Lives of Pippa Lee, The (2009) 0.5\n",
      "Twilight Saga: New Moon, The (2009) 0.1\n",
      "Single Man, A (2009) 0.5\n",
      "Princess and the Frog, The (2009) 0.5\n",
      "Avatar (2009) -0.1\n",
      "Sherlock Holmes (2009) 0.1\n",
      "Valentine's Day (2010) 0.1\n",
      "St Trinian's 2: The Legend of Fritton's Gold (2009) -0.5\n",
      "Twilight Saga: Eclipse, The (2010) 0.1\n",
      "Despicable Me (2010) 1.2\n",
      "Easy A (2010) 0.5\n",
      "Morning Glory (2010) -0.1\n",
      "King's Speech, The (2010) 1.2\n",
      "Tangled (2010) 0.5\n",
      "Love and Other Drugs (2010) 0.5\n",
      "How Do You Know (2010) -0.5\n",
      "No Strings Attached (2011) 0.5\n",
      "Water for Elephants (2011) 0.1\n",
      "Kung Fu Panda 2 (2011) 0.5\n",
      "Crazy, Stupid, Love. (2011) 1\n",
      "Help, The (2011) 0.1\n",
      "Twilight Saga: Breaking Dawn - Part 1, The (2011) 0.1\n",
      "Dark Knight Rises, The (2012) 1.2\n",
      "Intouchables (2011) 1.2\n",
      "Best Exotic Marigold Hotel, The (2011) 1.1\n",
      "Brave (2012) 1\n",
      "Magic Mike (2012) 1\n",
      "Amazing Spider-Man, The (2012) 0.1\n",
      "Ice Age 4: Continental Drift (2012) 0.5\n",
      "Skyfall (2012) 1.2\n",
      "Rust and Bone (De rouille et d'os) (2012) -1.2\n",
      "Life of Pi (2012) -1.1\n",
      "Twilight Saga: Breaking Dawn - Part 2, The (2012) 0.1\n",
      "Despicable Me 2 (2013) 1\n",
      "White House Down (2013) 1\n",
      "About Time (2013) 1\n",
      "Enough Said (2013) -0.1\n",
      "Hobbit: The Desolation of Smaug, The (2013) 0.5\n",
      "Frozen (2013) 1.1\n",
      "Wolf of Wall Street, The (2013) -1.1\n",
      "Saving Mr. Banks (2013) -0.5\n",
      "Grand Budapest Hotel, The (2014) -1.2\n",
      "Interstellar (2014) -1.2\n",
      "Barefoot (2014) 1\n",
      "Tangled Ever After (2012) 1\n",
      "The Hundred-Foot Journey (2014) 1.1\n",
      "Pretty One, The (2013) 1\n",
      "Kingsman: The Secret Service (2015) -1.1\n",
      "The Second Best Exotic Marigold Hotel (2015) 0.5\n",
      "Spectre (2015) 1.2\n",
      "Magic Mike XXL (2015) 1\n",
      "The Intern (2015) 1.2\n",
      "Total for user 10: 50.10000000000003\n",
      "Preference vector for user 10: ['Toy Story (1995)', 'Grumpier Old Men (1995)', 'Heat (1995)', 'Seven (a.k.a. Se7en) (1995)', 'Usual Suspects, The (1995)', 'From Dusk Till Dawn (1996)', 'Bottle Rocket (1996)', 'Braveheart (1995)', 'Rob Roy (1995)', 'Canadian Bacon (1995)']\n",
      "Already seen movies for user 10: ['Pulp Fiction (1994)', 'Forrest Gump (1994)', 'Aladdin (1992)', 'Pretty Woman (1990)', 'Casablanca (1942)', 'Mary Poppins (1964)', 'Dirty Dancing (1987)', 'Graduate, The (1967)', 'When Harry Met Sally... (1989)', 'As Good as It Gets (1997)']\n",
      "Item rank for user 10: ['Intact (Intacto) (2001)', 'Syrup (2013)', 'Spun (2001)', 'Begotten (1990)', 'Beyond the Valley of the Dolls (1970)', 'All Dogs Go to Heaven (1989)', 'Contraband (2012)', 'French Connection II (1975)', 'Flintstones in Viva Rock Vegas, The (2000)', 'Best of Youth, The (La meglio gioventù) (2003)']\n",
      "--- 56.149155378341675 seconds ---\n",
      "Star Wars: Episode IV - A New Hope (1977)\n",
      "Shawshank Redemption, The (1994)\n",
      "Star Wars: Episode V - The Empire Strikes Back (1980)\n",
      "Silence of the Lambs, The (1991)\n",
      "Jurassic Park (1993)\n",
      "Star Wars: Episode VI - Return of the Jedi (1983)\n",
      "Raiders of the Lost Ark (Indiana Jones and the Raiders of the Lost Ark) (1981)\n",
      "Back to the Future (1985)\n",
      "Toy Story (1995)\n",
      "Terminator 2: Judgment Day (1991)\n"
     ]
    }
   ],
   "source": [
    "# Test the prediction\n",
    "user = 10\n",
    "start_time = time.time()\n",
    "s_t = predict_user_debug(user, user_movie_graph, movie_movie_graph)\n",
    "print(\"--- %s seconds ---\" % (time.time() - start_time))\n",
    "\n",
    "for movie in s_t:\n",
    "    print(movie)"
   ]
  },
  {
   "cell_type": "code",
   "execution_count": 35,
   "metadata": {},
   "outputs": [],
   "source": [
    "upload_test = False"
   ]
  },
  {
   "cell_type": "code",
   "execution_count": 36,
   "metadata": {},
   "outputs": [],
   "source": [
    "# Delete old test\n",
    "if upload_test:\n",
    "    def delete_test(tx, userId, movieId):\n",
    "        tx.run(\"MATCH (u:User {userId: $userId})-[r:RECOMMENDED]->(m:Movie {movieId: $movieId}) DELETE r\", userId=userId, movieId=movieId)\n",
    "\n",
    "    with driver.session() as session:\n",
    "        for movieId in s_t:           \n",
    "            session.execute_write(delete_test, user, movieId)"
   ]
  },
  {
   "cell_type": "code",
   "execution_count": 37,
   "metadata": {},
   "outputs": [],
   "source": [
    "# Upload the test\n",
    "if upload_test:\n",
    "    def create_recommendations(tx, userId, recs):\n",
    "            for rec in recs:\n",
    "                tx.run(\"MATCH (u:User {userId: $userId}), (m:Movie {title: $title})\"\n",
    "                    \"MERGE (u)-[:RECOMMENDED]->(m)\",\n",
    "                    userId=userId, title=rec)\n",
    "\n",
    "    with driver.session() as session:\n",
    "        session.execute_write(create_recommendations, user, s_t)"
   ]
  },
  {
   "cell_type": "code",
   "execution_count": 14,
   "metadata": {},
   "outputs": [],
   "source": [
    "def create_preference_vector(user_id: int, user_movie_graph: nx.Graph):\n",
    "    edges = {m: v for _, m, v in user_movie_graph.edges(user_id, data=\"weight\")}\n",
    "    tot = sum(edges.values())\n",
    "    if tot > 0:\n",
    "        return {\n",
    "            movie: edges.get(movie, 0) / tot\n",
    "            for movie in filter_nodes(user_movie_graph, 1)\n",
    "        }\n",
    "    else:\n",
    "        return {\n",
    "            movie: 1/len(movie) for movie in filter_nodes(user_movie_graph, 1) \n",
    "        }\n",
    "        \n",
    "def predict_user(user_id, user_movie_graph: nx.Graph, movie_movie_graph: nx.Graph):\n",
    "    p_vec = create_preference_vector(user_id, user_movie_graph)\n",
    "    already_seen = [m for _, m, v in user_movie_graph.edges(user_id, data=\"weight\")]\n",
    "    if len(already_seen) < 1:\n",
    "        return []\n",
    "    item_rank = nx.pagerank(movie_movie_graph, personalization=p_vec, alpha=0.85, weight=\"weight\")\n",
    "    s_t = [\n",
    "        x for x in sorted(\n",
    "            movie_movie_graph.nodes(), key=lambda x: item_rank[x] if x in item_rank else 0, reverse=True\n",
    "            )\n",
    "        if x not in already_seen\n",
    "        ]\n",
    "    \n",
    "    return s_t[:10]"
   ]
  },
  {
   "cell_type": "code",
   "execution_count": 10,
   "metadata": {},
   "outputs": [],
   "source": [
    "upload_predictions = True"
   ]
  },
  {
   "cell_type": "code",
   "execution_count": null,
   "metadata": {},
   "outputs": [],
   "source": [
    "def create_recommendations(tx, userId, recs):\n",
    "    for rec in recs:\n",
    "        tx.run(\"MATCH (u:User {userId: $userId}), (m:Movie {title: $title})\"\n",
    "            \"MERGE (u)-[:RECOMMENDED]->(m)\",\n",
    "            userId=userId, title=rec)\n",
    "            \n",
    "if upload_predictions:\n",
    "    with driver.session() as session:\n",
    "        start_time = time.time()\n",
    "        for user in filter_nodes(user_movie_graph, 0):\n",
    "            recs = predict_user(user, user_movie_graph, movie_movie_graph)    \n",
    "            session.execute_write(create_recommendations, user, recs)\n",
    "        print(\"--- %s seconds ---\" % (time.time() - start_time))\n",
    "    "
   ]
  },
  {
   "cell_type": "code",
   "execution_count": 17,
   "metadata": {},
   "outputs": [],
   "source": [
    "driver.close()"
   ]
  },
  {
   "cell_type": "code",
   "execution_count": null,
   "metadata": {},
   "outputs": [],
   "source": [
    "exit()"
   ]
  }
 ],
 "metadata": {
  "kernelspec": {
   "display_name": "Python 3 (ipykernel)",
   "language": "python",
   "name": "python3"
  },
  "language_info": {
   "codemirror_mode": {
    "name": "ipython",
    "version": 3
   },
   "file_extension": ".py",
   "mimetype": "text/x-python",
   "name": "python",
   "nbconvert_exporter": "python",
   "pygments_lexer": "ipython3",
   "version": "3.11.11"
  }
 },
 "nbformat": 4,
 "nbformat_minor": 4
}
