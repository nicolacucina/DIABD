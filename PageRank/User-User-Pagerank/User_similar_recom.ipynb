{
 "cells": [
  {
   "cell_type": "code",
   "execution_count": 1,
   "metadata": {
    "id": "LoaQWUF7PmTY"
   },
   "outputs": [],
   "source": [
    "import pandas as pd\n",
    "\n",
    "ratings = pd.read_csv(\"../ml-latest-small/ratings.csv\")"
   ]
  },
  {
   "cell_type": "code",
   "execution_count": 2,
   "metadata": {
    "id": "iotX7is1PmTZ"
   },
   "outputs": [],
   "source": [
    "movies = pd.read_csv(\"../ml-latest-small/movies.csv\")"
   ]
  },
  {
   "cell_type": "code",
   "execution_count": 3,
   "metadata": {
    "colab": {
     "base_uri": "https://localhost:8080/"
    },
    "id": "3iUIXuUsPmTZ",
    "outputId": "88b41342-f4bf-44f4-80c0-66266776f210"
   },
   "outputs": [
    {
     "data": {
      "text/html": [
       "<div>\n",
       "<style scoped>\n",
       "    .dataframe tbody tr th:only-of-type {\n",
       "        vertical-align: middle;\n",
       "    }\n",
       "\n",
       "    .dataframe tbody tr th {\n",
       "        vertical-align: top;\n",
       "    }\n",
       "\n",
       "    .dataframe thead th {\n",
       "        text-align: right;\n",
       "    }\n",
       "</style>\n",
       "<table border=\"1\" class=\"dataframe\">\n",
       "  <thead>\n",
       "    <tr style=\"text-align: right;\">\n",
       "      <th></th>\n",
       "      <th>userId</th>\n",
       "      <th>movieId</th>\n",
       "      <th>rating</th>\n",
       "      <th>timestamp</th>\n",
       "      <th>title</th>\n",
       "      <th>genres</th>\n",
       "    </tr>\n",
       "  </thead>\n",
       "  <tbody>\n",
       "    <tr>\n",
       "      <th>0</th>\n",
       "      <td>1</td>\n",
       "      <td>1</td>\n",
       "      <td>4.0</td>\n",
       "      <td>964982703</td>\n",
       "      <td>Toy Story (1995)</td>\n",
       "      <td>Adventure|Animation|Children|Comedy|Fantasy</td>\n",
       "    </tr>\n",
       "    <tr>\n",
       "      <th>1</th>\n",
       "      <td>1</td>\n",
       "      <td>3</td>\n",
       "      <td>4.0</td>\n",
       "      <td>964981247</td>\n",
       "      <td>Grumpier Old Men (1995)</td>\n",
       "      <td>Comedy|Romance</td>\n",
       "    </tr>\n",
       "    <tr>\n",
       "      <th>2</th>\n",
       "      <td>1</td>\n",
       "      <td>6</td>\n",
       "      <td>4.0</td>\n",
       "      <td>964982224</td>\n",
       "      <td>Heat (1995)</td>\n",
       "      <td>Action|Crime|Thriller</td>\n",
       "    </tr>\n",
       "    <tr>\n",
       "      <th>3</th>\n",
       "      <td>1</td>\n",
       "      <td>47</td>\n",
       "      <td>5.0</td>\n",
       "      <td>964983815</td>\n",
       "      <td>Seven (a.k.a. Se7en) (1995)</td>\n",
       "      <td>Mystery|Thriller</td>\n",
       "    </tr>\n",
       "    <tr>\n",
       "      <th>4</th>\n",
       "      <td>1</td>\n",
       "      <td>50</td>\n",
       "      <td>5.0</td>\n",
       "      <td>964982931</td>\n",
       "      <td>Usual Suspects, The (1995)</td>\n",
       "      <td>Crime|Mystery|Thriller</td>\n",
       "    </tr>\n",
       "  </tbody>\n",
       "</table>\n",
       "</div>"
      ],
      "text/plain": [
       "   userId  movieId  rating  timestamp                        title  \\\n",
       "0       1        1     4.0  964982703             Toy Story (1995)   \n",
       "1       1        3     4.0  964981247      Grumpier Old Men (1995)   \n",
       "2       1        6     4.0  964982224                  Heat (1995)   \n",
       "3       1       47     5.0  964983815  Seven (a.k.a. Se7en) (1995)   \n",
       "4       1       50     5.0  964982931   Usual Suspects, The (1995)   \n",
       "\n",
       "                                        genres  \n",
       "0  Adventure|Animation|Children|Comedy|Fantasy  \n",
       "1                               Comedy|Romance  \n",
       "2                        Action|Crime|Thriller  \n",
       "3                             Mystery|Thriller  \n",
       "4                       Crime|Mystery|Thriller  "
      ]
     },
     "execution_count": 3,
     "metadata": {},
     "output_type": "execute_result"
    }
   ],
   "source": [
    "user_movie_matrix = pd.merge(ratings, movies, on=\"movieId\")\n",
    "user_movie_matrix.head()"
   ]
  },
  {
   "cell_type": "code",
   "execution_count": 4,
   "metadata": {
    "id": "w7BR_gRuPmTZ"
   },
   "outputs": [],
   "source": [
    "mapping_score = {\n",
    "    0.5:-1.2,\n",
    "    1:-1.1,\n",
    "    1.5:-1,\n",
    "    2:-0.5,\n",
    "    2.5:-0.1,\n",
    "    3:0.1,\n",
    "    3.5:0.5,\n",
    "    4:1,\n",
    "    4.5:1.1,\n",
    "    5:1.2\n",
    "}"
   ]
  },
  {
   "cell_type": "code",
   "execution_count": 5,
   "metadata": {
    "colab": {
     "base_uri": "https://localhost:8080/"
    },
    "id": "_C0FortTPmTa",
    "outputId": "ebb6dae4-0059-4595-bf6f-eb234c0fac9d"
   },
   "outputs": [
    {
     "name": "stdout",
     "output_type": "stream",
     "text": [
      "--- 5.702256441116333 seconds ---\n"
     ]
    }
   ],
   "source": [
    "import networkx as nx\n",
    "import time\n",
    "\n",
    "user_movie_graph = nx.Graph()\n",
    "\n",
    "start_time = time.time()\n",
    "for _, row in user_movie_matrix.iterrows():\n",
    "    user_movie_graph.add_node(row[\"userId\"], bipartite=0)\n",
    "    user_movie_graph.add_node(row[\"title\"], bipartite=1, genre=row[\"genres\"], movieId=row[\"movieId\"])\n",
    "    user_movie_graph.add_edge(row[\"userId\"], row[\"title\"], weight=mapping_score[row[\"rating\"]])\n",
    "print(\"--- %s seconds ---\" % (time.time() - start_time))"
   ]
  },
  {
   "cell_type": "code",
   "execution_count": 6,
   "metadata": {},
   "outputs": [
    {
     "name": "stdout",
     "output_type": "stream",
     "text": [
      "Nodes in the graph: [(1, {'bipartite': 0}), ('Toy Story (1995)', {'bipartite': 1, 'genre': 'Adventure|Animation|Children|Comedy|Fantasy', 'movieId': 1}), ('Grumpier Old Men (1995)', {'bipartite': 1, 'genre': 'Comedy|Romance', 'movieId': 3}), ('Heat (1995)', {'bipartite': 1, 'genre': 'Action|Crime|Thriller', 'movieId': 6}), ('Seven (a.k.a. Se7en) (1995)', {'bipartite': 1, 'genre': 'Mystery|Thriller', 'movieId': 47}), ('Usual Suspects, The (1995)', {'bipartite': 1, 'genre': 'Crime|Mystery|Thriller', 'movieId': 50}), ('From Dusk Till Dawn (1996)', {'bipartite': 1, 'genre': 'Action|Comedy|Horror|Thriller', 'movieId': 70}), ('Bottle Rocket (1996)', {'bipartite': 1, 'genre': 'Adventure|Comedy|Crime|Romance', 'movieId': 101}), ('Braveheart (1995)', {'bipartite': 1, 'genre': 'Action|Drama|War', 'movieId': 110}), ('Rob Roy (1995)', {'bipartite': 1, 'genre': 'Action|Drama|Romance|War', 'movieId': 151})]\n",
      "Edges in the graph: [(1, 'Toy Story (1995)', {'weight': 1}), (1, 'Grumpier Old Men (1995)', {'weight': 1}), (1, 'Heat (1995)', {'weight': 1}), (1, 'Seven (a.k.a. Se7en) (1995)', {'weight': 1.2}), (1, 'Usual Suspects, The (1995)', {'weight': 1.2}), (1, 'From Dusk Till Dawn (1996)', {'weight': 0.1}), (1, 'Bottle Rocket (1996)', {'weight': 1.2}), (1, 'Braveheart (1995)', {'weight': 1}), (1, 'Rob Roy (1995)', {'weight': 1.2}), (1, 'Canadian Bacon (1995)', {'weight': 1.2})]\n"
     ]
    }
   ],
   "source": [
    "print(f\"Nodes in the graph: {list(user_movie_graph.nodes(data=True))[:10]}\")\n",
    "print(f\"Edges in the graph: {list(user_movie_graph.edges(data=True))[:10]}\")"
   ]
  },
  {
   "cell_type": "code",
   "execution_count": 6,
   "metadata": {
    "colab": {
     "base_uri": "https://localhost:8080/"
    },
    "id": "qVFdxG33PmTa",
    "outputId": "3683a6bd-23b2-4889-8327-879b25020541"
   },
   "outputs": [
    {
     "name": "stdout",
     "output_type": "stream",
     "text": [
      "Users: [1, 2, 3, 4, 5, 6, 7, 8, 9, 10]\n",
      "Number of users: 610\n"
     ]
    }
   ],
   "source": [
    "users = {n for n, d in user_movie_graph.nodes(data=True) if d[\"bipartite\"] == 0}\n",
    "print(f\"Users: {list(users)[:10]}\")\n",
    "print(f\"Number of users: {len(users)}\")"
   ]
  },
  {
   "cell_type": "code",
   "execution_count": 14,
   "metadata": {
    "colab": {
     "base_uri": "https://localhost:8080/"
    },
    "id": "qoY0YILSPmTa",
    "outputId": "6601c014-31b8-4a59-e625-a825121dc1a0"
   },
   "outputs": [
    {
     "name": "stdout",
     "output_type": "stream",
     "text": [
      "Movies: [\"Draughtsman's Contract, The (1982)\", 'Saints and Soldiers (2003)', 'Treasure of the Sierra Madre, The (1948)', 'Yes Man (2008)', \"It's a Wonderful Life (1946)\", 'Angus (1995)', 'Nuremberg (2000)', 'Charlie, the Lonesome Cougar (1967)', 'Awful Truth, The (1937)', 'Fire in the Sky (1993)']\n",
      "Number of movies: 9719\n"
     ]
    }
   ],
   "source": [
    "movies = {n for n, d in user_movie_graph.nodes(data=True) if d[\"bipartite\"] == 1}\n",
    "print(f\"Movies: {list(movies)[:10]}\")\n",
    "print(f\"Number of movies: {len(movies)}\")"
   ]
  },
  {
   "cell_type": "code",
   "execution_count": 8,
   "metadata": {
    "colab": {
     "base_uri": "https://localhost:8080/"
    },
    "id": "s0zaoBA0PmTa",
    "outputId": "9c3e9de6-a16c-4d5a-cf99-a2f62b8cd411"
   },
   "outputs": [
    {
     "name": "stdout",
     "output_type": "stream",
     "text": [
      "True\n",
      "True\n"
     ]
    }
   ],
   "source": [
    "print(nx.is_bipartite(user_movie_graph))\n",
    "print(nx.is_connected(user_movie_graph))"
   ]
  },
  {
   "cell_type": "code",
   "execution_count": 7,
   "metadata": {
    "colab": {
     "base_uri": "https://localhost:8080/"
    },
    "id": "W9JaRmklPmTa",
    "outputId": "f88b558e-b0bf-4b4b-c00b-1bb220b30894"
   },
   "outputs": [
    {
     "name": "stdout",
     "output_type": "stream",
     "text": [
      "--- 5.238262176513672 seconds ---\n",
      "610\n",
      "164054\n"
     ]
    }
   ],
   "source": [
    "start_time = time.time()\n",
    "user_user_graph = nx.bipartite.weighted_projected_graph(user_movie_graph, users)\n",
    "print(\"--- %s seconds ---\" % (time.time() - start_time))\n",
    "\n",
    "print(len(user_user_graph.nodes()))\n",
    "print(len(user_user_graph.edges()))"
   ]
  },
  {
   "cell_type": "code",
   "execution_count": null,
   "metadata": {},
   "outputs": [],
   "source": [
    "print(f\"Nodes in the user-user graph: {list(user_user_graph.nodes(data=True))[:10]}\")\n",
    "print(f\"Edges in the user-user graph: {list(user_user_graph.edges(data=True))[:10]}\")"
   ]
  },
  {
   "cell_type": "code",
   "execution_count": 34,
   "metadata": {},
   "outputs": [
    {
     "name": "stdout",
     "output_type": "stream",
     "text": [
      "Edge memory: 8.761428833007812 MB\n",
      "Node memory: 0.01628875732421875 MB\n",
      "Total memory: 8.777717590332031 MB\n"
     ]
    }
   ],
   "source": [
    "# Check memory consumption\n",
    "import sys\n",
    "\n",
    "edge_mem = sum([sys.getsizeof(e) for e in user_user_graph.edges])\n",
    "node_mem = sum([sys.getsizeof(n) for n in user_user_graph.nodes])\n",
    "\n",
    "print(\"Edge memory:\", edge_mem / (1024**2),\"MB\")\n",
    "print(\"Node memory:\", node_mem / (1024**2),\"MB\")\n",
    "print(\"Total memory:\", (edge_mem + node_mem) / (1024**2), \"MB\")"
   ]
  },
  {
   "cell_type": "code",
   "execution_count": 35,
   "metadata": {
    "colab": {
     "base_uri": "https://localhost:8080/"
    },
    "id": "6cZxeo2hPmTb",
    "outputId": "5813e68f-acba-4924-def5-fbd948872500"
   },
   "outputs": [
    {
     "name": "stdout",
     "output_type": "stream",
     "text": [
      "True\n"
     ]
    }
   ],
   "source": [
    "print(nx.is_connected(user_user_graph))"
   ]
  },
  {
   "cell_type": "code",
   "execution_count": 8,
   "metadata": {
    "id": "bCya_Cs5PmTb"
   },
   "outputs": [],
   "source": [
    "# 0: User, 1: Movie\n",
    "def filter_nodes(graph: nx.Graph, node_type: int):\n",
    "    return [n for n, d in graph.nodes(data=True) if d[\"bipartite\"] == node_type]"
   ]
  },
  {
   "cell_type": "code",
   "execution_count": 9,
   "metadata": {
    "id": "IN0w2LjeRxxz"
   },
   "outputs": [],
   "source": [
    "def find_similar_users_with_graph(user_id, user_user_graph, top_n=10):\n",
    "    pagerank_scores = nx.pagerank(user_user_graph, alpha=0.1, weight=\"weight\", personalization = {user_id : 1})\n",
    "\n",
    "    similar_users = sorted(\n",
    "        [(u, score) for u, score in pagerank_scores.items() if u != user_id],\n",
    "        key=lambda x: x[1],\n",
    "        reverse=True\n",
    "    )[:top_n]\n",
    "\n",
    "    return [user for user, _ in similar_users]\n"
   ]
  },
  {
   "cell_type": "code",
   "execution_count": 12,
   "metadata": {},
   "outputs": [
    {
     "name": "stdout",
     "output_type": "stream",
     "text": [
      "--- 0.3963148593902588 seconds ---\n",
      "[414, 599, 288, 474, 68, 274, 555, 448, 590, 561]\n"
     ]
    }
   ],
   "source": [
    "user = 3\n",
    "start_time = time.time()\n",
    "similar_users = find_similar_users_with_graph(user, user_user_graph)\n",
    "print(\"--- %s seconds ---\" % (time.time() - start_time))\n",
    "print(similar_users)"
   ]
  },
  {
   "cell_type": "code",
   "execution_count": 13,
   "metadata": {},
   "outputs": [],
   "source": [
    "def get_highest_rated_movies(user_id, user_movie_graph, already_seen, top_n=5):\n",
    "    edges = [(movie, weight) for _, movie, weight in user_movie_graph.edges(user_id, data=\"weight\")]\n",
    "    \n",
    "    unseen_movies = [(movie, weight) for movie, weight in edges if movie not in already_seen]\n",
    "\n",
    "    top_movies = sorted(unseen_movies, key=lambda x: x[1], reverse=True)[:top_n]\n",
    "    return [movie for movie, _ in top_movies]"
   ]
  },
  {
   "cell_type": "code",
   "execution_count": 14,
   "metadata": {},
   "outputs": [],
   "source": [
    "def recommend_movies(user_id, user_movie_graph, similar_users, already_seen, top_n=10):\n",
    "    recommended_movies = []\n",
    "    \n",
    "    for similar_user in similar_users:\n",
    "        top_movies = get_highest_rated_movies(similar_user, user_movie_graph, already_seen, top_n=5)\n",
    "        for index in range(5):\n",
    "            if top_movies[index] in recommended_movies:\n",
    "                continue\n",
    "            else:\n",
    "                recommended_movies.append(top_movies[index])\n",
    "                break\n",
    "\n",
    "        if len(recommended_movies) >= top_n:\n",
    "            break\n",
    "\n",
    "    return list(recommended_movies)[:top_n]"
   ]
  },
  {
   "cell_type": "code",
   "execution_count": 15,
   "metadata": {},
   "outputs": [
    {
     "name": "stdout",
     "output_type": "stream",
     "text": [
      "Movies already seen by user 3: ['Dangerous Minds (1995)', \"Schindler's List (1993)\", 'Courage Under Fire (1996)', 'Operation Dumbo Drop (1995)', 'Wallace & Gromit: The Best of Aardman Animation (1996)', 'Escape from L.A. (1996)', 'My Fair Lady (1964)', 'Doors, The (1991)', 'On Golden Pond (1981)', 'Deer Hunter, The (1978)']\n"
     ]
    }
   ],
   "source": [
    "already_seen = [movie for _, movie, _ in user_movie_graph.edges(user, data=\"weight\")]\n",
    "print(f\"Movies already seen by user {user}: {list(already_seen)[:10]}\")"
   ]
  },
  {
   "cell_type": "code",
   "execution_count": 16,
   "metadata": {},
   "outputs": [
    {
     "name": "stdout",
     "output_type": "stream",
     "text": [
      "--- 0.018771886825561523 seconds ---\n",
      "Recommended movies for user 3: ['American President, The (1995)', 'Rumble in the Bronx (Hont faan kui) (1995)', 'Twelve Monkeys (a.k.a. 12 Monkeys) (1995)', 'Sense and Sensibility (1995)', 'Star Wars: Episode IV - A New Hope (1977)', 'Pulp Fiction (1994)', 'Grumpier Old Men (1995)', 'Toy Story (1995)', 'Forrest Gump (1994)', 'Braveheart (1995)']\n"
     ]
    }
   ],
   "source": [
    "start_time = time.time()\n",
    "recommendation = recommend_movies(user, user_movie_graph, similar_users, already_seen)\n",
    "print(\"--- %s seconds ---\" % (time.time() - start_time))\n",
    "print(f\"Recommended movies for user {user}: {recommendation}\")"
   ]
  },
  {
   "cell_type": "code",
   "execution_count": 67,
   "metadata": {},
   "outputs": [],
   "source": [
    "# Connect to Neo4j\n",
    "from neo4j import GraphDatabase\n",
    "\n",
    "uri = \"neo4j://localhost:7687\"\n",
    "username = \"neo4j\"\n",
    "password = \"testtest\"\n",
    "\n",
    "driver = GraphDatabase.driver(uri, auth=(username, password))"
   ]
  },
  {
   "cell_type": "code",
   "execution_count": 68,
   "metadata": {},
   "outputs": [],
   "source": [
    "upload_test = True"
   ]
  },
  {
   "cell_type": "code",
   "execution_count": 81,
   "metadata": {},
   "outputs": [],
   "source": [
    "# Delete old test\n",
    "if upload_test:\n",
    "    def delete_test(tx, userId):\n",
    "        tx.run(\"MATCH (u:User {userId: $userId})-[r:UU_RECOMMENDED]->(m:Movie) DELETE r\", \n",
    "               userId=userId)\n",
    "\n",
    "    with driver.session() as session:\n",
    "        for title in recommendation:           \n",
    "            session.execute_write(delete_test, user)"
   ]
  },
  {
   "cell_type": "code",
   "execution_count": 80,
   "metadata": {},
   "outputs": [],
   "source": [
    "# Upload the test\n",
    "if upload_test:\n",
    "    def create_recommendations(tx, userId, recs):\n",
    "            for rec in recs:\n",
    "                tx.run(\"MATCH (u:User {userId: $userId}), (m:Movie {title: $title})\"\n",
    "                    \"MERGE (u)-[:UU_RECOMMENDED]->(m)\",\n",
    "                    userId=userId, title=rec)\n",
    "\n",
    "    with driver.session() as session:\n",
    "        session.execute_write(create_recommendations, user, recommendation)"
   ]
  },
  {
   "cell_type": "code",
   "execution_count": 83,
   "metadata": {},
   "outputs": [],
   "source": [
    "upload_predictions = False"
   ]
  },
  {
   "cell_type": "code",
   "execution_count": null,
   "metadata": {},
   "outputs": [],
   "source": [
    "def create_recommendations(tx, userId, recs):\n",
    "    for rec in recs:\n",
    "        tx.run(\"MATCH (u:User {userId: $userId}), (m:Movie {title: $title})\"\n",
    "            \"MERGE (u)-[:UU_RECOMMENDED]->(m)\",\n",
    "            userId=userId, title=rec)\n",
    "            \n",
    "if upload_predictions:\n",
    "    with driver.session() as session:\n",
    "        start_time = time.time()\n",
    "        for user in filter_nodes(user_movie_graph, 0):\n",
    "            similar_users = find_similar_users_with_graph(user, user_user_graph)\n",
    "            already_seen = [movie for _, movie, _ in user_movie_graph.edges(user, data=\"weight\")]\n",
    "            recs = recommendation = recommend_movies(user, user_movie_graph, similar_users, already_seen)   \n",
    "            session.execute_write(create_recommendations, user, recs)\n",
    "        print(\"--- %s seconds ---\" % (time.time() - start_time))"
   ]
  },
  {
   "cell_type": "code",
   "execution_count": 85,
   "metadata": {},
   "outputs": [],
   "source": [
    "driver.close()"
   ]
  },
  {
   "cell_type": "markdown",
   "metadata": {},
   "source": [
    "Di seguito viene riportato un altro approccio che non è stato continuato date le dimensioni e tempistiche richieste per l'esecuzione.\n",
    "\n",
    "Si intendeva utilizzare diverse ricerche PageRank per ottenere i migliori film per ogni utente simile al target."
   ]
  },
  {
   "cell_type": "code",
   "execution_count": null,
   "metadata": {},
   "outputs": [],
   "source": [
    "# Normalize movie popularity to better recommend using similar users\n",
    "global popularity_penalty\n",
    "\n",
    "alpha = 0.2\n",
    "\n",
    "popularity_penalty = {\n",
    "  movie: alpha * len(list(user_movie_graph.neighbors(movie)))  # Numero di connessioni del nodo film\n",
    "    for movie in filter_nodes(user_movie_graph, 1)\n",
    "}\n",
    "\n",
    "def create_preference_vector(debug: bool, user_id: int, user_movie_graph: nx.Graph):\n",
    "    edges = {m: v for _, m, v in user_movie_graph.edges(user_id, data=\"weight\")}\n",
    "\n",
    "    if debug:\n",
    "        print(f\"Edges for user {user_id}: {list(edges)[:10]}\")\n",
    "        print(f\"Number of edges for user {user_id}: {len(edges)}\")\n",
    "\n",
    "        for k, v in edges.items():\n",
    "            print(k,v)\n",
    "\n",
    "    tot = sum(edges.values())\n",
    "\n",
    "    if debug:\n",
    "        print(f\"Total for user {user_id}: {tot}\")\n",
    "    \n",
    "    if tot > 0:\n",
    "        print(f\"User {user_id} has rated movies\")\n",
    "        return len(edges), {\n",
    "            movie: edges.get(movie, 0) / tot\n",
    "            for movie in filter_nodes(user_movie_graph, 1) # 1 : Movie\n",
    "        }\n",
    "    else:\n",
    "        print(f\"User {user_id} has not rated any movies or the sum of all weighted ratings is zero / negative. All movies will have a weight of 1\")\n",
    "        temp = len(user_movie_graph.nodes())\n",
    "        return len(edges), {\n",
    "            movie: 1/temp for movie in filter_nodes(user_movie_graph, 1) \n",
    "        }\n",
    "\n",
    "def predict_user_with_similars(user_id, user_movie_graph, movie_movie_graph, similar_users, already_seen):\n",
    "    _, p_vec = create_preference_vector(False, user_id, user_movie_graph)\n",
    "    \n",
    "    if len(p_vec) < 1 or len(already_seen) < 1:\n",
    "        return []\n",
    "    \n",
    "    item_rank = nx.pagerank(movie_movie_graph, personalization= p_vec, alpha=0.95, weight=\"weight\")\n",
    "    \n",
    "    penalized_rank = {\n",
    "        movie: item_rank[movie] / (1 + popularity_penalty[movie])  # Penalizzazione per film popolari\n",
    "        for movie in item_rank\n",
    "    }\n",
    "    \n",
    "    recommended_movies = [\n",
    "        x for x in sorted(\n",
    "            movie_movie_graph.nodes(),\n",
    "            key=lambda x: penalized_rank[x] if x in penalized_rank  else 0,\n",
    "            reverse=True\n",
    "        )\n",
    "        if x not in already_seen\n",
    "    ]\n",
    "    \n",
    "    return recommended_movies\n",
    "\n",
    "recommendation = []\n",
    "for u in similar_users:\n",
    "    s_t = predict_user_with_similars(u, user_movie_graph, movie_movie_graph, similar_users, already_seen)\n",
    "    print(f\"Predicted movies for user {u}: {s_t[:10]}\")\n",
    "    for m in s_t[:10]:\n",
    "        if m not in recommendation:\n",
    "            recommendation.append(m)\n",
    "\n",
    "print(f\"Recommended movies for user {user}: {recommendation[:10]}\")\n",
    "print(f\"The number of movies recommended is: {len(recommendation)}\")"
   ]
  }
 ],
 "metadata": {
  "colab": {
   "provenance": []
  },
  "kernelspec": {
   "display_name": "Python 3 (ipykernel)",
   "language": "python",
   "name": "python3"
  },
  "language_info": {
   "codemirror_mode": {
    "name": "ipython",
    "version": 3
   },
   "file_extension": ".py",
   "mimetype": "text/x-python",
   "name": "python",
   "nbconvert_exporter": "python",
   "pygments_lexer": "ipython3",
   "version": "3.11.11"
  }
 },
 "nbformat": 4,
 "nbformat_minor": 4
}
