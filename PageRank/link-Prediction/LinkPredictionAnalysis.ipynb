{
 "cells": [
  {
   "cell_type": "code",
   "execution_count": 1,
   "metadata": {
    "executionInfo": {
     "elapsed": 1698,
     "status": "ok",
     "timestamp": 1735565456999,
     "user": {
      "displayName": "Aurora Traversini",
      "userId": "16205365685508391354"
     },
     "user_tz": -60
    },
    "id": "QlsbYKKmKk09"
   },
   "outputs": [],
   "source": [
    "import pandas as pd\n",
    "import numpy as np\n",
    "import networkx as nx\n",
    "\n",
    "# Open ratings.csv file\n",
    "ratings = pd.read_csv('ratings.csv')"
   ]
  },
  {
   "cell_type": "code",
   "execution_count": 2,
   "metadata": {
    "executionInfo": {
     "elapsed": 2,
     "status": "ok",
     "timestamp": 1735565457853,
     "user": {
      "displayName": "Aurora Traversini",
      "userId": "16205365685508391354"
     },
     "user_tz": -60
    },
    "id": "5UYoLkx9Kk0-"
   },
   "outputs": [],
   "source": [
    "# Open movies.csv file\n",
    "movies = pd.read_csv(\"movies.csv\")"
   ]
  },
  {
   "cell_type": "code",
   "execution_count": 3,
   "metadata": {
    "colab": {
     "base_uri": "https://localhost:8080/"
    },
    "executionInfo": {
     "elapsed": 853,
     "status": "ok",
     "timestamp": 1735565459476,
     "user": {
      "displayName": "Aurora Traversini",
      "userId": "16205365685508391354"
     },
     "user_tz": -60
    },
    "id": "Pem0zEgJKk0_",
    "outputId": "af306802-ba4a-4615-df6b-97c0d3c25cf1"
   },
   "outputs": [
    {
     "name": "stdout",
     "output_type": "stream",
     "text": [
      "   userId  movieId  rating  timestamp                        title  \\\n",
      "0       1        1     4.0  964982703             Toy Story (1995)   \n",
      "1       1        3     4.0  964981247      Grumpier Old Men (1995)   \n",
      "2       1        6     4.0  964982224                  Heat (1995)   \n",
      "3       1       47     5.0  964983815  Seven (a.k.a. Se7en) (1995)   \n",
      "4       1       50     5.0  964982931   Usual Suspects, The (1995)   \n",
      "\n",
      "                                        genres  \n",
      "0  Adventure|Animation|Children|Comedy|Fantasy  \n",
      "1                               Comedy|Romance  \n",
      "2                        Action|Crime|Thriller  \n",
      "3                             Mystery|Thriller  \n",
      "4                       Crime|Mystery|Thriller  \n"
     ]
    }
   ],
   "source": [
    "# Merge ratings and movies\n",
    "user_movie_matrix = pd.merge(ratings, movies, on=\"movieId\")\n",
    "print(user_movie_matrix.head())"
   ]
  },
  {
   "cell_type": "code",
   "execution_count": 4,
   "metadata": {
    "executionInfo": {
     "elapsed": 281,
     "status": "ok",
     "timestamp": 1735565463156,
     "user": {
      "displayName": "Aurora Traversini",
      "userId": "16205365685508391354"
     },
     "user_tz": -60
    },
    "id": "b39QxC7fKk1A"
   },
   "outputs": [],
   "source": [
    "mapping_score = {\n",
    "    0.5:-1,\n",
    "    1:-1,\n",
    "    1.5:-0.5,\n",
    "    2:0,\n",
    "    2.5:0,\n",
    "    3:0,\n",
    "    3.5:0.5,\n",
    "    4:1,\n",
    "    4.5:1.1,\n",
    "    5:1.2\n",
    "}"
   ]
  },
  {
   "cell_type": "code",
   "execution_count": 5,
   "metadata": {
    "colab": {
     "base_uri": "https://localhost:8080/"
    },
    "executionInfo": {
     "elapsed": 8548,
     "status": "ok",
     "timestamp": 1735565474215,
     "user": {
      "displayName": "Aurora Traversini",
      "userId": "16205365685508391354"
     },
     "user_tz": -60
    },
    "id": "yZkqd8D1Kk1B",
    "outputId": "b971123c-07c2-4a77-efd4-a1cbb1792df5"
   },
   "outputs": [
    {
     "name": "stdout",
     "output_type": "stream",
     "text": [
      "Nodes in the graph: [(1, {'bipartite': 0}), ('Toy Story (1995)', {'bipartite': 1, 'genre': 'Adventure|Animation|Children|Comedy|Fantasy', 'movieId': 1}), ('Grumpier Old Men (1995)', {'bipartite': 1, 'genre': 'Comedy|Romance', 'movieId': 3}), ('Heat (1995)', {'bipartite': 1, 'genre': 'Action|Crime|Thriller', 'movieId': 6}), ('Seven (a.k.a. Se7en) (1995)', {'bipartite': 1, 'genre': 'Mystery|Thriller', 'movieId': 47}), ('Usual Suspects, The (1995)', {'bipartite': 1, 'genre': 'Crime|Mystery|Thriller', 'movieId': 50}), ('From Dusk Till Dawn (1996)', {'bipartite': 1, 'genre': 'Action|Comedy|Horror|Thriller', 'movieId': 70}), ('Bottle Rocket (1996)', {'bipartite': 1, 'genre': 'Adventure|Comedy|Crime|Romance', 'movieId': 101}), ('Braveheart (1995)', {'bipartite': 1, 'genre': 'Action|Drama|War', 'movieId': 110}), ('Rob Roy (1995)', {'bipartite': 1, 'genre': 'Action|Drama|Romance|War', 'movieId': 151})]\n",
      "Edges in the graph: [(1, 'Toy Story (1995)', {'weight': 1}), (1, 'Grumpier Old Men (1995)', {'weight': 1}), (1, 'Heat (1995)', {'weight': 1}), (1, 'Seven (a.k.a. Se7en) (1995)', {'weight': 1.2}), (1, 'Usual Suspects, The (1995)', {'weight': 1.2}), (1, 'From Dusk Till Dawn (1996)', {'weight': 0}), (1, 'Bottle Rocket (1996)', {'weight': 1.2}), (1, 'Braveheart (1995)', {'weight': 1}), (1, 'Rob Roy (1995)', {'weight': 1.2}), (1, 'Canadian Bacon (1995)', {'weight': 1.2})]\n"
     ]
    }
   ],
   "source": [
    "import networkx as nx\n",
    "\n",
    "user_movie_graph = nx.Graph()\n",
    "\n",
    "for _, row in user_movie_matrix.iterrows():\n",
    "    user_movie_graph.add_node(row[\"userId\"], bipartite=0)\n",
    "    user_movie_graph.add_node(row[\"title\"], bipartite=1, genre=row[\"genres\"], movieId=row[\"movieId\"])\n",
    "    user_movie_graph.add_edge(row[\"userId\"], row[\"title\"], weight=mapping_score[row[\"rating\"]])"
   ]
  },
  {
   "cell_type": "code",
   "execution_count": null,
   "metadata": {},
   "outputs": [],
   "source": [
    "print(f\"Nodes in the graph: {list(user_movie_graph.nodes(data=True))[:10]}\")\n",
    "print(f\"Edges in the graph: {list(user_movie_graph.edges(data=True))[:10]}\")"
   ]
  },
  {
   "cell_type": "code",
   "execution_count": 6,
   "metadata": {
    "colab": {
     "base_uri": "https://localhost:8080/"
    },
    "executionInfo": {
     "elapsed": 9,
     "status": "ok",
     "timestamp": 1735565474215,
     "user": {
      "displayName": "Aurora Traversini",
      "userId": "16205365685508391354"
     },
     "user_tz": -60
    },
    "id": "pMhhyYAOKk1C",
    "outputId": "41ea95d7-37a3-48b0-ea26-4ff8651d7b32"
   },
   "outputs": [
    {
     "name": "stdout",
     "output_type": "stream",
     "text": [
      "Users: [1, 2, 3, 4, 5, 6, 7, 8, 9, 10]\n",
      "Number of users: 610\n"
     ]
    }
   ],
   "source": [
    "users = {n for n, d in user_movie_graph.nodes(data=True) if d[\"bipartite\"] == 0}\n",
    "print(f\"Users: {list(users)[:10]}\")\n",
    "print(f\"Number of users: {len(users)}\")"
   ]
  },
  {
   "cell_type": "code",
   "execution_count": 7,
   "metadata": {
    "colab": {
     "base_uri": "https://localhost:8080/"
    },
    "executionInfo": {
     "elapsed": 7,
     "status": "ok",
     "timestamp": 1735565474215,
     "user": {
      "displayName": "Aurora Traversini",
      "userId": "16205365685508391354"
     },
     "user_tz": -60
    },
    "id": "ZlKMSj_iKk1C",
    "outputId": "0aecc9fd-b018-4464-9561-3877c6ae68fe"
   },
   "outputs": [
    {
     "name": "stdout",
     "output_type": "stream",
     "text": [
      "Movies: ['Asterix: The Land of the Gods (Astérix: Le domaine des dieux) (2014)', 'The Fox and the Hound 2 (2006)', 'Wolf (1994)', 'Blue Valentine (2010)', 'Den, The (2013)', 'Siam Sunset (1999)', 'Loose Cannons (1990)', 'My Girl (1991)', 'Zeitgeist: Addendum (2008)', 'Barcelona (1994)']\n",
      "Number of movies: 9719\n"
     ]
    }
   ],
   "source": [
    "movies = {n for n, d in user_movie_graph.nodes(data=True) if d[\"bipartite\"] == 1}\n",
    "print(f\"Movies: {list(movies)[:10]}\")\n",
    "print(f\"Number of movies: {len(movies)}\")"
   ]
  },
  {
   "cell_type": "code",
   "execution_count": 8,
   "metadata": {
    "colab": {
     "base_uri": "https://localhost:8080/"
    },
    "executionInfo": {
     "elapsed": 5,
     "status": "ok",
     "timestamp": 1735565474216,
     "user": {
      "displayName": "Aurora Traversini",
      "userId": "16205365685508391354"
     },
     "user_tz": -60
    },
    "id": "eAvPixy8Kk1D",
    "outputId": "240fee10-9736-41be-fe36-24704189f8bd"
   },
   "outputs": [
    {
     "name": "stdout",
     "output_type": "stream",
     "text": [
      "True\n",
      "True\n"
     ]
    }
   ],
   "source": [
    "print(nx.is_bipartite(user_movie_graph))\n",
    "print(nx.is_connected(user_movie_graph))"
   ]
  },
  {
   "cell_type": "code",
   "execution_count": 9,
   "metadata": {
    "colab": {
     "base_uri": "https://localhost:8080/"
    },
    "executionInfo": {
     "elapsed": 7788,
     "status": "ok",
     "timestamp": 1735565482946,
     "user": {
      "displayName": "Aurora Traversini",
      "userId": "16205365685508391354"
     },
     "user_tz": -60
    },
    "id": "GYFv9S1lKk1E",
    "outputId": "a95939ee-326f-4107-c36d-0a5e8ff01398"
   },
   "outputs": [
    {
     "name": "stdout",
     "output_type": "stream",
     "text": [
      "Nodes in the user-user graph: [(1, {'bipartite': 0}), (2, {'bipartite': 0}), (3, {'bipartite': 0}), (4, {'bipartite': 0}), (5, {'bipartite': 0}), (6, {'bipartite': 0}), (7, {'bipartite': 0}), (8, {'bipartite': 0}), (9, {'bipartite': 0}), (10, {'bipartite': 0})]\n",
      "Edges in the user-user graph: [(1, 2, {'weight': 2}), (1, 3, {'weight': 7}), (1, 4, {'weight': 45}), (1, 5, {'weight': 13}), (1, 6, {'weight': 33}), (1, 7, {'weight': 26}), (1, 8, {'weight': 15}), (1, 9, {'weight': 5}), (1, 10, {'weight': 6}), (1, 11, {'weight': 16})]\n",
      "610\n",
      "164054\n"
     ]
    }
   ],
   "source": [
    "user_user_graph = nx.bipartite.weighted_projected_graph(user_movie_graph, users)\n"
   ]
  },
  {
   "cell_type": "code",
   "execution_count": null,
   "metadata": {},
   "outputs": [],
   "source": [
    "print(f\"Nodes in the user-user graph: {list(user_user_graph.nodes(data=True))[:10]}\")\n",
    "print(len(user_user_graph.nodes()))"
   ]
  },
  {
   "cell_type": "code",
   "execution_count": null,
   "metadata": {},
   "outputs": [],
   "source": [
    "print(f\"Edges in the user-user graph: {list(user_user_graph.edges(data=True))[:10]}\")\n",
    "print(len(user_user_graph.edges()))"
   ]
  },
  {
   "cell_type": "code",
   "execution_count": 12,
   "metadata": {
    "colab": {
     "base_uri": "https://localhost:8080/"
    },
    "executionInfo": {
     "elapsed": 295,
     "status": "ok",
     "timestamp": 1735565952157,
     "user": {
      "displayName": "Aurora Traversini",
      "userId": "16205365685508391354"
     },
     "user_tz": -60
    },
    "id": "mScmZOs4w6p5",
    "outputId": "3cffe7a1-2ffd-4d24-cdc5-f1300fbe727c"
   },
   "outputs": [
    {
     "name": "stdout",
     "output_type": "stream",
     "text": [
      "Edges in the user-user graph: [(1, 2, {'weight': 2}), (1, 3, {'weight': 7}), (1, 4, {'weight': 45}), (1, 5, {'weight': 13}), (1, 6, {'weight': 33}), (1, 7, {'weight': 26}), (1, 8, {'weight': 15}), (1, 9, {'weight': 5}), (1, 10, {'weight': 6}), (1, 11, {'weight': 16})]\n"
     ]
    }
   ],
   "source": [
    "print(f\"Edges in the user-user graph: {list(user_user_graph.edges(data=True))[:10]}\")"
   ]
  },
  {
   "cell_type": "code",
   "execution_count": 14,
   "metadata": {
    "colab": {
     "base_uri": "https://localhost:8080/"
    },
    "executionInfo": {
     "elapsed": 248,
     "status": "ok",
     "timestamp": 1735566303238,
     "user": {
      "displayName": "Aurora Traversini",
      "userId": "16205365685508391354"
     },
     "user_tz": -60
    },
    "id": "C6Kj1JNk0Ayz",
    "outputId": "0d14b39a-f0d6-485a-9709-26a9f09db0dd"
   },
   "outputs": [
    {
     "name": "stdout",
     "output_type": "stream",
     "text": [
      "164054\n"
     ]
    }
   ],
   "source": [
    "print(len(user_user_graph.edges()))"
   ]
  },
  {
   "cell_type": "code",
   "execution_count": 15,
   "metadata": {
    "colab": {
     "base_uri": "https://localhost:8080/"
    },
    "executionInfo": {
     "elapsed": 558,
     "status": "ok",
     "timestamp": 1735566448349,
     "user": {
      "displayName": "Aurora Traversini",
      "userId": "16205365685508391354"
     },
     "user_tz": -60
    },
    "id": "e2k-G9Nrzi5O",
    "outputId": "a2d85bf7-4fa4-4f63-de94-edb08aa0115a"
   },
   "outputs": [
    {
     "name": "stdout",
     "output_type": "stream",
     "text": [
      "Range dei pesi degli archi user-user: min=1, max=1338\n",
      "Distribuzione dei pesi degli archi user-user:\n",
      "Peso: 1, Numero di archi: 18010\n",
      "Peso: 2, Numero di archi: 14895\n",
      "Peso: 3, Numero di archi: 12373\n",
      "Peso: 4, Numero di archi: 10574\n",
      "Peso: 5, Numero di archi: 9027\n",
      "Peso: 6, Numero di archi: 7598\n",
      "Peso: 7, Numero di archi: 6736\n",
      "Peso: 8, Numero di archi: 6036\n",
      "Peso: 9, Numero di archi: 5432\n",
      "Peso: 10, Numero di archi: 4783\n",
      "Peso: 11, Numero di archi: 4459\n",
      "Peso: 12, Numero di archi: 4021\n",
      "Peso: 13, Numero di archi: 3666\n",
      "Peso: 14, Numero di archi: 3368\n",
      "Peso: 15, Numero di archi: 3184\n",
      "Peso: 16, Numero di archi: 2887\n",
      "Peso: 17, Numero di archi: 2740\n",
      "Peso: 18, Numero di archi: 2415\n",
      "Peso: 19, Numero di archi: 2323\n",
      "Peso: 20, Numero di archi: 2050\n",
      "Peso: 21, Numero di archi: 1951\n",
      "Peso: 22, Numero di archi: 1773\n",
      "Peso: 23, Numero di archi: 1692\n",
      "Peso: 24, Numero di archi: 1528\n",
      "Peso: 25, Numero di archi: 1397\n",
      "Peso: 26, Numero di archi: 1280\n",
      "Peso: 27, Numero di archi: 1207\n",
      "Peso: 28, Numero di archi: 1091\n",
      "Peso: 29, Numero di archi: 1090\n",
      "Peso: 30, Numero di archi: 1002\n",
      "Peso: 31, Numero di archi: 930\n",
      "Peso: 32, Numero di archi: 851\n",
      "Peso: 33, Numero di archi: 821\n",
      "Peso: 34, Numero di archi: 777\n",
      "Peso: 35, Numero di archi: 736\n",
      "Peso: 36, Numero di archi: 728\n",
      "Peso: 37, Numero di archi: 657\n",
      "Peso: 38, Numero di archi: 630\n",
      "Peso: 39, Numero di archi: 576\n",
      "Peso: 40, Numero di archi: 550\n",
      "Peso: 41, Numero di archi: 566\n",
      "Peso: 42, Numero di archi: 481\n",
      "Peso: 43, Numero di archi: 472\n",
      "Peso: 44, Numero di archi: 472\n",
      "Peso: 45, Numero di archi: 432\n",
      "Peso: 46, Numero di archi: 416\n",
      "Peso: 47, Numero di archi: 403\n",
      "Peso: 48, Numero di archi: 352\n",
      "Peso: 49, Numero di archi: 337\n",
      "Peso: 50, Numero di archi: 326\n",
      "Peso: 51, Numero di archi: 358\n",
      "Peso: 52, Numero di archi: 343\n",
      "Peso: 53, Numero di archi: 277\n",
      "Peso: 54, Numero di archi: 276\n",
      "Peso: 55, Numero di archi: 289\n",
      "Peso: 56, Numero di archi: 283\n",
      "Peso: 57, Numero di archi: 248\n",
      "Peso: 58, Numero di archi: 238\n",
      "Peso: 59, Numero di archi: 234\n",
      "Peso: 60, Numero di archi: 238\n",
      "Peso: 61, Numero di archi: 229\n",
      "Peso: 62, Numero di archi: 238\n",
      "Peso: 63, Numero di archi: 197\n",
      "Peso: 64, Numero di archi: 204\n",
      "Peso: 65, Numero di archi: 201\n",
      "Peso: 66, Numero di archi: 180\n",
      "Peso: 67, Numero di archi: 179\n",
      "Peso: 68, Numero di archi: 180\n",
      "Peso: 69, Numero di archi: 153\n",
      "Peso: 70, Numero di archi: 171\n",
      "Peso: 71, Numero di archi: 167\n",
      "Peso: 72, Numero di archi: 154\n",
      "Peso: 73, Numero di archi: 154\n",
      "Peso: 74, Numero di archi: 140\n",
      "Peso: 75, Numero di archi: 150\n",
      "Peso: 76, Numero di archi: 131\n",
      "Peso: 77, Numero di archi: 141\n",
      "Peso: 78, Numero di archi: 107\n",
      "Peso: 79, Numero di archi: 138\n",
      "Peso: 80, Numero di archi: 145\n",
      "Peso: 81, Numero di archi: 133\n",
      "Peso: 82, Numero di archi: 103\n",
      "Peso: 83, Numero di archi: 91\n",
      "Peso: 84, Numero di archi: 102\n",
      "Peso: 85, Numero di archi: 100\n",
      "Peso: 86, Numero di archi: 111\n",
      "Peso: 87, Numero di archi: 90\n",
      "Peso: 88, Numero di archi: 82\n",
      "Peso: 89, Numero di archi: 99\n",
      "Peso: 90, Numero di archi: 91\n",
      "Peso: 91, Numero di archi: 77\n",
      "Peso: 92, Numero di archi: 79\n",
      "Peso: 93, Numero di archi: 102\n",
      "Peso: 94, Numero di archi: 89\n",
      "Peso: 95, Numero di archi: 90\n",
      "Peso: 96, Numero di archi: 74\n",
      "Peso: 97, Numero di archi: 65\n",
      "Peso: 98, Numero di archi: 73\n",
      "Peso: 99, Numero di archi: 66\n",
      "Peso: 100, Numero di archi: 79\n",
      "Peso: 101, Numero di archi: 76\n",
      "Peso: 102, Numero di archi: 78\n",
      "Peso: 103, Numero di archi: 71\n",
      "Peso: 104, Numero di archi: 65\n",
      "Peso: 105, Numero di archi: 57\n",
      "Peso: 106, Numero di archi: 61\n",
      "Peso: 107, Numero di archi: 53\n",
      "Peso: 108, Numero di archi: 72\n",
      "Peso: 109, Numero di archi: 56\n",
      "Peso: 110, Numero di archi: 69\n",
      "Peso: 111, Numero di archi: 68\n",
      "Peso: 112, Numero di archi: 57\n",
      "Peso: 113, Numero di archi: 60\n",
      "Peso: 114, Numero di archi: 52\n",
      "Peso: 115, Numero di archi: 49\n",
      "Peso: 116, Numero di archi: 48\n",
      "Peso: 117, Numero di archi: 49\n",
      "Peso: 118, Numero di archi: 39\n",
      "Peso: 119, Numero di archi: 55\n",
      "Peso: 120, Numero di archi: 48\n",
      "Peso: 121, Numero di archi: 46\n",
      "Peso: 122, Numero di archi: 35\n",
      "Peso: 123, Numero di archi: 49\n",
      "Peso: 124, Numero di archi: 54\n",
      "Peso: 125, Numero di archi: 39\n",
      "Peso: 126, Numero di archi: 32\n",
      "Peso: 127, Numero di archi: 34\n",
      "Peso: 128, Numero di archi: 38\n",
      "Peso: 129, Numero di archi: 42\n",
      "Peso: 130, Numero di archi: 42\n",
      "Peso: 131, Numero di archi: 45\n",
      "Peso: 132, Numero di archi: 42\n",
      "Peso: 133, Numero di archi: 32\n",
      "Peso: 134, Numero di archi: 36\n",
      "Peso: 135, Numero di archi: 30\n",
      "Peso: 136, Numero di archi: 30\n",
      "Peso: 137, Numero di archi: 32\n",
      "Peso: 138, Numero di archi: 34\n",
      "Peso: 139, Numero di archi: 36\n",
      "Peso: 140, Numero di archi: 29\n",
      "Peso: 141, Numero di archi: 35\n",
      "Peso: 142, Numero di archi: 27\n",
      "Peso: 143, Numero di archi: 25\n",
      "Peso: 144, Numero di archi: 35\n",
      "Peso: 145, Numero di archi: 24\n",
      "Peso: 146, Numero di archi: 24\n",
      "Peso: 147, Numero di archi: 27\n",
      "Peso: 148, Numero di archi: 29\n",
      "Peso: 149, Numero di archi: 22\n",
      "Peso: 150, Numero di archi: 20\n",
      "Peso: 151, Numero di archi: 28\n",
      "Peso: 152, Numero di archi: 29\n",
      "Peso: 153, Numero di archi: 31\n",
      "Peso: 154, Numero di archi: 22\n",
      "Peso: 155, Numero di archi: 24\n",
      "Peso: 156, Numero di archi: 24\n",
      "Peso: 157, Numero di archi: 24\n",
      "Peso: 158, Numero di archi: 23\n",
      "Peso: 159, Numero di archi: 17\n",
      "Peso: 160, Numero di archi: 19\n",
      "Peso: 161, Numero di archi: 15\n",
      "Peso: 162, Numero di archi: 16\n",
      "Peso: 163, Numero di archi: 21\n",
      "Peso: 164, Numero di archi: 22\n",
      "Peso: 165, Numero di archi: 23\n",
      "Peso: 166, Numero di archi: 19\n",
      "Peso: 167, Numero di archi: 13\n",
      "Peso: 168, Numero di archi: 19\n",
      "Peso: 169, Numero di archi: 12\n",
      "Peso: 170, Numero di archi: 22\n",
      "Peso: 171, Numero di archi: 21\n",
      "Peso: 172, Numero di archi: 16\n",
      "Peso: 173, Numero di archi: 18\n",
      "Peso: 174, Numero di archi: 22\n",
      "Peso: 175, Numero di archi: 22\n",
      "Peso: 176, Numero di archi: 21\n",
      "Peso: 177, Numero di archi: 17\n",
      "Peso: 178, Numero di archi: 12\n",
      "Peso: 179, Numero di archi: 16\n",
      "Peso: 180, Numero di archi: 7\n",
      "Peso: 181, Numero di archi: 15\n",
      "Peso: 182, Numero di archi: 15\n",
      "Peso: 183, Numero di archi: 12\n",
      "Peso: 184, Numero di archi: 12\n",
      "Peso: 185, Numero di archi: 17\n",
      "Peso: 186, Numero di archi: 21\n",
      "Peso: 187, Numero di archi: 16\n",
      "Peso: 188, Numero di archi: 16\n",
      "Peso: 189, Numero di archi: 13\n",
      "Peso: 190, Numero di archi: 12\n",
      "Peso: 191, Numero di archi: 20\n",
      "Peso: 192, Numero di archi: 10\n",
      "Peso: 193, Numero di archi: 15\n",
      "Peso: 194, Numero di archi: 10\n",
      "Peso: 195, Numero di archi: 18\n",
      "Peso: 196, Numero di archi: 9\n",
      "Peso: 197, Numero di archi: 16\n",
      "Peso: 198, Numero di archi: 12\n",
      "Peso: 199, Numero di archi: 10\n",
      "Peso: 200, Numero di archi: 14\n",
      "Peso: 201, Numero di archi: 9\n",
      "Peso: 202, Numero di archi: 12\n",
      "Peso: 203, Numero di archi: 6\n",
      "Peso: 204, Numero di archi: 6\n",
      "Peso: 205, Numero di archi: 9\n",
      "Peso: 206, Numero di archi: 11\n",
      "Peso: 207, Numero di archi: 15\n",
      "Peso: 208, Numero di archi: 10\n",
      "Peso: 209, Numero di archi: 8\n",
      "Peso: 210, Numero di archi: 8\n",
      "Peso: 211, Numero di archi: 10\n",
      "Peso: 212, Numero di archi: 6\n",
      "Peso: 213, Numero di archi: 9\n",
      "Peso: 214, Numero di archi: 12\n",
      "Peso: 215, Numero di archi: 4\n",
      "Peso: 216, Numero di archi: 12\n",
      "Peso: 217, Numero di archi: 9\n",
      "Peso: 218, Numero di archi: 5\n",
      "Peso: 219, Numero di archi: 16\n",
      "Peso: 220, Numero di archi: 8\n",
      "Peso: 221, Numero di archi: 6\n",
      "Peso: 222, Numero di archi: 11\n",
      "Peso: 223, Numero di archi: 11\n",
      "Peso: 224, Numero di archi: 8\n",
      "Peso: 225, Numero di archi: 9\n",
      "Peso: 226, Numero di archi: 8\n",
      "Peso: 227, Numero di archi: 6\n",
      "Peso: 228, Numero di archi: 4\n",
      "Peso: 229, Numero di archi: 8\n",
      "Peso: 230, Numero di archi: 5\n",
      "Peso: 231, Numero di archi: 7\n",
      "Peso: 232, Numero di archi: 3\n",
      "Peso: 233, Numero di archi: 8\n",
      "Peso: 234, Numero di archi: 6\n",
      "Peso: 235, Numero di archi: 5\n",
      "Peso: 236, Numero di archi: 7\n",
      "Peso: 237, Numero di archi: 7\n",
      "Peso: 238, Numero di archi: 12\n",
      "Peso: 239, Numero di archi: 13\n",
      "Peso: 240, Numero di archi: 7\n",
      "Peso: 241, Numero di archi: 7\n",
      "Peso: 242, Numero di archi: 9\n",
      "Peso: 243, Numero di archi: 12\n",
      "Peso: 244, Numero di archi: 4\n",
      "Peso: 245, Numero di archi: 3\n",
      "Peso: 246, Numero di archi: 5\n",
      "Peso: 247, Numero di archi: 3\n",
      "Peso: 248, Numero di archi: 5\n",
      "Peso: 249, Numero di archi: 1\n",
      "Peso: 250, Numero di archi: 3\n",
      "Peso: 251, Numero di archi: 6\n",
      "Peso: 252, Numero di archi: 5\n",
      "Peso: 253, Numero di archi: 7\n",
      "Peso: 254, Numero di archi: 5\n",
      "Peso: 255, Numero di archi: 10\n",
      "Peso: 256, Numero di archi: 3\n",
      "Peso: 257, Numero di archi: 8\n",
      "Peso: 258, Numero di archi: 4\n",
      "Peso: 259, Numero di archi: 8\n",
      "Peso: 260, Numero di archi: 3\n",
      "Peso: 261, Numero di archi: 6\n",
      "Peso: 262, Numero di archi: 4\n",
      "Peso: 263, Numero di archi: 2\n",
      "Peso: 264, Numero di archi: 2\n",
      "Peso: 265, Numero di archi: 5\n",
      "Peso: 266, Numero di archi: 4\n",
      "Peso: 267, Numero di archi: 5\n",
      "Peso: 268, Numero di archi: 3\n",
      "Peso: 269, Numero di archi: 6\n",
      "Peso: 270, Numero di archi: 5\n",
      "Peso: 271, Numero di archi: 2\n",
      "Peso: 272, Numero di archi: 4\n",
      "Peso: 273, Numero di archi: 4\n",
      "Peso: 274, Numero di archi: 6\n",
      "Peso: 275, Numero di archi: 2\n",
      "Peso: 276, Numero di archi: 3\n",
      "Peso: 277, Numero di archi: 2\n",
      "Peso: 278, Numero di archi: 6\n",
      "Peso: 279, Numero di archi: 2\n",
      "Peso: 280, Numero di archi: 3\n",
      "Peso: 281, Numero di archi: 4\n",
      "Peso: 282, Numero di archi: 2\n",
      "Peso: 283, Numero di archi: 5\n",
      "Peso: 284, Numero di archi: 7\n",
      "Peso: 285, Numero di archi: 4\n",
      "Peso: 286, Numero di archi: 3\n",
      "Peso: 287, Numero di archi: 6\n",
      "Peso: 288, Numero di archi: 5\n",
      "Peso: 289, Numero di archi: 4\n",
      "Peso: 290, Numero di archi: 6\n",
      "Peso: 291, Numero di archi: 7\n",
      "Peso: 292, Numero di archi: 3\n",
      "Peso: 293, Numero di archi: 6\n",
      "Peso: 294, Numero di archi: 6\n",
      "Peso: 295, Numero di archi: 2\n",
      "Peso: 296, Numero di archi: 8\n",
      "Peso: 297, Numero di archi: 2\n",
      "Peso: 298, Numero di archi: 3\n",
      "Peso: 299, Numero di archi: 5\n",
      "Peso: 300, Numero di archi: 5\n",
      "Peso: 301, Numero di archi: 7\n",
      "Peso: 302, Numero di archi: 2\n",
      "Peso: 303, Numero di archi: 6\n",
      "Peso: 304, Numero di archi: 3\n",
      "Peso: 305, Numero di archi: 1\n",
      "Peso: 306, Numero di archi: 3\n",
      "Peso: 307, Numero di archi: 2\n",
      "Peso: 308, Numero di archi: 1\n",
      "Peso: 309, Numero di archi: 2\n",
      "Peso: 310, Numero di archi: 3\n",
      "Peso: 311, Numero di archi: 6\n",
      "Peso: 312, Numero di archi: 5\n",
      "Peso: 313, Numero di archi: 7\n",
      "Peso: 314, Numero di archi: 3\n",
      "Peso: 316, Numero di archi: 1\n",
      "Peso: 317, Numero di archi: 1\n",
      "Peso: 318, Numero di archi: 2\n",
      "Peso: 319, Numero di archi: 1\n",
      "Peso: 320, Numero di archi: 1\n",
      "Peso: 321, Numero di archi: 4\n",
      "Peso: 322, Numero di archi: 1\n",
      "Peso: 323, Numero di archi: 2\n",
      "Peso: 324, Numero di archi: 2\n",
      "Peso: 325, Numero di archi: 3\n",
      "Peso: 326, Numero di archi: 4\n",
      "Peso: 327, Numero di archi: 2\n",
      "Peso: 328, Numero di archi: 1\n",
      "Peso: 329, Numero di archi: 3\n",
      "Peso: 330, Numero di archi: 2\n",
      "Peso: 331, Numero di archi: 3\n",
      "Peso: 332, Numero di archi: 5\n",
      "Peso: 333, Numero di archi: 1\n",
      "Peso: 334, Numero di archi: 3\n",
      "Peso: 335, Numero di archi: 1\n",
      "Peso: 336, Numero di archi: 4\n",
      "Peso: 337, Numero di archi: 2\n",
      "Peso: 338, Numero di archi: 2\n",
      "Peso: 339, Numero di archi: 2\n",
      "Peso: 340, Numero di archi: 3\n",
      "Peso: 341, Numero di archi: 1\n",
      "Peso: 342, Numero di archi: 1\n",
      "Peso: 343, Numero di archi: 2\n",
      "Peso: 344, Numero di archi: 1\n",
      "Peso: 346, Numero di archi: 3\n",
      "Peso: 347, Numero di archi: 4\n",
      "Peso: 348, Numero di archi: 3\n",
      "Peso: 349, Numero di archi: 2\n",
      "Peso: 350, Numero di archi: 1\n",
      "Peso: 351, Numero di archi: 1\n",
      "Peso: 352, Numero di archi: 3\n",
      "Peso: 354, Numero di archi: 1\n",
      "Peso: 355, Numero di archi: 1\n",
      "Peso: 356, Numero di archi: 2\n",
      "Peso: 357, Numero di archi: 1\n",
      "Peso: 358, Numero di archi: 2\n",
      "Peso: 360, Numero di archi: 3\n",
      "Peso: 361, Numero di archi: 2\n",
      "Peso: 362, Numero di archi: 1\n",
      "Peso: 363, Numero di archi: 1\n",
      "Peso: 364, Numero di archi: 1\n",
      "Peso: 365, Numero di archi: 2\n",
      "Peso: 366, Numero di archi: 1\n",
      "Peso: 367, Numero di archi: 1\n",
      "Peso: 368, Numero di archi: 1\n",
      "Peso: 370, Numero di archi: 3\n",
      "Peso: 371, Numero di archi: 1\n",
      "Peso: 374, Numero di archi: 4\n",
      "Peso: 375, Numero di archi: 1\n",
      "Peso: 376, Numero di archi: 1\n",
      "Peso: 377, Numero di archi: 2\n",
      "Peso: 378, Numero di archi: 2\n",
      "Peso: 381, Numero di archi: 1\n",
      "Peso: 382, Numero di archi: 3\n",
      "Peso: 383, Numero di archi: 1\n",
      "Peso: 384, Numero di archi: 1\n",
      "Peso: 385, Numero di archi: 1\n",
      "Peso: 386, Numero di archi: 2\n",
      "Peso: 388, Numero di archi: 1\n",
      "Peso: 389, Numero di archi: 1\n",
      "Peso: 391, Numero di archi: 1\n",
      "Peso: 393, Numero di archi: 2\n",
      "Peso: 394, Numero di archi: 1\n",
      "Peso: 395, Numero di archi: 1\n",
      "Peso: 396, Numero di archi: 2\n",
      "Peso: 397, Numero di archi: 1\n",
      "Peso: 399, Numero di archi: 1\n",
      "Peso: 400, Numero di archi: 2\n",
      "Peso: 402, Numero di archi: 2\n",
      "Peso: 404, Numero di archi: 1\n",
      "Peso: 405, Numero di archi: 3\n",
      "Peso: 406, Numero di archi: 2\n",
      "Peso: 407, Numero di archi: 2\n",
      "Peso: 408, Numero di archi: 1\n",
      "Peso: 411, Numero di archi: 1\n",
      "Peso: 413, Numero di archi: 1\n",
      "Peso: 414, Numero di archi: 1\n",
      "Peso: 419, Numero di archi: 1\n",
      "Peso: 422, Numero di archi: 1\n",
      "Peso: 423, Numero di archi: 2\n",
      "Peso: 424, Numero di archi: 1\n",
      "Peso: 426, Numero di archi: 3\n",
      "Peso: 429, Numero di archi: 3\n",
      "Peso: 431, Numero di archi: 1\n",
      "Peso: 433, Numero di archi: 2\n",
      "Peso: 434, Numero di archi: 1\n",
      "Peso: 441, Numero di archi: 2\n",
      "Peso: 442, Numero di archi: 1\n",
      "Peso: 445, Numero di archi: 1\n",
      "Peso: 447, Numero di archi: 1\n",
      "Peso: 448, Numero di archi: 2\n",
      "Peso: 450, Numero di archi: 1\n",
      "Peso: 451, Numero di archi: 2\n",
      "Peso: 454, Numero di archi: 1\n",
      "Peso: 455, Numero di archi: 1\n",
      "Peso: 456, Numero di archi: 1\n",
      "Peso: 457, Numero di archi: 1\n",
      "Peso: 459, Numero di archi: 1\n",
      "Peso: 460, Numero di archi: 2\n",
      "Peso: 461, Numero di archi: 1\n",
      "Peso: 465, Numero di archi: 1\n",
      "Peso: 467, Numero di archi: 2\n",
      "Peso: 472, Numero di archi: 1\n",
      "Peso: 473, Numero di archi: 1\n",
      "Peso: 474, Numero di archi: 1\n",
      "Peso: 476, Numero di archi: 1\n",
      "Peso: 477, Numero di archi: 1\n",
      "Peso: 482, Numero di archi: 2\n",
      "Peso: 483, Numero di archi: 1\n",
      "Peso: 487, Numero di archi: 2\n",
      "Peso: 492, Numero di archi: 1\n",
      "Peso: 495, Numero di archi: 1\n",
      "Peso: 496, Numero di archi: 1\n",
      "Peso: 497, Numero di archi: 1\n",
      "Peso: 499, Numero di archi: 1\n",
      "Peso: 501, Numero di archi: 1\n",
      "Peso: 502, Numero di archi: 1\n",
      "Peso: 506, Numero di archi: 1\n",
      "Peso: 507, Numero di archi: 2\n",
      "Peso: 509, Numero di archi: 1\n",
      "Peso: 511, Numero di archi: 1\n",
      "Peso: 512, Numero di archi: 1\n",
      "Peso: 515, Numero di archi: 1\n",
      "Peso: 516, Numero di archi: 1\n",
      "Peso: 519, Numero di archi: 1\n",
      "Peso: 523, Numero di archi: 1\n",
      "Peso: 525, Numero di archi: 1\n",
      "Peso: 526, Numero di archi: 1\n",
      "Peso: 527, Numero di archi: 1\n",
      "Peso: 529, Numero di archi: 1\n",
      "Peso: 533, Numero di archi: 2\n",
      "Peso: 536, Numero di archi: 1\n",
      "Peso: 538, Numero di archi: 1\n",
      "Peso: 557, Numero di archi: 1\n",
      "Peso: 558, Numero di archi: 1\n",
      "Peso: 559, Numero di archi: 1\n",
      "Peso: 561, Numero di archi: 1\n",
      "Peso: 564, Numero di archi: 1\n",
      "Peso: 566, Numero di archi: 2\n",
      "Peso: 569, Numero di archi: 1\n",
      "Peso: 572, Numero di archi: 1\n",
      "Peso: 573, Numero di archi: 1\n",
      "Peso: 577, Numero di archi: 1\n",
      "Peso: 581, Numero di archi: 1\n",
      "Peso: 590, Numero di archi: 1\n",
      "Peso: 592, Numero di archi: 1\n",
      "Peso: 593, Numero di archi: 1\n",
      "Peso: 595, Numero di archi: 1\n",
      "Peso: 596, Numero di archi: 1\n",
      "Peso: 603, Numero di archi: 1\n",
      "Peso: 606, Numero di archi: 1\n",
      "Peso: 609, Numero di archi: 1\n",
      "Peso: 623, Numero di archi: 1\n",
      "Peso: 629, Numero di archi: 1\n",
      "Peso: 634, Numero di archi: 1\n",
      "Peso: 640, Numero di archi: 1\n",
      "Peso: 650, Numero di archi: 1\n",
      "Peso: 661, Numero di archi: 1\n",
      "Peso: 662, Numero di archi: 1\n",
      "Peso: 676, Numero di archi: 1\n",
      "Peso: 680, Numero di archi: 2\n",
      "Peso: 701, Numero di archi: 1\n",
      "Peso: 723, Numero di archi: 2\n",
      "Peso: 783, Numero di archi: 1\n",
      "Peso: 790, Numero di archi: 2\n",
      "Peso: 837, Numero di archi: 1\n",
      "Peso: 856, Numero di archi: 1\n",
      "Peso: 914, Numero di archi: 1\n",
      "Peso: 950, Numero di archi: 1\n",
      "Peso: 1077, Numero di archi: 1\n",
      "Peso: 1338, Numero di archi: 1\n",
      "Numero di archi con peso diverso da zero: 164054\n",
      "Numero totale di archi nel grafo user-user: 164054\n",
      "Il numero totale di archi è corretto.\n"
     ]
    }
   ],
   "source": [
    "# Controllo dei pesi degli archi nel grafo user-user\n",
    "def analyze_user_user_edge_weights(user_user_graph: nx.Graph, expected_total_edges: int):\n",
    "    edge_weights = [data['weight'] for u, v, data in user_user_graph.edges(data=True)]\n",
    "\n",
    "    print(f\"Range dei pesi degli archi user-user: min={min(edge_weights)}, max={max(edge_weights)}\")\n",
    "\n",
    "    weight_dict = {}\n",
    "    for weight in edge_weights:\n",
    "        if weight in weight_dict:\n",
    "            weight_dict[weight] += 1\n",
    "        else:\n",
    "            weight_dict[weight] = 1\n",
    "\n",
    "    print(\"Distribuzione dei pesi degli archi user-user:\")\n",
    "    for weight, count in sorted(weight_dict.items()):\n",
    "        print(f\"Peso: {weight}, Numero di archi: {count}\")\n",
    "\n",
    "    total_non_zero = sum(count for weight, count in weight_dict.items() if weight != 0.0)\n",
    "    print(f\"Numero di archi con peso diverso da zero: {total_non_zero}\")\n",
    "\n",
    "    actual_total_edges = len(edge_weights)\n",
    "    print(f\"Numero totale di archi nel grafo user-user: {actual_total_edges}\")\n",
    "    if actual_total_edges == expected_total_edges:\n",
    "        print(\"Il numero totale di archi è corretto.\")\n",
    "    else:\n",
    "        print(f\"ATTENZIONE: Il numero totale di archi è {actual_total_edges}, ma il valore atteso era {expected_total_edges}.\")\n",
    "\n",
    "    return weight_dict, edge_weights\n",
    "\n",
    "expected_total_edges = 164054\n",
    "weight_dict, edge_weights = analyze_user_user_edge_weights(user_user_graph, expected_total_edges)"
   ]
  },
  {
   "cell_type": "code",
   "execution_count": 36,
   "metadata": {
    "colab": {
     "base_uri": "https://localhost:8080/",
     "height": 472
    },
    "executionInfo": {
     "elapsed": 875,
     "status": "ok",
     "timestamp": 1735569023840,
     "user": {
      "displayName": "Aurora Traversini",
      "userId": "16205365685508391354"
     },
     "user_tz": -60
    },
    "id": "_35VHI448pQ3",
    "outputId": "50b395f7-f7fd-4d5f-f4e1-db4c48996024"
   },
   "outputs": [
    {
     "data": {
      "image/png": "[encoded data removed]",
      "text/plain": [
       "<Figure size 640x480 with 1 Axes>"
      ]
     },
     "metadata": {},
     "output_type": "display_data"
    }
   ],
   "source": [
    "import matplotlib.pyplot as plt\n",
    "\n",
    "filtered_weight_dict = {}\n",
    "for k,v in weight_dict.items():\n",
    "    if v < 300:\n",
    "      filtered_weight_dict[k] = v\n",
    "\n",
    "plt.bar(filtered_weight_dict.keys(), filtered_weight_dict.values())\n",
    "plt.xlabel('Peso')\n",
    "plt.ylabel('Numero di archi')\n",
    "plt.title('Distribuzione dei pesi degli archi user-user')\n",
    "plt.show()"
   ]
  },
  {
   "cell_type": "markdown",
   "metadata": {
    "id": "Y7VgMh01Kk1H"
   },
   "source": [
    "**Link Prediction with Adamic Adar Index**"
   ]
  },
  {
   "cell_type": "markdown",
   "metadata": {
    "id": "IXp-F_IOKk1H"
   },
   "source": [
    "L'**Adamic-Adar Index** è una misura utilizzata per calcolare la _similarità_ tra due nodi in una rete (o grafo) in base ai loro _vicini comuni_. Questa misura si basa sull'idea che i vicini comuni più _rari_ (cioè quelli con un basso grado) contribuiscano _maggiormente_ alla similarità rispetto a quelli con un alto grado.  [https://neo4j.com/docs/graph-data-science/current/alpha-algorithms/adamic-adar/]\n",
    "\n",
    "La formula per calcolare l'indice di Adamic-Adar tra due nodi $u$ e $v$ è:\n",
    "\n",
    "$$\n",
    "A(u, v) = \\sum_{w \\in N(u) \\cap N(v)} \\frac{1}{\\log |N(w)|}\n",
    "$$\n",
    "\n",
    "Dove:\n",
    "- $N(u)$ è l'insieme dei vicini del nodo $u$.\n",
    "- $N(v)$ è l'insieme dei vicini del nodo $v$.\n",
    "- $N(w)$ è l'insieme dei vicini del nodo $w$ (nodo comune tra $u$ e $v$).\n",
    "- $|N(w)|$ rappresenta il grado del nodo $w$.\n",
    "\n",
    "In altre parole, l'indice somma i contributi inversamente proporzionali alla logaritmica del grado dei vicini comuni $w$.\n",
    "\n",
    "L'Adamic-Adar Index viene ampiamente utilizzato nella **link prediction** nei sistemi di raccomandazione, ad esempio per predire nuovi film che un utente potrebbe apprezzare. Ecco i motivi principali:\n",
    "\n",
    "1. **Valorizzazione dei vicini rari**:\n",
    "   - La presenza di vicini comuni rari è considerata più significativa nella formazione di nuovi collegamenti, poiché suggerisce una connessione più forte tra i nodi.\n",
    "   - Ad esempio, in una rete sociale, avere amici comuni con pochi altri contatti può essere indicativo di una relazione più stretta.\n",
    "\n",
    "2. **Efficienza computazionale**:\n",
    "   - L'indice è relativamente semplice da calcolare per coppie di nodi e può essere implementato in modo efficace anche su grandi reti sparse.\n",
    "\n",
    "3. **Adattabilità a diversi domini**:\n",
    "   - L'indice si applica bene a reti sociali, biologiche, di co-autorship, e molte altre tipologie di grafo.\n",
    "\n",
    "4. **Rilevanza statistica**:\n",
    "   - Penalizzando i nodi con alti gradi ($\\log |N(w)|$), l'Adamic-Adar Index riduce l'effetto di \"hub\" o nodi centrali nella rete, rendendo la misura più bilanciata.\n",
    "\n",
    "Nella link prediction, l'indice viene utilizzato per stimare la _probabilità_ che un collegamento esista (o si formi in futuro) tra due nodi non direttamente collegati. In particolare:\n",
    "\n",
    "1. Si calcolano gli indici Adamic-Adar per tutte le coppie di nodi non collegati.\n",
    "2. Si ordinano le coppie in base ai valori di similarità.\n",
    "3. Si predice che i collegamenti con i valori più alti abbiano la maggiore probabilità di esistere o di formarsi.\n",
    "\n",
    "Immaginiamo un grafo con i seguenti nodi e connessioni:\n",
    "- Nodo $u$ è connesso a $a, b$.\n",
    "- Nodo $v$ è connesso a $b, c$.\n",
    "\n",
    "Il vicinato comune tra $u$ e $v$ è costituito dal nodo $b$. Supponendo che $|N(b)| = 10$, il contributo di $b$ all'indice Adamic-Adar sarà:\n",
    "\n",
    "$$\n",
    "\\frac{1}{\\log 10} \\approx 0.434\n",
    "$$\n",
    "\n",
    "Se ci sono più vicini comuni, i loro contributi saranno sommati per ottenere il valore finale dell'indice.\n",
    "\n",
    "Nonostante l'efficacia in molti scenari, l'Adamic-Adar Index presenta alcune limitazioni:\n",
    "- **Bias verso nodi con basso grado**: Questa caratteristica può risultare svantaggiosa in alcune reti dove gli hub giocano un ruolo cruciale.\n",
    "- **Non considera i pesi degli archi**: La versione standard non tiene conto di pesi o altre proprietà degli archi, che potrebbero essere rilevanti in applicazioni specifiche.\n"
   ]
  },
  {
   "cell_type": "code",
   "execution_count": 21,
   "metadata": {
    "colab": {
     "base_uri": "https://localhost:8080/"
    },
    "executionInfo": {
     "elapsed": 77711,
     "status": "ok",
     "timestamp": 1735567614161,
     "user": {
      "displayName": "Aurora Traversini",
      "userId": "16205365685508391354"
     },
     "user_tz": -60
    },
    "id": "XbsIK6E9Kk1H",
    "outputId": "641133a6-e06d-4e69-e21c-af2b3a70f276"
   },
   "outputs": [
    {
     "name": "stdout",
     "output_type": "stream",
     "text": [
      "The link predicted are #  21691\n",
      "Adamic-Adar scores salvati in 'adamic_adar_scores_user_user.csv'\n"
     ]
    }
   ],
   "source": [
    "def calculate_adamic_adar(graph):\n",
    "    scores = []\n",
    "    for u, v in nx.non_edges(graph):\n",
    "        common_neighbors = set(nx.common_neighbors(graph, u, v))\n",
    "        if common_neighbors:\n",
    "            score = sum(1 / np.log(len(list(graph.neighbors(w)))) for w in common_neighbors)\n",
    "            type_u = graph.nodes[u].get('bipartite', -1)\n",
    "            type_v = graph.nodes[v].get('bipartite', -1)\n",
    "            if type_u == 0 and type_v == 1:  # user-movie\n",
    "                link_type = \"user-movie\"\n",
    "            elif type_u == 1 and type_v == 1:  # movie-movie\n",
    "                link_type = \"movie-movie\"\n",
    "            elif type_u == 0 and type_v == 0:  # user-user (poco probabile nel tuo caso)\n",
    "                link_type = \"user-user\"\n",
    "            else:\n",
    "                link_type = \"unknown\"\n",
    "            scores.append((u, v, score, link_type))\n",
    "    return scores\n",
    "\n",
    "adamic_adar_scores = calculate_adamic_adar(user_user_graph)\n",
    "\n",
    "print(\"I link predetti sono:\", len(adamic_adar_scores))"
   ]
  },
  {
   "cell_type": "code",
   "execution_count": null,
   "metadata": {},
   "outputs": [],
   "source": [
    "\n",
    "# Salva i risultati in un CSV\n",
    "adamic_adar_df = pd.DataFrame(adamic_adar_scores, columns=[\"Node u\", \"Node v\", \"Score\", \"LinkType\"])\n",
    "adamic_adar_df.to_csv(\"adamic_adar_scores_user_user.csv\", index=False)\n",
    "\n",
    "print(\"Adamic-Adar scores salvati in 'adamic_adar_scores_user_user.csv'\")"
   ]
  },
  {
   "cell_type": "code",
   "execution_count": 30,
   "metadata": {
    "colab": {
     "base_uri": "https://localhost:8080/"
    },
    "executionInfo": {
     "elapsed": 236,
     "status": "ok",
     "timestamp": 1735568369347,
     "user": {
      "displayName": "Aurora Traversini",
      "userId": "16205365685508391354"
     },
     "user_tz": -60
    },
    "id": "mIySgQgB7U8e",
    "outputId": "1887a5c1-e3b0-4ebb-a5e8-e31f4d634dad"
   },
   "outputs": [
    {
     "name": "stdout",
     "output_type": "stream",
     "text": [
      "Range degli score Adamic-Adar: min=9.879585259240814, max=88.57402962234279\n",
      "Distribuzione degli score Adamic-Adar:\n",
      "Score: 9, Numero di link: 1\n",
      "Score: 10, Numero di link: 1\n",
      "Score: 12, Numero di link: 4\n",
      "Score: 13, Numero di link: 9\n",
      "Score: 14, Numero di link: 17\n",
      "Score: 15, Numero di link: 18\n",
      "Score: 16, Numero di link: 61\n",
      "Score: 17, Numero di link: 144\n",
      "Score: 18, Numero di link: 192\n",
      "Score: 19, Numero di link: 69\n",
      "Score: 20, Numero di link: 21\n",
      "Score: 21, Numero di link: 23\n",
      "Score: 22, Numero di link: 28\n",
      "Score: 23, Numero di link: 30\n",
      "Score: 24, Numero di link: 66\n",
      "Score: 25, Numero di link: 119\n",
      "Score: 26, Numero di link: 200\n",
      "Score: 27, Numero di link: 149\n",
      "Score: 28, Numero di link: 119\n",
      "Score: 29, Numero di link: 203\n",
      "Score: 30, Numero di link: 205\n",
      "Score: 31, Numero di link: 137\n",
      "Score: 32, Numero di link: 260\n",
      "Score: 33, Numero di link: 252\n",
      "Score: 34, Numero di link: 238\n",
      "Score: 35, Numero di link: 268\n",
      "Score: 36, Numero di link: 350\n",
      "Score: 37, Numero di link: 393\n",
      "Score: 38, Numero di link: 378\n",
      "Score: 39, Numero di link: 353\n",
      "Score: 40, Numero di link: 377\n",
      "Score: 41, Numero di link: 395\n",
      "Score: 42, Numero di link: 454\n",
      "Score: 43, Numero di link: 582\n",
      "Score: 44, Numero di link: 518\n",
      "Score: 45, Numero di link: 507\n",
      "Score: 46, Numero di link: 516\n",
      "Score: 47, Numero di link: 462\n",
      "Score: 48, Numero di link: 463\n",
      "Score: 49, Numero di link: 505\n",
      "Score: 50, Numero di link: 487\n",
      "Score: 51, Numero di link: 505\n",
      "Score: 52, Numero di link: 496\n",
      "Score: 53, Numero di link: 520\n",
      "Score: 54, Numero di link: 473\n",
      "Score: 55, Numero di link: 449\n",
      "Score: 56, Numero di link: 447\n",
      "Score: 57, Numero di link: 513\n",
      "Score: 58, Numero di link: 529\n",
      "Score: 59, Numero di link: 574\n",
      "Score: 60, Numero di link: 505\n",
      "Score: 61, Numero di link: 499\n",
      "Score: 62, Numero di link: 468\n",
      "Score: 63, Numero di link: 464\n",
      "Score: 64, Numero di link: 515\n",
      "Score: 65, Numero di link: 518\n",
      "Score: 66, Numero di link: 511\n",
      "Score: 67, Numero di link: 489\n",
      "Score: 68, Numero di link: 454\n",
      "Score: 69, Numero di link: 456\n",
      "Score: 70, Numero di link: 419\n",
      "Score: 71, Numero di link: 385\n",
      "Score: 72, Numero di link: 322\n",
      "Score: 73, Numero di link: 281\n",
      "Score: 74, Numero di link: 279\n",
      "Score: 75, Numero di link: 217\n",
      "Score: 76, Numero di link: 188\n",
      "Score: 77, Numero di link: 158\n",
      "Score: 78, Numero di link: 147\n",
      "Score: 79, Numero di link: 124\n",
      "Score: 80, Numero di link: 72\n",
      "Score: 81, Numero di link: 38\n",
      "Score: 82, Numero di link: 46\n",
      "Score: 83, Numero di link: 26\n",
      "Score: 84, Numero di link: 14\n",
      "Score: 85, Numero di link: 9\n",
      "Score: 86, Numero di link: 3\n",
      "Score: 87, Numero di link: 2\n",
      "Score: 88, Numero di link: 2\n"
     ]
    }
   ],
   "source": [
    "def analyze_adamic_adar_from_df(adamic_adar_df):\n",
    "    min_score = adamic_adar_df[\"Score\"].min()\n",
    "    max_score = adamic_adar_df[\"Score\"].max()\n",
    "    print(f\"Range degli score Adamic-Adar: min={min_score}, max={max_score}\")\n",
    "\n",
    "    adamic_adar_df[\"RoundedScore\"] = adamic_adar_df[\"Score\"].round(2)\n",
    "    score_distribution = adamic_adar_df[\"RoundedScore\"].astype(int).value_counts().sort_index()\n",
    "\n",
    "    print(\"Distribuzione degli score Adamic-Adar:\")\n",
    "    for score, count in score_distribution.items():\n",
    "        print(f\"Score: {score}, Numero di link: {count}\")\n",
    "\n",
    "    return score_distribution\n",
    "\n",
    "score_distribution = analyze_adamic_adar_from_df(adamic_adar_df)"
   ]
  },
  {
   "cell_type": "code",
   "execution_count": 31,
   "metadata": {
    "colab": {
     "base_uri": "https://localhost:8080/",
     "height": 472
    },
    "executionInfo": {
     "elapsed": 639,
     "status": "ok",
     "timestamp": 1735568433840,
     "user": {
      "displayName": "Aurora Traversini",
      "userId": "16205365685508391354"
     },
     "user_tz": -60
    },
    "id": "_ZHFtJs98Ahn",
    "outputId": "79abb53e-51f7-44d1-e438-be8204e02952"
   },
   "outputs": [
    {
     "data": {
      "image/png": "[encoded data removed]",
      "text/plain": [
       "<Figure size 640x480 with 1 Axes>"
      ]
     },
     "metadata": {},
     "output_type": "display_data"
    }
   ],
   "source": [
    "plt.bar(score_distribution.index, score_distribution.values)\n",
    "plt.xlabel('Score')\n",
    "plt.ylabel('Numero di link')\n",
    "plt.title('Distribuzione degli score Adamic-Adar')\n",
    "plt.show()"
   ]
  },
  {
   "cell_type": "code",
   "execution_count": 39,
   "metadata": {
    "colab": {
     "base_uri": "https://localhost:8080/",
     "height": 472
    },
    "executionInfo": {
     "elapsed": 587,
     "status": "ok",
     "timestamp": 1735569366571,
     "user": {
      "displayName": "Aurora Traversini",
      "userId": "16205365685508391354"
     },
     "user_tz": -60
    },
    "id": "f0m1C0sK_Cr5",
    "outputId": "16857a15-3411-4e7d-ed49-c061f63b045d"
   },
   "outputs": [
    {
     "data": {
      "image/png": "[encoded data removed]",
      "text/plain": [
       "<Figure size 640x480 with 1 Axes>"
      ]
     },
     "metadata": {},
     "output_type": "display_data"
    }
   ],
   "source": [
    "# Resize degli score\n",
    "plt.bar(score_distribution.index/2, score_distribution.values)\n",
    "plt.xlabel('Score')\n",
    "plt.ylabel('Numero di link')\n",
    "plt.title('Distribuzione degli score Adamic-Adar')\n",
    "plt.show()"
   ]
  },
  {
   "cell_type": "code",
   "execution_count": 26,
   "metadata": {
    "colab": {
     "base_uri": "https://localhost:8080/"
    },
    "executionInfo": {
     "elapsed": 279,
     "status": "ok",
     "timestamp": 1735567725280,
     "user": {
      "displayName": "Aurora Traversini",
      "userId": "16205365685508391354"
     },
     "user_tz": -60
    },
    "id": "-X-vSsPcTkA2",
    "outputId": "42c46f4b-1f05-4946-d83d-b28e25eca00f"
   },
   "outputs": [
    {
     "name": "stdout",
     "output_type": "stream",
     "text": [
      "   Node u  Node v      Score   LinkType\n",
      "0       1     578  27.100798  user-user\n",
      "1       1     556  61.756292  user-user\n",
      "2       1     397  33.213062  user-user\n",
      "3       1     175  19.113945  user-user\n",
      "4       1     496  61.782146  user-user\n"
     ]
    }
   ],
   "source": [
    "#altri print di debug utili per controllare \"calculate_adamic_adar\"\n",
    "print(adamic_adar_df.head())"
   ]
  },
  {
   "cell_type": "code",
   "execution_count": 21,
   "metadata": {
    "executionInfo": {
     "elapsed": 30,
     "status": "ok",
     "timestamp": 1735507160403,
     "user": {
      "displayName": "Aurora Traversini",
      "userId": "16205365685508391354"
     },
     "user_tz": -60
    },
    "id": "fSBGQ1JjKk1I"
   },
   "outputs": [],
   "source": [
    "# Aggiunta di link predetti\n",
    "def add_predicted_links(graph, predicted_edges, threshold):\n",
    "    for u, v, score in predicted_edges:\n",
    "        if score > threshold:  #threshold is 50\n",
    "            graph.add_edge(u, v, weight=score)\n",
    "    return graph"
   ]
  },
  {
   "cell_type": "code",
   "execution_count": null,
   "metadata": {},
   "outputs": [],
   "source": [
    "user_user_graph_extended = add_predicted_links(user_user_graph, adamic_adar_scores, 50)\n",
    "# movie_movie_graph_extended = add_predicted_links(movie_movie_graph, adamic_adar_scores, 50)"
   ]
  },
  {
   "cell_type": "markdown",
   "metadata": {},
   "source": [
    "Questo notebook si ferma alla creazione di un grafo esteso in cui sono inclusi nuovi archi predetti tramite link prediction.\n",
    "Da qui in poi il grafo è analizzabile con un qualsiasi altro approccio"
   ]
  }
 ],
 "metadata": {
  "colab": {
   "provenance": []
  },
  "kernelspec": {
   "display_name": "base",
   "language": "python",
   "name": "python3"
  },
  "language_info": {
   "codemirror_mode": {
    "name": "ipython",
    "version": 3
   },
   "file_extension": ".py",
   "mimetype": "text/x-python",
   "name": "python",
   "nbconvert_exporter": "python",
   "pygments_lexer": "ipython3",
   "version": "3.11.5"
  }
 },
 "nbformat": 4,
 "nbformat_minor": 0
}
