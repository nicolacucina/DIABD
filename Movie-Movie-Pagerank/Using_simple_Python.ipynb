{
 "cells": [
  {
   "cell_type": "markdown",
   "metadata": {},
   "source": [
    "Implementazione di https://medium.com/eni-digitalks/a-simple-recommender-system-using-pagerank-4a63071c8cbf\n",
    "\n",
    "Da: https://grouplens.org/datasets/movielens/ scaricare [ml-latest-small.zip](https://files.grouplens.org/datasets/movielens/ml-latest-small.zip)\n",
    "\n",
    "## recommended for education and development\n",
    " \n",
    "### MovieLens Latest Datasets\n",
    "\n",
    "These datasets will change over time, and are not appropriate for reporting research results. We will keep the download links stable for automated downloads. We will not archive or make available previously released versions.\n",
    "\n",
    "_Small_: 100,000 ratings and 3,600 tag applications applied to 9,000 movies by 600 users. Last updated 9/2018.\n",
    "\n",
    "    README.html\n",
    "[ml-latest-small.zip](https://files.grouplens.org/datasets/movielens/ml-latest-small.zip) (size: 1 MB)\n",
    "\n",
    "_Full_: approximately 33,000,000 ratings and 2,000,000 tag applications applied to 86,000 movies by 330,975 users. Includes tag genome data with 14 million relevance scores across 1,100 tags. Last updated 9/2018.\n",
    "\n",
    "    README.html\n",
    "[ml-latest.zip](https://files.grouplens.org/datasets/movielens/ml-latest.zip) (size: 335 MB) \n",
    "\n",
    "Permalink: https://grouplens.org/datasets/movielens/latest/"
   ]
  },
  {
   "cell_type": "code",
   "execution_count": 1,
   "metadata": {},
   "outputs": [],
   "source": [
    "import pandas as pd\n",
    "\n",
    "# Open ratings.csv file\n",
    "ratings = pd.read_csv(\"../ml-latest-small/ratings.csv\")"
   ]
  },
  {
   "cell_type": "code",
   "execution_count": 2,
   "metadata": {},
   "outputs": [],
   "source": [
    "# Open movies.csv file\n",
    "movies = pd.read_csv(\"../ml-latest-small/movies.csv\")"
   ]
  },
  {
   "cell_type": "code",
   "execution_count": 3,
   "metadata": {},
   "outputs": [],
   "source": [
    "# Merge ratings and movies\n",
    "user_movie_matrix = pd.merge(ratings, movies, on=\"movieId\", how=\"inner\")"
   ]
  },
  {
   "cell_type": "code",
   "execution_count": 4,
   "metadata": {},
   "outputs": [
    {
     "data": {
      "text/html": [
       "<div>\n",
       "<style scoped>\n",
       "    .dataframe tbody tr th:only-of-type {\n",
       "        vertical-align: middle;\n",
       "    }\n",
       "\n",
       "    .dataframe tbody tr th {\n",
       "        vertical-align: top;\n",
       "    }\n",
       "\n",
       "    .dataframe thead th {\n",
       "        text-align: right;\n",
       "    }\n",
       "</style>\n",
       "<table border=\"1\" class=\"dataframe\">\n",
       "  <thead>\n",
       "    <tr style=\"text-align: right;\">\n",
       "      <th></th>\n",
       "      <th>userId</th>\n",
       "      <th>movieId</th>\n",
       "      <th>rating</th>\n",
       "      <th>timestamp</th>\n",
       "      <th>title</th>\n",
       "      <th>genres</th>\n",
       "    </tr>\n",
       "  </thead>\n",
       "  <tbody>\n",
       "    <tr>\n",
       "      <th>0</th>\n",
       "      <td>1</td>\n",
       "      <td>1</td>\n",
       "      <td>4.0</td>\n",
       "      <td>964982703</td>\n",
       "      <td>Toy Story (1995)</td>\n",
       "      <td>Adventure|Animation|Children|Comedy|Fantasy</td>\n",
       "    </tr>\n",
       "    <tr>\n",
       "      <th>1</th>\n",
       "      <td>5</td>\n",
       "      <td>1</td>\n",
       "      <td>4.0</td>\n",
       "      <td>847434962</td>\n",
       "      <td>Toy Story (1995)</td>\n",
       "      <td>Adventure|Animation|Children|Comedy|Fantasy</td>\n",
       "    </tr>\n",
       "    <tr>\n",
       "      <th>2</th>\n",
       "      <td>7</td>\n",
       "      <td>1</td>\n",
       "      <td>4.5</td>\n",
       "      <td>1106635946</td>\n",
       "      <td>Toy Story (1995)</td>\n",
       "      <td>Adventure|Animation|Children|Comedy|Fantasy</td>\n",
       "    </tr>\n",
       "    <tr>\n",
       "      <th>3</th>\n",
       "      <td>15</td>\n",
       "      <td>1</td>\n",
       "      <td>2.5</td>\n",
       "      <td>1510577970</td>\n",
       "      <td>Toy Story (1995)</td>\n",
       "      <td>Adventure|Animation|Children|Comedy|Fantasy</td>\n",
       "    </tr>\n",
       "    <tr>\n",
       "      <th>4</th>\n",
       "      <td>17</td>\n",
       "      <td>1</td>\n",
       "      <td>4.5</td>\n",
       "      <td>1305696483</td>\n",
       "      <td>Toy Story (1995)</td>\n",
       "      <td>Adventure|Animation|Children|Comedy|Fantasy</td>\n",
       "    </tr>\n",
       "  </tbody>\n",
       "</table>\n",
       "</div>"
      ],
      "text/plain": [
       "   userId  movieId  rating   timestamp             title  \\\n",
       "0       1        1     4.0   964982703  Toy Story (1995)   \n",
       "1       5        1     4.0   847434962  Toy Story (1995)   \n",
       "2       7        1     4.5  1106635946  Toy Story (1995)   \n",
       "3      15        1     2.5  1510577970  Toy Story (1995)   \n",
       "4      17        1     4.5  1305696483  Toy Story (1995)   \n",
       "\n",
       "                                        genres  \n",
       "0  Adventure|Animation|Children|Comedy|Fantasy  \n",
       "1  Adventure|Animation|Children|Comedy|Fantasy  \n",
       "2  Adventure|Animation|Children|Comedy|Fantasy  \n",
       "3  Adventure|Animation|Children|Comedy|Fantasy  \n",
       "4  Adventure|Animation|Children|Comedy|Fantasy  "
      ]
     },
     "execution_count": 4,
     "metadata": {},
     "output_type": "execute_result"
    }
   ],
   "source": [
    "user_movie_matrix.head()"
   ]
  },
  {
   "cell_type": "code",
   "execution_count": 5,
   "metadata": {},
   "outputs": [
    {
     "name": "stdout",
     "output_type": "stream",
     "text": [
      "[4.  4.5 2.5 3.5 3.  5.  0.5 2.  1.5 1. ]\n"
     ]
    }
   ],
   "source": [
    "# print out the unique values of the rating column\n",
    "print(user_movie_matrix[\"rating\"].unique())"
   ]
  },
  {
   "cell_type": "code",
   "execution_count": 5,
   "metadata": {},
   "outputs": [],
   "source": [
    "# Map rating to scores\n",
    "\n",
    "mapping_score = {\n",
    "    0.5:-1.2,\n",
    "    1:-1.1,\n",
    "    1.5:-1,\n",
    "    2:-0.5,\n",
    "    2.5:-0.1,\n",
    "    3:0.1,\n",
    "    3.5:0.5,\n",
    "    4:1,\n",
    "    4.5:1.1,\n",
    "    5:1.2\n",
    "}"
   ]
  },
  {
   "cell_type": "markdown",
   "metadata": {},
   "source": [
    "Basandoci sulle ratings presenti nel dataset vado a proiettare il grafo movie_movie che mi consente di trovare la similarità tra i film. Il vettore di mappaggio è scelto arbitrariamente e serve a decidere quanto pesano le varie ratings."
   ]
  },
  {
   "cell_type": "code",
   "execution_count": 6,
   "metadata": {},
   "outputs": [],
   "source": [
    "import networkx as nx\n",
    "\n",
    "# Create a directed graph\n",
    "user_movie_graph = nx.Graph()\n",
    "\n",
    "# Add nodes and edges\n",
    "for _, row in user_movie_matrix.iterrows():\n",
    "    user_movie_graph.add_node(row[\"userId\"], bipartite=0)\n",
    "    user_movie_graph.add_node(row[\"title\"], bipartite=1, genre=row[\"genres\"], movieId=row[\"movieId\"])\n",
    "    # user_movie_graph.add_edge(row[\"userId\"], row[\"title\"], weight=row[\"rating\"])\n",
    "    user_movie_graph.add_edge(row[\"userId\"], row[\"title\"], weight=mapping_score[row[\"rating\"]])\n",
    "# 4s"
   ]
  },
  {
   "cell_type": "code",
   "execution_count": 8,
   "metadata": {},
   "outputs": [
    {
     "name": "stdout",
     "output_type": "stream",
     "text": [
      "Nodes in the graph: [(1, {'bipartite': 0}), ('Toy Story (1995)', {'bipartite': 1, 'genre': 'Adventure|Animation|Children|Comedy|Fantasy', 'movieId': 1}), (5, {'bipartite': 0}), (7, {'bipartite': 0}), (15, {'bipartite': 0}), (17, {'bipartite': 0}), (18, {'bipartite': 0}), (19, {'bipartite': 0}), (21, {'bipartite': 0}), (27, {'bipartite': 0})]\n",
      "Edges in the graph: [(1, 'Toy Story (1995)', {'weight': 1}), (1, 'Grumpier Old Men (1995)', {'weight': 1}), (1, 'Heat (1995)', {'weight': 1}), (1, 'Seven (a.k.a. Se7en) (1995)', {'weight': 1.2}), (1, 'Usual Suspects, The (1995)', {'weight': 1.2}), (1, 'From Dusk Till Dawn (1996)', {'weight': 0.1}), (1, 'Bottle Rocket (1996)', {'weight': 1.2}), (1, 'Braveheart (1995)', {'weight': 1}), (1, 'Rob Roy (1995)', {'weight': 1.2}), (1, 'Canadian Bacon (1995)', {'weight': 1.2})]\n"
     ]
    }
   ],
   "source": [
    "# Debug print to check the graph construction\n",
    "print(f\"Nodes in the graph: {list(user_movie_graph.nodes(data=True))[:10]}\")\n",
    "print(f\"Edges in the graph: {list(user_movie_graph.edges(data=True))[:10]}\")"
   ]
  },
  {
   "cell_type": "code",
   "execution_count": null,
   "metadata": {},
   "outputs": [
    {
     "name": "stdout",
     "output_type": "stream",
     "text": [
      "Edge memory MB: 5.385009765625\n",
      "Node memory MB: 0.7169580459594727\n",
      "Total memory MB: 6.101967811584473\n"
     ]
    }
   ],
   "source": [
    "import sys\n",
    "\n",
    "edge_mem = sum([sys.getsizeof(e) for e in user_movie_graph.edges])\n",
    "node_mem = sum([sys.getsizeof(n) for n in user_movie_graph.nodes])\n",
    "\n",
    "print(\"Edge memory:\", edge_mem / (1024**2),\"MB\")\n",
    "print(\"Node memory:\", node_mem / (1024**2),\"MB\")\n",
    "print(\"Total memory:\", (edge_mem + node_mem) / (1024**2), \"MB\")"
   ]
  },
  {
   "cell_type": "code",
   "execution_count": 11,
   "metadata": {},
   "outputs": [
    {
     "name": "stdout",
     "output_type": "stream",
     "text": [
      "Users: [1, 2, 3, 4, 5, 6, 7, 8, 9, 10]\n",
      "Number of users: 610\n"
     ]
    }
   ],
   "source": [
    "users = {n for n, d in user_movie_graph.nodes(data=True) if d[\"bipartite\"] == 0}\n",
    "print(f\"Users: {list(users)[:10]}\")\n",
    "print(f\"Number of users: {len(users)}\")"
   ]
  },
  {
   "cell_type": "code",
   "execution_count": 7,
   "metadata": {},
   "outputs": [
    {
     "name": "stdout",
     "output_type": "stream",
     "text": [
      "Movies: ['Saving Mr. Banks (2013)', 'Front Page, The (1974)', 'Men of Honor (2000)', 'Critical Care (1997)', 'Undead (2003)', 'Mary of Scotland (1936)', 'The Intern (2015)', 'The Greatest Showman (2017)', 'Dear Zachary: A Letter to a Son About His Father (2008)', 'Humpday (2009)']\n",
      "Number of movies: 9719\n"
     ]
    }
   ],
   "source": [
    "movies = {n for n, d in user_movie_graph.nodes(data=True) if d[\"bipartite\"] == 1}\n",
    "print(f\"Movies: {list(movies)[:10]}\")\n",
    "print(f\"Number of movies: {len(movies)}\")"
   ]
  },
  {
   "cell_type": "code",
   "execution_count": 13,
   "metadata": {},
   "outputs": [
    {
     "name": "stdout",
     "output_type": "stream",
     "text": [
      "True\n",
      "True\n"
     ]
    }
   ],
   "source": [
    "print(nx.is_bipartite(user_movie_graph))\n",
    "print(nx.is_connected(user_movie_graph))"
   ]
  },
  {
   "cell_type": "code",
   "execution_count": 8,
   "metadata": {},
   "outputs": [],
   "source": [
    "# Project the graph using weights\n",
    "movie_movie_graph = nx.bipartite.weighted_projected_graph(user_movie_graph, movies)\n",
    "# 1m 20s"
   ]
  },
  {
   "cell_type": "code",
   "execution_count": 9,
   "metadata": {},
   "outputs": [],
   "source": [
    "dct = {}\n",
    "for e in movie_movie_graph.edges(data=True):\n",
    "    if e[2]['weight'] not in dct:\n",
    "        dct[e[2]['weight']] = 1\n",
    "    else:\n",
    "        dct[e[2]['weight']] += 1"
   ]
  },
  {
   "cell_type": "code",
   "execution_count": 13,
   "metadata": {},
   "outputs": [
    {
     "name": "stdout",
     "output_type": "stream",
     "text": [
      "{1: 8415931, 2: 2044504, 3: 906219, 5: 307549, 4: 493971, 6: 208104, 8: 110703, 7: 148657, 9: 84516, 13: 35679, 10: 66542, 11: 52977, 12: 43540, 15: 24970, 14: 29925, 22: 8931, 16: 21227, 21: 10149, 19: 13299, 17: 17823, 23: 7871, 18: 15317, 20: 11565, 29: 3975, 27: 4820, 24: 6977, 25: 6255, 26: 5437, 55: 410, 63: 265, 28: 4319, 46: 814, 42: 1108, 37: 1726, 60: 328, 45: 883, 59: 315, 35: 2136, 41: 1214, 31: 3216, 50: 619, 30: 3572, 52: 560, 65: 222, 51: 585, 62: 271, 47: 763, 44: 983, 69: 170, 56: 397, 33: 2564, 58: 328, 49: 649, 48: 669, 67: 234, 36: 1899, 32: 2884, 64: 210, 40: 1355, 43: 1027, 57: 359, 34: 2370, 38: 1622, 54: 456, 53: 494, 103: 21, 71: 164, 97: 44, 72: 121, 95: 43, 61: 290, 82: 84, 88: 50, 102: 26, 92: 45, 84: 83, 81: 85, 39: 1471, 111: 13, 99: 34, 70: 172, 91: 46, 78: 103, 85: 76, 66: 194, 74: 150, 75: 125, 89: 49, 77: 114, 73: 133, 104: 22, 117: 13, 135: 8, 96: 44, 83: 81, 136: 5, 76: 114, 151: 3, 86: 56, 93: 46, 167: 2, 119: 14, 113: 14, 133: 3, 162: 3, 108: 25, 128: 12, 149: 4, 137: 8, 107: 26, 123: 12, 68: 174, 124: 9, 80: 74, 90: 45, 106: 21, 79: 82, 156: 3, 129: 8, 146: 2, 163: 1, 116: 17, 87: 62, 222: 1, 199: 2, 101: 39, 165: 4, 127: 10, 134: 12, 94: 44, 105: 22, 154: 6, 181: 1, 118: 14, 231: 1, 130: 6, 100: 33, 126: 9, 161: 2, 122: 11, 109: 21, 148: 6, 140: 6, 98: 32, 125: 7, 114: 10, 115: 12, 138: 6, 110: 14, 120: 8, 178: 2, 150: 3, 132: 7, 183: 2, 112: 10, 121: 9, 190: 1, 139: 2, 173: 2, 158: 1, 180: 1, 160: 3, 141: 2, 144: 6, 174: 1, 131: 2, 166: 1, 157: 2, 175: 1, 143: 1, 142: 1, 159: 1, 155: 1, 164: 2, 170: 1, 152: 2, 145: 1, 207: 1, 230: 1, 198: 1, 194: 1}\n"
     ]
    },
    {
     "data": {
      "image/png": "[encoded data removed]",
      "text/plain": [
       "<Figure size 640x480 with 1 Axes>"
      ]
     },
     "metadata": {},
     "output_type": "display_data"
    }
   ],
   "source": [
    "print(dct)\n",
    "# bar plot of the dict\n",
    "\n",
    "import matplotlib.pyplot as plt\n",
    "plt.bar(dct.keys(), dct.values())\n",
    "plt.show()"
   ]
  },
  {
   "cell_type": "code",
   "execution_count": null,
   "metadata": {},
   "outputs": [
    {
     "name": "stdout",
     "output_type": "stream",
     "text": [
      "9719\n",
      "13154589\n",
      "Nodes in movie_movie_graph: [('Take This Waltz (2011)', {'bipartite': 1, 'genre': 'Drama|Romance', 'movieId': 94931}), ('11\\'09\"01 - September 11 (2002)', {'bipartite': 1, 'genre': 'Drama', 'movieId': 7789}), ('Rogue (2007)', {'bipartite': 1, 'genre': 'Action|Adventure|Horror|Sci-Fi|Thriller', 'movieId': 60471}), ('Lone Star (1996)', {'bipartite': 1, 'genre': 'Drama|Mystery|Western', 'movieId': 800}), ('Rules of Attraction, The (2002)', {'bipartite': 1, 'genre': 'Comedy|Drama|Romance|Thriller', 'movieId': 5666}), ('Seventh Seal, The (Sjunde inseglet, Det) (1957)', {'bipartite': 1, 'genre': 'Drama', 'movieId': 1237}), ('Ice Age: Collision Course (2016)', {'bipartite': 1, 'genre': 'Adventure|Animation|Children|Comedy', 'movieId': 160569}), (\"Project A 2 ('A' gai wak juk jap) (1987)\", {'bipartite': 1, 'genre': 'Action|Comedy|Crime', 'movieId': 73569}), ('Air I Breathe, The (2007)', {'bipartite': 1, 'genre': 'Crime|Drama|Romance|Thriller', 'movieId': 58078}), ('Winnie Pooh (1969)', {'bipartite': 1, 'genre': 'Animation|Children', 'movieId': 163072})]\n",
      "Edges in movie_movie_graph: [('Take This Waltz (2011)', 'Three Musketeers, The (2011)', {'weight': 1}), ('Take This Waltz (2011)', 'Nymphomaniac: Volume I (2013)', {'weight': 1}), ('Take This Waltz (2011)', 'Killer Joe (2011)', {'weight': 1}), ('Take This Waltz (2011)', 'Revenant, The (2009)', {'weight': 1}), ('Take This Waltz (2011)', 'Pride and Prejudice and Zombies (2016)', {'weight': 1}), ('Take This Waltz (2011)', 'Step Brothers (2008)', {'weight': 1}), ('Take This Waltz (2011)', 'Wonder Woman (2017)', {'weight': 1}), ('Take This Waltz (2011)', 'Edge of Tomorrow (2014)', {'weight': 1}), ('Take This Waltz (2011)', 'Event Horizon (1997)', {'weight': 1}), ('Take This Waltz (2011)', 'War Dogs (2016)', {'weight': 1})]\n"
     ]
    }
   ],
   "source": [
    "print(len(movie_movie_graph.nodes()))\n",
    "print(len(movie_movie_graph.edges()))\n",
    "print(f\"Nodes in movie_movie_graph: {list(movie_movie_graph.nodes(data=True))[:10]}\")\n",
    "print(f\"Edges in movie_movie_graph: {list(movie_movie_graph.edges(data=True))[:10]}\")\n",
    "# 30s"
   ]
  },
  {
   "cell_type": "code",
   "execution_count": 16,
   "metadata": {},
   "outputs": [
    {
     "name": "stdout",
     "output_type": "stream",
     "text": [
      "Edge memory: 702.5308456420898 MB\n",
      "Node memory: 0.7006692886352539 MB\n",
      "Total memory: 703.2315149307251 MB\n"
     ]
    },
    {
     "ename": "",
     "evalue": "",
     "output_type": "error",
     "traceback": [
      "\u001b[1;31mThe Kernel crashed while executing code in the current cell or a previous cell. \n",
      "\u001b[1;31mPlease review the code in the cell(s) to identify a possible cause of the failure. \n",
      "\u001b[1;31mClick <a href='https://aka.ms/vscodeJupyterKernelCrash'>here</a> for more info. \n",
      "\u001b[1;31mView Jupyter <a href='command:jupyter.viewOutput'>log</a> for further details."
     ]
    }
   ],
   "source": [
    "edge_mem = sum([sys.getsizeof(e) for e in movie_movie_graph.edges])\n",
    "node_mem = sum([sys.getsizeof(n) for n in movie_movie_graph.nodes])\n",
    "\n",
    "print(\"Edge memory:\", edge_mem / (1024**2),\"MB\")\n",
    "print(\"Node memory:\", node_mem / (1024**2),\"MB\")\n",
    "print(\"Total memory:\", (edge_mem + node_mem) / (1024**2), \"MB\")"
   ]
  },
  {
   "cell_type": "code",
   "execution_count": 13,
   "metadata": {},
   "outputs": [
    {
     "name": "stdout",
     "output_type": "stream",
     "text": [
      "True\n"
     ]
    }
   ],
   "source": [
    "print(nx.is_connected(movie_movie_graph))"
   ]
  },
  {
   "cell_type": "code",
   "execution_count": 14,
   "metadata": {},
   "outputs": [],
   "source": [
    "# Connection to Neo4j\n",
    "from neo4j import GraphDatabase\n",
    "\n",
    "uri = \"neo4j://localhost:7687\"\n",
    "username = \"neo4j\"\n",
    "password = \"testtest\"\n",
    "\n",
    "driver = GraphDatabase.driver(uri, auth=(username, password))"
   ]
  },
  {
   "cell_type": "code",
   "execution_count": 15,
   "metadata": {},
   "outputs": [],
   "source": [
    "upload = False"
   ]
  },
  {
   "cell_type": "code",
   "execution_count": 16,
   "metadata": {},
   "outputs": [],
   "source": [
    "# Delete all nodes and relationships from Neo4j\n",
    "if upload:\n",
    "    def delete_all(tx):\n",
    "        tx.run(\"MATCH ()-[r]->() DELETE r\")\n",
    "        tx.run(\"MATCH (n) DELETE n\")\n",
    "            \n",
    "    with driver.session() as session:\n",
    "        session.execute_write(delete_all)"
   ]
  },
  {
   "cell_type": "code",
   "execution_count": null,
   "metadata": {},
   "outputs": [],
   "source": [
    "# distinct_genres = ['Adventure', 'Animation', 'Children', 'Comedy', 'Fantasy', 'Romance', 'Drama', 'Action', 'Crime', 'Thriller', 'Horror', 'Mystery', 'Sci-Fi', 'War', 'Musical', 'Documentary', 'IMAX', 'Western', 'Film-Noir', '(no genres listed)']\n",
    "\n",
    "# # create nodes Genre for movie genres\n",
    "# def create_genre_nodes(tx, name):\n",
    "#     tx.run(\"MERGE (:Genre {name: $name})\", name=name)\n",
    "    \n",
    "# with driver.session() as session:\n",
    "#     for row in distinct_genres:\n",
    "#         session.execute_write(create_genre_nodes, row)"
   ]
  },
  {
   "cell_type": "code",
   "execution_count": 17,
   "metadata": {},
   "outputs": [],
   "source": [
    "# Save the user_movie_graph in Neo4j\n",
    "\n",
    "if upload:\n",
    "    def create_nodes_and_relationships(tx, userId, movieId, rating, title, genres):\n",
    "        tx.run(\"MERGE (u:User {userId: $userId}) \"\n",
    "            \"MERGE (m:Movie {movieId: $movieId, title: $title}) \"\n",
    "            \"MERGE (u)-[:RATED {rating: $rating}]->(m)\",\n",
    "            userId=userId, movieId=movieId, rating=rating, title=title)\n",
    "        # for genre_name in genres.split(\"|\"):\n",
    "        #     tx.run(\n",
    "        #         \"MATCH (m:Movie {movieId: $movieId}) \"\n",
    "        #         \"MATCH (g:Genre {name: $genre_name}) \"\n",
    "        #         \"MERGE (m)-[:BELONGS_TO]->(g)\",\n",
    "        #         movieId=movieId, genre_name=genre_name)\n",
    "\n",
    "    # Using the user_movie_matrix\n",
    "    with driver.session() as session:\n",
    "        for _, row in user_movie_matrix.iterrows():\n",
    "            session.execute_write(create_nodes_and_relationships, row[\"userId\"], row[\"movieId\"], row[\"rating\"], row[\"title\"], row[\"genres\"])\n",
    "\n",
    "# 5m\n",
    "\n",
    "# # Using the user_movie_graph (?)\n",
    "# with driver.session() as session:\n",
    "#     for node in user_movie_graph.nodes(data=True):\n",
    "#         if node[1][\"bipartite\"] == 0:\n",
    "#             session.execute_write(create_nodes_and_relationships, node[0], None, None, None, None)\n",
    "#         else:\n",
    "#             session.execute_write(create_nodes_and_relationships, None, node[1][\"movieId\"], None, node[0], node[1][\"genre\"])"
   ]
  },
  {
   "cell_type": "code",
   "execution_count": 18,
   "metadata": {},
   "outputs": [],
   "source": [
    "# Save the movie_movie_graph in Neo4j\n",
    "\n",
    "# if upload:\n",
    "#     def create_movie_movie_relationships(tx, movie1, movie2, weight):\n",
    "#         tx.run(\"MATCH (m1:Movie {title: $movie1}) \"\n",
    "#             \"MATCH (m2:Movie {title: $movie2}) \"\n",
    "#             \"MERGE (m1)-[:SIMILAR {weight: $weight}]->(m2)\",\n",
    "#             movie1=movie1, movie2=movie2, weight=weight)\n",
    "        \n",
    "#     with driver.session() as session:\n",
    "#         for movie1, movie2, weight in movie_movie_graph.edges(data=True):\n",
    "#             session.execute_write(create_movie_movie_relationships, movie1, movie2, weight[\"weight\"])"
   ]
  },
  {
   "cell_type": "code",
   "execution_count": 19,
   "metadata": {},
   "outputs": [],
   "source": [
    "# Recreate the graph from Neo4j\n",
    "load = False\n",
    "\n",
    "if load:\n",
    "    print(\"ciao\")"
   ]
  },
  {
   "cell_type": "markdown",
   "metadata": {},
   "source": [
    "PageRank misura l'_importanza_ di una pagina web sulla base del numero di link entranti, mentre i link uscenti _distribuiscono_ quella stessa importanza alle pagine raggiunte.\n",
    "\n",
    "Se il grafo è rappresentato tramite _matrice di adiacenza_, $L_{ij} = 1$ se esiste un link che permette di passare dalla pagina _j_ alla pagina _i_, $j \\rightarrow i$, altrimenti $L_{ij} = 0$.\n",
    "Se $m_{j} = \\sum_{k=1}^{n} L_{kj}$ è il numero di pagine che vengono linkate da _j_, un possibile valore di PageRank, _BrokenRank_, per la pagina _i_ è:\n",
    "\n",
    "$p_{i} = \\sum_{j \\rightarrow i} \\frac{p_{j}}{m_{j}} = \\sum_{j=1}^{n} \\frac{L_{ij}}{m_{j}}p_{j}$\n",
    "\n",
    "In notazione matriciale:\n",
    "\n",
    "$p=\\begin{bmatrix}\n",
    "    p_{1} \\\\\n",
    "    p_{2} \\\\\n",
    "    \\vdots \\\\\n",
    "    p_{n} \\\\\n",
    "\\end{bmatrix},\n",
    "L=\\begin{bmatrix}\n",
    "    L_{11} && L_{12} && \\dots && L_{1n} \\\\\n",
    "    L_{21} && L_{22} && \\dots && L_{2n} \\\\\n",
    "    \\vdots && \\vdots && \\ddots && \\vdots \\\\\n",
    "    L_{n1} && L_{n2} && \\dots && L_{nn} \\\\\n",
    "\\end{bmatrix},\n",
    "M=\\begin{bmatrix}\n",
    "    m_{1} && 0 && \\dots && 0 \\\\\n",
    "    0 && m_{2} && \\dots && 0 \\\\\n",
    "    \\vdots && \\vdots && \\ddots && \\vdots \\\\\n",
    "    0 && 0 && \\dots && m_{n} \\\\\n",
    "\\end{bmatrix} \\implies p = LM^{-1}p = Ap$ \n",
    "\n",
    "Perciò _p_ è un autovettore della matrice _A_ con autovalore 1. Sfruttando algoritmi noti è possibile trovare gli autovalori della matrice  _A_ e nel caso in cui questa sia __sparsa__ si ottengono anche prestazioni migliori, dato l'alto numero di valori nulli che si possono ignorare."
   ]
  },
  {
   "cell_type": "markdown",
   "metadata": {},
   "source": [
    "Utilizzando le catene di Markov, posso rappresentare il processo di navigazione di un utente. Ho _n_ stati che definiscono una matrice di transizione di stato _P_ di dimensione $n \\times n$ dove $P_{ij} è la probabilità di andare dalla pagina _i_ alla pagina _j_.\n",
    "Se $p^{(0)}$ è il vettore con le probabilità iniziali, si vede come $p^{(1)} = P^{T}p^{(0)}$ è il vettore con tutte le probabilità di trovarsi in un certo stato _i_ dopo un singolo step.\n",
    "\n",
    "Sia $A^{T}$ la nostra matrice di transizione, con $(A^{T})_{ij} = L_{ij}/m_{i}$. La nostra catena di Markov diventa:\n",
    "\n",
    "$P_{ij} = \\begin{cases}\n",
    "    \\frac{1}{m_{i}} & \\text{if } i \\rightarrow j \\\\\n",
    "    0 & \\text{altrimenti}\n",
    "\\end{cases}$"
   ]
  },
  {
   "cell_type": "markdown",
   "metadata": {},
   "source": [
    "Una _distribuzione stazionaria_ per la catena di Markov è un vettore di probabilità _p_ con $p = Ap$, ovvero dopo uno step la distribuzione rimane invariata.\n",
    "Se la catena di Markov è _connessa_, ovvero ogni stato è raggiungibile da ogni altro, la distribuzione _p_ esiste ed è _unica_.\n",
    "\n",
    "Il problema è che non possiamo soddisfare queste ipotesi con il nostro grafo in quanto:\n",
    "- Non tutti gli utenti hanno visto tutti i film\n",
    "- Anche nei grafi di proiezione non è detto che tra ogni coppia di film esista un valore di similarità definito.\n",
    "\n",
    "Questo porterebbe a delle dei vettori _p_ ambigui."
   ]
  },
  {
   "cell_type": "markdown",
   "metadata": {},
   "source": [
    "Per questo PageRank è definito modificando BrokenRank:\n",
    "\n",
    "$p_{i} = \\frac{1-d}{n} + d(\\sum_{j=1}^{n} \\frac{L_{ij}}{m_{j}}p_{j})$, con $ 0 < d < 1$, che in notazione matriciale diventa:\n",
    "$p = (\\frac{1-d}{n}E + dLM^{-1})p$, s.t. $\\sum_{i=1}^{n} p_{i} = 1$, con _E_ matrice $n \\times n$ di soli 1\n",
    "\n",
    "Sia $ A = \\frac{1-d}{n}E + dLM^{-1}$ e si consideri la catena di Markov con matrice di transizione $A^{T}$ t.c. $(A^{T})_{ij} = (1 - d)/n + d L_{ij}/m_{i}$. La catena può essere descritta come:\n",
    "\n",
    "$P_{ij} = \\begin{cases}\n",
    "    (1 - d)/n + d / m_{i} & \\text{if } i \\rightarrow j \\\\\n",
    "    (1 - d)/n & \\text{altrimenti}\n",
    "\\end{cases}$, dove $(1 -d)/n$ è la probabilità di saltare verso una pagina non linkata. Questo risolve i problemi di connettività ed è ancora applicabile al nostro caso, in quanto è accettabile pensare che un utente, solito a vedere una certa categoria di film, provi a vedere un film totalmente al di fuori dei suoi standard.\n",
    "\n",
    "Sfruttando le proprietà della catena di markov definita inoltre, è possibile evitare i classici algoritmi di eigendecomposition di complessità $O(n^{3})$ utilizzando una qualsiasi distribuzione iniziale $p^{(0)}$ e calcolando\n",
    "- $p^{(1)} = Ap^{(0)}$\n",
    "- $p^{(2)} = Ap^{(1)}$\n",
    "- $\\vdots$\n",
    "- $p^{(t)} = Ap^{(t-1)}$\n",
    "\n",
    "Quando $t \\rightarrow \\inf$, $p^{(t)} \\rightarrow p$, perciò con un numero di iterazioni sufficientemente grande _t_ si ottiene una complessità $O(tn^{2}) = O(n^{x})$ per $2.7<x<3$ ed n grandi."
   ]
  },
  {
   "cell_type": "markdown",
   "metadata": {},
   "source": [
    "L'ultimo cambiamento introdotto è una generalizzazione della matrice A:\n",
    "\n",
    "$A^{T} = d(L^{T}D_{L}^{-1} + kg_{L}^{T}) + (1-d)ke^{T}$, dove L è la matrice di adiacenza, $D_{L}$ è la matrice diagonale contenente il grado uscente di ogni nodo, mentre $g_{L}^{T}$ contiene gli indici delle pagine che non hanno link uscenti.\n",
    "\n",
    "_k_ è il vettore di __personalizzazione__. Se tende ad una distribuzione uniforme fornisce un risultato simile al PageRank classico, mentre più il vettore è polarizzato, più l'algoritmo è portato a teleportarsi verso i nodi specificati.\n",
    "\n",
    "Nel nostro caso il vettore di personalizzazione dovrà tenere conto dei film visti dall'utente per dare più importanza a quel vicinato di film e polarizzare PageRank nel dare punteggi più alti a film simili a quelli già visti."
   ]
  },
  {
   "cell_type": "code",
   "execution_count": 20,
   "metadata": {},
   "outputs": [],
   "source": [
    "# 0: User, 1: Movie\n",
    "def filter_nodes(graph: nx.Graph, node_type: int):\n",
    "    return [n for n, d in graph.nodes(data=True) if d[\"bipartite\"] == node_type]\n",
    "\n",
    "def create_preference_vector(debug: bool, user_id: int, user_movie_graph: nx.Graph):\n",
    "    # Get the edges for the user\n",
    "    edges = {m: v for _, m, v in user_movie_graph.edges(user_id, data=\"weight\")}\n",
    "    \n",
    "    if debug:\n",
    "        print(f\"Edges for user {user_id}: {list(edges)[:10]}\")\n",
    "        print(f\"Number of edges for user {user_id}: {len(edges)}\")\n",
    "        \n",
    "        for k, v in edges.items():\n",
    "            print(k,v)\n",
    "\n",
    "    # Sum of the ratings done by the user\n",
    "    tot = sum(edges.values()) # <- ratings influiscono su questo totale\n",
    "    \n",
    "    if debug:\n",
    "        print(f\"Total for user {user_id}: {tot}\")\n",
    "\n",
    "    # ha senso questo if-else? un conto è tot = 0 non posso divedere e bella\n",
    "    # questo blocco secondo me va rivisto \n",
    "    \n",
    "    if tot > 0:\n",
    "        # print(f\"User {user_id} has rated movies\")\n",
    "        return len(edges), {\n",
    "            # Assign to each movie a normalized weight. The higher the rating, the higher the weight. \n",
    "            # Se provo a prendere un film che non sta in edges, mi ritorna 0 \n",
    "            movie: edges.get(movie, 0) / tot # get(key, default) : se la chiave non esiste ritorna il default\n",
    "            for movie in filter_nodes(user_movie_graph, 1) # 1 : Movie\n",
    "        }\n",
    "    else:\n",
    "        # User has not rated any movies or the sum of all weighted ratings is zero / negative\n",
    "        # print(f\"User {user_id} has not rated any movies or the sum of all weighted ratings is zero / negative. All movies will have a weight of 1\")\n",
    "        return len(edges), {\n",
    "            # movie: 1 for movie in filter_nodes(user_movie_graph, 1) # <- Penso che dovremmo metterci zero come peso in questo caso\n",
    "            movie: 0 for movie in filter_nodes(user_movie_graph, 1) # \n",
    "        }"
   ]
  },
  {
   "cell_type": "markdown",
   "metadata": {},
   "source": [
    "Il vettore di personalizzazione assegna 0 a tutti i film non visti, mentre assegna valori normalizzati in base alla rating a tutti gli altri archi. Per come è stato costruito il vettore dei pesi delle ratings, al momento voti come 2, 2.5 e 3 vengono considerati allo stesso modo di film non visti"
   ]
  },
  {
   "cell_type": "code",
   "execution_count": 21,
   "metadata": {},
   "outputs": [
    {
     "name": "stdout",
     "output_type": "stream",
     "text": [
      "Edges for user 1: ['Toy Story (1995)', 'Grumpier Old Men (1995)', 'Heat (1995)', 'Seven (a.k.a. Se7en) (1995)', 'Usual Suspects, The (1995)', 'From Dusk Till Dawn (1996)', 'Bottle Rocket (1996)', 'Braveheart (1995)', 'Rob Roy (1995)', 'Canadian Bacon (1995)']\n",
      "Number of edges for user 1: 232\n",
      "Toy Story (1995) 1\n",
      "Grumpier Old Men (1995) 1\n",
      "Heat (1995) 1\n",
      "Seven (a.k.a. Se7en) (1995) 1.2\n",
      "Usual Suspects, The (1995) 1.2\n",
      "From Dusk Till Dawn (1996) 0\n",
      "Bottle Rocket (1996) 1.2\n",
      "Braveheart (1995) 1\n",
      "Rob Roy (1995) 1.2\n",
      "Canadian Bacon (1995) 1.2\n",
      "Desperado (1995) 1.2\n",
      "Billy Madison (1995) 1.2\n",
      "Clerks (1994) 0\n",
      "Dumb & Dumber (Dumb and Dumber) (1994) 1.2\n",
      "Ed Wood (1994) 1\n",
      "Star Wars: Episode IV - A New Hope (1977) 1.2\n",
      "Pulp Fiction (1994) 0\n",
      "Stargate (1994) 0\n",
      "Tommy Boy (1995) 1.2\n",
      "Clear and Present Danger (1994) 1\n",
      "Forrest Gump (1994) 1\n",
      "Jungle Book, The (1994) 1.2\n",
      "Mask, The (1994) 1\n",
      "Blown Away (1994) 0\n",
      "Dazed and Confused (1993) 1\n",
      "Fugitive, The (1993) 1.2\n",
      "Jurassic Park (1993) 1\n",
      "Mrs. Doubtfire (1993) 0\n",
      "Schindler's List (1993) 1.2\n",
      "So I Married an Axe Murderer (1993) 1\n",
      "Three Musketeers, The (1993) 1\n",
      "Tombstone (1993) 1.2\n",
      "Dances with Wolves (1990) 1\n",
      "Batman (1989) 1\n",
      "Silence of the Lambs, The (1991) 1\n",
      "Pinocchio (1940) 1.2\n",
      "Fargo (1996) 1.2\n",
      "Mission: Impossible (1996) 0\n",
      "James and the Giant Peach (1996) 1.2\n",
      "Space Jam (1996) 0\n",
      "Rock, The (1996) 1\n",
      "Twister (1996) 0\n",
      "Independence Day (a.k.a. ID4) (1996) 0\n",
      "She's the One (1996) 1\n",
      "Wizard of Oz, The (1939) 1.2\n",
      "Citizen Kane (1941) 1.2\n",
      "Adventures of Robin Hood, The (1938) 1.2\n",
      "Ghost and Mrs. Muir, The (1947) 1\n",
      "Mr. Smith Goes to Washington (1939) 1.2\n",
      "Escape to Witch Mountain (1975) 0\n",
      "Winnie the Pooh and the Blustery Day (1968) 1.2\n",
      "Three Caballeros, The (1945) 1.2\n",
      "Sword in the Stone, The (1963) 1.2\n",
      "Dumbo (1941) 1.2\n",
      "Pete's Dragon (1977) 0\n",
      "Bedknobs and Broomsticks (1971) 1.2\n",
      "Alice in Wonderland (1951) 1.2\n",
      "That Thing You Do! (1996) 1\n",
      "Ghost and the Darkness, The (1996) 1.2\n",
      "Swingers (1996) 1\n",
      "Willy Wonka & the Chocolate Factory (1971) 1.2\n",
      "Monty Python's Life of Brian (1979) 1.2\n",
      "Reservoir Dogs (1992) 1.2\n",
      "Platoon (1986) 1\n",
      "Basic Instinct (1992) 1.2\n",
      "E.T. the Extra-Terrestrial (1982) 1.2\n",
      "Abyss, The (1989) 1\n",
      "Monty Python and the Holy Grail (1975) 1.2\n",
      "Star Wars: Episode V - The Empire Strikes Back (1980) 1.2\n",
      "Princess Bride, The (1987) 1.2\n",
      "Raiders of the Lost Ark (Indiana Jones and the Raiders of the Lost Ark) (1981) 1.2\n",
      "Clockwork Orange, A (1971) 1.2\n",
      "Apocalypse Now (1979) 1\n",
      "Star Wars: Episode VI - Return of the Jedi (1983) 1.2\n",
      "Goodfellas (1990) 1.2\n",
      "Alien (1979) 1\n",
      "Psycho (1960) 0\n",
      "Blues Brothers, The (1980) 1.2\n",
      "Full Metal Jacket (1987) 1.2\n",
      "Henry V (1989) 1.2\n",
      "Quiet Man, The (1952) 1.2\n",
      "Terminator, The (1984) 1.2\n",
      "Duck Soup (1933) 1.2\n",
      "Shining, The (1980) 0\n",
      "Groundhog Day (1993) 1\n",
      "Back to the Future (1985) 1.2\n",
      "Highlander (1986) 1.2\n",
      "Young Frankenstein (1974) 1.2\n",
      "Fantasia (1940) 1.2\n",
      "Indiana Jones and the Last Crusade (1989) 1.2\n",
      "Pink Floyd: The Wall (1982) 1.2\n",
      "Nosferatu (Nosferatu, eine Symphonie des Grauens) (1922) 1\n",
      "Batman Returns (1992) 0\n",
      "Sneakers (1992) 0\n",
      "Last of the Mohicans, The (1992) 0\n",
      "McHale's Navy (1997) 0\n",
      "Best Men (1997) 1\n",
      "Grosse Pointe Blank (1997) 1\n",
      "Austin Powers: International Man of Mystery (1997) 1.2\n",
      "Con Air (1997) 1\n",
      "Face/Off (1997) 1.2\n",
      "Men in Black (a.k.a. MIB) (1997) 0\n",
      "Conan the Barbarian (1982) 1.2\n",
      "L.A. Confidential (1997) 1.2\n",
      "Kiss the Girls (1997) 1\n",
      "Game, The (1997) 1.2\n",
      "I Know What You Did Last Summer (1997) 0\n",
      "Starship Troopers (1997) 0\n",
      "Big Lebowski, The (1998) 1.2\n",
      "Wedding Singer, The (1998) 1\n",
      "Welcome to Woop-Woop (1997) 1\n",
      "Newton Boys, The (1998) 1.2\n",
      "Wild Things (1998) 1\n",
      "Small Soldiers (1998) 1\n",
      "All Quiet on the Western Front (1930) 1.2\n",
      "Rocky (1976) 1.2\n",
      "Labyrinth (1986) 1\n",
      "Lethal Weapon (1987) 1\n",
      "Goonies, The (1985) 1.2\n",
      "Back to the Future Part III (1990) 1\n",
      "Bambi (1942) 1.2\n",
      "Saving Private Ryan (1998) 1\n",
      "Black Cauldron, The (1985) 1.2\n",
      "Flight of the Navigator (1986) 1\n",
      "Great Mouse Detective, The (1986) 1.2\n",
      "Honey, I Shrunk the Kids (1989) 1\n",
      "Negotiator, The (1998) 1.2\n",
      "Jungle Book, The (1967) 1.2\n",
      "Rescuers, The (1977) 1.2\n",
      "Return to Oz (1985) 0\n",
      "Rocketeer, The (1991) 1.2\n",
      "Sleeping Beauty (1959) 1\n",
      "Song of the South (1946) 1\n",
      "Tron (1982) 1\n",
      "Indiana Jones and the Temple of Doom (1984) 1.2\n",
      "Lord of the Rings, The (1978) 1.2\n",
      "Charlotte's Web (1973) 1.2\n",
      "Secret of NIMH, The (1982) 1.2\n",
      "American Tail, An (1986) 1.2\n",
      "Legend (1985) 1\n",
      "NeverEnding Story, The (1984) 1.2\n",
      "Beetlejuice (1988) 1\n",
      "Willow (1988) 1\n",
      "Toys (1992) 0\n",
      "Few Good Men, A (1992) 1\n",
      "Rush Hour (1998) 1\n",
      "Edward Scissorhands (1990) 1.2\n",
      "American History X (1998) 1.2\n",
      "I Still Know What You Did Last Summer (1998) 0\n",
      "Enemy of the State (1998) 1.2\n",
      "King Kong (1933) 1\n",
      "Very Bad Things (1998) 1.2\n",
      "Psycho (1998) 0\n",
      "Rushmore (1998) 1.2\n",
      "Romancing the Stone (1984) 1\n",
      "Young Sherlock Holmes (1985) 0\n",
      "Thin Red Line, The (1998) 1.2\n",
      "Howard the Duck (1986) 1\n",
      "Texas Chainsaw Massacre, The (1974) 1.2\n",
      "Crocodile Dundee (1986) 1.2\n",
      "¡Three Amigos! (1986) 1\n",
      "20 Dates (1998) 1\n",
      "Office Space (1999) 1.2\n",
      "Logan's Run (1976) 0\n",
      "Planet of the Apes (1968) 1.2\n",
      "Lock, Stock & Two Smoking Barrels (1998) 1.2\n",
      "Matrix, The (1999) 1.2\n",
      "Go (1999) 1.2\n",
      "SLC Punk! (1998) 1.2\n",
      "Dick Tracy (1990) 1\n",
      "Mummy, The (1999) 0\n",
      "Star Wars: Episode I - The Phantom Menace (1999) 1\n",
      "Superman (1978) 1\n",
      "Superman II (1980) 1.2\n",
      "Dracula (1931) 1\n",
      "Frankenstein (1931) 1\n",
      "Wolf Man, The (1941) 1.2\n",
      "Rocky Horror Picture Show, The (1975) 0\n",
      "Run Lola Run (Lola rennt) (1998) 1.2\n",
      "South Park: Bigger, Longer and Uncut (1999) 1.2\n",
      "Ghostbusters (a.k.a. Ghost Busters) (1984) 1.2\n",
      "Iron Giant, The (1999) 1.2\n",
      "Big (1988) 1\n",
      "13th Warrior, The (1999) 1\n",
      "American Beauty (1999) 1.2\n",
      "Excalibur (1981) 1.2\n",
      "Gulliver's Travels (1939) 1.2\n",
      "Total Recall (1990) 1\n",
      "Dirty Dozen, The (1967) 1.2\n",
      "Goldfinger (1964) 1.2\n",
      "From Russia with Love (1963) 1.2\n",
      "Dr. No (1962) 1.2\n",
      "Fight Club (1999) 1.2\n",
      "RoboCop (1987) 1\n",
      "Who Framed Roger Rabbit? (1988) 1.2\n",
      "Live and Let Die (1973) 1.2\n",
      "Thunderball (1965) 1.2\n",
      "Being John Malkovich (1999) 1\n",
      "Spaceballs (1987) 1.2\n",
      "Robin Hood (1973) 1.2\n",
      "Dogma (1999) 1.2\n",
      "Messenger: The Story of Joan of Arc, The (1999) 1.2\n",
      "Longest Day, The (1962) 1\n",
      "Green Mile, The (1999) 1.2\n",
      "Easy Rider (1969) 1\n",
      "Talented Mr. Ripley, The (1999) -1\n",
      "Encino Man (1992) 0\n",
      "Sister Act (1992) 0\n",
      "Wayne's World (1992) 1.2\n",
      "Scream 3 (2000) 1.2\n",
      "JFK (1991) 1.2\n",
      "Teenage Mutant Ninja Turtles II: The Secret of the Ooze (1991) 1\n",
      "Teenage Mutant Ninja Turtles III (1993) 1\n",
      "Red Dawn (1984) 1.2\n",
      "Good Morning, Vietnam (1987) 1.2\n",
      "Grumpy Old Men (1993) 1.2\n",
      "Ladyhawke (1985) 1\n",
      "Hook (1991) 1\n",
      "Predator (1987) 1\n",
      "Gladiator (2000) 1.2\n",
      "Road Trip (2000) 1\n",
      "Man with the Golden Gun, The (1974) 1\n",
      "Blazing Saddles (1974) 1.2\n",
      "Mad Max (1979) 1.2\n",
      "Road Warrior, The (Mad Max 2) (1981) 1.2\n",
      "Shaft (1971) 1.2\n",
      "Big Trouble in Little China (1986) 1\n",
      "Shaft (2000) 1\n",
      "X-Men (2000) 1.2\n",
      "What About Bob? (1991) 1\n",
      "Transformers: The Movie (1986) 1\n",
      "M*A*S*H (a.k.a. MASH) (1970) 1.2\n",
      "Total for user 1: 223.79999999999998\n"
     ]
    }
   ],
   "source": [
    "# Test the function\n",
    "debug = True\n",
    "num, p_vec = create_preference_vector(debug, 1, user_movie_graph)"
   ]
  },
  {
   "cell_type": "code",
   "execution_count": 22,
   "metadata": {},
   "outputs": [
    {
     "name": "stdout",
     "output_type": "stream",
     "text": [
      "Number of movies rated by the user: 232\n",
      "{0.004468275245755139: 76, 0.005361930294906166: 124, 0.0: 9518, -0.004468275245755139: 1}\n",
      "Number of values different from zero 201\n",
      "Alcuni dei film visti dall'utente hanno peso 0\n"
     ]
    }
   ],
   "source": [
    "print(f\"Number of movies rated by the user: {num}\")\n",
    "weight_dict = {}\n",
    "for k, v in p_vec.items():\n",
    "    if v in weight_dict:\n",
    "        weight_dict[v] += 1\n",
    "    else:\n",
    "        weight_dict[v] = 1\n",
    "\n",
    "print(weight_dict)\n",
    "\n",
    "total = 0\n",
    "for k, v in weight_dict.items():\n",
    "    if k != 0.0:\n",
    "        total += v\n",
    "\n",
    "print(\"Number of values different from zero\", total)\n",
    "if total != num:\n",
    "    print(\"Alcuni dei film visti dall'utente hanno peso 0\")   "
   ]
  },
  {
   "cell_type": "code",
   "execution_count": 23,
   "metadata": {},
   "outputs": [
    {
     "name": "stdout",
     "output_type": "stream",
     "text": [
      "Valori negativi\n",
      "Talented Mr. Ripley, The (1999) -0.004468275245755139\n",
      "Valori maggiori di 0\n",
      "Toy Story (1995) 0.004468275245755139\n",
      "Grumpier Old Men (1995) 0.004468275245755139\n",
      "Heat (1995) 0.004468275245755139\n",
      "Seven (a.k.a. Se7en) (1995) 0.005361930294906166\n",
      "Usual Suspects, The (1995) 0.005361930294906166\n",
      "Bottle Rocket (1996) 0.005361930294906166\n",
      "Braveheart (1995) 0.004468275245755139\n",
      "Rob Roy (1995) 0.005361930294906166\n",
      "Canadian Bacon (1995) 0.005361930294906166\n",
      "Desperado (1995) 0.005361930294906166\n",
      "Billy Madison (1995) 0.005361930294906166\n",
      "Dumb & Dumber (Dumb and Dumber) (1994) 0.005361930294906166\n",
      "Ed Wood (1994) 0.004468275245755139\n",
      "Star Wars: Episode IV - A New Hope (1977) 0.005361930294906166\n",
      "Tommy Boy (1995) 0.005361930294906166\n",
      "Clear and Present Danger (1994) 0.004468275245755139\n",
      "Forrest Gump (1994) 0.004468275245755139\n",
      "Jungle Book, The (1994) 0.005361930294906166\n",
      "Mask, The (1994) 0.004468275245755139\n",
      "Dazed and Confused (1993) 0.004468275245755139\n",
      "Fugitive, The (1993) 0.005361930294906166\n",
      "Jurassic Park (1993) 0.004468275245755139\n",
      "Schindler's List (1993) 0.005361930294906166\n",
      "So I Married an Axe Murderer (1993) 0.004468275245755139\n",
      "Three Musketeers, The (1993) 0.004468275245755139\n",
      "Tombstone (1993) 0.005361930294906166\n",
      "Dances with Wolves (1990) 0.004468275245755139\n",
      "Batman (1989) 0.004468275245755139\n",
      "Silence of the Lambs, The (1991) 0.004468275245755139\n",
      "Pinocchio (1940) 0.005361930294906166\n",
      "Fargo (1996) 0.005361930294906166\n",
      "James and the Giant Peach (1996) 0.005361930294906166\n",
      "Rock, The (1996) 0.004468275245755139\n",
      "She's the One (1996) 0.004468275245755139\n",
      "Wizard of Oz, The (1939) 0.005361930294906166\n",
      "Citizen Kane (1941) 0.005361930294906166\n",
      "Adventures of Robin Hood, The (1938) 0.005361930294906166\n",
      "Ghost and Mrs. Muir, The (1947) 0.004468275245755139\n",
      "Mr. Smith Goes to Washington (1939) 0.005361930294906166\n",
      "Winnie the Pooh and the Blustery Day (1968) 0.005361930294906166\n",
      "Three Caballeros, The (1945) 0.005361930294906166\n",
      "Sword in the Stone, The (1963) 0.005361930294906166\n",
      "Dumbo (1941) 0.005361930294906166\n",
      "Bedknobs and Broomsticks (1971) 0.005361930294906166\n",
      "Alice in Wonderland (1951) 0.005361930294906166\n",
      "That Thing You Do! (1996) 0.004468275245755139\n",
      "Ghost and the Darkness, The (1996) 0.005361930294906166\n",
      "Swingers (1996) 0.004468275245755139\n",
      "Willy Wonka & the Chocolate Factory (1971) 0.005361930294906166\n",
      "Monty Python's Life of Brian (1979) 0.005361930294906166\n",
      "Reservoir Dogs (1992) 0.005361930294906166\n",
      "Platoon (1986) 0.004468275245755139\n",
      "Basic Instinct (1992) 0.005361930294906166\n",
      "E.T. the Extra-Terrestrial (1982) 0.005361930294906166\n",
      "Abyss, The (1989) 0.004468275245755139\n",
      "Monty Python and the Holy Grail (1975) 0.005361930294906166\n",
      "Star Wars: Episode V - The Empire Strikes Back (1980) 0.005361930294906166\n",
      "Princess Bride, The (1987) 0.005361930294906166\n",
      "Raiders of the Lost Ark (Indiana Jones and the Raiders of the Lost Ark) (1981) 0.005361930294906166\n",
      "Clockwork Orange, A (1971) 0.005361930294906166\n",
      "Apocalypse Now (1979) 0.004468275245755139\n",
      "Star Wars: Episode VI - Return of the Jedi (1983) 0.005361930294906166\n",
      "Goodfellas (1990) 0.005361930294906166\n",
      "Alien (1979) 0.004468275245755139\n",
      "Blues Brothers, The (1980) 0.005361930294906166\n",
      "Full Metal Jacket (1987) 0.005361930294906166\n",
      "Henry V (1989) 0.005361930294906166\n",
      "Quiet Man, The (1952) 0.005361930294906166\n",
      "Terminator, The (1984) 0.005361930294906166\n",
      "Duck Soup (1933) 0.005361930294906166\n",
      "Groundhog Day (1993) 0.004468275245755139\n",
      "Back to the Future (1985) 0.005361930294906166\n",
      "Highlander (1986) 0.005361930294906166\n",
      "Young Frankenstein (1974) 0.005361930294906166\n",
      "Fantasia (1940) 0.005361930294906166\n",
      "Indiana Jones and the Last Crusade (1989) 0.005361930294906166\n",
      "Pink Floyd: The Wall (1982) 0.005361930294906166\n",
      "Nosferatu (Nosferatu, eine Symphonie des Grauens) (1922) 0.004468275245755139\n",
      "Best Men (1997) 0.004468275245755139\n",
      "Grosse Pointe Blank (1997) 0.004468275245755139\n",
      "Austin Powers: International Man of Mystery (1997) 0.005361930294906166\n",
      "Con Air (1997) 0.004468275245755139\n",
      "Face/Off (1997) 0.005361930294906166\n",
      "Conan the Barbarian (1982) 0.005361930294906166\n",
      "L.A. Confidential (1997) 0.005361930294906166\n",
      "Kiss the Girls (1997) 0.004468275245755139\n",
      "Game, The (1997) 0.005361930294906166\n",
      "Big Lebowski, The (1998) 0.005361930294906166\n",
      "Wedding Singer, The (1998) 0.004468275245755139\n",
      "Welcome to Woop-Woop (1997) 0.004468275245755139\n",
      "Newton Boys, The (1998) 0.005361930294906166\n",
      "Wild Things (1998) 0.004468275245755139\n",
      "Small Soldiers (1998) 0.004468275245755139\n",
      "All Quiet on the Western Front (1930) 0.005361930294906166\n",
      "Rocky (1976) 0.005361930294906166\n",
      "Labyrinth (1986) 0.004468275245755139\n",
      "Lethal Weapon (1987) 0.004468275245755139\n",
      "Goonies, The (1985) 0.005361930294906166\n",
      "Back to the Future Part III (1990) 0.004468275245755139\n",
      "Bambi (1942) 0.005361930294906166\n",
      "Saving Private Ryan (1998) 0.004468275245755139\n",
      "Black Cauldron, The (1985) 0.005361930294906166\n",
      "Flight of the Navigator (1986) 0.004468275245755139\n",
      "Great Mouse Detective, The (1986) 0.005361930294906166\n",
      "Honey, I Shrunk the Kids (1989) 0.004468275245755139\n",
      "Negotiator, The (1998) 0.005361930294906166\n",
      "Jungle Book, The (1967) 0.005361930294906166\n",
      "Rescuers, The (1977) 0.005361930294906166\n",
      "Rocketeer, The (1991) 0.005361930294906166\n",
      "Sleeping Beauty (1959) 0.004468275245755139\n",
      "Song of the South (1946) 0.004468275245755139\n",
      "Tron (1982) 0.004468275245755139\n",
      "Indiana Jones and the Temple of Doom (1984) 0.005361930294906166\n",
      "Lord of the Rings, The (1978) 0.005361930294906166\n",
      "Charlotte's Web (1973) 0.005361930294906166\n",
      "Secret of NIMH, The (1982) 0.005361930294906166\n",
      "American Tail, An (1986) 0.005361930294906166\n",
      "Legend (1985) 0.004468275245755139\n",
      "NeverEnding Story, The (1984) 0.005361930294906166\n",
      "Beetlejuice (1988) 0.004468275245755139\n",
      "Willow (1988) 0.004468275245755139\n",
      "Few Good Men, A (1992) 0.004468275245755139\n",
      "Rush Hour (1998) 0.004468275245755139\n",
      "Edward Scissorhands (1990) 0.005361930294906166\n",
      "American History X (1998) 0.005361930294906166\n",
      "Enemy of the State (1998) 0.005361930294906166\n",
      "King Kong (1933) 0.004468275245755139\n",
      "Very Bad Things (1998) 0.005361930294906166\n",
      "Rushmore (1998) 0.005361930294906166\n",
      "Romancing the Stone (1984) 0.004468275245755139\n",
      "Thin Red Line, The (1998) 0.005361930294906166\n",
      "Howard the Duck (1986) 0.004468275245755139\n",
      "Texas Chainsaw Massacre, The (1974) 0.005361930294906166\n",
      "Crocodile Dundee (1986) 0.005361930294906166\n",
      "¡Three Amigos! (1986) 0.004468275245755139\n",
      "20 Dates (1998) 0.004468275245755139\n",
      "Office Space (1999) 0.005361930294906166\n",
      "Planet of the Apes (1968) 0.005361930294906166\n",
      "Lock, Stock & Two Smoking Barrels (1998) 0.005361930294906166\n",
      "Matrix, The (1999) 0.005361930294906166\n",
      "Go (1999) 0.005361930294906166\n",
      "SLC Punk! (1998) 0.005361930294906166\n",
      "Dick Tracy (1990) 0.004468275245755139\n",
      "Star Wars: Episode I - The Phantom Menace (1999) 0.004468275245755139\n",
      "Superman (1978) 0.004468275245755139\n",
      "Superman II (1980) 0.005361930294906166\n",
      "Dracula (1931) 0.004468275245755139\n",
      "Frankenstein (1931) 0.004468275245755139\n",
      "Wolf Man, The (1941) 0.005361930294906166\n",
      "Run Lola Run (Lola rennt) (1998) 0.005361930294906166\n",
      "South Park: Bigger, Longer and Uncut (1999) 0.005361930294906166\n",
      "Ghostbusters (a.k.a. Ghost Busters) (1984) 0.005361930294906166\n",
      "Iron Giant, The (1999) 0.005361930294906166\n",
      "Big (1988) 0.004468275245755139\n",
      "13th Warrior, The (1999) 0.004468275245755139\n",
      "American Beauty (1999) 0.005361930294906166\n",
      "Excalibur (1981) 0.005361930294906166\n",
      "Gulliver's Travels (1939) 0.005361930294906166\n",
      "Total Recall (1990) 0.004468275245755139\n",
      "Dirty Dozen, The (1967) 0.005361930294906166\n",
      "Goldfinger (1964) 0.005361930294906166\n",
      "From Russia with Love (1963) 0.005361930294906166\n",
      "Dr. No (1962) 0.005361930294906166\n",
      "Fight Club (1999) 0.005361930294906166\n",
      "RoboCop (1987) 0.004468275245755139\n",
      "Who Framed Roger Rabbit? (1988) 0.005361930294906166\n",
      "Live and Let Die (1973) 0.005361930294906166\n",
      "Thunderball (1965) 0.005361930294906166\n",
      "Being John Malkovich (1999) 0.004468275245755139\n",
      "Spaceballs (1987) 0.005361930294906166\n",
      "Robin Hood (1973) 0.005361930294906166\n",
      "Dogma (1999) 0.005361930294906166\n",
      "Messenger: The Story of Joan of Arc, The (1999) 0.005361930294906166\n",
      "Longest Day, The (1962) 0.004468275245755139\n",
      "Green Mile, The (1999) 0.005361930294906166\n",
      "Easy Rider (1969) 0.004468275245755139\n",
      "Wayne's World (1992) 0.005361930294906166\n",
      "Scream 3 (2000) 0.005361930294906166\n",
      "JFK (1991) 0.005361930294906166\n",
      "Teenage Mutant Ninja Turtles II: The Secret of the Ooze (1991) 0.004468275245755139\n",
      "Teenage Mutant Ninja Turtles III (1993) 0.004468275245755139\n",
      "Red Dawn (1984) 0.005361930294906166\n",
      "Good Morning, Vietnam (1987) 0.005361930294906166\n",
      "Grumpy Old Men (1993) 0.005361930294906166\n",
      "Ladyhawke (1985) 0.004468275245755139\n",
      "Hook (1991) 0.004468275245755139\n",
      "Predator (1987) 0.004468275245755139\n",
      "Gladiator (2000) 0.005361930294906166\n",
      "Road Trip (2000) 0.004468275245755139\n",
      "Man with the Golden Gun, The (1974) 0.004468275245755139\n",
      "Blazing Saddles (1974) 0.005361930294906166\n",
      "Mad Max (1979) 0.005361930294906166\n",
      "Road Warrior, The (Mad Max 2) (1981) 0.005361930294906166\n",
      "Shaft (1971) 0.005361930294906166\n",
      "Big Trouble in Little China (1986) 0.004468275245755139\n",
      "Shaft (2000) 0.004468275245755139\n",
      "X-Men (2000) 0.005361930294906166\n",
      "What About Bob? (1991) 0.004468275245755139\n",
      "Transformers: The Movie (1986) 0.004468275245755139\n",
      "M*A*S*H (a.k.a. MASH) (1970) 0.005361930294906166\n"
     ]
    }
   ],
   "source": [
    "# print(p_vec)\n",
    "# print(type(p_vec))\n",
    "\n",
    "# for k, v in p_vec.items():\n",
    "#     print(k, v)\n",
    "\n",
    "print('Valori negativi')\n",
    "for k, v in p_vec.items():\n",
    "    if v < 0.0:\n",
    "        print(k, v)\n",
    "\n",
    "print('Valori maggiori di 0')\n",
    "for k, v in p_vec.items():\n",
    "    if v > 0.0:\n",
    "        print(k, v)"
   ]
  },
  {
   "cell_type": "code",
   "execution_count": 24,
   "metadata": {},
   "outputs": [],
   "source": [
    "def predict_user(debug, user_id, user_movie_graph: nx.Graph, movie_movie_graph: nx.Graph):\n",
    "    _, p_vec = create_preference_vector(False, user_id, user_movie_graph)\n",
    "    \n",
    "    if debug: \n",
    "        print(f\"Preference vector for user {user_id}: {list(p_vec)[:10]}\")  \n",
    "\n",
    "    # already_seen = [movie for movie, p in p_vec.items() if p > 0] # <- questo non va fatto perchè non tiene conto dei ratings\n",
    "    already_seen = [m for _, m, v in user_movie_graph.edges(user_id, data=\"weight\")]\n",
    "    # Qua uso p > 0 perchè sopra assegno 0 ad ogni film non visto e valori diversi da 0 per quelli visti\n",
    "\n",
    "    if debug:    \n",
    "        print(f\"Already seen movies for user {user_id}: {list(already_seen)[:10]}\")  \n",
    "\n",
    "    if len(already_seen) < 1:\n",
    "        return []\n",
    "    \n",
    "    item_rank = nx.pagerank(movie_movie_graph, personalization=p_vec, alpha=0.95, weight=\"weight\") # <--------\n",
    "    \n",
    "    if debug:\n",
    "        print(f\"Item rank for user {user_id}: {list(item_rank)[:10]}\") \n",
    "\n",
    "    s_t = [\n",
    "        x for x in sorted(\n",
    "            movie_movie_graph.nodes(), key=lambda x: item_rank[x] if x in item_rank else 0, reverse=True\n",
    "            )\n",
    "        if x not in already_seen # <--------\n",
    "        ]\n",
    "    \n",
    "    return s_t[:10]"
   ]
  },
  {
   "cell_type": "code",
   "execution_count": 25,
   "metadata": {},
   "outputs": [
    {
     "name": "stdout",
     "output_type": "stream",
     "text": [
      "Star Wars: Episode IV - A New Hope (1977)\n",
      "Shawshank Redemption, The (1994)\n",
      "Star Wars: Episode V - The Empire Strikes Back (1980)\n",
      "Silence of the Lambs, The (1991)\n",
      "Jurassic Park (1993)\n",
      "Star Wars: Episode VI - Return of the Jedi (1983)\n",
      "Raiders of the Lost Ark (Indiana Jones and the Raiders of the Lost Ark) (1981)\n",
      "Back to the Future (1985)\n",
      "Toy Story (1995)\n",
      "Terminator 2: Judgment Day (1991)\n"
     ]
    }
   ],
   "source": [
    "# Test the prediction\n",
    "user = 10\n",
    "s_t = predict_user(False, user, user_movie_graph, movie_movie_graph)\n",
    "# print(f\"Predicted movies for user {user}: {s_t}\")\n",
    "for movie in s_t:\n",
    "    print(movie)\n",
    "# 15s"
   ]
  },
  {
   "cell_type": "code",
   "execution_count": null,
   "metadata": {},
   "outputs": [],
   "source": [
    "upload_test = False"
   ]
  },
  {
   "cell_type": "code",
   "execution_count": 25,
   "metadata": {},
   "outputs": [],
   "source": [
    "# Delete old test\n",
    "if upload_test:\n",
    "    def delete_test(tx, userId, movieId):\n",
    "        tx.run(\"MATCH (u:User {userId: $userId})-[r:RECOMMENDED]->(m:Movie {movieId: $movieId}) DELETE r\", userId=userId, movieId=movieId)\n",
    "\n",
    "    with driver.session() as session:\n",
    "        for movieId in s_t:           \n",
    "            session.execute_write(delete_test, user, movieId)"
   ]
  },
  {
   "cell_type": "code",
   "execution_count": 27,
   "metadata": {},
   "outputs": [],
   "source": [
    "# Upload the test\n",
    "if upload_test:\n",
    "    def create_recommendations(tx, userId, recs):\n",
    "            for rec in recs:\n",
    "                tx.run(\"MATCH (u:User {userId: $userId}), (m:Movie {title: $title})\"\n",
    "                    # \"MERGE (u)-[:RECOMMENDED{rating: $rating}]->(m)\",\n",
    "                    \"MERGE (u)-[:RECOMMENDED]->(m)\",\n",
    "                    userId=userId, title=rec)\n",
    "                    # userId=userId, movieId=rec.movieId, rating=rec.rating)\n",
    "\n",
    "    with driver.session() as session:\n",
    "        session.execute_write(create_recommendations, user, s_t)"
   ]
  },
  {
   "cell_type": "code",
   "execution_count": null,
   "metadata": {},
   "outputs": [],
   "source": [
    "# # Make all predictions\n",
    "# predictions = {}\n",
    "# for user in filter_nodes(user_movie_graph, 0):\n",
    "#     predictions[user] = predict_user(user, user_movie_graph, movie_movie_graph)"
   ]
  },
  {
   "cell_type": "code",
   "execution_count": 26,
   "metadata": {},
   "outputs": [],
   "source": [
    "upload_predictions = False"
   ]
  },
  {
   "cell_type": "code",
   "execution_count": 29,
   "metadata": {},
   "outputs": [],
   "source": [
    "# create relations :RECOMMENDED\n",
    "def create_recommendations(tx, userId, recs):\n",
    "    for rec in recs:\n",
    "        tx.run(\"MATCH (u:User {userId: $userId}), (m:Movie {title: $title})\"\n",
    "            \"MERGE (u)-[:RECOMMENDED]->(m)\",\n",
    "            userId=userId, title=rec)\n",
    "            \n",
    "if upload_predictions:\n",
    "    with driver.session() as session:\n",
    "        for user in filter_nodes(user_movie_graph, 0):\n",
    "            recs = predict_user(False, user, user_movie_graph, movie_movie_graph)    \n",
    "            session.execute_write(create_recommendations, user, recs)\n",
    "# 15s per prediction x 610 users = ~2h 30m"
   ]
  },
  {
   "cell_type": "code",
   "execution_count": null,
   "metadata": {},
   "outputs": [
    {
     "ename": "",
     "evalue": "",
     "output_type": "error",
     "traceback": [
      "\u001b[1;31mThe Kernel crashed while executing code in the current cell or a previous cell. \n",
      "\u001b[1;31mPlease review the code in the cell(s) to identify a possible cause of the failure. \n",
      "\u001b[1;31mClick <a href='https://aka.ms/vscodeJupyterKernelCrash'>here</a> for more info. \n",
      "\u001b[1;31mView Jupyter <a href='command:jupyter.viewOutput'>log</a> for further details."
     ]
    }
   ],
   "source": [
    "driver.close()\n",
    "exit()"
   ]
  }
 ],
 "metadata": {
  "kernelspec": {
   "display_name": "Python 3",
   "language": "python",
   "name": "python3"
  },
  "language_info": {
   "codemirror_mode": {
    "name": "ipython",
    "version": 3
   },
   "file_extension": ".py",
   "mimetype": "text/x-python",
   "name": "python",
   "nbconvert_exporter": "python",
   "pygments_lexer": "ipython3",
   "version": "3.11.6"
  }
 },
 "nbformat": 4,
 "nbformat_minor": 2
}
