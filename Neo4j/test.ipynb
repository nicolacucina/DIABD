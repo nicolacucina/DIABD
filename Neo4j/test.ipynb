{
 "cells": [
  {
   "cell_type": "code",
   "execution_count": null,
   "metadata": {},
   "outputs": [],
   "source": [
    "# Connection to Neo4j\n",
    "from neo4j import GraphDatabase\n",
    "\n",
    "uri = \"neo4j://localhost:7687\"\n",
    "username = \"neo4j\"\n",
    "password = \"testtest\"\n",
    "\n",
    "driver = GraphDatabase.driver(uri, auth=(username, password))"
   ]
  },
  {
   "cell_type": "code",
   "execution_count": null,
   "metadata": {},
   "outputs": [],
   "source": [
    "# Delete all from Neo4j\n",
    "def delete_all(tx):\n",
    "    tx.run(\"MATCH ()-[r]->() DELETE r\")\n",
    "    tx.run(\"MATCH (n) DELETE n\")\n",
    "           \n",
    "with driver.session() as session:\n",
    "    session.execute_write(delete_all)"
   ]
  },
  {
   "cell_type": "code",
   "execution_count": null,
   "metadata": {},
   "outputs": [],
   "source": [
    "distinct_genres = ['Adventure', 'Animation', 'Children', 'Comedy', 'Fantasy', 'Romance', 'Drama', 'Action', 'Crime', 'Thriller', 'Horror', 'Mystery', 'Sci-Fi', 'War', 'Musical', 'Documentary', 'IMAX', 'Western', 'Film-Noir', '(no genres listed)']"
   ]
  },
  {
   "cell_type": "code",
   "execution_count": null,
   "metadata": {},
   "outputs": [],
   "source": [
    "# create nodes Genre for movie genres\n",
    "def create_genre_nodes(tx, name):\n",
    "    tx.run(\"MERGE (:Genre {name: $name})\", name=name)\n",
    "    \n",
    "with driver.session() as session:\n",
    "    for row in distinct_genres:\n",
    "        session.execute_write(create_genre_nodes, row)"
   ]
  },
  {
   "cell_type": "code",
   "execution_count": null,
   "metadata": {},
   "outputs": [],
   "source": [
    "# create nodes for Users and Movies and relations :RATED, :BELONGS_TO\n",
    "ratings_movies = ratings.join(movies, \"movieId\", \"inner\")\n",
    "\n",
    "def create_nodes_and_relationships(tx, userId, movieId, rating, title, genres):\n",
    "    tx.run(\"MERGE (u:User {userId: $userId}) \"\n",
    "           \"MERGE (m:Movie {movieId: $movieId, title: $title}) \"\n",
    "           \"MERGE (u)-[:RATED {rating: $rating}]->(m)\",\n",
    "           userId=userId, movieId=movieId, rating=rating, title=title)\n",
    "    for genre_name in genres.split(\"|\"):\n",
    "        tx.run(\n",
    "            \"MATCH (m:Movie {movieId: $movieId}) \"\n",
    "            \"MATCH (g:Genre {name: $genre_name}) \"\n",
    "            \"MERGE (m)-[:BELONGS_TO]->(g)\",\n",
    "            movieId=movieId, genre_name=genre_name)\n",
    "\n",
    "with driver.session() as session:\n",
    "    for row in ratings_movies.collect():\n",
    "        session.execute_write(create_nodes_and_relationships, row.userId, row.movieId, row.rating, row.title, row.genres)"
   ]
  },
  {
   "cell_type": "code",
   "execution_count": null,
   "metadata": {},
   "outputs": [],
   "source": [
    "# create relations :RECOMMENDED\n",
    "def create_recommendations(tx, userId, recs):\n",
    "    for rec in recs:\n",
    "        tx.run(\"MATCH (u:User {userId: $userId}), (m:Movie {movieId: $movieId}) \"\n",
    "               \"MERGE (u)-[:RECOMMENDED{rating: $rating}]->(m)\",\n",
    "               userId=userId, movieId=rec.movieId, rating=rec.rating)\n",
    "\n",
    "with driver.session() as session:\n",
    "    for row in userRecs.collect():\n",
    "        recs = row.recommendations\n",
    "        recs = recs if isinstance(recs, list) else [recs]\n",
    "        session.execute_write(create_recommendations, row.userId, recs)"
   ]
  },
  {
   "cell_type": "code",
   "execution_count": null,
   "metadata": {},
   "outputs": [],
   "source": [
    "# close all\n",
    "driver.close()"
   ]
  }
 ],
 "metadata": {
  "kernelspec": {
   "display_name": "Python 3",
   "language": "python",
   "name": "python3"
  },
  "language_info": {
   "codemirror_mode": {
    "name": "ipython",
    "version": 3
   },
   "file_extension": ".py",
   "mimetype": "text/x-python",
   "name": "python",
   "nbconvert_exporter": "python",
   "pygments_lexer": "ipython3",
   "version": "3.12.0"
  }
 },
 "nbformat": 4,
 "nbformat_minor": 2
}
