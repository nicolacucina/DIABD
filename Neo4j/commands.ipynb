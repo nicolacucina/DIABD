{
 "cells": [
  {
   "cell_type": "markdown",
   "metadata": {},
   "source": [
    "To create a bipartite graph in Neo4j where users and movies are separated into two groups and the links are given by the ratings, you can use the following Cypher queries:\n",
    "- Load the CSV files and create nodes for users and movies:\n",
    "\n",
    "```sql\n",
    "LOAD CSV WITH HEADERS FROM \"file:///C:/movies.csv\" AS line\n",
    "MERGE (m:Movie {movieId: line.movieId, title: line.title})\n",
    "```\n",
    "\n",
    "```sql\n",
    "LOAD CSV WITH HEADERS FROM \"file:///C:/ratings.csv\" AS line\n",
    "MERGE (u:User {userId: line.userId})\n",
    "```\n",
    "\n",
    "- Create relationships between users and movies based on the ratings:\n",
    "\n",
    "```sql\n",
    "LOAD CSV WITH HEADERS FROM \"file:///C:/ratings.csv\" AS line\n",
    "MATCH (u:User {userId: line.userId}), (m:Movie {movieId: line.movieId})\n",
    "MERGE (u)-[:RATED {rating: toFloat(line.rating)}]->(m)\n",
    "```\n",
    "\n",
    "These queries will create a bipartite graph with User and Movie nodes and RATED relationships that include the rating given by the user to the movie\n",
    "\n",
    "To project the bipartite graph onto the two different sets of points (users and movies), you can use the following Cypher queries:\n",
    "\n",
    "- Project the bipartite graph onto the user nodes:\n",
    "\n",
    "```sql\n",
    "MATCH (u1:User)-[r1:RATED]->(m:Movie)<-[r2:RATED]-(u2:User)\n",
    "WHERE u1 <> u2\n",
    "MERGE (u1)-[s:SIMILAR]->(u2)\n",
    "ON CREATE SET s.commonMovies = 1\n",
    "ON MATCH SET s.commonMovies = s.commonMovies + 1\n",
    "```\n",
    "Project the bipartite graph onto the movie nodes:\n",
    "\n",
    "```sql\n",
    "MATCH (m1:Movie)<-[r1:RATED]-(u:User)-[r2:RATED]->(m2:Movie)\n",
    "WHERE m1 <> m2\n",
    "MERGE (m1)-[s:SIMILAR]->(m2)\n",
    "ON CREATE SET s.commonUsers = 1\n",
    "ON MATCH SET s.commonUsers = s.commonUsers + 1\n",
    "```\n",
    "\n",
    "These queries will create SIMILAR relationships between users and between movies based on the common movies they have rated and the common users who have rated them, respectively."
   ]
  },
  {
   "cell_type": "code",
   "execution_count": 1,
   "metadata": {},
   "outputs": [],
   "source": [
    "# Setup Connection\n",
    "from neo4j import GraphDatabase\n",
    "\n",
    "uri = \"neo4j://localhost:7687\"\n",
    "username = \"neo4j\"\n",
    "password = \"testtest\"\n",
    "driver = GraphDatabase.driver(uri, auth=(username, password))"
   ]
  },
  {
   "cell_type": "markdown",
   "metadata": {},
   "source": [
    "in Cypher\n",
    "\n",
    "```sql\n",
    "CREATE (n:Person {name: \"Alice\"})\n",
    "```\n",
    "\n",
    "creates a node ( ) with label _Person_ with the property with key _name_ of value _Alice_"
   ]
  },
  {
   "cell_type": "code",
   "execution_count": 2,
   "metadata": {},
   "outputs": [],
   "source": [
    "def add_node(tx, name):\n",
    "    tx.run(\"CREATE (n:Person {name: $name})\", name=name)\n",
    "\n",
    "with driver.session() as session:\n",
    "    session.execute_write(add_node, \"Alice\")"
   ]
  },
  {
   "cell_type": "markdown",
   "metadata": {},
   "source": [
    "in Cypher\n",
    "\n",
    "```sql\n",
    "MATCH (n:Person {name: \"Alice\"}) RETURN n.name AS name\n",
    "```"
   ]
  },
  {
   "cell_type": "code",
   "execution_count": null,
   "metadata": {},
   "outputs": [],
   "source": [
    "def get_person(tx, name):\n",
    "    result = tx.run(\"MATCH (n:Person {name: $name}) RETURN n.name AS name\", name=name)\n",
    "    return [record[\"name\"] for record in result]\n",
    "\n",
    "with driver.session() as session:\n",
    "    names = session.execute_read(get_person, \"Alice\")\n",
    "    print(names)"
   ]
  },
  {
   "cell_type": "markdown",
   "metadata": {},
   "source": [
    "in Cypher\n",
    "\n",
    "```sql\n",
    "MATCH ()-[r]->() DELETE r\n",
    "MATCH (n) DELETE n\n",
    "```"
   ]
  },
  {
   "cell_type": "code",
   "execution_count": 4,
   "metadata": {},
   "outputs": [],
   "source": [
    "def delete_all(tx):\n",
    "    tx.run(\"MATCH ()-[r]->() DELETE r\")\n",
    "    tx.run(\"MATCH (n) DELETE n\")\n",
    "        \n",
    "with driver.session() as session:\n",
    "    session.execute_write(delete_all)"
   ]
  },
  {
   "cell_type": "code",
   "execution_count": 6,
   "metadata": {},
   "outputs": [],
   "source": [
    "driver.close()"
   ]
  },
  {
   "cell_type": "markdown",
   "metadata": {},
   "source": [
    "Le nostre query\n",
    "\n",
    "```sql\n",
    "MATCH (n:User {userId: 1}) RETURN n.userId AS name\n",
    "MATCH (m:Movie  {movieId: 1}) RETURN m.title AS name\n",
    "```"
   ]
  }
 ],
 "metadata": {
  "kernelspec": {
   "display_name": "Python 3",
   "language": "python",
   "name": "python3"
  },
  "language_info": {
   "codemirror_mode": {
    "name": "ipython",
    "version": 3
   },
   "file_extension": ".py",
   "mimetype": "text/x-python",
   "name": "python",
   "nbconvert_exporter": "python",
   "pygments_lexer": "ipython3",
   "version": "3.12.0"
  }
 },
 "nbformat": 4,
 "nbformat_minor": 2
}
